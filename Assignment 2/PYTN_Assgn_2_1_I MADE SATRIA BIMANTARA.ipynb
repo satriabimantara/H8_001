{
 "cells": [
  {
   "cell_type": "markdown",
   "id": "388b4553",
   "metadata": {},
   "source": [
    "# Introduction"
   ]
  },
  {
   "cell_type": "markdown",
   "id": "98c1018c",
   "metadata": {},
   "source": [
    "Tugas ini dibuat dan disajikan untuk memenuhi Assignment 2"
   ]
  },
  {
   "cell_type": "markdown",
   "id": "67a9b53f",
   "metadata": {},
   "source": [
    "# Project Overview"
   ]
  },
  {
   "cell_type": "markdown",
   "id": "6f624c5e",
   "metadata": {},
   "source": [
    "Dataset NYC Property Sales From Kaggle. This dataset is a record of **every building** or building unit (apartment, etc) sold in New York City property market over a 12-month period from September 2016 to September 2017. <br>\n",
    "**Dataset Descriptions** <br>\n",
    "1. BOROUGH : kode digit yang menyatakan wilayah dari lokasi properti <br>\n",
    "> 1. Manhattan (1)\n",
    "> 2. Bronx (2)\n",
    "> 3. Brooklyn (3)\n",
    "> 4. Queens (4)\n",
    "> 5. Staten Island (5)\n",
    "\n",
    "2. BLOCK and LOT: A Tax Block is a sub-division of the borough on which real properties are located. The Department of Finance uses a Borough-Block-Lot classification to label all real property in the City. “Whereas” addresses describe the street location of a property, the block and lot distinguishes one unit of real property from another, such as the different condominiums in a single building. Also, block and lots are not subject to name changes based on which side of the parcel the building puts its entrance on. A Tax Lot is a subdivision of a Tax Block and represents the property unique location. Because there are more than 11k unique blocks in the dataset, it doesn't make sense to define it as a categorical variable! Will leave it as numerical. The same story for LOT\n",
    "\n",
    "3. NEIGHBORHOOD: Department of Finance assessors determine the neighborhood name in the course of valuing properties. The common name of the neighborhood is generally the same as the name Finance designates. However, there may be slight differences in neighborhood boundary lines and some sub-neighborhoods may not be included. This variable should be categorical.\n",
    "\n",
    "4. BUILDING CLASS CATEGORY: This is a field that we are including so that users of the Rolling Sales Files can easily identify similar properties by broad usage (e.g. One Family Homes) without looking up individual Building Classes. Files are sorted by Borough, Neighborhood, Building Class Category, Block and Lot. This variable should be categorical.\n",
    "\n",
    "5. TAX CLASS AT PRESENT Every property in the city is assigned to one of four tax classes (Classes 1, 2, 3, and 4), based on the use of the property. This variable should be categorical.\n",
    "> 1. Class 1: Includes most residential property of up to three units (such as one-, two-, and three-family homes and small stores or offices with one or two attached apartments), vacant land that is zoned for residential use, and most condominiums that are not more than three stories.\n",
    "> 2. Class 2: Includes all other property that is primarily residential, such as cooperatives and condominiums.\n",
    "> 3. Class 3: Includes property with equipment owned by a gas, telephone or electric company.\n",
    "> 4. Class 4: Includes all other properties not included in class 1,2, and 3, such as offices, factories, warehouses, garage buildings, etc.\n",
    "\n",
    "\n",
    "6. BUILDING CLASS AT PRESENT: The Building Classification is used to describe a property’s constructive use. The first position of the Building Class is a letter that is used to describe a general class of properties (for example “A” signifies one-family homes, “O” signifies office buildings. “R” signifies condominiums). The second position, a number, adds more specific information about the property’s use or construction style (using our previous examples “A0” is a Cape Cod style one family home, “O4” is a tower type office building and “R5” is a commercial condominium unit). The term Building Class used by the Department of Finance is interchangeable with the term Building Code used by the Department of Buildings. This variable should be categorical.\n",
    "\n",
    "7. ADDRESS: The street address of the property as listed on the Sales File. Coop sales include the apartment number in the address field. We are not going to extract any information from the address in this course!\n",
    "\n",
    "8. ZIP CODE: The property’s postal code. This variable should be categorical.\n",
    "\n",
    "9. RESIDENTIAL UNITS : The number of residential units at the listed property. This variable should be numeric\n",
    "\n",
    "10. COMMERCIAL UNITS :The number of commercial units at the listed property. This variable should be numeric\n",
    "\n",
    "11. TOTAL UNITS :The total number of units at the listed property. This variable should be numeric\n",
    "\n",
    "12. LAND SQUARE FEET : The land area of the property listed in square feet. This variable should be numeric\n",
    "\n",
    "13. GROSS SQUARE FEET : The total area of all the floors of a building as measured from the exterior surfaces of the outside walls of the building, including the land area and space within any building or structure on the property. This variable should be numeric\n",
    "\n",
    "14. YEAR BUILT : Year the structure on the property was built. This variable should be categorical\n",
    "\n",
    "15. TAX CLASS AT TIME OF SALE and BUILDING CLASS AT TIME OF SALE. Both of these variables should be categorical.\n",
    "\n",
    "16. SALE PRICE : This variable should be numeric.\n",
    "\n",
    "17. SALE DATE : This variable should be data time. However, we can save the \"year\" or \"month\" part as a new categorical variable.\n",
    "\n",
    "18. EASEMENT: An easement is a right, such as a right of way, which allows an entity to make limited use of another’s real property. For example: MTA railroad tracks that run across a portion of another property.\n",
    "\n",
    "**Note** : 0 Dollar Sales Price: A 0 dollar sale indicates that there was a transfer of ownership without a cash consideration. There can be a number of reasons for a 0 dollar sale including transfers of ownership from parents to children. We will remove all of these observations"
   ]
  },
  {
   "cell_type": "markdown",
   "id": "b6b7bed4",
   "metadata": {},
   "source": [
    "# Import and Install Required Libraries"
   ]
  },
  {
   "cell_type": "code",
   "execution_count": 2,
   "id": "19b04a03",
   "metadata": {},
   "outputs": [
    {
     "name": "stdout",
     "output_type": "stream",
     "text": [
      "Requirement already satisfied: pandas in c:\\users\\asus\\.conda\\envs\\h8_001\\lib\\site-packages (1.3.2)\n",
      "Requirement already satisfied: python-dateutil>=2.7.3 in c:\\users\\asus\\.conda\\envs\\h8_001\\lib\\site-packages (from pandas) (2.8.2)\n",
      "Requirement already satisfied: pytz>=2017.3 in c:\\users\\asus\\.conda\\envs\\h8_001\\lib\\site-packages (from pandas) (2021.1)\n",
      "Requirement already satisfied: numpy>=1.17.3 in c:\\users\\asus\\.conda\\envs\\h8_001\\lib\\site-packages (from pandas) (1.21.2)\n",
      "Requirement already satisfied: six>=1.5 in c:\\users\\asus\\appdata\\roaming\\python\\python37\\site-packages (from python-dateutil>=2.7.3->pandas) (1.12.0)\n",
      "Requirement already satisfied: numpy in c:\\users\\asus\\.conda\\envs\\h8_001\\lib\\site-packages (1.21.2)\n",
      "Requirement already satisfied: matplotlib in c:\\users\\asus\\.conda\\envs\\h8_001\\lib\\site-packages (3.4.3)\n",
      "Requirement already satisfied: kiwisolver>=1.0.1 in c:\\users\\asus\\.conda\\envs\\h8_001\\lib\\site-packages (from matplotlib) (1.3.2)\n",
      "Requirement already satisfied: cycler>=0.10 in c:\\users\\asus\\.conda\\envs\\h8_001\\lib\\site-packages (from matplotlib) (0.10.0)\n",
      "Requirement already satisfied: numpy>=1.16 in c:\\users\\asus\\.conda\\envs\\h8_001\\lib\\site-packages (from matplotlib) (1.21.2)\n",
      "Requirement already satisfied: python-dateutil>=2.7 in c:\\users\\asus\\.conda\\envs\\h8_001\\lib\\site-packages (from matplotlib) (2.8.2)\n",
      "Requirement already satisfied: pillow>=6.2.0 in c:\\users\\asus\\.conda\\envs\\h8_001\\lib\\site-packages (from matplotlib) (8.3.2)\n",
      "Requirement already satisfied: pyparsing>=2.2.1 in c:\\users\\asus\\.conda\\envs\\h8_001\\lib\\site-packages (from matplotlib) (2.4.7)\n",
      "Requirement already satisfied: six in c:\\users\\asus\\appdata\\roaming\\python\\python37\\site-packages (from cycler>=0.10->matplotlib) (1.12.0)\n",
      "Requirement already satisfied: seaborn in c:\\users\\asus\\.conda\\envs\\h8_001\\lib\\site-packages (0.11.2)\n",
      "Requirement already satisfied: matplotlib>=2.2 in c:\\users\\asus\\.conda\\envs\\h8_001\\lib\\site-packages (from seaborn) (3.4.3)\n",
      "Requirement already satisfied: pandas>=0.23 in c:\\users\\asus\\.conda\\envs\\h8_001\\lib\\site-packages (from seaborn) (1.3.2)\n",
      "Requirement already satisfied: numpy>=1.15 in c:\\users\\asus\\.conda\\envs\\h8_001\\lib\\site-packages (from seaborn) (1.21.2)\n",
      "Requirement already satisfied: scipy>=1.0 in c:\\users\\asus\\.conda\\envs\\h8_001\\lib\\site-packages (from seaborn) (1.7.1)\n",
      "Requirement already satisfied: kiwisolver>=1.0.1 in c:\\users\\asus\\.conda\\envs\\h8_001\\lib\\site-packages (from matplotlib>=2.2->seaborn) (1.3.2)\n",
      "Requirement already satisfied: python-dateutil>=2.7 in c:\\users\\asus\\.conda\\envs\\h8_001\\lib\\site-packages (from matplotlib>=2.2->seaborn) (2.8.2)\n",
      "Requirement already satisfied: pillow>=6.2.0 in c:\\users\\asus\\.conda\\envs\\h8_001\\lib\\site-packages (from matplotlib>=2.2->seaborn) (8.3.2)\n",
      "Requirement already satisfied: cycler>=0.10 in c:\\users\\asus\\.conda\\envs\\h8_001\\lib\\site-packages (from matplotlib>=2.2->seaborn) (0.10.0)\n",
      "Requirement already satisfied: pyparsing>=2.2.1 in c:\\users\\asus\\.conda\\envs\\h8_001\\lib\\site-packages (from matplotlib>=2.2->seaborn) (2.4.7)\n",
      "Requirement already satisfied: six in c:\\users\\asus\\appdata\\roaming\\python\\python37\\site-packages (from cycler>=0.10->matplotlib>=2.2->seaborn) (1.12.0)\n",
      "Requirement already satisfied: pytz>=2017.3 in c:\\users\\asus\\.conda\\envs\\h8_001\\lib\\site-packages (from pandas>=0.23->seaborn) (2021.1)\n",
      "Requirement already satisfied: scipy in c:\\users\\asus\\.conda\\envs\\h8_001\\lib\\site-packages (1.7.1)\n",
      "Requirement already satisfied: numpy<1.23.0,>=1.16.5 in c:\\users\\asus\\.conda\\envs\\h8_001\\lib\\site-packages (from scipy) (1.21.2)\n",
      "Requirement already satisfied: statsmodels in c:\\users\\asus\\.conda\\envs\\h8_001\\lib\\site-packages (0.12.2)\n",
      "Requirement already satisfied: numpy>=1.15 in c:\\users\\asus\\.conda\\envs\\h8_001\\lib\\site-packages (from statsmodels) (1.21.2)\n",
      "Requirement already satisfied: pandas>=0.21 in c:\\users\\asus\\.conda\\envs\\h8_001\\lib\\site-packages (from statsmodels) (1.3.2)\n",
      "Requirement already satisfied: patsy>=0.5 in c:\\users\\asus\\.conda\\envs\\h8_001\\lib\\site-packages (from statsmodels) (0.5.1)\n",
      "Requirement already satisfied: scipy>=1.1 in c:\\users\\asus\\.conda\\envs\\h8_001\\lib\\site-packages (from statsmodels) (1.7.1)\n",
      "Requirement already satisfied: python-dateutil>=2.7.3 in c:\\users\\asus\\.conda\\envs\\h8_001\\lib\\site-packages (from pandas>=0.21->statsmodels) (2.8.2)\n",
      "Requirement already satisfied: pytz>=2017.3 in c:\\users\\asus\\.conda\\envs\\h8_001\\lib\\site-packages (from pandas>=0.21->statsmodels) (2021.1)\n",
      "Requirement already satisfied: six in c:\\users\\asus\\appdata\\roaming\\python\\python37\\site-packages (from patsy>=0.5->statsmodels) (1.12.0)\n"
     ]
    }
   ],
   "source": [
    "!pip install pandas\n",
    "!pip install numpy\n",
    "!pip install matplotlib\n",
    "!pip install seaborn\n",
    "!pip install scipy\n",
    "!pip install statsmodels"
   ]
  },
  {
   "cell_type": "code",
   "execution_count": 2,
   "id": "8ce48450",
   "metadata": {},
   "outputs": [],
   "source": [
    "import pandas as pd\n",
    "import numpy as np\n",
    "import matplotlib as mpl\n",
    "import matplotlib.pyplot as plt\n",
    "import seaborn as sns\n",
    "import scipy.stats as scistats\n",
    "%matplotlib inline"
   ]
  },
  {
   "cell_type": "markdown",
   "id": "663f7cfa",
   "metadata": {},
   "source": [
    "# Membaca dataset"
   ]
  },
  {
   "cell_type": "code",
   "execution_count": 3,
   "id": "c6c57e1c",
   "metadata": {},
   "outputs": [],
   "source": [
    "# mengantisipasi untuk unstandard missing values\n",
    "missing_values = ['n/a', 'na', \"--\", \"?\", \"NA\", 'n-a', 'NaN']\n",
    "df_nyc_sales = pd.read_csv('dataset/nyc-rolling-sales.csv', na_values=missing_values)"
   ]
  },
  {
   "cell_type": "code",
   "execution_count": 4,
   "id": "014b2914",
   "metadata": {},
   "outputs": [
    {
     "data": {
      "text/html": [
       "<div>\n",
       "<style scoped>\n",
       "    .dataframe tbody tr th:only-of-type {\n",
       "        vertical-align: middle;\n",
       "    }\n",
       "\n",
       "    .dataframe tbody tr th {\n",
       "        vertical-align: top;\n",
       "    }\n",
       "\n",
       "    .dataframe thead th {\n",
       "        text-align: right;\n",
       "    }\n",
       "</style>\n",
       "<table border=\"1\" class=\"dataframe\">\n",
       "  <thead>\n",
       "    <tr style=\"text-align: right;\">\n",
       "      <th></th>\n",
       "      <th>Unnamed: 0</th>\n",
       "      <th>BOROUGH</th>\n",
       "      <th>NEIGHBORHOOD</th>\n",
       "      <th>BUILDING CLASS CATEGORY</th>\n",
       "      <th>TAX CLASS AT PRESENT</th>\n",
       "      <th>BLOCK</th>\n",
       "      <th>LOT</th>\n",
       "      <th>EASE-MENT</th>\n",
       "      <th>BUILDING CLASS AT PRESENT</th>\n",
       "      <th>ADDRESS</th>\n",
       "      <th>...</th>\n",
       "      <th>RESIDENTIAL UNITS</th>\n",
       "      <th>COMMERCIAL UNITS</th>\n",
       "      <th>TOTAL UNITS</th>\n",
       "      <th>LAND SQUARE FEET</th>\n",
       "      <th>GROSS SQUARE FEET</th>\n",
       "      <th>YEAR BUILT</th>\n",
       "      <th>TAX CLASS AT TIME OF SALE</th>\n",
       "      <th>BUILDING CLASS AT TIME OF SALE</th>\n",
       "      <th>SALE PRICE</th>\n",
       "      <th>SALE DATE</th>\n",
       "    </tr>\n",
       "  </thead>\n",
       "  <tbody>\n",
       "    <tr>\n",
       "      <th>0</th>\n",
       "      <td>4</td>\n",
       "      <td>1</td>\n",
       "      <td>ALPHABET CITY</td>\n",
       "      <td>07 RENTALS - WALKUP APARTMENTS</td>\n",
       "      <td>2A</td>\n",
       "      <td>392</td>\n",
       "      <td>6</td>\n",
       "      <td></td>\n",
       "      <td>C2</td>\n",
       "      <td>153 AVENUE B</td>\n",
       "      <td>...</td>\n",
       "      <td>5</td>\n",
       "      <td>0</td>\n",
       "      <td>5</td>\n",
       "      <td>1633</td>\n",
       "      <td>6440</td>\n",
       "      <td>1900</td>\n",
       "      <td>2</td>\n",
       "      <td>C2</td>\n",
       "      <td>6625000</td>\n",
       "      <td>2017-07-19 00:00:00</td>\n",
       "    </tr>\n",
       "    <tr>\n",
       "      <th>1</th>\n",
       "      <td>5</td>\n",
       "      <td>1</td>\n",
       "      <td>ALPHABET CITY</td>\n",
       "      <td>07 RENTALS - WALKUP APARTMENTS</td>\n",
       "      <td>2</td>\n",
       "      <td>399</td>\n",
       "      <td>26</td>\n",
       "      <td></td>\n",
       "      <td>C7</td>\n",
       "      <td>234 EAST 4TH   STREET</td>\n",
       "      <td>...</td>\n",
       "      <td>28</td>\n",
       "      <td>3</td>\n",
       "      <td>31</td>\n",
       "      <td>4616</td>\n",
       "      <td>18690</td>\n",
       "      <td>1900</td>\n",
       "      <td>2</td>\n",
       "      <td>C7</td>\n",
       "      <td>-</td>\n",
       "      <td>2016-12-14 00:00:00</td>\n",
       "    </tr>\n",
       "    <tr>\n",
       "      <th>2</th>\n",
       "      <td>6</td>\n",
       "      <td>1</td>\n",
       "      <td>ALPHABET CITY</td>\n",
       "      <td>07 RENTALS - WALKUP APARTMENTS</td>\n",
       "      <td>2</td>\n",
       "      <td>399</td>\n",
       "      <td>39</td>\n",
       "      <td></td>\n",
       "      <td>C7</td>\n",
       "      <td>197 EAST 3RD   STREET</td>\n",
       "      <td>...</td>\n",
       "      <td>16</td>\n",
       "      <td>1</td>\n",
       "      <td>17</td>\n",
       "      <td>2212</td>\n",
       "      <td>7803</td>\n",
       "      <td>1900</td>\n",
       "      <td>2</td>\n",
       "      <td>C7</td>\n",
       "      <td>-</td>\n",
       "      <td>2016-12-09 00:00:00</td>\n",
       "    </tr>\n",
       "    <tr>\n",
       "      <th>3</th>\n",
       "      <td>7</td>\n",
       "      <td>1</td>\n",
       "      <td>ALPHABET CITY</td>\n",
       "      <td>07 RENTALS - WALKUP APARTMENTS</td>\n",
       "      <td>2B</td>\n",
       "      <td>402</td>\n",
       "      <td>21</td>\n",
       "      <td></td>\n",
       "      <td>C4</td>\n",
       "      <td>154 EAST 7TH STREET</td>\n",
       "      <td>...</td>\n",
       "      <td>10</td>\n",
       "      <td>0</td>\n",
       "      <td>10</td>\n",
       "      <td>2272</td>\n",
       "      <td>6794</td>\n",
       "      <td>1913</td>\n",
       "      <td>2</td>\n",
       "      <td>C4</td>\n",
       "      <td>3936272</td>\n",
       "      <td>2016-09-23 00:00:00</td>\n",
       "    </tr>\n",
       "    <tr>\n",
       "      <th>4</th>\n",
       "      <td>8</td>\n",
       "      <td>1</td>\n",
       "      <td>ALPHABET CITY</td>\n",
       "      <td>07 RENTALS - WALKUP APARTMENTS</td>\n",
       "      <td>2A</td>\n",
       "      <td>404</td>\n",
       "      <td>55</td>\n",
       "      <td></td>\n",
       "      <td>C2</td>\n",
       "      <td>301 EAST 10TH   STREET</td>\n",
       "      <td>...</td>\n",
       "      <td>6</td>\n",
       "      <td>0</td>\n",
       "      <td>6</td>\n",
       "      <td>2369</td>\n",
       "      <td>4615</td>\n",
       "      <td>1900</td>\n",
       "      <td>2</td>\n",
       "      <td>C2</td>\n",
       "      <td>8000000</td>\n",
       "      <td>2016-11-17 00:00:00</td>\n",
       "    </tr>\n",
       "    <tr>\n",
       "      <th>5</th>\n",
       "      <td>9</td>\n",
       "      <td>1</td>\n",
       "      <td>ALPHABET CITY</td>\n",
       "      <td>07 RENTALS - WALKUP APARTMENTS</td>\n",
       "      <td>2</td>\n",
       "      <td>405</td>\n",
       "      <td>16</td>\n",
       "      <td></td>\n",
       "      <td>C4</td>\n",
       "      <td>516 EAST 12TH   STREET</td>\n",
       "      <td>...</td>\n",
       "      <td>20</td>\n",
       "      <td>0</td>\n",
       "      <td>20</td>\n",
       "      <td>2581</td>\n",
       "      <td>9730</td>\n",
       "      <td>1900</td>\n",
       "      <td>2</td>\n",
       "      <td>C4</td>\n",
       "      <td>-</td>\n",
       "      <td>2017-07-20 00:00:00</td>\n",
       "    </tr>\n",
       "    <tr>\n",
       "      <th>6</th>\n",
       "      <td>10</td>\n",
       "      <td>1</td>\n",
       "      <td>ALPHABET CITY</td>\n",
       "      <td>07 RENTALS - WALKUP APARTMENTS</td>\n",
       "      <td>2B</td>\n",
       "      <td>406</td>\n",
       "      <td>32</td>\n",
       "      <td></td>\n",
       "      <td>C4</td>\n",
       "      <td>210 AVENUE B</td>\n",
       "      <td>...</td>\n",
       "      <td>8</td>\n",
       "      <td>0</td>\n",
       "      <td>8</td>\n",
       "      <td>1750</td>\n",
       "      <td>4226</td>\n",
       "      <td>1920</td>\n",
       "      <td>2</td>\n",
       "      <td>C4</td>\n",
       "      <td>3192840</td>\n",
       "      <td>2016-09-23 00:00:00</td>\n",
       "    </tr>\n",
       "    <tr>\n",
       "      <th>7</th>\n",
       "      <td>11</td>\n",
       "      <td>1</td>\n",
       "      <td>ALPHABET CITY</td>\n",
       "      <td>07 RENTALS - WALKUP APARTMENTS</td>\n",
       "      <td>2</td>\n",
       "      <td>407</td>\n",
       "      <td>18</td>\n",
       "      <td></td>\n",
       "      <td>C7</td>\n",
       "      <td>520 EAST 14TH   STREET</td>\n",
       "      <td>...</td>\n",
       "      <td>44</td>\n",
       "      <td>2</td>\n",
       "      <td>46</td>\n",
       "      <td>5163</td>\n",
       "      <td>21007</td>\n",
       "      <td>1900</td>\n",
       "      <td>2</td>\n",
       "      <td>C7</td>\n",
       "      <td>-</td>\n",
       "      <td>2017-07-20 00:00:00</td>\n",
       "    </tr>\n",
       "    <tr>\n",
       "      <th>8</th>\n",
       "      <td>12</td>\n",
       "      <td>1</td>\n",
       "      <td>ALPHABET CITY</td>\n",
       "      <td>08 RENTALS - ELEVATOR APARTMENTS</td>\n",
       "      <td>2</td>\n",
       "      <td>379</td>\n",
       "      <td>34</td>\n",
       "      <td></td>\n",
       "      <td>D5</td>\n",
       "      <td>141 AVENUE D</td>\n",
       "      <td>...</td>\n",
       "      <td>15</td>\n",
       "      <td>0</td>\n",
       "      <td>15</td>\n",
       "      <td>1534</td>\n",
       "      <td>9198</td>\n",
       "      <td>1920</td>\n",
       "      <td>2</td>\n",
       "      <td>D5</td>\n",
       "      <td>-</td>\n",
       "      <td>2017-06-20 00:00:00</td>\n",
       "    </tr>\n",
       "    <tr>\n",
       "      <th>9</th>\n",
       "      <td>13</td>\n",
       "      <td>1</td>\n",
       "      <td>ALPHABET CITY</td>\n",
       "      <td>08 RENTALS - ELEVATOR APARTMENTS</td>\n",
       "      <td>2</td>\n",
       "      <td>387</td>\n",
       "      <td>153</td>\n",
       "      <td></td>\n",
       "      <td>D9</td>\n",
       "      <td>629 EAST 5TH STREET</td>\n",
       "      <td>...</td>\n",
       "      <td>24</td>\n",
       "      <td>0</td>\n",
       "      <td>24</td>\n",
       "      <td>4489</td>\n",
       "      <td>18523</td>\n",
       "      <td>1920</td>\n",
       "      <td>2</td>\n",
       "      <td>D9</td>\n",
       "      <td>16232000</td>\n",
       "      <td>2016-11-07 00:00:00</td>\n",
       "    </tr>\n",
       "    <tr>\n",
       "      <th>10</th>\n",
       "      <td>14</td>\n",
       "      <td>1</td>\n",
       "      <td>ALPHABET CITY</td>\n",
       "      <td>08 RENTALS - ELEVATOR APARTMENTS</td>\n",
       "      <td>2</td>\n",
       "      <td>394</td>\n",
       "      <td>44</td>\n",
       "      <td></td>\n",
       "      <td>D7</td>\n",
       "      <td>181 AVENUE C</td>\n",
       "      <td>...</td>\n",
       "      <td>30</td>\n",
       "      <td>4</td>\n",
       "      <td>34</td>\n",
       "      <td>4295</td>\n",
       "      <td>21328</td>\n",
       "      <td>1910</td>\n",
       "      <td>2</td>\n",
       "      <td>D7</td>\n",
       "      <td>-</td>\n",
       "      <td>2017-07-20 00:00:00</td>\n",
       "    </tr>\n",
       "    <tr>\n",
       "      <th>11</th>\n",
       "      <td>15</td>\n",
       "      <td>1</td>\n",
       "      <td>ALPHABET CITY</td>\n",
       "      <td>08 RENTALS - ELEVATOR APARTMENTS</td>\n",
       "      <td>2B</td>\n",
       "      <td>400</td>\n",
       "      <td>21</td>\n",
       "      <td></td>\n",
       "      <td>D1</td>\n",
       "      <td>530-532 EAST 5TH STREET</td>\n",
       "      <td>...</td>\n",
       "      <td>10</td>\n",
       "      <td>0</td>\n",
       "      <td>10</td>\n",
       "      <td>3717</td>\n",
       "      <td>12350</td>\n",
       "      <td>2009</td>\n",
       "      <td>2</td>\n",
       "      <td>D1</td>\n",
       "      <td>10350000</td>\n",
       "      <td>2016-10-17 00:00:00</td>\n",
       "    </tr>\n",
       "    <tr>\n",
       "      <th>12</th>\n",
       "      <td>16</td>\n",
       "      <td>1</td>\n",
       "      <td>ALPHABET CITY</td>\n",
       "      <td>09 COOPS - WALKUP APARTMENTS</td>\n",
       "      <td>2</td>\n",
       "      <td>373</td>\n",
       "      <td>40</td>\n",
       "      <td></td>\n",
       "      <td>C6</td>\n",
       "      <td>327 EAST 3 STREET, 1C</td>\n",
       "      <td>...</td>\n",
       "      <td>0</td>\n",
       "      <td>0</td>\n",
       "      <td>0</td>\n",
       "      <td>-</td>\n",
       "      <td>-</td>\n",
       "      <td>1920</td>\n",
       "      <td>2</td>\n",
       "      <td>C6</td>\n",
       "      <td>1</td>\n",
       "      <td>2016-09-06 00:00:00</td>\n",
       "    </tr>\n",
       "    <tr>\n",
       "      <th>13</th>\n",
       "      <td>17</td>\n",
       "      <td>1</td>\n",
       "      <td>ALPHABET CITY</td>\n",
       "      <td>09 COOPS - WALKUP APARTMENTS</td>\n",
       "      <td>2</td>\n",
       "      <td>373</td>\n",
       "      <td>40</td>\n",
       "      <td></td>\n",
       "      <td>C6</td>\n",
       "      <td>327 EAST 3 STREET, 1C</td>\n",
       "      <td>...</td>\n",
       "      <td>0</td>\n",
       "      <td>0</td>\n",
       "      <td>0</td>\n",
       "      <td>-</td>\n",
       "      <td>-</td>\n",
       "      <td>1920</td>\n",
       "      <td>2</td>\n",
       "      <td>C6</td>\n",
       "      <td>499000</td>\n",
       "      <td>2017-03-10 00:00:00</td>\n",
       "    </tr>\n",
       "    <tr>\n",
       "      <th>14</th>\n",
       "      <td>18</td>\n",
       "      <td>1</td>\n",
       "      <td>ALPHABET CITY</td>\n",
       "      <td>09 COOPS - WALKUP APARTMENTS</td>\n",
       "      <td>2</td>\n",
       "      <td>373</td>\n",
       "      <td>40</td>\n",
       "      <td></td>\n",
       "      <td>C6</td>\n",
       "      <td>327 EAST 3 STREET, 3A</td>\n",
       "      <td>...</td>\n",
       "      <td>0</td>\n",
       "      <td>0</td>\n",
       "      <td>0</td>\n",
       "      <td>-</td>\n",
       "      <td>-</td>\n",
       "      <td>1920</td>\n",
       "      <td>2</td>\n",
       "      <td>C6</td>\n",
       "      <td>10</td>\n",
       "      <td>2017-04-28 00:00:00</td>\n",
       "    </tr>\n",
       "    <tr>\n",
       "      <th>15</th>\n",
       "      <td>19</td>\n",
       "      <td>1</td>\n",
       "      <td>ALPHABET CITY</td>\n",
       "      <td>09 COOPS - WALKUP APARTMENTS</td>\n",
       "      <td>2</td>\n",
       "      <td>373</td>\n",
       "      <td>40</td>\n",
       "      <td></td>\n",
       "      <td>C6</td>\n",
       "      <td>327 EAST 3RD STREET, 5A</td>\n",
       "      <td>...</td>\n",
       "      <td>0</td>\n",
       "      <td>0</td>\n",
       "      <td>0</td>\n",
       "      <td>-</td>\n",
       "      <td>-</td>\n",
       "      <td>1920</td>\n",
       "      <td>2</td>\n",
       "      <td>C6</td>\n",
       "      <td>529500</td>\n",
       "      <td>2017-06-09 00:00:00</td>\n",
       "    </tr>\n",
       "    <tr>\n",
       "      <th>16</th>\n",
       "      <td>20</td>\n",
       "      <td>1</td>\n",
       "      <td>ALPHABET CITY</td>\n",
       "      <td>09 COOPS - WALKUP APARTMENTS</td>\n",
       "      <td>2</td>\n",
       "      <td>373</td>\n",
       "      <td>40</td>\n",
       "      <td></td>\n",
       "      <td>C6</td>\n",
       "      <td>327 EAST 3 STREET, 2E</td>\n",
       "      <td>...</td>\n",
       "      <td>0</td>\n",
       "      <td>0</td>\n",
       "      <td>0</td>\n",
       "      <td>-</td>\n",
       "      <td>-</td>\n",
       "      <td>1920</td>\n",
       "      <td>2</td>\n",
       "      <td>C6</td>\n",
       "      <td>423000</td>\n",
       "      <td>2017-07-14 00:00:00</td>\n",
       "    </tr>\n",
       "    <tr>\n",
       "      <th>17</th>\n",
       "      <td>21</td>\n",
       "      <td>1</td>\n",
       "      <td>ALPHABET CITY</td>\n",
       "      <td>09 COOPS - WALKUP APARTMENTS</td>\n",
       "      <td>2</td>\n",
       "      <td>373</td>\n",
       "      <td>46</td>\n",
       "      <td></td>\n",
       "      <td>C6</td>\n",
       "      <td>317 EAST 3RD STREET, 12</td>\n",
       "      <td>...</td>\n",
       "      <td>0</td>\n",
       "      <td>0</td>\n",
       "      <td>0</td>\n",
       "      <td>-</td>\n",
       "      <td>-</td>\n",
       "      <td>1925</td>\n",
       "      <td>2</td>\n",
       "      <td>C6</td>\n",
       "      <td>501000</td>\n",
       "      <td>2017-03-16 00:00:00</td>\n",
       "    </tr>\n",
       "    <tr>\n",
       "      <th>18</th>\n",
       "      <td>22</td>\n",
       "      <td>1</td>\n",
       "      <td>ALPHABET CITY</td>\n",
       "      <td>09 COOPS - WALKUP APARTMENTS</td>\n",
       "      <td>2</td>\n",
       "      <td>373</td>\n",
       "      <td>49</td>\n",
       "      <td></td>\n",
       "      <td>C6</td>\n",
       "      <td>311 EAST 3RD STREET, 17</td>\n",
       "      <td>...</td>\n",
       "      <td>0</td>\n",
       "      <td>0</td>\n",
       "      <td>0</td>\n",
       "      <td>-</td>\n",
       "      <td>-</td>\n",
       "      <td>1920</td>\n",
       "      <td>2</td>\n",
       "      <td>C6</td>\n",
       "      <td>450000</td>\n",
       "      <td>2016-09-01 00:00:00</td>\n",
       "    </tr>\n",
       "    <tr>\n",
       "      <th>19</th>\n",
       "      <td>23</td>\n",
       "      <td>1</td>\n",
       "      <td>ALPHABET CITY</td>\n",
       "      <td>09 COOPS - WALKUP APARTMENTS</td>\n",
       "      <td>2</td>\n",
       "      <td>373</td>\n",
       "      <td>49</td>\n",
       "      <td></td>\n",
       "      <td>C6</td>\n",
       "      <td>311 EAST 3RD, 22</td>\n",
       "      <td>...</td>\n",
       "      <td>0</td>\n",
       "      <td>0</td>\n",
       "      <td>0</td>\n",
       "      <td>-</td>\n",
       "      <td>-</td>\n",
       "      <td>1920</td>\n",
       "      <td>2</td>\n",
       "      <td>C6</td>\n",
       "      <td>510000</td>\n",
       "      <td>2017-08-17 00:00:00</td>\n",
       "    </tr>\n",
       "    <tr>\n",
       "      <th>20</th>\n",
       "      <td>24</td>\n",
       "      <td>1</td>\n",
       "      <td>ALPHABET CITY</td>\n",
       "      <td>09 COOPS - WALKUP APARTMENTS</td>\n",
       "      <td>2C</td>\n",
       "      <td>374</td>\n",
       "      <td>8</td>\n",
       "      <td></td>\n",
       "      <td>C6</td>\n",
       "      <td>702 EAST 5TH STREET, 5E</td>\n",
       "      <td>...</td>\n",
       "      <td>0</td>\n",
       "      <td>0</td>\n",
       "      <td>0</td>\n",
       "      <td>-</td>\n",
       "      <td>-</td>\n",
       "      <td>1900</td>\n",
       "      <td>2</td>\n",
       "      <td>C6</td>\n",
       "      <td>-</td>\n",
       "      <td>2016-09-07 00:00:00</td>\n",
       "    </tr>\n",
       "    <tr>\n",
       "      <th>21</th>\n",
       "      <td>25</td>\n",
       "      <td>1</td>\n",
       "      <td>ALPHABET CITY</td>\n",
       "      <td>09 COOPS - WALKUP APARTMENTS</td>\n",
       "      <td>2</td>\n",
       "      <td>375</td>\n",
       "      <td>30</td>\n",
       "      <td></td>\n",
       "      <td>C6</td>\n",
       "      <td>742 EAST 6TH STREET, 1</td>\n",
       "      <td>...</td>\n",
       "      <td>0</td>\n",
       "      <td>0</td>\n",
       "      <td>0</td>\n",
       "      <td>-</td>\n",
       "      <td>-</td>\n",
       "      <td>1902</td>\n",
       "      <td>2</td>\n",
       "      <td>C6</td>\n",
       "      <td>350000</td>\n",
       "      <td>2017-08-30 00:00:00</td>\n",
       "    </tr>\n",
       "    <tr>\n",
       "      <th>22</th>\n",
       "      <td>26</td>\n",
       "      <td>1</td>\n",
       "      <td>ALPHABET CITY</td>\n",
       "      <td>09 COOPS - WALKUP APARTMENTS</td>\n",
       "      <td>2</td>\n",
       "      <td>376</td>\n",
       "      <td>14</td>\n",
       "      <td></td>\n",
       "      <td>C6</td>\n",
       "      <td>244 EAST 7TH STREET</td>\n",
       "      <td>...</td>\n",
       "      <td>24</td>\n",
       "      <td>0</td>\n",
       "      <td>24</td>\n",
       "      <td>4131</td>\n",
       "      <td>16776</td>\n",
       "      <td>1928</td>\n",
       "      <td>2</td>\n",
       "      <td>C6</td>\n",
       "      <td>11900000</td>\n",
       "      <td>2017-06-21 00:00:00</td>\n",
       "    </tr>\n",
       "    <tr>\n",
       "      <th>23</th>\n",
       "      <td>27</td>\n",
       "      <td>1</td>\n",
       "      <td>ALPHABET CITY</td>\n",
       "      <td>09 COOPS - WALKUP APARTMENTS</td>\n",
       "      <td>2</td>\n",
       "      <td>376</td>\n",
       "      <td>14</td>\n",
       "      <td></td>\n",
       "      <td>C6</td>\n",
       "      <td>244 EAST 7TH STREET</td>\n",
       "      <td>...</td>\n",
       "      <td>0</td>\n",
       "      <td>0</td>\n",
       "      <td>0</td>\n",
       "      <td>-</td>\n",
       "      <td>-</td>\n",
       "      <td>1928</td>\n",
       "      <td>2</td>\n",
       "      <td>C6</td>\n",
       "      <td>11900000</td>\n",
       "      <td>2017-06-21 00:00:00</td>\n",
       "    </tr>\n",
       "    <tr>\n",
       "      <th>24</th>\n",
       "      <td>28</td>\n",
       "      <td>1</td>\n",
       "      <td>ALPHABET CITY</td>\n",
       "      <td>09 COOPS - WALKUP APARTMENTS</td>\n",
       "      <td>2</td>\n",
       "      <td>376</td>\n",
       "      <td>16</td>\n",
       "      <td></td>\n",
       "      <td>C6</td>\n",
       "      <td>248 EAST 7TH STREET, 24</td>\n",
       "      <td>...</td>\n",
       "      <td>0</td>\n",
       "      <td>0</td>\n",
       "      <td>0</td>\n",
       "      <td>-</td>\n",
       "      <td>-</td>\n",
       "      <td>1928</td>\n",
       "      <td>2</td>\n",
       "      <td>C6</td>\n",
       "      <td>350000</td>\n",
       "      <td>2017-01-30 00:00:00</td>\n",
       "    </tr>\n",
       "    <tr>\n",
       "      <th>25</th>\n",
       "      <td>29</td>\n",
       "      <td>1</td>\n",
       "      <td>ALPHABET CITY</td>\n",
       "      <td>09 COOPS - WALKUP APARTMENTS</td>\n",
       "      <td>2</td>\n",
       "      <td>376</td>\n",
       "      <td>16</td>\n",
       "      <td></td>\n",
       "      <td>C6</td>\n",
       "      <td>248 EAST 7TH STREET, 2</td>\n",
       "      <td>...</td>\n",
       "      <td>0</td>\n",
       "      <td>0</td>\n",
       "      <td>0</td>\n",
       "      <td>-</td>\n",
       "      <td>-</td>\n",
       "      <td>1928</td>\n",
       "      <td>2</td>\n",
       "      <td>C6</td>\n",
       "      <td>404000</td>\n",
       "      <td>2017-07-07 00:00:00</td>\n",
       "    </tr>\n",
       "    <tr>\n",
       "      <th>26</th>\n",
       "      <td>30</td>\n",
       "      <td>1</td>\n",
       "      <td>ALPHABET CITY</td>\n",
       "      <td>09 COOPS - WALKUP APARTMENTS</td>\n",
       "      <td>2</td>\n",
       "      <td>376</td>\n",
       "      <td>19</td>\n",
       "      <td></td>\n",
       "      <td>C6</td>\n",
       "      <td>254 EAST  7TH STREET, 4</td>\n",
       "      <td>...</td>\n",
       "      <td>0</td>\n",
       "      <td>0</td>\n",
       "      <td>0</td>\n",
       "      <td>-</td>\n",
       "      <td>-</td>\n",
       "      <td>1910</td>\n",
       "      <td>2</td>\n",
       "      <td>C6</td>\n",
       "      <td>535000</td>\n",
       "      <td>2017-06-21 00:00:00</td>\n",
       "    </tr>\n",
       "    <tr>\n",
       "      <th>27</th>\n",
       "      <td>31</td>\n",
       "      <td>1</td>\n",
       "      <td>ALPHABET CITY</td>\n",
       "      <td>09 COOPS - WALKUP APARTMENTS</td>\n",
       "      <td>2C</td>\n",
       "      <td>377</td>\n",
       "      <td>54</td>\n",
       "      <td></td>\n",
       "      <td>C6</td>\n",
       "      <td>267 EAST 7 ST, 4</td>\n",
       "      <td>...</td>\n",
       "      <td>0</td>\n",
       "      <td>0</td>\n",
       "      <td>0</td>\n",
       "      <td>-</td>\n",
       "      <td>-</td>\n",
       "      <td>1920</td>\n",
       "      <td>2</td>\n",
       "      <td>C6</td>\n",
       "      <td>1400000</td>\n",
       "      <td>2017-08-04 00:00:00</td>\n",
       "    </tr>\n",
       "    <tr>\n",
       "      <th>28</th>\n",
       "      <td>32</td>\n",
       "      <td>1</td>\n",
       "      <td>ALPHABET CITY</td>\n",
       "      <td>09 COOPS - WALKUP APARTMENTS</td>\n",
       "      <td>2C</td>\n",
       "      <td>377</td>\n",
       "      <td>60</td>\n",
       "      <td></td>\n",
       "      <td>C6</td>\n",
       "      <td>255 EAST 7TH STREET, 3F</td>\n",
       "      <td>...</td>\n",
       "      <td>0</td>\n",
       "      <td>0</td>\n",
       "      <td>0</td>\n",
       "      <td>-</td>\n",
       "      <td>-</td>\n",
       "      <td>1900</td>\n",
       "      <td>2</td>\n",
       "      <td>C6</td>\n",
       "      <td>866000</td>\n",
       "      <td>2017-01-09 00:00:00</td>\n",
       "    </tr>\n",
       "    <tr>\n",
       "      <th>29</th>\n",
       "      <td>33</td>\n",
       "      <td>1</td>\n",
       "      <td>ALPHABET CITY</td>\n",
       "      <td>09 COOPS - WALKUP APARTMENTS</td>\n",
       "      <td>2</td>\n",
       "      <td>379</td>\n",
       "      <td>15</td>\n",
       "      <td></td>\n",
       "      <td>C6</td>\n",
       "      <td>414 EAST 10TH   STREET, 4E</td>\n",
       "      <td>...</td>\n",
       "      <td>0</td>\n",
       "      <td>0</td>\n",
       "      <td>0</td>\n",
       "      <td>-</td>\n",
       "      <td>-</td>\n",
       "      <td>1930</td>\n",
       "      <td>2</td>\n",
       "      <td>C6</td>\n",
       "      <td>355000</td>\n",
       "      <td>2017-04-18 00:00:00</td>\n",
       "    </tr>\n",
       "  </tbody>\n",
       "</table>\n",
       "<p>30 rows × 22 columns</p>\n",
       "</div>"
      ],
      "text/plain": [
       "    Unnamed: 0  BOROUGH   NEIGHBORHOOD  \\\n",
       "0            4        1  ALPHABET CITY   \n",
       "1            5        1  ALPHABET CITY   \n",
       "2            6        1  ALPHABET CITY   \n",
       "3            7        1  ALPHABET CITY   \n",
       "4            8        1  ALPHABET CITY   \n",
       "5            9        1  ALPHABET CITY   \n",
       "6           10        1  ALPHABET CITY   \n",
       "7           11        1  ALPHABET CITY   \n",
       "8           12        1  ALPHABET CITY   \n",
       "9           13        1  ALPHABET CITY   \n",
       "10          14        1  ALPHABET CITY   \n",
       "11          15        1  ALPHABET CITY   \n",
       "12          16        1  ALPHABET CITY   \n",
       "13          17        1  ALPHABET CITY   \n",
       "14          18        1  ALPHABET CITY   \n",
       "15          19        1  ALPHABET CITY   \n",
       "16          20        1  ALPHABET CITY   \n",
       "17          21        1  ALPHABET CITY   \n",
       "18          22        1  ALPHABET CITY   \n",
       "19          23        1  ALPHABET CITY   \n",
       "20          24        1  ALPHABET CITY   \n",
       "21          25        1  ALPHABET CITY   \n",
       "22          26        1  ALPHABET CITY   \n",
       "23          27        1  ALPHABET CITY   \n",
       "24          28        1  ALPHABET CITY   \n",
       "25          29        1  ALPHABET CITY   \n",
       "26          30        1  ALPHABET CITY   \n",
       "27          31        1  ALPHABET CITY   \n",
       "28          32        1  ALPHABET CITY   \n",
       "29          33        1  ALPHABET CITY   \n",
       "\n",
       "                        BUILDING CLASS CATEGORY TAX CLASS AT PRESENT  BLOCK  \\\n",
       "0   07 RENTALS - WALKUP APARTMENTS                                2A    392   \n",
       "1   07 RENTALS - WALKUP APARTMENTS                                 2    399   \n",
       "2   07 RENTALS - WALKUP APARTMENTS                                 2    399   \n",
       "3   07 RENTALS - WALKUP APARTMENTS                                2B    402   \n",
       "4   07 RENTALS - WALKUP APARTMENTS                                2A    404   \n",
       "5   07 RENTALS - WALKUP APARTMENTS                                 2    405   \n",
       "6   07 RENTALS - WALKUP APARTMENTS                                2B    406   \n",
       "7   07 RENTALS - WALKUP APARTMENTS                                 2    407   \n",
       "8   08 RENTALS - ELEVATOR APARTMENTS                               2    379   \n",
       "9   08 RENTALS - ELEVATOR APARTMENTS                               2    387   \n",
       "10  08 RENTALS - ELEVATOR APARTMENTS                               2    394   \n",
       "11  08 RENTALS - ELEVATOR APARTMENTS                              2B    400   \n",
       "12  09 COOPS - WALKUP APARTMENTS                                   2    373   \n",
       "13  09 COOPS - WALKUP APARTMENTS                                   2    373   \n",
       "14  09 COOPS - WALKUP APARTMENTS                                   2    373   \n",
       "15  09 COOPS - WALKUP APARTMENTS                                   2    373   \n",
       "16  09 COOPS - WALKUP APARTMENTS                                   2    373   \n",
       "17  09 COOPS - WALKUP APARTMENTS                                   2    373   \n",
       "18  09 COOPS - WALKUP APARTMENTS                                   2    373   \n",
       "19  09 COOPS - WALKUP APARTMENTS                                   2    373   \n",
       "20  09 COOPS - WALKUP APARTMENTS                                  2C    374   \n",
       "21  09 COOPS - WALKUP APARTMENTS                                   2    375   \n",
       "22  09 COOPS - WALKUP APARTMENTS                                   2    376   \n",
       "23  09 COOPS - WALKUP APARTMENTS                                   2    376   \n",
       "24  09 COOPS - WALKUP APARTMENTS                                   2    376   \n",
       "25  09 COOPS - WALKUP APARTMENTS                                   2    376   \n",
       "26  09 COOPS - WALKUP APARTMENTS                                   2    376   \n",
       "27  09 COOPS - WALKUP APARTMENTS                                  2C    377   \n",
       "28  09 COOPS - WALKUP APARTMENTS                                  2C    377   \n",
       "29  09 COOPS - WALKUP APARTMENTS                                   2    379   \n",
       "\n",
       "    LOT EASE-MENT BUILDING CLASS AT PRESENT                     ADDRESS  ...  \\\n",
       "0     6                                  C2                153 AVENUE B  ...   \n",
       "1    26                                  C7       234 EAST 4TH   STREET  ...   \n",
       "2    39                                  C7       197 EAST 3RD   STREET  ...   \n",
       "3    21                                  C4         154 EAST 7TH STREET  ...   \n",
       "4    55                                  C2      301 EAST 10TH   STREET  ...   \n",
       "5    16                                  C4      516 EAST 12TH   STREET  ...   \n",
       "6    32                                  C4                210 AVENUE B  ...   \n",
       "7    18                                  C7      520 EAST 14TH   STREET  ...   \n",
       "8    34                                  D5                141 AVENUE D  ...   \n",
       "9   153                                  D9         629 EAST 5TH STREET  ...   \n",
       "10   44                                  D7                181 AVENUE C  ...   \n",
       "11   21                                  D1     530-532 EAST 5TH STREET  ...   \n",
       "12   40                                  C6       327 EAST 3 STREET, 1C  ...   \n",
       "13   40                                  C6       327 EAST 3 STREET, 1C  ...   \n",
       "14   40                                  C6       327 EAST 3 STREET, 3A  ...   \n",
       "15   40                                  C6     327 EAST 3RD STREET, 5A  ...   \n",
       "16   40                                  C6       327 EAST 3 STREET, 2E  ...   \n",
       "17   46                                  C6     317 EAST 3RD STREET, 12  ...   \n",
       "18   49                                  C6     311 EAST 3RD STREET, 17  ...   \n",
       "19   49                                  C6            311 EAST 3RD, 22  ...   \n",
       "20    8                                  C6     702 EAST 5TH STREET, 5E  ...   \n",
       "21   30                                  C6      742 EAST 6TH STREET, 1  ...   \n",
       "22   14                                  C6         244 EAST 7TH STREET  ...   \n",
       "23   14                                  C6         244 EAST 7TH STREET  ...   \n",
       "24   16                                  C6     248 EAST 7TH STREET, 24  ...   \n",
       "25   16                                  C6      248 EAST 7TH STREET, 2  ...   \n",
       "26   19                                  C6     254 EAST  7TH STREET, 4  ...   \n",
       "27   54                                  C6            267 EAST 7 ST, 4  ...   \n",
       "28   60                                  C6     255 EAST 7TH STREET, 3F  ...   \n",
       "29   15                                  C6  414 EAST 10TH   STREET, 4E  ...   \n",
       "\n",
       "   RESIDENTIAL UNITS  COMMERCIAL UNITS  TOTAL UNITS  LAND SQUARE FEET  \\\n",
       "0                  5                 0            5              1633   \n",
       "1                 28                 3           31              4616   \n",
       "2                 16                 1           17              2212   \n",
       "3                 10                 0           10              2272   \n",
       "4                  6                 0            6              2369   \n",
       "5                 20                 0           20              2581   \n",
       "6                  8                 0            8              1750   \n",
       "7                 44                 2           46              5163   \n",
       "8                 15                 0           15              1534   \n",
       "9                 24                 0           24              4489   \n",
       "10                30                 4           34              4295   \n",
       "11                10                 0           10              3717   \n",
       "12                 0                 0            0               -     \n",
       "13                 0                 0            0               -     \n",
       "14                 0                 0            0               -     \n",
       "15                 0                 0            0               -     \n",
       "16                 0                 0            0               -     \n",
       "17                 0                 0            0               -     \n",
       "18                 0                 0            0               -     \n",
       "19                 0                 0            0               -     \n",
       "20                 0                 0            0               -     \n",
       "21                 0                 0            0               -     \n",
       "22                24                 0           24              4131   \n",
       "23                 0                 0            0               -     \n",
       "24                 0                 0            0               -     \n",
       "25                 0                 0            0               -     \n",
       "26                 0                 0            0               -     \n",
       "27                 0                 0            0               -     \n",
       "28                 0                 0            0               -     \n",
       "29                 0                 0            0               -     \n",
       "\n",
       "    GROSS SQUARE FEET YEAR BUILT TAX CLASS AT TIME OF SALE  \\\n",
       "0                6440       1900                         2   \n",
       "1               18690       1900                         2   \n",
       "2                7803       1900                         2   \n",
       "3                6794       1913                         2   \n",
       "4                4615       1900                         2   \n",
       "5                9730       1900                         2   \n",
       "6                4226       1920                         2   \n",
       "7               21007       1900                         2   \n",
       "8                9198       1920                         2   \n",
       "9               18523       1920                         2   \n",
       "10              21328       1910                         2   \n",
       "11              12350       2009                         2   \n",
       "12                -         1920                         2   \n",
       "13                -         1920                         2   \n",
       "14                -         1920                         2   \n",
       "15                -         1920                         2   \n",
       "16                -         1920                         2   \n",
       "17                -         1925                         2   \n",
       "18                -         1920                         2   \n",
       "19                -         1920                         2   \n",
       "20                -         1900                         2   \n",
       "21                -         1902                         2   \n",
       "22              16776       1928                         2   \n",
       "23                -         1928                         2   \n",
       "24                -         1928                         2   \n",
       "25                -         1928                         2   \n",
       "26                -         1910                         2   \n",
       "27                -         1920                         2   \n",
       "28                -         1900                         2   \n",
       "29                -         1930                         2   \n",
       "\n",
       "    BUILDING CLASS AT TIME OF SALE  SALE PRICE            SALE DATE  \n",
       "0                               C2     6625000  2017-07-19 00:00:00  \n",
       "1                               C7         -    2016-12-14 00:00:00  \n",
       "2                               C7         -    2016-12-09 00:00:00  \n",
       "3                               C4     3936272  2016-09-23 00:00:00  \n",
       "4                               C2     8000000  2016-11-17 00:00:00  \n",
       "5                               C4         -    2017-07-20 00:00:00  \n",
       "6                               C4     3192840  2016-09-23 00:00:00  \n",
       "7                               C7         -    2017-07-20 00:00:00  \n",
       "8                               D5         -    2017-06-20 00:00:00  \n",
       "9                               D9    16232000  2016-11-07 00:00:00  \n",
       "10                              D7         -    2017-07-20 00:00:00  \n",
       "11                              D1    10350000  2016-10-17 00:00:00  \n",
       "12                              C6           1  2016-09-06 00:00:00  \n",
       "13                              C6      499000  2017-03-10 00:00:00  \n",
       "14                              C6          10  2017-04-28 00:00:00  \n",
       "15                              C6      529500  2017-06-09 00:00:00  \n",
       "16                              C6      423000  2017-07-14 00:00:00  \n",
       "17                              C6      501000  2017-03-16 00:00:00  \n",
       "18                              C6      450000  2016-09-01 00:00:00  \n",
       "19                              C6      510000  2017-08-17 00:00:00  \n",
       "20                              C6         -    2016-09-07 00:00:00  \n",
       "21                              C6      350000  2017-08-30 00:00:00  \n",
       "22                              C6    11900000  2017-06-21 00:00:00  \n",
       "23                              C6    11900000  2017-06-21 00:00:00  \n",
       "24                              C6      350000  2017-01-30 00:00:00  \n",
       "25                              C6      404000  2017-07-07 00:00:00  \n",
       "26                              C6      535000  2017-06-21 00:00:00  \n",
       "27                              C6     1400000  2017-08-04 00:00:00  \n",
       "28                              C6      866000  2017-01-09 00:00:00  \n",
       "29                              C6      355000  2017-04-18 00:00:00  \n",
       "\n",
       "[30 rows x 22 columns]"
      ]
     },
     "execution_count": 4,
     "metadata": {},
     "output_type": "execute_result"
    }
   ],
   "source": [
    "df_nyc_sales.head(30)"
   ]
  },
  {
   "cell_type": "markdown",
   "id": "4bf9adcf",
   "metadata": {},
   "source": [
    "# Preprocessing"
   ]
  },
  {
   "cell_type": "markdown",
   "id": "773df54d",
   "metadata": {},
   "source": [
    "## Mengetahui dimensi dari dataset"
   ]
  },
  {
   "cell_type": "code",
   "execution_count": 5,
   "id": "713aab82",
   "metadata": {},
   "outputs": [
    {
     "data": {
      "text/plain": [
       "(84548, 22)"
      ]
     },
     "execution_count": 5,
     "metadata": {},
     "output_type": "execute_result"
    }
   ],
   "source": [
    "df_nyc_sales.shape"
   ]
  },
  {
   "cell_type": "markdown",
   "id": "45717152",
   "metadata": {},
   "source": [
    "## Mengetahui kolom yang terdapat pada data"
   ]
  },
  {
   "cell_type": "code",
   "execution_count": 6,
   "id": "1c06128d",
   "metadata": {},
   "outputs": [
    {
     "data": {
      "text/plain": [
       "Index(['Unnamed: 0', 'BOROUGH', 'NEIGHBORHOOD', 'BUILDING CLASS CATEGORY',\n",
       "       'TAX CLASS AT PRESENT', 'BLOCK', 'LOT', 'EASE-MENT',\n",
       "       'BUILDING CLASS AT PRESENT', 'ADDRESS', 'APARTMENT NUMBER', 'ZIP CODE',\n",
       "       'RESIDENTIAL UNITS', 'COMMERCIAL UNITS', 'TOTAL UNITS',\n",
       "       'LAND SQUARE FEET', 'GROSS SQUARE FEET', 'YEAR BUILT',\n",
       "       'TAX CLASS AT TIME OF SALE', 'BUILDING CLASS AT TIME OF SALE',\n",
       "       'SALE PRICE', 'SALE DATE'],\n",
       "      dtype='object')"
      ]
     },
     "execution_count": 6,
     "metadata": {},
     "output_type": "execute_result"
    }
   ],
   "source": [
    "df_nyc_sales.columns"
   ]
  },
  {
   "cell_type": "markdown",
   "id": "a416169c",
   "metadata": {},
   "source": [
    "## Mengetahui adanya null values dan tipe data dari setiap kolom"
   ]
  },
  {
   "cell_type": "code",
   "execution_count": 7,
   "id": "b8783596",
   "metadata": {},
   "outputs": [
    {
     "name": "stdout",
     "output_type": "stream",
     "text": [
      "<class 'pandas.core.frame.DataFrame'>\n",
      "RangeIndex: 84548 entries, 0 to 84547\n",
      "Data columns (total 22 columns):\n",
      " #   Column                          Non-Null Count  Dtype \n",
      "---  ------                          --------------  ----- \n",
      " 0   Unnamed: 0                      84548 non-null  int64 \n",
      " 1   BOROUGH                         84548 non-null  int64 \n",
      " 2   NEIGHBORHOOD                    84548 non-null  object\n",
      " 3   BUILDING CLASS CATEGORY         84548 non-null  object\n",
      " 4   TAX CLASS AT PRESENT            84548 non-null  object\n",
      " 5   BLOCK                           84548 non-null  int64 \n",
      " 6   LOT                             84548 non-null  int64 \n",
      " 7   EASE-MENT                       84548 non-null  object\n",
      " 8   BUILDING CLASS AT PRESENT       84548 non-null  object\n",
      " 9   ADDRESS                         84548 non-null  object\n",
      " 10  APARTMENT NUMBER                84548 non-null  object\n",
      " 11  ZIP CODE                        84548 non-null  int64 \n",
      " 12  RESIDENTIAL UNITS               84548 non-null  int64 \n",
      " 13  COMMERCIAL UNITS                84548 non-null  int64 \n",
      " 14  TOTAL UNITS                     84548 non-null  int64 \n",
      " 15  LAND SQUARE FEET                84548 non-null  object\n",
      " 16  GROSS SQUARE FEET               84548 non-null  object\n",
      " 17  YEAR BUILT                      84548 non-null  int64 \n",
      " 18  TAX CLASS AT TIME OF SALE       84548 non-null  int64 \n",
      " 19  BUILDING CLASS AT TIME OF SALE  84548 non-null  object\n",
      " 20  SALE PRICE                      84548 non-null  object\n",
      " 21  SALE DATE                       84548 non-null  object\n",
      "dtypes: int64(10), object(12)\n",
      "memory usage: 14.2+ MB\n"
     ]
    }
   ],
   "source": [
    "df_nyc_sales.info()"
   ]
  },
  {
   "cell_type": "markdown",
   "id": "29b86b62",
   "metadata": {},
   "source": [
    "## Mengetahui semua nilai unik dari setiap kolom untuk melihat adanya anomali (unstandard missing values)"
   ]
  },
  {
   "cell_type": "code",
   "execution_count": 8,
   "id": "c223994c",
   "metadata": {},
   "outputs": [
    {
     "name": "stdout",
     "output_type": "stream",
     "text": [
      "UNIQUE VALUES FOR  Unnamed: 0\n",
      "====================\n",
      "[    4     5     6 ... 26737 26738 26739]\n",
      "====================\n",
      "UNIQUE VALUES FOR  BOROUGH\n",
      "====================\n",
      "[1 2 3 4 5]\n",
      "====================\n",
      "UNIQUE VALUES FOR  NEIGHBORHOOD\n",
      "====================\n",
      "['ALPHABET CITY' 'CHELSEA' 'CHINATOWN' 'CIVIC CENTER' 'CLINTON'\n",
      " 'EAST VILLAGE' 'FASHION' 'FINANCIAL' 'FLATIRON' 'GRAMERCY'\n",
      " 'GREENWICH VILLAGE-CENTRAL' 'GREENWICH VILLAGE-WEST' 'HARLEM-CENTRAL'\n",
      " 'HARLEM-EAST' 'HARLEM-UPPER' 'HARLEM-WEST' 'INWOOD' 'JAVITS CENTER'\n",
      " 'KIPS BAY' 'LITTLE ITALY' 'LOWER EAST SIDE' 'MANHATTAN VALLEY'\n",
      " 'MIDTOWN CBD' 'MIDTOWN EAST' 'MIDTOWN WEST' 'MORNINGSIDE HEIGHTS'\n",
      " 'MURRAY HILL' 'ROOSEVELT ISLAND' 'SOHO' 'SOUTHBRIDGE' 'TRIBECA'\n",
      " 'UPPER EAST SIDE (59-79)' 'UPPER EAST SIDE (79-96)'\n",
      " 'UPPER EAST SIDE (96-110)' 'UPPER WEST SIDE (59-79)'\n",
      " 'UPPER WEST SIDE (79-96)' 'UPPER WEST SIDE (96-116)'\n",
      " 'WASHINGTON HEIGHTS LOWER' 'WASHINGTON HEIGHTS UPPER' 'BATHGATE'\n",
      " 'BAYCHESTER' 'BEDFORD PARK/NORWOOD' 'BELMONT' 'BRONX PARK' 'BRONXDALE'\n",
      " 'CASTLE HILL/UNIONPORT' 'CITY ISLAND' 'CITY ISLAND-PELHAM STRIP'\n",
      " 'CO-OP CITY' 'COUNTRY CLUB' 'CROTONA PARK' 'EAST RIVER' 'EAST TREMONT'\n",
      " 'FIELDSTON' 'FORDHAM' 'HIGHBRIDGE/MORRIS HEIGHTS' 'HUNTS POINT'\n",
      " 'KINGSBRIDGE HTS/UNIV HTS' 'KINGSBRIDGE/JEROME PARK' 'MELROSE/CONCOURSE'\n",
      " 'MORRIS PARK/VAN NEST' 'MORRISANIA/LONGWOOD' 'MOTT HAVEN/PORT MORRIS'\n",
      " 'MOUNT HOPE/MOUNT EDEN' 'PARKCHESTER' 'PELHAM BAY' 'PELHAM GARDENS'\n",
      " 'PELHAM PARKWAY NORTH' 'PELHAM PARKWAY SOUTH' 'RIVERDALE'\n",
      " 'SCHUYLERVILLE/PELHAM BAY' 'SOUNDVIEW' 'THROGS NECK' 'VAN CORTLANDT PARK'\n",
      " 'WAKEFIELD' 'WESTCHESTER' 'WILLIAMSBRIDGE' 'WOODLAWN' 'BATH BEACH'\n",
      " 'BAY RIDGE' 'BEDFORD STUYVESANT' 'BENSONHURST' 'BERGEN BEACH'\n",
      " 'BOERUM HILL' 'BOROUGH PARK' 'BRIGHTON BEACH' 'BROOKLYN HEIGHTS'\n",
      " 'BROWNSVILLE' 'BUSH TERMINAL' 'BUSHWICK' 'CANARSIE' 'CARROLL GARDENS'\n",
      " 'CLINTON HILL' 'COBBLE HILL' 'COBBLE HILL-WEST' 'CONEY ISLAND'\n",
      " 'CROWN HEIGHTS' 'CYPRESS HILLS' 'DOWNTOWN-FULTON FERRY'\n",
      " 'DOWNTOWN-FULTON MALL' 'DOWNTOWN-METROTECH' 'DYKER HEIGHTS'\n",
      " 'EAST NEW YORK' 'FLATBUSH-CENTRAL' 'FLATBUSH-EAST'\n",
      " 'FLATBUSH-LEFFERTS GARDEN' 'FLATBUSH-NORTH' 'FLATLANDS' 'FORT GREENE'\n",
      " 'GERRITSEN BEACH' 'GOWANUS' 'GRAVESEND' 'GREENPOINT' 'JAMAICA BAY'\n",
      " 'KENSINGTON' 'MADISON' 'MANHATTAN BEACH' 'MARINE PARK' 'MIDWOOD'\n",
      " 'MILL BASIN' 'NAVY YARD' 'OCEAN HILL' 'OCEAN PARKWAY-NORTH'\n",
      " 'OCEAN PARKWAY-SOUTH' 'OLD MILL BASIN' 'PARK SLOPE' 'PARK SLOPE SOUTH'\n",
      " 'PROSPECT HEIGHTS' 'RED HOOK' 'SEAGATE' 'SHEEPSHEAD BAY' 'SPRING CREEK'\n",
      " 'SUNSET PARK' 'WILLIAMSBURG-CENTRAL' 'WILLIAMSBURG-EAST'\n",
      " 'WILLIAMSBURG-NORTH' 'WILLIAMSBURG-SOUTH' 'WINDSOR TERRACE'\n",
      " 'WYCKOFF HEIGHTS' 'AIRPORT LA GUARDIA' 'ARVERNE' 'ASTORIA' 'BAYSIDE'\n",
      " 'BEECHHURST' 'BELLE HARBOR' 'BELLEROSE' 'BRIARWOOD' 'BROAD CHANNEL'\n",
      " 'CAMBRIA HEIGHTS' 'COLLEGE POINT' 'CORONA' 'DOUGLASTON' 'EAST ELMHURST'\n",
      " 'ELMHURST' 'FAR ROCKAWAY' 'FLORAL PARK' 'FLUSHING MEADOW PARK'\n",
      " 'FLUSHING-NORTH' 'FLUSHING-SOUTH' 'FOREST HILLS' 'FRESH MEADOWS'\n",
      " 'GLEN OAKS' 'GLENDALE' 'HAMMELS' 'HILLCREST' 'HOLLIS' 'HOLLIS HILLS'\n",
      " 'HOLLISWOOD' 'HOWARD BEACH' 'JACKSON HEIGHTS' 'JAMAICA' 'JAMAICA ESTATES'\n",
      " 'JAMAICA HILLS' 'KEW GARDENS' 'LAURELTON' 'LITTLE NECK'\n",
      " 'LONG ISLAND CITY' 'MASPETH' 'MIDDLE VILLAGE' 'NEPONSIT'\n",
      " 'OAKLAND GARDENS' 'OZONE PARK' 'QUEENS VILLAGE' 'REGO PARK'\n",
      " 'RICHMOND HILL' 'RIDGEWOOD' 'ROCKAWAY PARK' 'ROSEDALE'\n",
      " 'SO. JAMAICA-BAISLEY PARK' 'SOUTH JAMAICA' 'SOUTH OZONE PARK'\n",
      " 'SPRINGFIELD GARDENS' 'ST. ALBANS' 'SUNNYSIDE' 'WHITESTONE' 'WOODHAVEN'\n",
      " 'WOODSIDE' 'ANNADALE' 'ARDEN HEIGHTS' 'ARROCHAR' 'ARROCHAR-SHORE ACRES'\n",
      " 'BLOOMFIELD' 'BULLS HEAD' 'CASTLETON CORNERS' 'CLOVE LAKES' 'CONCORD'\n",
      " 'CONCORD-FOX HILLS' 'DONGAN HILLS' 'DONGAN HILLS-COLONY'\n",
      " 'DONGAN HILLS-OLD TOWN' 'ELTINGVILLE' 'EMERSON HILL' 'FRESH KILLS'\n",
      " 'GRANT CITY' 'GRASMERE' 'GREAT KILLS' 'GREAT KILLS-BAY TERRACE'\n",
      " 'GRYMES HILL' 'HUGUENOT' 'LIVINGSTON' 'MANOR HEIGHTS' 'MARINERS HARBOR'\n",
      " 'MIDLAND BEACH' 'NEW BRIGHTON' 'NEW BRIGHTON-ST. GEORGE' 'NEW DORP'\n",
      " 'NEW DORP-BEACH' 'NEW DORP-HEIGHTS' 'NEW SPRINGVILLE' 'OAKWOOD'\n",
      " 'OAKWOOD-BEACH' 'PLEASANT PLAINS' 'PORT IVORY' 'PORT RICHMOND'\n",
      " 'PRINCES BAY' 'RICHMONDTOWN' 'RICHMONDTOWN-LIGHTHS HILL' 'ROSEBANK'\n",
      " 'ROSSVILLE' 'ROSSVILLE-CHARLESTON' 'ROSSVILLE-PORT MOBIL'\n",
      " 'ROSSVILLE-RICHMOND VALLEY' 'SILVER LAKE' 'SOUTH BEACH' 'STAPLETON'\n",
      " 'STAPLETON-CLIFTON' 'TODT HILL' 'TOMPKINSVILLE' 'TOTTENVILLE' 'TRAVIS'\n",
      " 'WEST NEW BRIGHTON' 'WESTERLEIGH' 'WILLOWBROOK' 'WOODROW']\n",
      "====================\n",
      "UNIQUE VALUES FOR  BUILDING CLASS CATEGORY\n",
      "====================\n",
      "['07 RENTALS - WALKUP APARTMENTS             '\n",
      " '08 RENTALS - ELEVATOR APARTMENTS           '\n",
      " '09 COOPS - WALKUP APARTMENTS               '\n",
      " '10 COOPS - ELEVATOR APARTMENTS             '\n",
      " '11A CONDO-RENTALS                           '\n",
      " '12 CONDOS - WALKUP APARTMENTS              '\n",
      " '13 CONDOS - ELEVATOR APARTMENTS            '\n",
      " '14 RENTALS - 4-10 UNIT                     '\n",
      " '15 CONDOS - 2-10 UNIT RESIDENTIAL          '\n",
      " '16 CONDOS - 2-10 UNIT WITH COMMERCIAL UNIT '\n",
      " '17 CONDO COOPS                             '\n",
      " '22 STORE BUILDINGS                         '\n",
      " '37 RELIGIOUS FACILITIES                    '\n",
      " '42 CONDO CULTURAL/MEDICAL/EDUCATIONAL/ETC  '\n",
      " '46 CONDO STORE BUILDINGS                   '\n",
      " '47 CONDO NON-BUSINESS STORAGE              '\n",
      " '01 ONE FAMILY DWELLINGS                    '\n",
      " '02 TWO FAMILY DWELLINGS                    '\n",
      " '03 THREE FAMILY DWELLINGS                  '\n",
      " '04 TAX CLASS 1 CONDOS                      '\n",
      " '21 OFFICE BUILDINGS                        '\n",
      " '23 LOFT BUILDINGS                          '\n",
      " '25 LUXURY HOTELS                           '\n",
      " '26 OTHER HOTELS                            '\n",
      " '28 COMMERCIAL CONDOS                       '\n",
      " '29 COMMERCIAL GARAGES                      '\n",
      " '35 INDOOR PUBLIC AND CULTURAL FACILITIES   '\n",
      " '38 ASYLUMS AND HOMES                       '\n",
      " '43 CONDO OFFICE BUILDINGS                  '\n",
      " '44 CONDO PARKING                           '\n",
      " '48 CONDO TERRACES/GARDENS/CABANAS          '\n",
      " '31 COMMERCIAL VACANT LAND                  '\n",
      " '32 HOSPITAL AND HEALTH FACILITIES          '\n",
      " '41 TAX CLASS 4 - OTHER                     '\n",
      " '18 TAX CLASS 3 - UNTILITY PROPERTIES       '\n",
      " '30 WAREHOUSES                              '\n",
      " '36 OUTDOOR RECREATIONAL FACILITIES         '\n",
      " '49 CONDO WAREHOUSES/FACTORY/INDUS          '\n",
      " '34 THEATRES                                '\n",
      " '27 FACTORIES                               '\n",
      " '40 SELECTED GOVERNMENTAL FACILITIES        '\n",
      " '45 CONDO HOTELS                            '\n",
      " '33 EDUCATIONAL FACILITIES                  '\n",
      " '11 SPECIAL CONDO BILLING LOTS              '\n",
      " '05 TAX CLASS 1 VACANT LAND                 '\n",
      " '06 TAX CLASS 1 - OTHER                     '\n",
      " '39 TRANSPORTATION FACILITIES               ']\n",
      "====================\n",
      "UNIQUE VALUES FOR  TAX CLASS AT PRESENT\n",
      "====================\n",
      "['2A' '2' '2B' '2C' ' ' '4' '1' '1C' '3' '1A' '1B']\n",
      "====================\n",
      "UNIQUE VALUES FOR  BLOCK\n",
      "====================\n",
      "[ 392  399  402 ... 6918 7074 7092]\n",
      "====================\n",
      "UNIQUE VALUES FOR  LOT\n",
      "====================\n",
      "[  6  26  39 ... 655 423 679]\n",
      "====================\n",
      "UNIQUE VALUES FOR  EASE-MENT\n",
      "====================\n",
      "[' ']\n",
      "====================\n",
      "UNIQUE VALUES FOR  BUILDING CLASS AT PRESENT\n",
      "====================\n",
      "['C2' 'C7' 'C4' 'D5' 'D9' 'D7' 'D1' 'C6' 'D0' 'D4' 'RR' ' ' 'R2' 'R4' 'S3'\n",
      " 'S4' 'S5' 'R1' 'R8' 'R9' 'K4' 'M9' 'M3' 'RK' 'RS' 'A9' 'A4' 'B3' 'B1'\n",
      " 'S2' 'C0' 'R6' 'C5' 'C3' 'C1' 'D6' 'S9' 'O2' 'O1' 'O3' 'O5' 'O6' 'K1'\n",
      " 'K2' 'L9' 'L8' 'L1' 'H1' 'H8' 'H3' 'R5' 'G6' 'P7' 'M1' 'N2' 'RB' 'RG'\n",
      " 'RT' 'K9' 'V1' 'GW' 'G2' 'I7' 'M4' 'Z9' 'B9' 'D3' 'G9' 'I9' 'U6' 'O4'\n",
      " 'L3' 'H2' 'E1' 'Z3' 'RW' 'C9' 'J5' 'N9' 'S1' 'A5' 'J8' 'B2' 'C8' 'F5'\n",
      " 'Q1' 'G7' 'G5' 'G4' 'P2' 'Q9' 'Y1' 'RA' 'RP' 'O8' 'HR' 'G1' 'E7' 'I5'\n",
      " 'R3' 'I4' 'H9' 'RH' 'D8' 'HB' 'J4' 'W2' 'P9' 'A7' 'D2' 'S0' 'O7' 'O9'\n",
      " 'W3' 'HS' 'H6' 'J9' 'R0' 'HH' 'W8' 'W6' 'A1' 'K5' 'F1' 'V9' 'A2' 'V0'\n",
      " 'G0' 'F4' 'E9' 'I3' 'W4' 'V3' 'I1' 'A6' 'Q8' 'A3' 'Z0' 'W1' 'U1' 'F2'\n",
      " 'F9' 'GU' 'I6' 'G8' 'P5' 'Y3' 'W9' 'M2' 'G3' 'V6' 'K7' 'K3' 'R7' 'P8'\n",
      " 'K6' 'V2' 'E2' 'Z2' 'T2' 'K8' 'P6' 'A0' 'H4' 'J1' 'CM' 'Z7']\n",
      "====================\n",
      "UNIQUE VALUES FOR  ADDRESS\n",
      "====================\n",
      "['153 AVENUE B' '234 EAST 4TH   STREET' '197 EAST 3RD   STREET' ...\n",
      " '49 PITNEY AVENUE' '2730 ARTHUR KILL ROAD' '155 CLAY PIT ROAD']\n",
      "====================\n",
      "UNIQUE VALUES FOR  APARTMENT NUMBER\n",
      "====================\n",
      "[' ' 'RES' 'UNIT1' ... '115' 'MS-B' '363']\n",
      "====================\n",
      "UNIQUE VALUES FOR  ZIP CODE\n",
      "====================\n",
      "[10009     0 10002 10011 10001 10014 10010 10013 10038 10007 10036 10019\n",
      " 10018 10003 10005 10004 10006 10016 10012 10026 10030 10031 10027 10035\n",
      " 10037 10029 10039 10032 10128 10463 10034 10025 10022 10017 10167 10023\n",
      " 10105 10033 10044 10280 10282 10281 10065 10021 10075 10028 10024 10069\n",
      " 10040 10457 10458 10451 10456 10469 10466 10475 10468 10467 10460 10473\n",
      " 10472 10464 10462 10803 10465 10459 10471 10453 10452 10454 10474 10455\n",
      " 10461 10470 11228 11214 11220 11209 11219 11221 11233 11213 11206 11216\n",
      " 11205 11238 11226 11204 11234 11217 11201 11218 11232 11230 11235 11212\n",
      " 11237 11207 11236 11239 11231 11249 11224 11225 11208 11210 11203 11229\n",
      " 11215 11223 11222 11211 11370 11691 11692 11102 11106 11103 11377 11105\n",
      " 11101 11361 11360 11357 11358 11364 11693 11694 11426 11428 11004 11001\n",
      " 11435 11411 11356 11354 11420 11368 11373 11372 11363 11362 11369 11378\n",
      " 11040 11375 11355 11365 11367 11366 11374 11385 11005 11421 11379 11432\n",
      " 11423 11412 11427 11429 11433 11414 11422 11415 11418 11413 11109 11104\n",
      " 11416 11417 11419 11436 11434 11430 10312 10305 10314 10303 10310 10302\n",
      " 10301 10304 10306 10308 10309 10307]\n",
      "====================\n",
      "UNIQUE VALUES FOR  RESIDENTIAL UNITS\n",
      "====================\n",
      "[   5   28   16   10    6   20    8   44   15   24   30    0   47  132\n",
      "    1    3    4    2   22    9  210   35   17   11    7   18   27   14\n",
      "   12   21   40   19   48   79   55  529  476  317   42   23   25  107\n",
      "  133   31   36   34   33   90   74   29   13  286  256  771  257   38\n",
      "  311   41   51   76   54   45   72   56   68   37   50   26   61   60\n",
      "  894   67  550  184   78  181   86  259  102  233  121   52 1641   96\n",
      "   87  100  113   99   92   70  369   77  232  315   91   32   66   64\n",
      "  109  387  153   59  193   62  103  146  287   94   46   84   75   65\n",
      "   95   49   63   43  716  680  179   71   39   53  283  114   89   73\n",
      "   83  498   81  162  127  222  130   58  159  462  142  948  129  889\n",
      "  271  150  120   57  117  106   85  118  164  139  165  122  134  278\n",
      "  135  324  180  405  136  168  144  152  138   88  244  291 1844  198\n",
      "  148  175  296  446  420  335  143  128]\n",
      "====================\n",
      "UNIQUE VALUES FOR  COMMERCIAL UNITS\n",
      "====================\n",
      "[   0    3    1    2    4   13    5   24    6   19   10   15   14    8\n",
      "    7   35   42   55   17   38   12   27  422    9   23   52  318   20\n",
      "   67   11  254   26   49   30   91   59   62   31   73   56   34   32\n",
      "   18   22   28  147  184   25  172  436   16 2261   51   21  126]\n",
      "====================\n",
      "UNIQUE VALUES FOR  TOTAL UNITS\n",
      "====================\n",
      "[   5   31   17   10    6   20    8   46   15   24   34    0   47  132\n",
      "    1    4    2    3    7    9   16  211   32   13   19   35   18   14\n",
      "   30   12   21   23   45   26   11   48   82   55   42   38   27  422\n",
      "  538  482  323   52  318   67   25   22   28  107  137   36   37   96\n",
      "  138   76   33  286  256  771  257   44  315   41   51   40   29   81\n",
      "   54   72   56   68   74   39   50   61  902   70  551  254  185   78\n",
      "  181   49   91   87  269  102  234  235  233   59   62   73   43  121\n",
      " 1653  192  100  113   99   92   75  374   77  238  317   93   69   60\n",
      "   64  111  395  155  193  103  146  287   94   84   65   95   63   71\n",
      "   57  736  680  179   53  291   66  114   79   83  520  163  127  222\n",
      "  130   90   58  159  462  142  955  129  889  109  147  271  150  120\n",
      "  117  106   86  118  164  139  165  122  279  135  324  180  184  104\n",
      "  405  136  168  172  436  145  152  140   89  148  244  295 1866  278\n",
      "  198 2261  176  296  446  420  336  143  126  128]\n",
      "====================\n",
      "UNIQUE VALUES FOR  LAND SQUARE FEET\n",
      "====================\n",
      "['1633' '4616' '2212' ... '11088' '208033' '10796']\n",
      "====================\n",
      "UNIQUE VALUES FOR  GROSS SQUARE FEET\n",
      "====================\n",
      "['6440' '18690' '7803' ... '977' '2683' '64117']\n",
      "====================\n",
      "UNIQUE VALUES FOR  YEAR BUILT\n",
      "====================\n",
      "[1900 1913 1920 1910 2009 1925 1902 1928 1930 1935 1937 1915 1950 1929\n",
      " 1901 1940 2005    0 1989 2014 2008 1965 2013 2003 2006 2007 1951 1899\n",
      " 1850 1905 1864 1917 1911 1983 1926 1963 1960 1889 1898 1939 1938 1927\n",
      " 1909 1958 1904 1907 1987 1931 1984 1948 2004 1918 1875 2012 1973 2011\n",
      " 1922 2001 1932 1980 1908 1953 1906 2015 1946 1921 2010 1954 1111 1924\n",
      " 1990 1890 1991 1988 1895 2016 1957 1986 1966 1998 1870 1923 1969 2017\n",
      " 1968 1934 1956 1982 1914 1903 1967 1840 1912 1964 1955 1961 1851 2000\n",
      " 1959 1962 1945 1972 1976 1916 1880 1970 1846 1941 1952 1896 1985 1981\n",
      " 1888 1947 1975 1974 2002 1994 1892 1894 1891 1996 1997 1949 1999 1800\n",
      " 1979 1971 1977 1942 1978 1826 1881 1919 1883 1936 1993 1995 1933 1992\n",
      " 1943 1944 1847 1829 1844 1835 1852 1856 1854 1832 1845 1849 1855 1871\n",
      " 1893 1865 1882 1680]\n",
      "====================\n",
      "UNIQUE VALUES FOR  TAX CLASS AT TIME OF SALE\n",
      "====================\n",
      "[2 4 1 3]\n",
      "====================\n",
      "UNIQUE VALUES FOR  BUILDING CLASS AT TIME OF SALE\n",
      "====================\n",
      "['C2' 'C7' 'C4' 'D5' 'D9' 'D7' 'D1' 'C6' 'D0' 'D4' 'RR' 'R2' 'R4' 'S3'\n",
      " 'S4' 'S5' 'R1' 'R8' 'R9' 'K4' 'M9' 'M3' 'RA' 'RK' 'RS' 'A9' 'A4' 'B3'\n",
      " 'B1' 'S2' 'C0' 'R6' 'C5' 'C3' 'C1' 'D6' 'S9' 'O2' 'O1' 'O3' 'O5' 'O6'\n",
      " 'K1' 'K2' 'L9' 'L8' 'L1' 'H1' 'H8' 'H3' 'R5' 'G9' 'G6' 'P7' 'M1' 'N2'\n",
      " 'RB' 'RG' 'RT' 'K9' 'V1' 'GW' 'G2' 'I7' 'M4' 'Z9' 'B9' 'D3' 'I9' 'U6'\n",
      " 'O4' 'L3' 'H2' 'E1' 'Z3' 'Q1' 'RW' 'C9' 'J5' 'N9' 'S1' 'A5' 'J8' 'B2'\n",
      " 'C8' 'F5' 'G7' 'G5' 'G4' 'P2' 'Q9' 'Y1' 'RP' 'O8' 'HR' 'G1' 'E7' 'I5'\n",
      " 'R3' 'I4' 'H9' 'RH' 'D8' 'HB' 'J4' 'W2' 'P9' 'A7' 'D2' 'S0' 'O7' 'O9'\n",
      " 'W3' 'HS' 'H6' 'J9' 'R0' 'HH' 'W8' 'W6' 'A1' 'K5' 'F1' 'V9' 'A2' 'V0'\n",
      " 'G0' 'F4' 'E9' 'I3' 'W4' 'V3' 'I1' 'A6' 'Q8' 'A3' 'Z0' 'W1' 'U1' 'F2'\n",
      " 'F9' 'GU' 'I6' 'G8' 'P5' 'Y3' 'W9' 'M2' 'G3' 'V6' 'K7' 'K3' 'H4' 'R7'\n",
      " 'P8' 'K6' 'V2' 'E2' 'Z2' 'T2' 'K8' 'P6' 'A0' 'J1' 'CM' 'Z7']\n",
      "====================\n",
      "UNIQUE VALUES FOR  SALE PRICE\n",
      "====================\n",
      "['6625000' ' -  ' '3936272' ... '408092' '11693337' '69300']\n",
      "====================\n",
      "UNIQUE VALUES FOR  SALE DATE\n",
      "====================\n",
      "['2017-07-19 00:00:00' '2016-12-14 00:00:00' '2016-12-09 00:00:00'\n",
      " '2016-09-23 00:00:00' '2016-11-17 00:00:00' '2017-07-20 00:00:00'\n",
      " '2017-06-20 00:00:00' '2016-11-07 00:00:00' '2016-10-17 00:00:00'\n",
      " '2016-09-06 00:00:00' '2017-03-10 00:00:00' '2017-04-28 00:00:00'\n",
      " '2017-06-09 00:00:00' '2017-07-14 00:00:00' '2017-03-16 00:00:00'\n",
      " '2016-09-01 00:00:00' '2017-08-17 00:00:00' '2016-09-07 00:00:00'\n",
      " '2017-08-30 00:00:00' '2017-06-21 00:00:00' '2017-01-30 00:00:00'\n",
      " '2017-07-07 00:00:00' '2017-08-04 00:00:00' '2017-01-09 00:00:00'\n",
      " '2017-04-18 00:00:00' '2017-06-19 00:00:00' '2017-08-28 00:00:00'\n",
      " '2017-05-10 00:00:00' '2016-12-02 00:00:00' '2017-01-31 00:00:00'\n",
      " '2017-06-28 00:00:00' '2016-12-07 00:00:00' '2017-08-24 00:00:00'\n",
      " '2017-06-27 00:00:00' '2017-03-17 00:00:00' '2017-06-14 00:00:00'\n",
      " '2017-01-17 00:00:00' '2017-01-11 00:00:00' '2017-04-21 00:00:00'\n",
      " '2017-06-29 00:00:00' '2016-10-05 00:00:00' '2017-02-02 00:00:00'\n",
      " '2017-03-20 00:00:00' '2017-04-13 00:00:00' '2017-06-06 00:00:00'\n",
      " '2017-07-17 00:00:00' '2016-12-06 00:00:00' '2017-07-13 00:00:00'\n",
      " '2017-05-17 00:00:00' '2017-05-31 00:00:00' '2017-07-12 00:00:00'\n",
      " '2017-01-19 00:00:00' '2017-05-03 00:00:00' '2016-09-29 00:00:00'\n",
      " '2017-08-07 00:00:00' '2017-01-20 00:00:00' '2017-02-23 00:00:00'\n",
      " '2016-09-12 00:00:00' '2017-08-09 00:00:00' '2017-04-07 00:00:00'\n",
      " '2017-05-11 00:00:00' '2016-10-13 00:00:00' '2016-10-19 00:00:00'\n",
      " '2016-12-30 00:00:00' '2017-02-24 00:00:00' '2016-09-21 00:00:00'\n",
      " '2016-11-03 00:00:00' '2017-03-31 00:00:00' '2017-05-25 00:00:00'\n",
      " '2017-02-14 00:00:00' '2017-02-01 00:00:00' '2017-05-08 00:00:00'\n",
      " '2017-08-14 00:00:00' '2017-06-23 00:00:00' '2017-03-27 00:00:00'\n",
      " '2017-04-22 00:00:00' '2017-07-06 00:00:00' '2017-06-12 00:00:00'\n",
      " '2017-06-22 00:00:00' '2017-02-17 00:00:00' '2016-09-08 00:00:00'\n",
      " '2016-12-23 00:00:00' '2017-07-24 00:00:00' '2016-10-08 00:00:00'\n",
      " '2016-12-08 00:00:00' '2017-04-25 00:00:00' '2016-12-13 00:00:00'\n",
      " '2017-01-12 00:00:00' '2017-03-03 00:00:00' '2017-01-25 00:00:00'\n",
      " '2016-12-19 00:00:00' '2016-12-16 00:00:00' '2016-12-29 00:00:00'\n",
      " '2017-01-13 00:00:00' '2016-12-21 00:00:00' '2017-03-30 00:00:00'\n",
      " '2017-04-14 00:00:00' '2017-05-22 00:00:00' '2017-05-19 00:00:00'\n",
      " '2017-02-08 00:00:00' '2016-11-08 00:00:00' '2017-03-02 00:00:00'\n",
      " '2017-01-05 00:00:00' '2016-10-11 00:00:00' '2016-11-15 00:00:00'\n",
      " '2017-04-03 00:00:00' '2016-11-28 00:00:00' '2016-11-14 00:00:00'\n",
      " '2017-04-20 00:00:00' '2017-05-05 00:00:00' '2016-11-16 00:00:00'\n",
      " '2017-07-18 00:00:00' '2017-05-15 00:00:00' '2017-07-31 00:00:00'\n",
      " '2017-06-07 00:00:00' '2016-11-02 00:00:00' '2017-04-19 00:00:00'\n",
      " '2017-07-11 00:00:00' '2016-09-28 00:00:00' '2017-01-06 00:00:00'\n",
      " '2016-10-20 00:00:00' '2017-03-28 00:00:00' '2017-04-17 00:00:00'\n",
      " '2016-10-26 00:00:00' '2017-02-06 00:00:00' '2017-03-23 00:00:00'\n",
      " '2017-08-31 00:00:00' '2017-07-27 00:00:00' '2016-11-10 00:00:00'\n",
      " '2016-10-28 00:00:00' '2016-12-05 00:00:00' '2016-11-29 00:00:00'\n",
      " '2016-11-21 00:00:00' '2017-01-27 00:00:00' '2016-09-26 00:00:00'\n",
      " '2017-02-21 00:00:00' '2016-10-06 00:00:00' '2017-08-25 00:00:00'\n",
      " '2016-11-30 00:00:00' '2017-02-16 00:00:00' '2017-03-01 00:00:00'\n",
      " '2016-10-31 00:00:00' '2016-12-20 00:00:00' '2016-11-18 00:00:00'\n",
      " '2017-04-10 00:00:00' '2016-11-23 00:00:00' '2016-12-27 00:00:00'\n",
      " '2017-05-12 00:00:00' '2017-02-15 00:00:00' '2017-07-10 00:00:00'\n",
      " '2017-03-06 00:00:00' '2017-06-30 00:00:00' '2017-07-26 00:00:00'\n",
      " '2017-03-22 00:00:00' '2017-03-08 00:00:00' '2016-09-14 00:00:00'\n",
      " '2017-04-26 00:00:00' '2016-09-27 00:00:00' '2017-04-27 00:00:00'\n",
      " '2016-12-01 00:00:00' '2017-01-23 00:00:00' '2016-11-04 00:00:00'\n",
      " '2016-10-07 00:00:00' '2017-06-05 00:00:00' '2017-05-23 00:00:00'\n",
      " '2017-01-26 00:00:00' '2016-12-28 00:00:00' '2017-05-02 00:00:00'\n",
      " '2017-03-07 00:00:00' '2017-05-01 00:00:00' '2016-10-14 00:00:00'\n",
      " '2016-12-15 00:00:00' '2016-11-01 00:00:00' '2016-09-15 00:00:00'\n",
      " '2016-10-01 00:00:00' '2016-10-24 00:00:00' '2016-11-11 00:00:00'\n",
      " '2017-02-09 00:00:00' '2017-07-25 00:00:00' '2017-03-15 00:00:00'\n",
      " '2016-09-16 00:00:00' '2017-03-29 00:00:00' '2017-06-26 00:00:00'\n",
      " '2016-10-18 00:00:00' '2016-12-22 00:00:00' '2016-09-09 00:00:00'\n",
      " '2016-11-09 00:00:00' '2017-05-04 00:00:00' '2017-06-13 00:00:00'\n",
      " '2017-02-10 00:00:00' '2017-04-24 00:00:00' '2017-05-24 00:00:00'\n",
      " '2017-02-28 00:00:00' '2017-04-11 00:00:00' '2016-10-25 00:00:00'\n",
      " '2017-08-21 00:00:00' '2017-08-29 00:00:00' '2017-08-01 00:00:00'\n",
      " '2017-06-08 00:00:00' '2017-08-23 00:00:00' '2016-10-27 00:00:00'\n",
      " '2017-06-02 00:00:00' '2017-06-16 00:00:00' '2016-11-22 00:00:00'\n",
      " '2017-07-05 00:00:00' '2016-09-13 00:00:00' '2017-03-13 00:00:00'\n",
      " '2017-01-03 00:00:00' '2017-01-04 00:00:00' '2017-01-18 00:00:00'\n",
      " '2017-05-18 00:00:00' '2017-05-30 00:00:00' '2017-01-10 00:00:00'\n",
      " '2017-08-11 00:00:00' '2017-08-02 00:00:00' '2017-07-28 00:00:00'\n",
      " '2017-06-15 00:00:00' '2017-08-22 00:00:00' '2016-09-02 00:00:00'\n",
      " '2017-02-03 00:00:00' '2017-04-06 00:00:00' '2017-02-07 00:00:00'\n",
      " '2017-05-26 00:00:00' '2017-08-10 00:00:00' '2017-01-24 00:00:00'\n",
      " '2016-12-26 00:00:00' '2017-08-18 00:00:00' '2017-02-13 00:00:00'\n",
      " '2016-09-30 00:00:00' '2017-04-12 00:00:00' '2017-05-09 00:00:00'\n",
      " '2016-10-29 00:00:00' '2017-02-27 00:00:00' '2017-01-01 00:00:00'\n",
      " '2017-06-01 00:00:00' '2016-10-03 00:00:00' '2017-08-15 00:00:00'\n",
      " '2016-12-12 00:00:00' '2016-12-17 00:00:00' '2017-08-03 00:00:00'\n",
      " '2016-09-22 00:00:00' '2016-12-31 00:00:00' '2016-10-04 00:00:00'\n",
      " '2016-09-20 00:00:00' '2017-03-21 00:00:00' '2017-08-08 00:00:00'\n",
      " '2017-04-05 00:00:00' '2017-08-16 00:00:00' '2017-02-22 00:00:00'\n",
      " '2017-02-04 00:00:00' '2017-05-16 00:00:00' '2017-03-24 00:00:00'\n",
      " '2017-03-09 00:00:00' '2017-07-21 00:00:00' '2017-04-04 00:00:00'\n",
      " '2016-09-19 00:00:00' '2017-01-07 00:00:00' '2016-10-21 00:00:00'\n",
      " '2017-04-29 00:00:00' '2017-07-22 00:00:00' '2017-02-20 00:00:00'\n",
      " '2016-10-23 00:00:00' '2017-01-02 00:00:00' '2016-10-12 00:00:00'\n",
      " '2017-07-15 00:00:00' '2016-10-16 00:00:00' '2017-03-14 00:00:00'\n",
      " '2017-04-30 00:00:00' '2017-04-09 00:00:00' '2017-03-04 00:00:00'\n",
      " '2016-09-17 00:00:00' '2017-06-03 00:00:00' '2017-05-06 00:00:00'\n",
      " '2017-07-03 00:00:00' '2017-01-28 00:00:00' '2017-03-05 00:00:00'\n",
      " '2016-11-27 00:00:00' '2017-02-11 00:00:00' '2017-06-24 00:00:00'\n",
      " '2017-01-21 00:00:00' '2016-10-22 00:00:00' '2016-10-10 00:00:00'\n",
      " '2016-11-05 00:00:00' '2017-05-20 00:00:00' '2017-08-06 00:00:00'\n",
      " '2017-05-21 00:00:00' '2016-09-10 00:00:00' '2016-11-13 00:00:00'\n",
      " '2016-10-09 00:00:00' '2016-10-15 00:00:00' '2016-11-25 00:00:00'\n",
      " '2017-02-18 00:00:00' '2016-09-25 00:00:00' '2016-11-20 00:00:00'\n",
      " '2017-04-01 00:00:00' '2017-01-16 00:00:00' '2017-05-13 00:00:00'\n",
      " '2016-11-12 00:00:00' '2017-07-01 00:00:00' '2017-03-19 00:00:00'\n",
      " '2017-07-16 00:00:00' '2016-09-05 00:00:00' '2016-10-30 00:00:00'\n",
      " '2017-02-26 00:00:00' '2017-01-15 00:00:00' '2016-11-06 00:00:00'\n",
      " '2017-03-18 00:00:00' '2017-08-27 00:00:00' '2016-11-26 00:00:00'\n",
      " '2017-01-22 00:00:00' '2017-05-29 00:00:00' '2017-04-16 00:00:00'\n",
      " '2017-01-14 00:00:00' '2017-04-15 00:00:00' '2017-07-08 00:00:00'\n",
      " '2016-11-24 00:00:00' '2017-08-26 00:00:00' '2017-02-25 00:00:00'\n",
      " '2017-05-27 00:00:00' '2016-10-02 00:00:00' '2017-03-25 00:00:00'\n",
      " '2016-11-19 00:00:00' '2017-05-14 00:00:00' '2017-02-05 00:00:00'\n",
      " '2016-09-03 00:00:00' '2017-04-08 00:00:00' '2017-06-11 00:00:00'\n",
      " '2016-12-10 00:00:00' '2017-03-11 00:00:00' '2017-03-12 00:00:00'\n",
      " '2017-01-29 00:00:00' '2017-08-05 00:00:00' '2016-09-11 00:00:00'\n",
      " '2017-06-17 00:00:00' '2017-06-25 00:00:00' '2017-03-26 00:00:00'\n",
      " '2017-07-29 00:00:00' '2017-06-18 00:00:00' '2017-05-28 00:00:00'\n",
      " '2017-05-07 00:00:00' '2017-06-10 00:00:00' '2016-12-24 00:00:00'\n",
      " '2016-09-24 00:00:00' '2016-12-18 00:00:00' '2017-04-02 00:00:00'\n",
      " '2017-08-20 00:00:00' '2017-08-12 00:00:00' '2016-12-11 00:00:00'\n",
      " '2017-08-19 00:00:00' '2016-09-18 00:00:00' '2017-02-19 00:00:00'\n",
      " '2017-07-02 00:00:00' '2017-07-30 00:00:00' '2017-01-08 00:00:00'\n",
      " '2017-07-23 00:00:00' '2017-08-13 00:00:00' '2017-07-04 00:00:00'\n",
      " '2016-12-04 00:00:00' '2017-04-23 00:00:00' '2016-12-03 00:00:00'\n",
      " '2017-07-09 00:00:00' '2016-09-04 00:00:00' '2017-02-12 00:00:00'\n",
      " '2017-06-04 00:00:00']\n",
      "====================\n"
     ]
    }
   ],
   "source": [
    "for col in df_nyc_sales.columns:\n",
    "    print(\"UNIQUE VALUES FOR \",col)\n",
    "    print(\"=\"*20)\n",
    "    print(df_nyc_sales[col].unique())\n",
    "    print(\"=\"*20)\n",
    "    "
   ]
  },
  {
   "cell_type": "markdown",
   "id": "bf1af8bc",
   "metadata": {},
   "source": [
    "**ANALISIS** <br>\n",
    "Pada beberapa kolom masih terdapat *unstandard missing values* yang tidak berhasil diidentifikasi oleh Pandas sebagai missing values. Berikut ini adalah rangkumannya: <br>\n",
    "1. Kolom \"Unnamed: 0\" sebagai iterator dan tidak diperlukan untuk analisis berikutnya, sehingga akan didrop\n",
    "2. Kolom 'TAX CLASS AT PRESENT' mengandung nilai (' ') yang diidentifikasi sebagai missing values\n",
    "3. Kolom 'EASE-MENT' tidak mengandung informasi dan hanya memuat satu nilai (' ') yang diidentifikasi sebagai missing values, sehingga untuk selanjutnya akan dibuang\n",
    "4. Kolom 'BUILDING CLASS AT PRESENT', 'APARTMENT NUMBER' mengandung nilai (' ') yang diidentifikasi sebagai missing values.\n",
    "5. Kolom 'ZIP CODE', 'YEAR BUILT', 'TOTAL UNITS' mengandung nilai (0) yang diidentifikasi sebagai missing values\n",
    "6. Kolom 'SALE PRICE'  mengandung nilai (' -  ') yang diidentifikasi sebagai missing values, selanjutnya nilai ini akan diganti dengan 0 dan dianggap tidak ada transaksi"
   ]
  },
  {
   "cell_type": "markdown",
   "id": "898ead33",
   "metadata": {},
   "source": [
    "## Data Cleaning"
   ]
  },
  {
   "cell_type": "markdown",
   "id": "7723ef72",
   "metadata": {},
   "source": [
    "### Baca ulang dataset dengan menambahkan unstandard missing values"
   ]
  },
  {
   "cell_type": "code",
   "execution_count": 9,
   "id": "3ee9361b",
   "metadata": {},
   "outputs": [],
   "source": [
    "missing_values = ['n/a', 'na', \"--\", \"?\", \"NA\", 'n-a', 'NaN',' ',' -  ']\n",
    "df_nyc_sales = pd.read_csv('dataset/nyc-rolling-sales.csv', na_values=missing_values)"
   ]
  },
  {
   "cell_type": "code",
   "execution_count": 10,
   "id": "7a29995d",
   "metadata": {},
   "outputs": [],
   "source": [
    "# Replacing 0 in YEAR BUILT, ZIP CODE, TOTAL UNIT with np.nan\n",
    "df_nyc_sales['YEAR BUILT']=df_nyc_sales['YEAR BUILT'].replace({0:np.nan})\n",
    "df_nyc_sales['ZIP CODE']=df_nyc_sales['ZIP CODE'].replace({0:np.nan})\n",
    "df_nyc_sales['TOTAL UNITS']=df_nyc_sales['TOTAL UNITS'].replace({0:np.nan})"
   ]
  },
  {
   "cell_type": "markdown",
   "id": "2462d443",
   "metadata": {},
   "source": [
    "### Mengecek ulang adanya missing values (unstandard missing values)"
   ]
  },
  {
   "cell_type": "code",
   "execution_count": 11,
   "id": "7e7302f3",
   "metadata": {},
   "outputs": [
    {
     "data": {
      "text/plain": [
       "Unnamed: 0                            0\n",
       "BOROUGH                               0\n",
       "NEIGHBORHOOD                          0\n",
       "BUILDING CLASS CATEGORY               0\n",
       "TAX CLASS AT PRESENT                738\n",
       "BLOCK                                 0\n",
       "LOT                                   0\n",
       "EASE-MENT                         84548\n",
       "BUILDING CLASS AT PRESENT           738\n",
       "ADDRESS                               0\n",
       "APARTMENT NUMBER                  65496\n",
       "ZIP CODE                            982\n",
       "RESIDENTIAL UNITS                     0\n",
       "COMMERCIAL UNITS                      0\n",
       "TOTAL UNITS                       19762\n",
       "LAND SQUARE FEET                  26252\n",
       "GROSS SQUARE FEET                 27612\n",
       "YEAR BUILT                         6970\n",
       "TAX CLASS AT TIME OF SALE             0\n",
       "BUILDING CLASS AT TIME OF SALE        0\n",
       "SALE PRICE                        14561\n",
       "SALE DATE                             0\n",
       "dtype: int64"
      ]
     },
     "execution_count": 11,
     "metadata": {},
     "output_type": "execute_result"
    }
   ],
   "source": [
    "df_nyc_sales.isnull().sum()"
   ]
  },
  {
   "cell_type": "markdown",
   "id": "b4fd3d3c",
   "metadata": {},
   "source": [
    "Terlihat bahwa setelah dimasukkan simbol-simbol baru yang menandakan *unstandard missing values*, terdapat beberapa missing values"
   ]
  },
  {
   "cell_type": "markdown",
   "id": "0e3ce22c",
   "metadata": {},
   "source": [
    "### Menghapus kolom-kolom yang tidak diperlukan\n",
    "***\n",
    "1. Kolom **Unnamed: 0** sebagai iterator\n",
    "2. Kolom **EASE-MENT** tidak mengandung nilai yang dibutuhkan untuk analisis berikutnya\n",
    "3. Kolom **ADDRESS** dan **APARTMENT NUMBER** adalah kolom yang tidak diperlukan untuk analisis berikutnya"
   ]
  },
  {
   "cell_type": "code",
   "execution_count": 12,
   "id": "de6aa988",
   "metadata": {},
   "outputs": [],
   "source": [
    "unnecessary_columns = ['Unnamed: 0', 'EASE-MENT','ADDRESS','APARTMENT NUMBER']\n",
    "df_nyc_sales.drop(unnecessary_columns,inplace=True, axis=1)"
   ]
  },
  {
   "cell_type": "code",
   "execution_count": 13,
   "id": "66578ef8",
   "metadata": {},
   "outputs": [
    {
     "data": {
      "text/html": [
       "<div>\n",
       "<style scoped>\n",
       "    .dataframe tbody tr th:only-of-type {\n",
       "        vertical-align: middle;\n",
       "    }\n",
       "\n",
       "    .dataframe tbody tr th {\n",
       "        vertical-align: top;\n",
       "    }\n",
       "\n",
       "    .dataframe thead th {\n",
       "        text-align: right;\n",
       "    }\n",
       "</style>\n",
       "<table border=\"1\" class=\"dataframe\">\n",
       "  <thead>\n",
       "    <tr style=\"text-align: right;\">\n",
       "      <th></th>\n",
       "      <th>BOROUGH</th>\n",
       "      <th>NEIGHBORHOOD</th>\n",
       "      <th>BUILDING CLASS CATEGORY</th>\n",
       "      <th>TAX CLASS AT PRESENT</th>\n",
       "      <th>BLOCK</th>\n",
       "      <th>LOT</th>\n",
       "      <th>BUILDING CLASS AT PRESENT</th>\n",
       "      <th>ZIP CODE</th>\n",
       "      <th>RESIDENTIAL UNITS</th>\n",
       "      <th>COMMERCIAL UNITS</th>\n",
       "      <th>TOTAL UNITS</th>\n",
       "      <th>LAND SQUARE FEET</th>\n",
       "      <th>GROSS SQUARE FEET</th>\n",
       "      <th>YEAR BUILT</th>\n",
       "      <th>TAX CLASS AT TIME OF SALE</th>\n",
       "      <th>BUILDING CLASS AT TIME OF SALE</th>\n",
       "      <th>SALE PRICE</th>\n",
       "      <th>SALE DATE</th>\n",
       "    </tr>\n",
       "  </thead>\n",
       "  <tbody>\n",
       "    <tr>\n",
       "      <th>0</th>\n",
       "      <td>1</td>\n",
       "      <td>ALPHABET CITY</td>\n",
       "      <td>07 RENTALS - WALKUP APARTMENTS</td>\n",
       "      <td>2A</td>\n",
       "      <td>392</td>\n",
       "      <td>6</td>\n",
       "      <td>C2</td>\n",
       "      <td>10009.0</td>\n",
       "      <td>5</td>\n",
       "      <td>0</td>\n",
       "      <td>5.0</td>\n",
       "      <td>1633.0</td>\n",
       "      <td>6440.0</td>\n",
       "      <td>1900.0</td>\n",
       "      <td>2</td>\n",
       "      <td>C2</td>\n",
       "      <td>6625000.0</td>\n",
       "      <td>2017-07-19 00:00:00</td>\n",
       "    </tr>\n",
       "    <tr>\n",
       "      <th>1</th>\n",
       "      <td>1</td>\n",
       "      <td>ALPHABET CITY</td>\n",
       "      <td>07 RENTALS - WALKUP APARTMENTS</td>\n",
       "      <td>2</td>\n",
       "      <td>399</td>\n",
       "      <td>26</td>\n",
       "      <td>C7</td>\n",
       "      <td>10009.0</td>\n",
       "      <td>28</td>\n",
       "      <td>3</td>\n",
       "      <td>31.0</td>\n",
       "      <td>4616.0</td>\n",
       "      <td>18690.0</td>\n",
       "      <td>1900.0</td>\n",
       "      <td>2</td>\n",
       "      <td>C7</td>\n",
       "      <td>NaN</td>\n",
       "      <td>2016-12-14 00:00:00</td>\n",
       "    </tr>\n",
       "    <tr>\n",
       "      <th>2</th>\n",
       "      <td>1</td>\n",
       "      <td>ALPHABET CITY</td>\n",
       "      <td>07 RENTALS - WALKUP APARTMENTS</td>\n",
       "      <td>2</td>\n",
       "      <td>399</td>\n",
       "      <td>39</td>\n",
       "      <td>C7</td>\n",
       "      <td>10009.0</td>\n",
       "      <td>16</td>\n",
       "      <td>1</td>\n",
       "      <td>17.0</td>\n",
       "      <td>2212.0</td>\n",
       "      <td>7803.0</td>\n",
       "      <td>1900.0</td>\n",
       "      <td>2</td>\n",
       "      <td>C7</td>\n",
       "      <td>NaN</td>\n",
       "      <td>2016-12-09 00:00:00</td>\n",
       "    </tr>\n",
       "    <tr>\n",
       "      <th>3</th>\n",
       "      <td>1</td>\n",
       "      <td>ALPHABET CITY</td>\n",
       "      <td>07 RENTALS - WALKUP APARTMENTS</td>\n",
       "      <td>2B</td>\n",
       "      <td>402</td>\n",
       "      <td>21</td>\n",
       "      <td>C4</td>\n",
       "      <td>10009.0</td>\n",
       "      <td>10</td>\n",
       "      <td>0</td>\n",
       "      <td>10.0</td>\n",
       "      <td>2272.0</td>\n",
       "      <td>6794.0</td>\n",
       "      <td>1913.0</td>\n",
       "      <td>2</td>\n",
       "      <td>C4</td>\n",
       "      <td>3936272.0</td>\n",
       "      <td>2016-09-23 00:00:00</td>\n",
       "    </tr>\n",
       "    <tr>\n",
       "      <th>4</th>\n",
       "      <td>1</td>\n",
       "      <td>ALPHABET CITY</td>\n",
       "      <td>07 RENTALS - WALKUP APARTMENTS</td>\n",
       "      <td>2A</td>\n",
       "      <td>404</td>\n",
       "      <td>55</td>\n",
       "      <td>C2</td>\n",
       "      <td>10009.0</td>\n",
       "      <td>6</td>\n",
       "      <td>0</td>\n",
       "      <td>6.0</td>\n",
       "      <td>2369.0</td>\n",
       "      <td>4615.0</td>\n",
       "      <td>1900.0</td>\n",
       "      <td>2</td>\n",
       "      <td>C2</td>\n",
       "      <td>8000000.0</td>\n",
       "      <td>2016-11-17 00:00:00</td>\n",
       "    </tr>\n",
       "  </tbody>\n",
       "</table>\n",
       "</div>"
      ],
      "text/plain": [
       "   BOROUGH   NEIGHBORHOOD                      BUILDING CLASS CATEGORY  \\\n",
       "0        1  ALPHABET CITY  07 RENTALS - WALKUP APARTMENTS                \n",
       "1        1  ALPHABET CITY  07 RENTALS - WALKUP APARTMENTS                \n",
       "2        1  ALPHABET CITY  07 RENTALS - WALKUP APARTMENTS                \n",
       "3        1  ALPHABET CITY  07 RENTALS - WALKUP APARTMENTS                \n",
       "4        1  ALPHABET CITY  07 RENTALS - WALKUP APARTMENTS                \n",
       "\n",
       "  TAX CLASS AT PRESENT  BLOCK  LOT BUILDING CLASS AT PRESENT  ZIP CODE  \\\n",
       "0                   2A    392    6                        C2   10009.0   \n",
       "1                    2    399   26                        C7   10009.0   \n",
       "2                    2    399   39                        C7   10009.0   \n",
       "3                   2B    402   21                        C4   10009.0   \n",
       "4                   2A    404   55                        C2   10009.0   \n",
       "\n",
       "   RESIDENTIAL UNITS  COMMERCIAL UNITS  TOTAL UNITS  LAND SQUARE FEET  \\\n",
       "0                  5                 0          5.0            1633.0   \n",
       "1                 28                 3         31.0            4616.0   \n",
       "2                 16                 1         17.0            2212.0   \n",
       "3                 10                 0         10.0            2272.0   \n",
       "4                  6                 0          6.0            2369.0   \n",
       "\n",
       "   GROSS SQUARE FEET  YEAR BUILT  TAX CLASS AT TIME OF SALE  \\\n",
       "0             6440.0      1900.0                          2   \n",
       "1            18690.0      1900.0                          2   \n",
       "2             7803.0      1900.0                          2   \n",
       "3             6794.0      1913.0                          2   \n",
       "4             4615.0      1900.0                          2   \n",
       "\n",
       "  BUILDING CLASS AT TIME OF SALE  SALE PRICE            SALE DATE  \n",
       "0                             C2   6625000.0  2017-07-19 00:00:00  \n",
       "1                             C7         NaN  2016-12-14 00:00:00  \n",
       "2                             C7         NaN  2016-12-09 00:00:00  \n",
       "3                             C4   3936272.0  2016-09-23 00:00:00  \n",
       "4                             C2   8000000.0  2016-11-17 00:00:00  "
      ]
     },
     "execution_count": 13,
     "metadata": {},
     "output_type": "execute_result"
    }
   ],
   "source": [
    "# show dataframe after remove unnecessary columns\n",
    "df_nyc_sales.head()"
   ]
  },
  {
   "cell_type": "markdown",
   "id": "720ebf52",
   "metadata": {},
   "source": [
    "### Handling Missing Values\n",
    "***"
   ]
  },
  {
   "cell_type": "markdown",
   "id": "7c54649d",
   "metadata": {},
   "source": [
    "#### Mengecek jumlah missing values pada setiap kolom"
   ]
  },
  {
   "cell_type": "code",
   "execution_count": 14,
   "id": "120a5a0a",
   "metadata": {},
   "outputs": [
    {
     "data": {
      "text/plain": [
       "BOROUGH                               0\n",
       "NEIGHBORHOOD                          0\n",
       "BUILDING CLASS CATEGORY               0\n",
       "TAX CLASS AT PRESENT                738\n",
       "BLOCK                                 0\n",
       "LOT                                   0\n",
       "BUILDING CLASS AT PRESENT           738\n",
       "ZIP CODE                            982\n",
       "RESIDENTIAL UNITS                     0\n",
       "COMMERCIAL UNITS                      0\n",
       "TOTAL UNITS                       19762\n",
       "LAND SQUARE FEET                  26252\n",
       "GROSS SQUARE FEET                 27612\n",
       "YEAR BUILT                         6970\n",
       "TAX CLASS AT TIME OF SALE             0\n",
       "BUILDING CLASS AT TIME OF SALE        0\n",
       "SALE PRICE                        14561\n",
       "SALE DATE                             0\n",
       "dtype: int64"
      ]
     },
     "execution_count": 14,
     "metadata": {},
     "output_type": "execute_result"
    }
   ],
   "source": [
    "df_nyc_sales.isnull().sum()"
   ]
  },
  {
   "cell_type": "markdown",
   "id": "bfc2cdc6",
   "metadata": {},
   "source": [
    "#### Mengganti nilai missing values pada kolom kategorik dengan nilai modusnya"
   ]
  },
  {
   "cell_type": "code",
   "execution_count": 15,
   "id": "290beb01",
   "metadata": {},
   "outputs": [],
   "source": [
    "categoricals_columns = ['TAX CLASS AT PRESENT', 'BUILDING CLASS AT PRESENT', 'ZIP CODE', 'YEAR BUILT']\n",
    "for cat_col in categoricals_columns:\n",
    "    df_nyc_sales[cat_col].fillna(df_nyc_sales[cat_col].mode()[0],inplace=True)"
   ]
  },
  {
   "cell_type": "markdown",
   "id": "acb90842",
   "metadata": {},
   "source": [
    "#### Mengganti nilai missing values untuk kolom numerik (kecuali SALE PRICE) dengan nilai median\n",
    "***\n",
    "Nilai median digunakan untuk mengganti nilai missing values dari setiap kolom (kecuali SALE PRICE) karena cenderung tidak terpengaruh dengan adanya data pencilan"
   ]
  },
  {
   "cell_type": "code",
   "execution_count": 16,
   "id": "af99942f",
   "metadata": {},
   "outputs": [],
   "source": [
    "float_columns = ['LAND SQUARE FEET', 'GROSS SQUARE FEET']\n",
    "for float_col in float_columns:\n",
    "    df_nyc_sales[float_col].fillna(df_nyc_sales[float_col].median(),inplace=True)"
   ]
  },
  {
   "cell_type": "markdown",
   "id": "92843126",
   "metadata": {},
   "source": [
    "#### Menghapus sisa kolom yang masih memuat missing values\n",
    "***\n",
    "Kolom SALE PRICE dan TOTAL UNIT yang memiliki nilai **nan** tidak bisa diartikan."
   ]
  },
  {
   "cell_type": "code",
   "execution_count": 17,
   "id": "dc5a7044",
   "metadata": {},
   "outputs": [],
   "source": [
    "df_nyc_sales.dropna(inplace=True)"
   ]
  },
  {
   "cell_type": "code",
   "execution_count": 18,
   "id": "8dc59cfc",
   "metadata": {},
   "outputs": [
    {
     "name": "stdout",
     "output_type": "stream",
     "text": [
      "<class 'pandas.core.frame.DataFrame'>\n",
      "Int64Index: 52363 entries, 0 to 84547\n",
      "Data columns (total 18 columns):\n",
      " #   Column                          Non-Null Count  Dtype  \n",
      "---  ------                          --------------  -----  \n",
      " 0   BOROUGH                         52363 non-null  int64  \n",
      " 1   NEIGHBORHOOD                    52363 non-null  object \n",
      " 2   BUILDING CLASS CATEGORY         52363 non-null  object \n",
      " 3   TAX CLASS AT PRESENT            52363 non-null  object \n",
      " 4   BLOCK                           52363 non-null  int64  \n",
      " 5   LOT                             52363 non-null  int64  \n",
      " 6   BUILDING CLASS AT PRESENT       52363 non-null  object \n",
      " 7   ZIP CODE                        52363 non-null  float64\n",
      " 8   RESIDENTIAL UNITS               52363 non-null  int64  \n",
      " 9   COMMERCIAL UNITS                52363 non-null  int64  \n",
      " 10  TOTAL UNITS                     52363 non-null  float64\n",
      " 11  LAND SQUARE FEET                52363 non-null  float64\n",
      " 12  GROSS SQUARE FEET               52363 non-null  float64\n",
      " 13  YEAR BUILT                      52363 non-null  float64\n",
      " 14  TAX CLASS AT TIME OF SALE       52363 non-null  int64  \n",
      " 15  BUILDING CLASS AT TIME OF SALE  52363 non-null  object \n",
      " 16  SALE PRICE                      52363 non-null  float64\n",
      " 17  SALE DATE                       52363 non-null  object \n",
      "dtypes: float64(6), int64(6), object(6)\n",
      "memory usage: 7.6+ MB\n"
     ]
    }
   ],
   "source": [
    "df_nyc_sales.info()"
   ]
  },
  {
   "cell_type": "markdown",
   "id": "43a42c8a",
   "metadata": {},
   "source": [
    "### Mengecek dan menghapus baris duplikat"
   ]
  },
  {
   "cell_type": "code",
   "execution_count": 19,
   "id": "1003c8d0",
   "metadata": {},
   "outputs": [
    {
     "data": {
      "text/html": [
       "<div>\n",
       "<style scoped>\n",
       "    .dataframe tbody tr th:only-of-type {\n",
       "        vertical-align: middle;\n",
       "    }\n",
       "\n",
       "    .dataframe tbody tr th {\n",
       "        vertical-align: top;\n",
       "    }\n",
       "\n",
       "    .dataframe thead th {\n",
       "        text-align: right;\n",
       "    }\n",
       "</style>\n",
       "<table border=\"1\" class=\"dataframe\">\n",
       "  <thead>\n",
       "    <tr style=\"text-align: right;\">\n",
       "      <th></th>\n",
       "      <th>BOROUGH</th>\n",
       "      <th>NEIGHBORHOOD</th>\n",
       "      <th>BUILDING CLASS CATEGORY</th>\n",
       "      <th>TAX CLASS AT PRESENT</th>\n",
       "      <th>BLOCK</th>\n",
       "      <th>LOT</th>\n",
       "      <th>BUILDING CLASS AT PRESENT</th>\n",
       "      <th>ZIP CODE</th>\n",
       "      <th>RESIDENTIAL UNITS</th>\n",
       "      <th>COMMERCIAL UNITS</th>\n",
       "      <th>TOTAL UNITS</th>\n",
       "      <th>LAND SQUARE FEET</th>\n",
       "      <th>GROSS SQUARE FEET</th>\n",
       "      <th>YEAR BUILT</th>\n",
       "      <th>TAX CLASS AT TIME OF SALE</th>\n",
       "      <th>BUILDING CLASS AT TIME OF SALE</th>\n",
       "      <th>SALE PRICE</th>\n",
       "      <th>SALE DATE</th>\n",
       "    </tr>\n",
       "  </thead>\n",
       "  <tbody>\n",
       "    <tr>\n",
       "      <th>208</th>\n",
       "      <td>1</td>\n",
       "      <td>CHELSEA</td>\n",
       "      <td>01 ONE FAMILY DWELLINGS</td>\n",
       "      <td>1</td>\n",
       "      <td>772</td>\n",
       "      <td>29</td>\n",
       "      <td>A4</td>\n",
       "      <td>10011.0</td>\n",
       "      <td>1</td>\n",
       "      <td>0</td>\n",
       "      <td>1.0</td>\n",
       "      <td>1588.0</td>\n",
       "      <td>5653.0</td>\n",
       "      <td>1900.0</td>\n",
       "      <td>1</td>\n",
       "      <td>A4</td>\n",
       "      <td>10.0</td>\n",
       "      <td>2017-01-30 00:00:00</td>\n",
       "    </tr>\n",
       "    <tr>\n",
       "      <th>209</th>\n",
       "      <td>1</td>\n",
       "      <td>CHELSEA</td>\n",
       "      <td>01 ONE FAMILY DWELLINGS</td>\n",
       "      <td>1</td>\n",
       "      <td>772</td>\n",
       "      <td>29</td>\n",
       "      <td>A4</td>\n",
       "      <td>10011.0</td>\n",
       "      <td>1</td>\n",
       "      <td>0</td>\n",
       "      <td>1.0</td>\n",
       "      <td>1588.0</td>\n",
       "      <td>5653.0</td>\n",
       "      <td>1900.0</td>\n",
       "      <td>1</td>\n",
       "      <td>A4</td>\n",
       "      <td>10.0</td>\n",
       "      <td>2017-01-30 00:00:00</td>\n",
       "    </tr>\n",
       "    <tr>\n",
       "      <th>683</th>\n",
       "      <td>1</td>\n",
       "      <td>CHELSEA</td>\n",
       "      <td>13 CONDOS - ELEVATOR APARTMENTS</td>\n",
       "      <td>2</td>\n",
       "      <td>774</td>\n",
       "      <td>1042</td>\n",
       "      <td>R4</td>\n",
       "      <td>10001.0</td>\n",
       "      <td>1</td>\n",
       "      <td>0</td>\n",
       "      <td>1.0</td>\n",
       "      <td>2325.0</td>\n",
       "      <td>1680.0</td>\n",
       "      <td>1920.0</td>\n",
       "      <td>2</td>\n",
       "      <td>R4</td>\n",
       "      <td>1500000.0</td>\n",
       "      <td>2016-10-05 00:00:00</td>\n",
       "    </tr>\n",
       "    <tr>\n",
       "      <th>2296</th>\n",
       "      <td>1</td>\n",
       "      <td>FINANCIAL</td>\n",
       "      <td>13 CONDOS - ELEVATOR APARTMENTS</td>\n",
       "      <td>2</td>\n",
       "      <td>24</td>\n",
       "      <td>1123</td>\n",
       "      <td>R4</td>\n",
       "      <td>10004.0</td>\n",
       "      <td>1</td>\n",
       "      <td>0</td>\n",
       "      <td>1.0</td>\n",
       "      <td>2325.0</td>\n",
       "      <td>1680.0</td>\n",
       "      <td>1982.0</td>\n",
       "      <td>2</td>\n",
       "      <td>R4</td>\n",
       "      <td>1200000.0</td>\n",
       "      <td>2017-04-28 00:00:00</td>\n",
       "    </tr>\n",
       "    <tr>\n",
       "      <th>3427</th>\n",
       "      <td>1</td>\n",
       "      <td>GRAMERCY</td>\n",
       "      <td>13 CONDOS - ELEVATOR APARTMENTS</td>\n",
       "      <td>2</td>\n",
       "      <td>879</td>\n",
       "      <td>1207</td>\n",
       "      <td>R4</td>\n",
       "      <td>10010.0</td>\n",
       "      <td>1</td>\n",
       "      <td>0</td>\n",
       "      <td>1.0</td>\n",
       "      <td>2325.0</td>\n",
       "      <td>1680.0</td>\n",
       "      <td>2009.0</td>\n",
       "      <td>2</td>\n",
       "      <td>R4</td>\n",
       "      <td>716000.0</td>\n",
       "      <td>2017-04-07 00:00:00</td>\n",
       "    </tr>\n",
       "    <tr>\n",
       "      <th>...</th>\n",
       "      <td>...</td>\n",
       "      <td>...</td>\n",
       "      <td>...</td>\n",
       "      <td>...</td>\n",
       "      <td>...</td>\n",
       "      <td>...</td>\n",
       "      <td>...</td>\n",
       "      <td>...</td>\n",
       "      <td>...</td>\n",
       "      <td>...</td>\n",
       "      <td>...</td>\n",
       "      <td>...</td>\n",
       "      <td>...</td>\n",
       "      <td>...</td>\n",
       "      <td>...</td>\n",
       "      <td>...</td>\n",
       "      <td>...</td>\n",
       "      <td>...</td>\n",
       "    </tr>\n",
       "    <tr>\n",
       "      <th>83176</th>\n",
       "      <td>5</td>\n",
       "      <td>TODT HILL</td>\n",
       "      <td>01 ONE FAMILY DWELLINGS</td>\n",
       "      <td>1</td>\n",
       "      <td>908</td>\n",
       "      <td>150</td>\n",
       "      <td>A1</td>\n",
       "      <td>10304.0</td>\n",
       "      <td>1</td>\n",
       "      <td>0</td>\n",
       "      <td>1.0</td>\n",
       "      <td>38862.0</td>\n",
       "      <td>3900.0</td>\n",
       "      <td>1920.0</td>\n",
       "      <td>1</td>\n",
       "      <td>A1</td>\n",
       "      <td>1125000.0</td>\n",
       "      <td>2017-08-02 00:00:00</td>\n",
       "    </tr>\n",
       "    <tr>\n",
       "      <th>83207</th>\n",
       "      <td>5</td>\n",
       "      <td>TOMPKINSVILLE</td>\n",
       "      <td>02 TWO FAMILY DWELLINGS</td>\n",
       "      <td>1</td>\n",
       "      <td>114</td>\n",
       "      <td>30</td>\n",
       "      <td>B2</td>\n",
       "      <td>10301.0</td>\n",
       "      <td>2</td>\n",
       "      <td>0</td>\n",
       "      <td>2.0</td>\n",
       "      <td>5781.0</td>\n",
       "      <td>844.0</td>\n",
       "      <td>1942.0</td>\n",
       "      <td>1</td>\n",
       "      <td>B2</td>\n",
       "      <td>250000.0</td>\n",
       "      <td>2017-06-22 00:00:00</td>\n",
       "    </tr>\n",
       "    <tr>\n",
       "      <th>83603</th>\n",
       "      <td>5</td>\n",
       "      <td>WEST NEW BRIGHTON</td>\n",
       "      <td>01 ONE FAMILY DWELLINGS</td>\n",
       "      <td>1</td>\n",
       "      <td>91</td>\n",
       "      <td>31</td>\n",
       "      <td>A1</td>\n",
       "      <td>10301.0</td>\n",
       "      <td>1</td>\n",
       "      <td>0</td>\n",
       "      <td>1.0</td>\n",
       "      <td>4840.0</td>\n",
       "      <td>2400.0</td>\n",
       "      <td>2005.0</td>\n",
       "      <td>1</td>\n",
       "      <td>A1</td>\n",
       "      <td>585000.0</td>\n",
       "      <td>2016-09-21 00:00:00</td>\n",
       "    </tr>\n",
       "    <tr>\n",
       "      <th>83647</th>\n",
       "      <td>5</td>\n",
       "      <td>WEST NEW BRIGHTON</td>\n",
       "      <td>01 ONE FAMILY DWELLINGS</td>\n",
       "      <td>1</td>\n",
       "      <td>155</td>\n",
       "      <td>180</td>\n",
       "      <td>A1</td>\n",
       "      <td>10310.0</td>\n",
       "      <td>1</td>\n",
       "      <td>0</td>\n",
       "      <td>1.0</td>\n",
       "      <td>10671.0</td>\n",
       "      <td>2464.0</td>\n",
       "      <td>1899.0</td>\n",
       "      <td>1</td>\n",
       "      <td>A1</td>\n",
       "      <td>725000.0</td>\n",
       "      <td>2017-06-30 00:00:00</td>\n",
       "    </tr>\n",
       "    <tr>\n",
       "      <th>84445</th>\n",
       "      <td>5</td>\n",
       "      <td>WOODROW</td>\n",
       "      <td>01 ONE FAMILY DWELLINGS</td>\n",
       "      <td>1</td>\n",
       "      <td>6969</td>\n",
       "      <td>20</td>\n",
       "      <td>A5</td>\n",
       "      <td>10309.0</td>\n",
       "      <td>1</td>\n",
       "      <td>0</td>\n",
       "      <td>1.0</td>\n",
       "      <td>2773.0</td>\n",
       "      <td>1650.0</td>\n",
       "      <td>1999.0</td>\n",
       "      <td>1</td>\n",
       "      <td>A5</td>\n",
       "      <td>560000.0</td>\n",
       "      <td>2016-09-07 00:00:00</td>\n",
       "    </tr>\n",
       "  </tbody>\n",
       "</table>\n",
       "<p>367 rows × 18 columns</p>\n",
       "</div>"
      ],
      "text/plain": [
       "       BOROUGH       NEIGHBORHOOD  \\\n",
       "208          1            CHELSEA   \n",
       "209          1            CHELSEA   \n",
       "683          1            CHELSEA   \n",
       "2296         1          FINANCIAL   \n",
       "3427         1           GRAMERCY   \n",
       "...        ...                ...   \n",
       "83176        5          TODT HILL   \n",
       "83207        5      TOMPKINSVILLE   \n",
       "83603        5  WEST NEW BRIGHTON   \n",
       "83647        5  WEST NEW BRIGHTON   \n",
       "84445        5            WOODROW   \n",
       "\n",
       "                           BUILDING CLASS CATEGORY TAX CLASS AT PRESENT  \\\n",
       "208    01 ONE FAMILY DWELLINGS                                        1   \n",
       "209    01 ONE FAMILY DWELLINGS                                        1   \n",
       "683    13 CONDOS - ELEVATOR APARTMENTS                                2   \n",
       "2296   13 CONDOS - ELEVATOR APARTMENTS                                2   \n",
       "3427   13 CONDOS - ELEVATOR APARTMENTS                                2   \n",
       "...                                            ...                  ...   \n",
       "83176  01 ONE FAMILY DWELLINGS                                        1   \n",
       "83207  02 TWO FAMILY DWELLINGS                                        1   \n",
       "83603  01 ONE FAMILY DWELLINGS                                        1   \n",
       "83647  01 ONE FAMILY DWELLINGS                                        1   \n",
       "84445  01 ONE FAMILY DWELLINGS                                        1   \n",
       "\n",
       "       BLOCK   LOT BUILDING CLASS AT PRESENT  ZIP CODE  RESIDENTIAL UNITS  \\\n",
       "208      772    29                        A4   10011.0                  1   \n",
       "209      772    29                        A4   10011.0                  1   \n",
       "683      774  1042                        R4   10001.0                  1   \n",
       "2296      24  1123                        R4   10004.0                  1   \n",
       "3427     879  1207                        R4   10010.0                  1   \n",
       "...      ...   ...                       ...       ...                ...   \n",
       "83176    908   150                        A1   10304.0                  1   \n",
       "83207    114    30                        B2   10301.0                  2   \n",
       "83603     91    31                        A1   10301.0                  1   \n",
       "83647    155   180                        A1   10310.0                  1   \n",
       "84445   6969    20                        A5   10309.0                  1   \n",
       "\n",
       "       COMMERCIAL UNITS  TOTAL UNITS  LAND SQUARE FEET  GROSS SQUARE FEET  \\\n",
       "208                   0          1.0            1588.0             5653.0   \n",
       "209                   0          1.0            1588.0             5653.0   \n",
       "683                   0          1.0            2325.0             1680.0   \n",
       "2296                  0          1.0            2325.0             1680.0   \n",
       "3427                  0          1.0            2325.0             1680.0   \n",
       "...                 ...          ...               ...                ...   \n",
       "83176                 0          1.0           38862.0             3900.0   \n",
       "83207                 0          2.0            5781.0              844.0   \n",
       "83603                 0          1.0            4840.0             2400.0   \n",
       "83647                 0          1.0           10671.0             2464.0   \n",
       "84445                 0          1.0            2773.0             1650.0   \n",
       "\n",
       "       YEAR BUILT  TAX CLASS AT TIME OF SALE BUILDING CLASS AT TIME OF SALE  \\\n",
       "208        1900.0                          1                             A4   \n",
       "209        1900.0                          1                             A4   \n",
       "683        1920.0                          2                             R4   \n",
       "2296       1982.0                          2                             R4   \n",
       "3427       2009.0                          2                             R4   \n",
       "...           ...                        ...                            ...   \n",
       "83176      1920.0                          1                             A1   \n",
       "83207      1942.0                          1                             B2   \n",
       "83603      2005.0                          1                             A1   \n",
       "83647      1899.0                          1                             A1   \n",
       "84445      1999.0                          1                             A5   \n",
       "\n",
       "       SALE PRICE            SALE DATE  \n",
       "208          10.0  2017-01-30 00:00:00  \n",
       "209          10.0  2017-01-30 00:00:00  \n",
       "683     1500000.0  2016-10-05 00:00:00  \n",
       "2296    1200000.0  2017-04-28 00:00:00  \n",
       "3427     716000.0  2017-04-07 00:00:00  \n",
       "...           ...                  ...  \n",
       "83176   1125000.0  2017-08-02 00:00:00  \n",
       "83207    250000.0  2017-06-22 00:00:00  \n",
       "83603    585000.0  2016-09-21 00:00:00  \n",
       "83647    725000.0  2017-06-30 00:00:00  \n",
       "84445    560000.0  2016-09-07 00:00:00  \n",
       "\n",
       "[367 rows x 18 columns]"
      ]
     },
     "execution_count": 19,
     "metadata": {},
     "output_type": "execute_result"
    }
   ],
   "source": [
    "# check for all duplicates row\n",
    "df_nyc_sales[\n",
    "    df_nyc_sales.duplicated()\n",
    "]"
   ]
  },
  {
   "cell_type": "code",
   "execution_count": 20,
   "id": "19f3b295",
   "metadata": {},
   "outputs": [
    {
     "name": "stdout",
     "output_type": "stream",
     "text": [
      "367\n"
     ]
    }
   ],
   "source": [
    "# print sum for all duplicates\n",
    "rows_duplicated = df_nyc_sales.duplicated()\n",
    "print(rows_duplicated.sum())"
   ]
  },
  {
   "cell_type": "code",
   "execution_count": 21,
   "id": "85101dec",
   "metadata": {},
   "outputs": [
    {
     "data": {
      "text/plain": [
       "(51996, 18)"
      ]
     },
     "execution_count": 21,
     "metadata": {},
     "output_type": "execute_result"
    }
   ],
   "source": [
    "# drop duplicate row\n",
    "df_nyc_sales.drop_duplicates(subset=df_nyc_sales.columns,keep='first', inplace=True)\n",
    "# show records after remove duplicates row\n",
    "df_nyc_sales.shape"
   ]
  },
  {
   "cell_type": "markdown",
   "id": "150967c6",
   "metadata": {},
   "source": [
    "**ANALISIS** <br>\n",
    "Ada sejumlah **367** data duplikat, data duplikat ini akan dihapus"
   ]
  },
  {
   "cell_type": "markdown",
   "id": "6c9ff8df",
   "metadata": {},
   "source": [
    "### Ubah tipe data setiap kolom sesuai dengan tipe yang seharusnya\n",
    "***\n",
    "Kolom Kategorikal (String) : ('BOROUGH', 'NEIGHBORHOOD', 'BUILDING CLASS CATEGORY', 'TAX CLASS AT PRESENT', \n",
    "                'ZIP CODE', 'YEAR BUILT', 'TAX CLASS AT TIME OF SALE', 'BUILDING CLASS AT TIME OF SALE',\n",
    "                'BUILDING CLASS AT PRESENT') <br>\n",
    "Kolom Float (bilangan rasional) : ('SALE PRICE', 'LAND SQUARE FEET', 'GROSS SQUARE FEET') <br>\n",
    "Kolom Integer (bilangan bulat) : (BLOCK, LOT)"
   ]
  },
  {
   "cell_type": "code",
   "execution_count": 22,
   "id": "900726ed",
   "metadata": {},
   "outputs": [],
   "source": [
    "categoricals_columns = ['BOROUGH', 'NEIGHBORHOOD', 'BUILDING CLASS CATEGORY', 'TAX CLASS AT PRESENT', \n",
    "                'ZIP CODE', 'YEAR BUILT', 'TAX CLASS AT TIME OF SALE', 'BUILDING CLASS AT TIME OF SALE',\n",
    "                'BUILDING CLASS AT PRESENT']\n",
    "float_columns = ['SALE PRICE', 'LAND SQUARE FEET', 'GROSS SQUARE FEET']\n",
    "integer_columns = ['BLOCK', 'LOT']\n",
    "\n",
    "# ubah kolom yang seharusnya kategori menjadi tipe 'str'\n",
    "for col in categoricals_columns:\n",
    "    df_nyc_sales[col] = df_nyc_sales[col].astype('str')\n",
    "\n",
    "# ubah kolom yang seharusnya float menjadi tipe 'float'\n",
    "for col in float_columns:\n",
    "    df_nyc_sales[col] = df_nyc_sales[col].astype('float64')\n",
    "\n",
    "# ubah kolom yang seharusnya int menjadi tipe 'int'\n",
    "for col in integer_columns:\n",
    "    df_nyc_sales[col] = df_nyc_sales[col].astype('int64')"
   ]
  },
  {
   "cell_type": "code",
   "execution_count": 23,
   "id": "ce11e8c1",
   "metadata": {},
   "outputs": [
    {
     "name": "stdout",
     "output_type": "stream",
     "text": [
      "<class 'pandas.core.frame.DataFrame'>\n",
      "Int64Index: 51996 entries, 0 to 84547\n",
      "Data columns (total 18 columns):\n",
      " #   Column                          Non-Null Count  Dtype  \n",
      "---  ------                          --------------  -----  \n",
      " 0   BOROUGH                         51996 non-null  object \n",
      " 1   NEIGHBORHOOD                    51996 non-null  object \n",
      " 2   BUILDING CLASS CATEGORY         51996 non-null  object \n",
      " 3   TAX CLASS AT PRESENT            51996 non-null  object \n",
      " 4   BLOCK                           51996 non-null  int64  \n",
      " 5   LOT                             51996 non-null  int64  \n",
      " 6   BUILDING CLASS AT PRESENT       51996 non-null  object \n",
      " 7   ZIP CODE                        51996 non-null  object \n",
      " 8   RESIDENTIAL UNITS               51996 non-null  int64  \n",
      " 9   COMMERCIAL UNITS                51996 non-null  int64  \n",
      " 10  TOTAL UNITS                     51996 non-null  float64\n",
      " 11  LAND SQUARE FEET                51996 non-null  float64\n",
      " 12  GROSS SQUARE FEET               51996 non-null  float64\n",
      " 13  YEAR BUILT                      51996 non-null  object \n",
      " 14  TAX CLASS AT TIME OF SALE       51996 non-null  object \n",
      " 15  BUILDING CLASS AT TIME OF SALE  51996 non-null  object \n",
      " 16  SALE PRICE                      51996 non-null  float64\n",
      " 17  SALE DATE                       51996 non-null  object \n",
      "dtypes: float64(4), int64(4), object(10)\n",
      "memory usage: 7.5+ MB\n"
     ]
    }
   ],
   "source": [
    "# check tipe data semua kolom setelah diubah\n",
    "df_nyc_sales.info()"
   ]
  },
  {
   "cell_type": "markdown",
   "id": "f77b4599",
   "metadata": {},
   "source": [
    "### Mengganti nilai pada kolom 'BOROUGH' dengan nilai yang seharusnya dan menjadi tipe string"
   ]
  },
  {
   "cell_type": "code",
   "execution_count": 24,
   "id": "75fc9426",
   "metadata": {},
   "outputs": [],
   "source": [
    "df_nyc_sales['BOROUGH'].replace({'1':'Manhattan','2':'Bronx','3':'Brooklyn','4':'Queens','5':'Staten Island'},inplace=True)"
   ]
  },
  {
   "cell_type": "markdown",
   "id": "a77202bf",
   "metadata": {},
   "source": [
    "### Modifikasi kolom 'SALE DATE'\n",
    "Ubah kolom 'SALE DATE' menjadi tipe datetime serta tambahkan kolom year, month, date, lalu hapus kolom 'SALE DATE'"
   ]
  },
  {
   "cell_type": "code",
   "execution_count": 25,
   "id": "cd86fcce",
   "metadata": {},
   "outputs": [],
   "source": [
    "df_nyc_sales['SALE DATE'] = pd.to_datetime(df_nyc_sales['SALE DATE'])\n",
    "df_nyc_sales['SALE YEAR'] = df_nyc_sales['SALE DATE'].dt.year\n",
    "df_nyc_sales['SALE MONTH'] = df_nyc_sales['SALE DATE'].dt.month_name()\n",
    "df_nyc_sales['SALE DATE dt'] = df_nyc_sales['SALE DATE'].dt.day\n",
    "df_nyc_sales['SALE DAY'] = df_nyc_sales['SALE DATE'].dt.day_name()\n",
    "df_nyc_sales.drop('SALE DATE',inplace=True, axis=1)\n",
    "\n",
    "# rename kolom SALE DATE dt menjadi SALE DATE\n",
    "df_nyc_sales.rename(columns={'SALE DATE dt':'SALE DATE'},inplace=True)"
   ]
  },
  {
   "cell_type": "markdown",
   "id": "189b9089",
   "metadata": {},
   "source": [
    "### Perbarui index dataframe dari 0 - len(df)\n",
    "***\n",
    "Index dataframe perlu direindex ulang karena berantakan setelah dilakukukan preprocessing"
   ]
  },
  {
   "cell_type": "code",
   "execution_count": 26,
   "id": "49c2db1e",
   "metadata": {},
   "outputs": [],
   "source": [
    "df_nyc_sales.index = range(0,len(df_nyc_sales))"
   ]
  },
  {
   "cell_type": "code",
   "execution_count": 27,
   "id": "54791a73",
   "metadata": {},
   "outputs": [
    {
     "data": {
      "text/plain": [
       "(51996, 21)"
      ]
     },
     "execution_count": 27,
     "metadata": {},
     "output_type": "execute_result"
    }
   ],
   "source": [
    "df_nyc_sales.shape"
   ]
  },
  {
   "cell_type": "markdown",
   "id": "c045e98e",
   "metadata": {},
   "source": [
    "### Remove Outliers\n",
    "***\n",
    "Apabila data berada kurang dari (Q1 - IQR x 1,5) atau lebih dari (Q3 + IQR x 1,5) maka data itu disebut sebagai data pencilan"
   ]
  },
  {
   "cell_type": "code",
   "execution_count": 28,
   "id": "c58125fe",
   "metadata": {},
   "outputs": [
    {
     "name": "stderr",
     "output_type": "stream",
     "text": [
      "C:\\Users\\ASUS\\.conda\\envs\\H8_001\\lib\\site-packages\\ipykernel_launcher.py:13: FutureWarning: Automatic reindexing on DataFrame vs Series comparisons is deprecated and will raise ValueError in a future version.  Do `left, right = left.align(right, axis=1, copy=False)` before e.g. `left == right`\n",
      "  del sys.path[0]\n"
     ]
    }
   ],
   "source": [
    "# Hitung kuartile 3 setiap atribut pada data\n",
    "Q3 = df_nyc_sales.quantile(0.75)\n",
    "\n",
    "# Hitung kuartile 1 setiap atribut pada data\n",
    "Q1 = df_nyc_sales.quantile(0.25)\n",
    "\n",
    "# Hitung nilai IQR (selisih Q3 dan Q1)\n",
    "IQR = Q3 - Q1\n",
    "steps = 1.5\n",
    "\n",
    "# Mencari data yang berada dalam rentang (bukan outlier)\n",
    "df_filtered = df_nyc_sales[\n",
    "    ~((df_nyc_sales < (Q1 - steps* IQR)) |(df_nyc_sales > (Q3 + steps * IQR))).any(axis=1)\n",
    "]\n",
    "\n",
    "# melakukan indexing ulang pada dataframe karena indexnya berantakan setelah dilakukan penghapusan data outliers\n",
    "df_filtered.index = [i for i in range(len(df_filtered))]\n",
    "df_nyc_sales = df_filtered"
   ]
  },
  {
   "cell_type": "markdown",
   "id": "2e100c40",
   "metadata": {},
   "source": [
    "# Menampilkan DataFrame setelah preprocessing"
   ]
  },
  {
   "cell_type": "markdown",
   "id": "eb499ef6",
   "metadata": {},
   "source": [
    "## Menampilkan 5 data teratas"
   ]
  },
  {
   "cell_type": "code",
   "execution_count": 29,
   "id": "fa4cb9d5",
   "metadata": {},
   "outputs": [
    {
     "data": {
      "text/html": [
       "<div>\n",
       "<style scoped>\n",
       "    .dataframe tbody tr th:only-of-type {\n",
       "        vertical-align: middle;\n",
       "    }\n",
       "\n",
       "    .dataframe tbody tr th {\n",
       "        vertical-align: top;\n",
       "    }\n",
       "\n",
       "    .dataframe thead th {\n",
       "        text-align: right;\n",
       "    }\n",
       "</style>\n",
       "<table border=\"1\" class=\"dataframe\">\n",
       "  <thead>\n",
       "    <tr style=\"text-align: right;\">\n",
       "      <th></th>\n",
       "      <th>BOROUGH</th>\n",
       "      <th>NEIGHBORHOOD</th>\n",
       "      <th>BUILDING CLASS CATEGORY</th>\n",
       "      <th>TAX CLASS AT PRESENT</th>\n",
       "      <th>BLOCK</th>\n",
       "      <th>LOT</th>\n",
       "      <th>BUILDING CLASS AT PRESENT</th>\n",
       "      <th>ZIP CODE</th>\n",
       "      <th>RESIDENTIAL UNITS</th>\n",
       "      <th>COMMERCIAL UNITS</th>\n",
       "      <th>...</th>\n",
       "      <th>LAND SQUARE FEET</th>\n",
       "      <th>GROSS SQUARE FEET</th>\n",
       "      <th>YEAR BUILT</th>\n",
       "      <th>TAX CLASS AT TIME OF SALE</th>\n",
       "      <th>BUILDING CLASS AT TIME OF SALE</th>\n",
       "      <th>SALE PRICE</th>\n",
       "      <th>SALE YEAR</th>\n",
       "      <th>SALE MONTH</th>\n",
       "      <th>SALE DATE</th>\n",
       "      <th>SALE DAY</th>\n",
       "    </tr>\n",
       "  </thead>\n",
       "  <tbody>\n",
       "    <tr>\n",
       "      <th>0</th>\n",
       "      <td>Manhattan</td>\n",
       "      <td>ALPHABET CITY</td>\n",
       "      <td>12 CONDOS - WALKUP APARTMENTS</td>\n",
       "      <td>2</td>\n",
       "      <td>386</td>\n",
       "      <td>1002</td>\n",
       "      <td>R2</td>\n",
       "      <td>10009.0</td>\n",
       "      <td>1</td>\n",
       "      <td>0</td>\n",
       "      <td>...</td>\n",
       "      <td>2325.0</td>\n",
       "      <td>1680.0</td>\n",
       "      <td>1920.0</td>\n",
       "      <td>2</td>\n",
       "      <td>R2</td>\n",
       "      <td>620000.0</td>\n",
       "      <td>2016</td>\n",
       "      <td>December</td>\n",
       "      <td>30</td>\n",
       "      <td>Friday</td>\n",
       "    </tr>\n",
       "    <tr>\n",
       "      <th>1</th>\n",
       "      <td>Manhattan</td>\n",
       "      <td>ALPHABET CITY</td>\n",
       "      <td>13 CONDOS - ELEVATOR APARTMENTS</td>\n",
       "      <td>2</td>\n",
       "      <td>373</td>\n",
       "      <td>1003</td>\n",
       "      <td>R4</td>\n",
       "      <td>10009.0</td>\n",
       "      <td>1</td>\n",
       "      <td>0</td>\n",
       "      <td>...</td>\n",
       "      <td>2325.0</td>\n",
       "      <td>1680.0</td>\n",
       "      <td>1920.0</td>\n",
       "      <td>2</td>\n",
       "      <td>R4</td>\n",
       "      <td>762669.0</td>\n",
       "      <td>2016</td>\n",
       "      <td>September</td>\n",
       "      <td>21</td>\n",
       "      <td>Wednesday</td>\n",
       "    </tr>\n",
       "    <tr>\n",
       "      <th>2</th>\n",
       "      <td>Manhattan</td>\n",
       "      <td>ALPHABET CITY</td>\n",
       "      <td>13 CONDOS - ELEVATOR APARTMENTS</td>\n",
       "      <td>2</td>\n",
       "      <td>373</td>\n",
       "      <td>1004</td>\n",
       "      <td>R4</td>\n",
       "      <td>10009.0</td>\n",
       "      <td>1</td>\n",
       "      <td>0</td>\n",
       "      <td>...</td>\n",
       "      <td>2325.0</td>\n",
       "      <td>1680.0</td>\n",
       "      <td>1920.0</td>\n",
       "      <td>2</td>\n",
       "      <td>R4</td>\n",
       "      <td>772851.0</td>\n",
       "      <td>2016</td>\n",
       "      <td>September</td>\n",
       "      <td>12</td>\n",
       "      <td>Monday</td>\n",
       "    </tr>\n",
       "    <tr>\n",
       "      <th>3</th>\n",
       "      <td>Manhattan</td>\n",
       "      <td>ALPHABET CITY</td>\n",
       "      <td>13 CONDOS - ELEVATOR APARTMENTS</td>\n",
       "      <td>2</td>\n",
       "      <td>373</td>\n",
       "      <td>1005</td>\n",
       "      <td>R4</td>\n",
       "      <td>10009.0</td>\n",
       "      <td>1</td>\n",
       "      <td>0</td>\n",
       "      <td>...</td>\n",
       "      <td>2325.0</td>\n",
       "      <td>1680.0</td>\n",
       "      <td>1920.0</td>\n",
       "      <td>2</td>\n",
       "      <td>R4</td>\n",
       "      <td>1034880.0</td>\n",
       "      <td>2016</td>\n",
       "      <td>November</td>\n",
       "      <td>3</td>\n",
       "      <td>Thursday</td>\n",
       "    </tr>\n",
       "    <tr>\n",
       "      <th>4</th>\n",
       "      <td>Manhattan</td>\n",
       "      <td>ALPHABET CITY</td>\n",
       "      <td>13 CONDOS - ELEVATOR APARTMENTS</td>\n",
       "      <td>2</td>\n",
       "      <td>373</td>\n",
       "      <td>1009</td>\n",
       "      <td>R4</td>\n",
       "      <td>10009.0</td>\n",
       "      <td>1</td>\n",
       "      <td>0</td>\n",
       "      <td>...</td>\n",
       "      <td>2325.0</td>\n",
       "      <td>1680.0</td>\n",
       "      <td>1920.0</td>\n",
       "      <td>2</td>\n",
       "      <td>R4</td>\n",
       "      <td>800000.0</td>\n",
       "      <td>2016</td>\n",
       "      <td>September</td>\n",
       "      <td>7</td>\n",
       "      <td>Wednesday</td>\n",
       "    </tr>\n",
       "  </tbody>\n",
       "</table>\n",
       "<p>5 rows × 21 columns</p>\n",
       "</div>"
      ],
      "text/plain": [
       "     BOROUGH   NEIGHBORHOOD                      BUILDING CLASS CATEGORY  \\\n",
       "0  Manhattan  ALPHABET CITY  12 CONDOS - WALKUP APARTMENTS                 \n",
       "1  Manhattan  ALPHABET CITY  13 CONDOS - ELEVATOR APARTMENTS               \n",
       "2  Manhattan  ALPHABET CITY  13 CONDOS - ELEVATOR APARTMENTS               \n",
       "3  Manhattan  ALPHABET CITY  13 CONDOS - ELEVATOR APARTMENTS               \n",
       "4  Manhattan  ALPHABET CITY  13 CONDOS - ELEVATOR APARTMENTS               \n",
       "\n",
       "  TAX CLASS AT PRESENT  BLOCK   LOT BUILDING CLASS AT PRESENT ZIP CODE  \\\n",
       "0                    2    386  1002                        R2  10009.0   \n",
       "1                    2    373  1003                        R4  10009.0   \n",
       "2                    2    373  1004                        R4  10009.0   \n",
       "3                    2    373  1005                        R4  10009.0   \n",
       "4                    2    373  1009                        R4  10009.0   \n",
       "\n",
       "   RESIDENTIAL UNITS  COMMERCIAL UNITS  ...  LAND SQUARE FEET  \\\n",
       "0                  1                 0  ...            2325.0   \n",
       "1                  1                 0  ...            2325.0   \n",
       "2                  1                 0  ...            2325.0   \n",
       "3                  1                 0  ...            2325.0   \n",
       "4                  1                 0  ...            2325.0   \n",
       "\n",
       "   GROSS SQUARE FEET  YEAR BUILT TAX CLASS AT TIME OF SALE  \\\n",
       "0             1680.0      1920.0                         2   \n",
       "1             1680.0      1920.0                         2   \n",
       "2             1680.0      1920.0                         2   \n",
       "3             1680.0      1920.0                         2   \n",
       "4             1680.0      1920.0                         2   \n",
       "\n",
       "  BUILDING CLASS AT TIME OF SALE SALE PRICE  SALE YEAR  SALE MONTH SALE DATE  \\\n",
       "0                             R2   620000.0       2016    December        30   \n",
       "1                             R4   762669.0       2016   September        21   \n",
       "2                             R4   772851.0       2016   September        12   \n",
       "3                             R4  1034880.0       2016    November         3   \n",
       "4                             R4   800000.0       2016   September         7   \n",
       "\n",
       "    SALE DAY  \n",
       "0     Friday  \n",
       "1  Wednesday  \n",
       "2     Monday  \n",
       "3   Thursday  \n",
       "4  Wednesday  \n",
       "\n",
       "[5 rows x 21 columns]"
      ]
     },
     "execution_count": 29,
     "metadata": {},
     "output_type": "execute_result"
    }
   ],
   "source": [
    "df_nyc_sales.head()"
   ]
  },
  {
   "cell_type": "markdown",
   "id": "d33e93b4",
   "metadata": {},
   "source": [
    "## Menampilkan 5 data terbawah"
   ]
  },
  {
   "cell_type": "code",
   "execution_count": 30,
   "id": "19196925",
   "metadata": {},
   "outputs": [
    {
     "data": {
      "text/html": [
       "<div>\n",
       "<style scoped>\n",
       "    .dataframe tbody tr th:only-of-type {\n",
       "        vertical-align: middle;\n",
       "    }\n",
       "\n",
       "    .dataframe tbody tr th {\n",
       "        vertical-align: top;\n",
       "    }\n",
       "\n",
       "    .dataframe thead th {\n",
       "        text-align: right;\n",
       "    }\n",
       "</style>\n",
       "<table border=\"1\" class=\"dataframe\">\n",
       "  <thead>\n",
       "    <tr style=\"text-align: right;\">\n",
       "      <th></th>\n",
       "      <th>BOROUGH</th>\n",
       "      <th>NEIGHBORHOOD</th>\n",
       "      <th>BUILDING CLASS CATEGORY</th>\n",
       "      <th>TAX CLASS AT PRESENT</th>\n",
       "      <th>BLOCK</th>\n",
       "      <th>LOT</th>\n",
       "      <th>BUILDING CLASS AT PRESENT</th>\n",
       "      <th>ZIP CODE</th>\n",
       "      <th>RESIDENTIAL UNITS</th>\n",
       "      <th>COMMERCIAL UNITS</th>\n",
       "      <th>...</th>\n",
       "      <th>LAND SQUARE FEET</th>\n",
       "      <th>GROSS SQUARE FEET</th>\n",
       "      <th>YEAR BUILT</th>\n",
       "      <th>TAX CLASS AT TIME OF SALE</th>\n",
       "      <th>BUILDING CLASS AT TIME OF SALE</th>\n",
       "      <th>SALE PRICE</th>\n",
       "      <th>SALE YEAR</th>\n",
       "      <th>SALE MONTH</th>\n",
       "      <th>SALE DATE</th>\n",
       "      <th>SALE DAY</th>\n",
       "    </tr>\n",
       "  </thead>\n",
       "  <tbody>\n",
       "    <tr>\n",
       "      <th>31768</th>\n",
       "      <td>Staten Island</td>\n",
       "      <td>WOODROW</td>\n",
       "      <td>02 TWO FAMILY DWELLINGS</td>\n",
       "      <td>1</td>\n",
       "      <td>7267</td>\n",
       "      <td>249</td>\n",
       "      <td>B2</td>\n",
       "      <td>10309.0</td>\n",
       "      <td>2</td>\n",
       "      <td>0</td>\n",
       "      <td>...</td>\n",
       "      <td>4350.0</td>\n",
       "      <td>2840.0</td>\n",
       "      <td>1996.0</td>\n",
       "      <td>1</td>\n",
       "      <td>B2</td>\n",
       "      <td>625000.0</td>\n",
       "      <td>2016</td>\n",
       "      <td>October</td>\n",
       "      <td>18</td>\n",
       "      <td>Tuesday</td>\n",
       "    </tr>\n",
       "    <tr>\n",
       "      <th>31769</th>\n",
       "      <td>Staten Island</td>\n",
       "      <td>WOODROW</td>\n",
       "      <td>02 TWO FAMILY DWELLINGS</td>\n",
       "      <td>1</td>\n",
       "      <td>7316</td>\n",
       "      <td>93</td>\n",
       "      <td>B2</td>\n",
       "      <td>10309.0</td>\n",
       "      <td>2</td>\n",
       "      <td>0</td>\n",
       "      <td>...</td>\n",
       "      <td>3325.0</td>\n",
       "      <td>1300.0</td>\n",
       "      <td>1995.0</td>\n",
       "      <td>1</td>\n",
       "      <td>B2</td>\n",
       "      <td>509000.0</td>\n",
       "      <td>2016</td>\n",
       "      <td>October</td>\n",
       "      <td>31</td>\n",
       "      <td>Monday</td>\n",
       "    </tr>\n",
       "    <tr>\n",
       "      <th>31770</th>\n",
       "      <td>Staten Island</td>\n",
       "      <td>WOODROW</td>\n",
       "      <td>02 TWO FAMILY DWELLINGS</td>\n",
       "      <td>1</td>\n",
       "      <td>7349</td>\n",
       "      <td>34</td>\n",
       "      <td>B9</td>\n",
       "      <td>10309.0</td>\n",
       "      <td>2</td>\n",
       "      <td>0</td>\n",
       "      <td>...</td>\n",
       "      <td>2400.0</td>\n",
       "      <td>2575.0</td>\n",
       "      <td>1998.0</td>\n",
       "      <td>1</td>\n",
       "      <td>B9</td>\n",
       "      <td>450000.0</td>\n",
       "      <td>2016</td>\n",
       "      <td>November</td>\n",
       "      <td>28</td>\n",
       "      <td>Monday</td>\n",
       "    </tr>\n",
       "    <tr>\n",
       "      <th>31771</th>\n",
       "      <td>Staten Island</td>\n",
       "      <td>WOODROW</td>\n",
       "      <td>02 TWO FAMILY DWELLINGS</td>\n",
       "      <td>1</td>\n",
       "      <td>7349</td>\n",
       "      <td>78</td>\n",
       "      <td>B9</td>\n",
       "      <td>10309.0</td>\n",
       "      <td>2</td>\n",
       "      <td>0</td>\n",
       "      <td>...</td>\n",
       "      <td>2498.0</td>\n",
       "      <td>2377.0</td>\n",
       "      <td>1998.0</td>\n",
       "      <td>1</td>\n",
       "      <td>B9</td>\n",
       "      <td>550000.0</td>\n",
       "      <td>2017</td>\n",
       "      <td>April</td>\n",
       "      <td>21</td>\n",
       "      <td>Friday</td>\n",
       "    </tr>\n",
       "    <tr>\n",
       "      <th>31772</th>\n",
       "      <td>Staten Island</td>\n",
       "      <td>WOODROW</td>\n",
       "      <td>02 TWO FAMILY DWELLINGS</td>\n",
       "      <td>1</td>\n",
       "      <td>7351</td>\n",
       "      <td>60</td>\n",
       "      <td>B2</td>\n",
       "      <td>10309.0</td>\n",
       "      <td>2</td>\n",
       "      <td>0</td>\n",
       "      <td>...</td>\n",
       "      <td>4000.0</td>\n",
       "      <td>1496.0</td>\n",
       "      <td>1925.0</td>\n",
       "      <td>1</td>\n",
       "      <td>B2</td>\n",
       "      <td>460000.0</td>\n",
       "      <td>2017</td>\n",
       "      <td>July</td>\n",
       "      <td>5</td>\n",
       "      <td>Wednesday</td>\n",
       "    </tr>\n",
       "  </tbody>\n",
       "</table>\n",
       "<p>5 rows × 21 columns</p>\n",
       "</div>"
      ],
      "text/plain": [
       "             BOROUGH NEIGHBORHOOD  \\\n",
       "31768  Staten Island      WOODROW   \n",
       "31769  Staten Island      WOODROW   \n",
       "31770  Staten Island      WOODROW   \n",
       "31771  Staten Island      WOODROW   \n",
       "31772  Staten Island      WOODROW   \n",
       "\n",
       "                           BUILDING CLASS CATEGORY TAX CLASS AT PRESENT  \\\n",
       "31768  02 TWO FAMILY DWELLINGS                                        1   \n",
       "31769  02 TWO FAMILY DWELLINGS                                        1   \n",
       "31770  02 TWO FAMILY DWELLINGS                                        1   \n",
       "31771  02 TWO FAMILY DWELLINGS                                        1   \n",
       "31772  02 TWO FAMILY DWELLINGS                                        1   \n",
       "\n",
       "       BLOCK  LOT BUILDING CLASS AT PRESENT ZIP CODE  RESIDENTIAL UNITS  \\\n",
       "31768   7267  249                        B2  10309.0                  2   \n",
       "31769   7316   93                        B2  10309.0                  2   \n",
       "31770   7349   34                        B9  10309.0                  2   \n",
       "31771   7349   78                        B9  10309.0                  2   \n",
       "31772   7351   60                        B2  10309.0                  2   \n",
       "\n",
       "       COMMERCIAL UNITS  ...  LAND SQUARE FEET  GROSS SQUARE FEET  YEAR BUILT  \\\n",
       "31768                 0  ...            4350.0             2840.0      1996.0   \n",
       "31769                 0  ...            3325.0             1300.0      1995.0   \n",
       "31770                 0  ...            2400.0             2575.0      1998.0   \n",
       "31771                 0  ...            2498.0             2377.0      1998.0   \n",
       "31772                 0  ...            4000.0             1496.0      1925.0   \n",
       "\n",
       "      TAX CLASS AT TIME OF SALE BUILDING CLASS AT TIME OF SALE SALE PRICE  \\\n",
       "31768                         1                             B2   625000.0   \n",
       "31769                         1                             B2   509000.0   \n",
       "31770                         1                             B9   450000.0   \n",
       "31771                         1                             B9   550000.0   \n",
       "31772                         1                             B2   460000.0   \n",
       "\n",
       "       SALE YEAR  SALE MONTH SALE DATE   SALE DAY  \n",
       "31768       2016     October        18    Tuesday  \n",
       "31769       2016     October        31     Monday  \n",
       "31770       2016    November        28     Monday  \n",
       "31771       2017       April        21     Friday  \n",
       "31772       2017        July         5  Wednesday  \n",
       "\n",
       "[5 rows x 21 columns]"
      ]
     },
     "execution_count": 30,
     "metadata": {},
     "output_type": "execute_result"
    }
   ],
   "source": [
    "df_nyc_sales.tail()"
   ]
  },
  {
   "cell_type": "markdown",
   "id": "1170d2b3",
   "metadata": {},
   "source": [
    "## Menampilkan rangkuman pengecekan missing values"
   ]
  },
  {
   "cell_type": "code",
   "execution_count": 31,
   "id": "34420f59",
   "metadata": {},
   "outputs": [
    {
     "data": {
      "text/plain": [
       "BOROUGH                           0\n",
       "NEIGHBORHOOD                      0\n",
       "BUILDING CLASS CATEGORY           0\n",
       "TAX CLASS AT PRESENT              0\n",
       "BLOCK                             0\n",
       "LOT                               0\n",
       "BUILDING CLASS AT PRESENT         0\n",
       "ZIP CODE                          0\n",
       "RESIDENTIAL UNITS                 0\n",
       "COMMERCIAL UNITS                  0\n",
       "TOTAL UNITS                       0\n",
       "LAND SQUARE FEET                  0\n",
       "GROSS SQUARE FEET                 0\n",
       "YEAR BUILT                        0\n",
       "TAX CLASS AT TIME OF SALE         0\n",
       "BUILDING CLASS AT TIME OF SALE    0\n",
       "SALE PRICE                        0\n",
       "SALE YEAR                         0\n",
       "SALE MONTH                        0\n",
       "SALE DATE                         0\n",
       "SALE DAY                          0\n",
       "dtype: int64"
      ]
     },
     "execution_count": 31,
     "metadata": {},
     "output_type": "execute_result"
    }
   ],
   "source": [
    "df_nyc_sales.isnull().sum()"
   ]
  },
  {
   "cell_type": "markdown",
   "id": "559e1d03",
   "metadata": {},
   "source": [
    "# Pengukuran Tendensi Sentral"
   ]
  },
  {
   "cell_type": "markdown",
   "id": "fa19e304",
   "metadata": {},
   "source": [
    "## Mean"
   ]
  },
  {
   "cell_type": "code",
   "execution_count": 32,
   "id": "665946c1",
   "metadata": {},
   "outputs": [
    {
     "name": "stdout",
     "output_type": "stream",
     "text": [
      "Mean SALE PRICE =  573835.3769552765\n",
      "Median SALE PRICE =  517500.0\n"
     ]
    }
   ],
   "source": [
    "print(\"Mean SALE PRICE = \", df_nyc_sales['SALE PRICE'].mean())\n",
    "print(\"Median SALE PRICE = \",df_nyc_sales['SALE PRICE'].median())"
   ]
  },
  {
   "cell_type": "markdown",
   "id": "d2b6cb81",
   "metadata": {},
   "source": [
    "Hasil *mean* dan *median* untuk kolom 'SALE PRICE' menunjukkan bahwa distribusi data dari atribut ini belum normal, yang ditandai dengan nilai mean lebih besar dari median. Data cenderung condong ke kanan."
   ]
  },
  {
   "cell_type": "markdown",
   "id": "5e87db75",
   "metadata": {},
   "source": [
    "## Median"
   ]
  },
  {
   "cell_type": "code",
   "execution_count": 33,
   "id": "473638af",
   "metadata": {},
   "outputs": [
    {
     "name": "stdout",
     "output_type": "stream",
     "text": [
      "Median GROSS SQUARE FEET =  1680.0\n",
      "Mean GROSS SQUARE FEET =  1835.175494917068\n"
     ]
    }
   ],
   "source": [
    "# GROSS SQUARE FEET\n",
    "print(\"Median GROSS SQUARE FEET = \", df_nyc_sales['GROSS SQUARE FEET'].median())\n",
    "print(\"Mean GROSS SQUARE FEET = \", df_nyc_sales['GROSS SQUARE FEET'].mean())"
   ]
  },
  {
   "cell_type": "code",
   "execution_count": 34,
   "id": "fd3b5cd7",
   "metadata": {},
   "outputs": [
    {
     "name": "stdout",
     "output_type": "stream",
     "text": [
      "Median LAND SQUARE FEET =  2325.0\n",
      "Mean LAND SQUARE FEET =  2468.019387530293\n"
     ]
    }
   ],
   "source": [
    "# LAND SQUARE FEET\n",
    "print(\"Median LAND SQUARE FEET = \", df_nyc_sales['LAND SQUARE FEET'].median())\n",
    "print(\"Mean LAND SQUARE FEET = \", df_nyc_sales['LAND SQUARE FEET'].mean())"
   ]
  },
  {
   "cell_type": "markdown",
   "id": "03476145",
   "metadata": {},
   "source": [
    "## Modus (Mode)"
   ]
  },
  {
   "cell_type": "code",
   "execution_count": 35,
   "id": "26843f0f",
   "metadata": {},
   "outputs": [
    {
     "name": "stdout",
     "output_type": "stream",
     "text": [
      "Modus BUILDING CLASS CATEGORY =  01 ONE FAMILY DWELLINGS                    \n",
      "Modus BUILDING CLASS AT PRESENT =  R4\n",
      "Modus BUILDING CLASS AT TIME OF SALE =  R4\n"
     ]
    }
   ],
   "source": [
    "cols = ['BUILDING CLASS CATEGORY', 'BUILDING CLASS AT PRESENT', 'BUILDING CLASS AT TIME OF SALE']\n",
    "for col in cols:\n",
    "    print(\"Modus \"+col+\" = \",df_nyc_sales[col].mode()[0])"
   ]
  },
  {
   "cell_type": "markdown",
   "id": "99e379f0",
   "metadata": {},
   "source": [
    "# Measure of Spread"
   ]
  },
  {
   "cell_type": "markdown",
   "id": "cb138d25",
   "metadata": {},
   "source": [
    "## Range\n",
    "*** \n",
    "Implementasi **Range** digunakan untuk menghitung selisih nilai maksimum dan nilai minimum dari kolom 'GROSS SQUARE FEET' dan 'SALE PRICE'"
   ]
  },
  {
   "cell_type": "code",
   "execution_count": 36,
   "id": "4529bce4",
   "metadata": {},
   "outputs": [
    {
     "name": "stdout",
     "output_type": "stream",
     "text": [
      "Range GROSS SQUARE FEET =  4050.0\n",
      "Range SALE PRICE =  2100000.0\n"
     ]
    }
   ],
   "source": [
    "print('Range GROSS SQUARE FEET = ', (df_nyc_sales['GROSS SQUARE FEET'].max() - df_nyc_sales['GROSS SQUARE FEET'].min()))\n",
    "print('Range SALE PRICE = ', (df_nyc_sales['SALE PRICE'].max() - df_nyc_sales['SALE PRICE'].min()))"
   ]
  },
  {
   "cell_type": "markdown",
   "id": "56367c4f",
   "metadata": {},
   "source": [
    "## Variance"
   ]
  },
  {
   "cell_type": "code",
   "execution_count": 37,
   "id": "e6760c8a",
   "metadata": {},
   "outputs": [
    {
     "name": "stdout",
     "output_type": "stream",
     "text": [
      "Sampel Variance dari GROSS SQUARE FEET =  399625.49966764264\n",
      "Sampel Variance dari SALE PRICE =  201068107779.60077\n"
     ]
    }
   ],
   "source": [
    "print('Sampel Variance dari GROSS SQUARE FEET = ', df_nyc_sales['GROSS SQUARE FEET'].var(ddof=1))\n",
    "print('Sampel Variance dari SALE PRICE = ', df_nyc_sales['SALE PRICE'].var(ddof=1))"
   ]
  },
  {
   "cell_type": "markdown",
   "id": "72f3b3ce",
   "metadata": {},
   "source": [
    "## Standard Deviation"
   ]
  },
  {
   "cell_type": "code",
   "execution_count": 38,
   "id": "25375150",
   "metadata": {},
   "outputs": [
    {
     "name": "stdout",
     "output_type": "stream",
     "text": [
      "Sampel Standard Deviation dari GROSS SQUARE FEET =  632.1593941939348\n",
      "Sampel Standard Deviation dari SALE PRICE =  448406.18615224387\n"
     ]
    }
   ],
   "source": [
    "print('Sampel Standard Deviation dari GROSS SQUARE FEET = ', df_nyc_sales['GROSS SQUARE FEET'].var(ddof=1)**0.5)\n",
    "print('Sampel Standard Deviation dari SALE PRICE = ', df_nyc_sales['SALE PRICE'].var(ddof=1)**0.5)"
   ]
  },
  {
   "cell_type": "markdown",
   "id": "7776c897",
   "metadata": {},
   "source": [
    "# Probability Distribution\n",
    "***"
   ]
  },
  {
   "cell_type": "markdown",
   "id": "8c65e2bc",
   "metadata": {},
   "source": [
    "## Normal Distribution\n",
    "***\n",
    "Implementasi Normal Distribution digunakan untuk melihat distribusi dari atribut 'GROSS SQUARE FEET'"
   ]
  },
  {
   "cell_type": "markdown",
   "id": "335a85ef",
   "metadata": {},
   "source": [
    "### Melihat distribusi dari atribut 'GROSS SQUARE FEET'"
   ]
  },
  {
   "cell_type": "code",
   "execution_count": 39,
   "id": "c8c8bd51",
   "metadata": {},
   "outputs": [
    {
     "data": {
      "text/plain": [
       "Text(0, 0.5, 'Frekuensi')"
      ]
     },
     "execution_count": 39,
     "metadata": {},
     "output_type": "execute_result"
    },
    {
     "data": {
      "image/png": "[encoded data removed]",
      "text/plain": [
       "<Figure size 1368x648 with 1 Axes>"
      ]
     },
     "metadata": {
      "needs_background": "light"
     },
     "output_type": "display_data"
    }
   ],
   "source": [
    "df_gross_square_feet = df_nyc_sales['GROSS SQUARE FEET']\n",
    "fig = plt.figure(figsize=(19,9))\n",
    "ax = fig.add_subplot(1,1,1)\n",
    "count, bin_edge_gross_square_feet = np.histogram(df_gross_square_feet,bins=30)\n",
    "sns.histplot(df_gross_square_feet,kde=True, ax=ax)\n",
    "ax.set_title('Histogram Gross Square Feet properti di New York City pada tahun 2016 dan 2017', fontsize=14)\n",
    "ax.set_xlabel('Gross Square Feet Properti', fontsize=14)\n",
    "ax.set_xticks(bin_edge_gross_square_feet)\n",
    "ax.tick_params(axis='x', labelrotation=90)\n",
    "ax.set_ylabel('Frekuensi', fontsize=14)"
   ]
  },
  {
   "cell_type": "markdown",
   "id": "62d4f76f",
   "metadata": {},
   "source": [
    "Dari grafik yang ditampilkan dapat dilihat bahwa distribusi data pada atribut 'GROSS SQUARE FEET' belum berdistribusi normal"
   ]
  },
  {
   "cell_type": "markdown",
   "id": "4cc50a4b",
   "metadata": {},
   "source": [
    "### Melakukan Central Limit Theorem agar membuat distribusi menjadi normal\n",
    "***\n",
    "Mengambil sejumlah 1000 sample mean dari sejumlah 100 nilai acak."
   ]
  },
  {
   "cell_type": "code",
   "execution_count": 40,
   "id": "cff178f3",
   "metadata": {},
   "outputs": [],
   "source": [
    "n = 100\n",
    "m = 1000\n",
    "sample_mean_gross_square_feet = []\n",
    "for i in range(m):\n",
    "    sample_values = np.random.choice(a=df_gross_square_feet,size=n)\n",
    "    sample_mean_gross_square_feet.append(np.mean(sample_values))"
   ]
  },
  {
   "cell_type": "markdown",
   "id": "32d1d669",
   "metadata": {},
   "source": [
    "### Melihat distribusi dari sampel mean"
   ]
  },
  {
   "cell_type": "code",
   "execution_count": 41,
   "id": "68f591a8",
   "metadata": {},
   "outputs": [
    {
     "data": {
      "text/plain": [
       "Text(0, 0.5, 'Frekuensi')"
      ]
     },
     "execution_count": 41,
     "metadata": {},
     "output_type": "execute_result"
    },
    {
     "data": {
      "image/png": "[encoded data removed]",
      "text/plain": [
       "<Figure size 1368x648 with 1 Axes>"
      ]
     },
     "metadata": {
      "needs_background": "light"
     },
     "output_type": "display_data"
    }
   ],
   "source": [
    "count, bin_edges = np.histogram(sample_mean_gross_square_feet, bins=20)\n",
    "fig = plt.figure(figsize=(19,9))\n",
    "ax = fig.add_subplot(1,1,1)\n",
    "sns.histplot(sample_mean_gross_square_feet,kde=True, bins=20, ax=ax)\n",
    "ax.set_title('Distribusi Sampel Mean Gross Square Feet Properti di tahun 2016 dan 2017')\n",
    "ax.set_xlabel('Rata-rata Sampel Gross Square Feet Properti')\n",
    "ax.set_xticks(bin_edges)\n",
    "ax.tick_params(axis='x', labelrotation=90)\n",
    "ax.set_ylabel('Frekuensi')"
   ]
  },
  {
   "cell_type": "markdown",
   "id": "e1af7479",
   "metadata": {},
   "source": [
    "**ANALISIS** <br>\n",
    "Distribusi dari sampel mean sudah normal"
   ]
  },
  {
   "cell_type": "markdown",
   "id": "17fc2cb0",
   "metadata": {},
   "source": [
    "### Mengetahui nilai mean, median dan standar deviasi dari sampel mean"
   ]
  },
  {
   "cell_type": "code",
   "execution_count": 42,
   "id": "3f5f836f",
   "metadata": {},
   "outputs": [
    {
     "name": "stdout",
     "output_type": "stream",
     "text": [
      "Rata rata sampel mean GROSS SQUARE FEET =  1832.87599\n",
      "Median sampel mean GROSS SQUARE FEET =  1831.435\n",
      "Standar Deviasi sampel mean GROSS SQUARE FEET =  60.8511803103692\n"
     ]
    }
   ],
   "source": [
    "sample_means_series = pd.Series(sample_mean_gross_square_feet)\n",
    "\n",
    "# hitung nilai rata-rata\n",
    "print('Rata rata sampel mean GROSS SQUARE FEET = ', sample_means_series.mean())\n",
    "# Hitung nilai median\n",
    "print('Median sampel mean GROSS SQUARE FEET = ', sample_means_series.median())\n",
    "# hitung standard deviasi \n",
    "print('Standar Deviasi sampel mean GROSS SQUARE FEET = ', sample_means_series.std())"
   ]
  },
  {
   "cell_type": "markdown",
   "id": "6769eb30",
   "metadata": {},
   "source": [
    "### Hitung standard error dari sampel mean"
   ]
  },
  {
   "cell_type": "code",
   "execution_count": 43,
   "id": "b79eea4b",
   "metadata": {},
   "outputs": [],
   "source": [
    "# hitung rata-rata dan standar deviasi populasi\n",
    "pop_std_gross_square = df_gross_square_feet.std()\n",
    "pop_mean_gross_square = df_gross_square_feet.mean()\n",
    "\n",
    "# Menghitung jumlah seluruh populasi\n",
    "number_of_observation = len(df_gross_square_feet)\n",
    "\n",
    "# Menghitung standar error\n",
    "standard_error_of_sampel_mean_gross_feet = pop_std_gross_square/np.sqrt(number_of_observation)"
   ]
  },
  {
   "cell_type": "markdown",
   "id": "61c446e8",
   "metadata": {},
   "source": [
    "### Hitung batas atas dan batas bawah untuk area di mana 95% mean sampel berada dari mean populasi"
   ]
  },
  {
   "cell_type": "code",
   "execution_count": 44,
   "id": "40938bb5",
   "metadata": {},
   "outputs": [
    {
     "data": {
      "text/plain": [
       "(1825.9248896843937, 1839.8270903156063)"
      ]
     },
     "execution_count": 44,
     "metadata": {},
     "output_type": "execute_result"
    }
   ],
   "source": [
    "z_score = 1.96\n",
    "lower_bound_gross_square = np.mean(sample_mean_gross_square_feet) - z_score*standard_error_of_sampel_mean_gross_feet\n",
    "upper_bound_gross_square = np.mean(sample_mean_gross_square_feet) + z_score*standard_error_of_sampel_mean_gross_feet\n",
    "lower_bound_gross_square, upper_bound_gross_square"
   ]
  },
  {
   "cell_type": "markdown",
   "id": "e5dba6e3",
   "metadata": {},
   "source": [
    "### Histogram akhir"
   ]
  },
  {
   "cell_type": "code",
   "execution_count": 45,
   "id": "a7b73bda",
   "metadata": {},
   "outputs": [
    {
     "data": {
      "text/plain": [
       "Text(0.5, 0, 'Sampel Mean Gross Square Feet of New York City Properties')"
      ]
     },
     "execution_count": 45,
     "metadata": {},
     "output_type": "execute_result"
    },
    {
     "data": {
      "image/png": "[encoded data removed]",
      "text/plain": [
       "<Figure size 1152x576 with 1 Axes>"
      ]
     },
     "metadata": {
      "needs_background": "light"
     },
     "output_type": "display_data"
    }
   ],
   "source": [
    "plt.figure(figsize=(16,8))\n",
    "kde = scistats.gaussian_kde(sample_mean_gross_square_feet)\n",
    "pos = np.linspace(np.min(sample_mean_gross_square_feet), np.max(sample_mean_gross_square_feet))\n",
    "plt.plot(pos,kde(pos), color='darkblue')\n",
    "shade = np.linspace(lower_bound_gross_square,upper_bound_gross_square)\n",
    "plt.fill_between(shade,kde(shade),alpha=0.45,color='lightblue')\n",
    "plt.title('Distribusi dari sampel mean (n='+str(n)+') dari New York Property Gross Square Feet Properties', fontsize=14)\n",
    "plt.ylabel('Frekuensi Kejadian', fontsize=14)\n",
    "plt.xlabel('Sampel Mean Gross Square Feet of New York City Properties',fontsize=14)"
   ]
  },
  {
   "cell_type": "markdown",
   "id": "3b8fee82",
   "metadata": {},
   "source": [
    "**ANALISIS** <br>\n",
    "Area di bawah kurva yang diarsir menunjukkan 95% data sampel mean GROSS SQUARE FEET berada pada area ini. Atau dengan kata lain berada dalam rentang +- 1.96 z score dari nilai rata-ratanya. <br>\n",
    "**Kesimpulan :** 95% Confidence Interval menyatakan bahwa nilai rata-rata dari luas total semua lantai bangunan properti (GROSS SQUARE FEET) di New York City dari tahun 2016 - 2017 berada dalam rentang **(1825.9248896843937)** sampai **(1839.8270903156063)** satuan luas"
   ]
  },
  {
   "cell_type": "markdown",
   "id": "fcaea9c7",
   "metadata": {},
   "source": [
    "# Confidence Intervals\n",
    "***\n",
    "Confidence Intervals pada kasus ini akan digunakan untuk mengestimasi rata-rata harga jual properti di New York dari tahun 2016 - 2017"
   ]
  },
  {
   "cell_type": "markdown",
   "id": "5cf71211",
   "metadata": {},
   "source": [
    "## Hitung rata-rata populasi"
   ]
  },
  {
   "cell_type": "code",
   "execution_count": 46,
   "id": "992d3390",
   "metadata": {},
   "outputs": [
    {
     "data": {
      "text/plain": [
       "573835.3769552765"
      ]
     },
     "execution_count": 46,
     "metadata": {},
     "output_type": "execute_result"
    }
   ],
   "source": [
    "pop_mean_sale_price = df_nyc_sales['SALE PRICE'].mean()\n",
    "pop_mean_sale_price"
   ]
  },
  {
   "cell_type": "markdown",
   "id": "29eefa8d",
   "metadata": {},
   "source": [
    "## Hitung standar deviasi populasi"
   ]
  },
  {
   "cell_type": "code",
   "execution_count": 47,
   "id": "6e74f9f6",
   "metadata": {},
   "outputs": [
    {
     "data": {
      "text/plain": [
       "448406.18615224387"
      ]
     },
     "execution_count": 47,
     "metadata": {},
     "output_type": "execute_result"
    }
   ],
   "source": [
    "pop_std_sale_price = df_nyc_sales['SALE PRICE'].std()\n",
    "pop_std_sale_price"
   ]
  },
  {
   "cell_type": "markdown",
   "id": "eca1e551",
   "metadata": {},
   "source": [
    "## Lihat distribusi (histogram) dari property sales"
   ]
  },
  {
   "cell_type": "code",
   "execution_count": 48,
   "id": "57ba166d",
   "metadata": {},
   "outputs": [
    {
     "data": {
      "text/plain": [
       "Text(0, 0.5, 'Frekuensi')"
      ]
     },
     "execution_count": 48,
     "metadata": {},
     "output_type": "execute_result"
    },
    {
     "data": {
      "image/png": "[encoded data removed]",
      "text/plain": [
       "<Figure size 1368x648 with 1 Axes>"
      ]
     },
     "metadata": {
      "needs_background": "light"
     },
     "output_type": "display_data"
    }
   ],
   "source": [
    "# Plotting for SALE PRICE\n",
    "fig = plt.figure(figsize=(19,9))\n",
    "ax = fig.add_subplot(1,1,1)\n",
    "count, bin_edges_sale_price = np.histogram(df_nyc_sales['SALE PRICE'],bins=30)\n",
    "sns.histplot(df_nyc_sales['SALE PRICE'],kde=True, ax=ax)\n",
    "ax.set_title('Histogram SALE PRICE properti di New York City pada tahun 2016 dan 2017')\n",
    "ax.set_xlabel('Harga Jual Properti')\n",
    "ax.set_xticks(bin_edges_sale_price)\n",
    "ax.tick_params(axis='x', labelrotation=90)\n",
    "ax.set_ylabel('Frekuensi')"
   ]
  },
  {
   "cell_type": "markdown",
   "id": "bfc0be76",
   "metadata": {},
   "source": [
    "Dari grafik ini terlihat bahwa distribusi belum normal. Karena distribusi data belum normal dan cenderung condong ke kanan (*right skewed*). Oleh karena itu, perlu dilakukan **Central Limit Theorem** agar distribusi datanya menjadi normal."
   ]
  },
  {
   "cell_type": "markdown",
   "id": "3348037a",
   "metadata": {},
   "source": [
    "## Membuat data berdistribusi normal dengan central limit theorem\n",
    "***\n",
    "Central limit theorem akan melakukan sampling pada data dengan mengambil m sampel dari n nilai acak. Pada kasus ini akan dilakukan sampling dengan jumlah sampel **10000** dari **100** nilai acak. Distribusi dari sampel yang diambil akan berdistribusi normal. Sehingga perhitungan CI bisa dilakukan pada sampel yang sudah berdistribusi normal ini"
   ]
  },
  {
   "cell_type": "markdown",
   "id": "d530631a",
   "metadata": {},
   "source": [
    "### Perhitungan Central Limit Theorem"
   ]
  },
  {
   "cell_type": "code",
   "execution_count": 49,
   "id": "0798a3c0",
   "metadata": {},
   "outputs": [],
   "source": [
    "sample_means = [] # list yang menampung rata-rata dari sejumlah nilai acak\n",
    "n = 100 # banyak nilai acak yang digunakan untuk setiap sampel nya\n",
    "m = 1000\n",
    "\n",
    "for sample in range(0,m):\n",
    "    # ambil sejumlah n nilai acak dari 'SALE PRICE'\n",
    "    sample_values = np.random.choice(a=df_nyc_sales['SALE PRICE'], size=n)\n",
    "    \n",
    "    # hitung sample mean\n",
    "    sample_mean = np.mean(sample_values)\n",
    "    # append ke list\n",
    "    sample_means.append(sample_mean)"
   ]
  },
  {
   "cell_type": "markdown",
   "id": "e738ea31",
   "metadata": {},
   "source": [
    "### Melihat distribusi sampel mean dari hasil Central Limit Theorem"
   ]
  },
  {
   "cell_type": "code",
   "execution_count": 50,
   "id": "3a02e275",
   "metadata": {},
   "outputs": [
    {
     "data": {
      "text/plain": [
       "Text(0, 0.5, 'Frekuensi')"
      ]
     },
     "execution_count": 50,
     "metadata": {},
     "output_type": "execute_result"
    },
    {
     "data": {
      "image/png": "[encoded data removed]",
      "text/plain": [
       "<Figure size 1368x648 with 1 Axes>"
      ]
     },
     "metadata": {
      "needs_background": "light"
     },
     "output_type": "display_data"
    }
   ],
   "source": [
    "count, bin_edges = np.histogram(sample_means, bins=20)\n",
    "fig = plt.figure(figsize=(19,9))\n",
    "ax = fig.add_subplot(1,1,1)\n",
    "sns.histplot(sample_means,kde=True, bins=20, ax=ax)\n",
    "ax.set_title('Distribusi Sampel Mean Harga Jual Properti di tahun 2016 dan 2017')\n",
    "ax.set_xlabel('Rata-rata Sampel Harga Jual Properti')\n",
    "ax.set_xticks(bin_edges)\n",
    "ax.tick_params(axis='x', labelrotation=90)\n",
    "ax.set_ylabel('Frekuensi')"
   ]
  },
  {
   "cell_type": "code",
   "execution_count": 51,
   "id": "c60c21d4",
   "metadata": {},
   "outputs": [
    {
     "name": "stdout",
     "output_type": "stream",
     "text": [
      "Rata rata sampel mean SALE PRICE =  574581.40991\n",
      "Median sampel mean SALE PRICE =  573436.85\n",
      "Standar Deviasi sampel mean SALE PRICE =  45539.76602728983\n"
     ]
    }
   ],
   "source": [
    "sample_means_series = pd.Series(sample_means)\n",
    "\n",
    "# hitung nilai rata-rata\n",
    "print('Rata rata sampel mean SALE PRICE = ', sample_means_series.mean())\n",
    "# Hitung nilai median\n",
    "print('Median sampel mean SALE PRICE = ', sample_means_series.median())\n",
    "# hitung standard deviasi \n",
    "print('Standar Deviasi sampel mean SALE PRICE = ', sample_means_series.std())"
   ]
  },
  {
   "cell_type": "markdown",
   "id": "bd8091fb",
   "metadata": {},
   "source": [
    "Sampel mean untuk SALE PRICE hasil dari central limit theorem berdistribusi normal. Hal itu ditandai oleh grafik yang dihasilkan sudah menyerupai bell curve; serta nilai *mean* dan *median* yang hampir sama"
   ]
  },
  {
   "cell_type": "markdown",
   "id": "3f878da8",
   "metadata": {},
   "source": [
    "### Menghitung mean, standard deviasi dari sampel mean"
   ]
  },
  {
   "cell_type": "code",
   "execution_count": 52,
   "id": "4b33b108",
   "metadata": {},
   "outputs": [],
   "source": [
    "mean_of_sampel_mean = np.mean(sample_means)\n",
    "std_of_sampel_mean = np.std(sample_means)"
   ]
  },
  {
   "cell_type": "code",
   "execution_count": 53,
   "id": "0271cfbe",
   "metadata": {},
   "outputs": [],
   "source": [
    "# tetapkan batas critical z_score \n",
    "z_score = 1.96"
   ]
  },
  {
   "cell_type": "markdown",
   "id": "61fde814",
   "metadata": {},
   "source": [
    "### Hitung standard error dari sampel mean"
   ]
  },
  {
   "cell_type": "code",
   "execution_count": 54,
   "id": "57c21098",
   "metadata": {},
   "outputs": [],
   "source": [
    "number_of_observation = len(df_nyc_sales)\n",
    "standard_error_of_sampel_mean = pop_std_sale_price/np.sqrt(number_of_observation)"
   ]
  },
  {
   "cell_type": "markdown",
   "id": "01ac8ff5",
   "metadata": {},
   "source": [
    "### Hitung batas atas dan batas bawah untuk area di mana 95% mean sampel berada dari mean populasi"
   ]
  },
  {
   "cell_type": "code",
   "execution_count": 55,
   "id": "73a5cf6c",
   "metadata": {},
   "outputs": [
    {
     "data": {
      "text/plain": [
       "(569650.8237149519, 579511.9961050482)"
      ]
     },
     "execution_count": 55,
     "metadata": {},
     "output_type": "execute_result"
    }
   ],
   "source": [
    "lower_bound = mean_of_sampel_mean - z_score*standard_error_of_sampel_mean\n",
    "upper_bound = mean_of_sampel_mean + z_score*standard_error_of_sampel_mean\n",
    "lower_bound, upper_bound"
   ]
  },
  {
   "cell_type": "markdown",
   "id": "767f8df3",
   "metadata": {},
   "source": [
    "### Gambar histogram akhir"
   ]
  },
  {
   "cell_type": "code",
   "execution_count": 56,
   "id": "7d280ae5",
   "metadata": {},
   "outputs": [
    {
     "data": {
      "text/plain": [
       "Text(0.5, 0, 'Sampel Mean New York Property Sales Price')"
      ]
     },
     "execution_count": 56,
     "metadata": {},
     "output_type": "execute_result"
    },
    {
     "data": {
      "image/png": "[encoded data removed]",
      "text/plain": [
       "<Figure size 1152x576 with 1 Axes>"
      ]
     },
     "metadata": {
      "needs_background": "light"
     },
     "output_type": "display_data"
    }
   ],
   "source": [
    "plt.figure(figsize=(16,8))\n",
    "kde = scistats.gaussian_kde(sample_means)\n",
    "pos = np.linspace(np.min(sample_means), np.max(sample_means))\n",
    "plt.plot(pos,kde(pos), color='darkblue')\n",
    "shade = np.linspace(lower_bound,upper_bound)\n",
    "plt.fill_between(shade,kde(shade),alpha=0.45,color='lightblue')\n",
    "plt.title('Distribusi dari sampel mean (n='+str(n)+') dari New York Property Sales Price', fontsize=14)\n",
    "plt.ylabel('Frekuensi Kejadian', fontsize=14)\n",
    "plt.xlabel('Sampel Mean New York Property Sales Price',fontsize=14)"
   ]
  },
  {
   "cell_type": "markdown",
   "id": "35d293ea",
   "metadata": {},
   "source": [
    "### Kesimpulan\n",
    "***\n",
    "Area di bawah kurva yang diarsir menunjukkan 95% data sampel mean berada pada area ini. Atau dengan kata lain berada dalam rentang +- 1.96 z score dari nilai rata-ratanya. <br>\n",
    "**Kesimpulan Confidence Intervals :** 95% Confidence Interval menyatakan bahwa nilai rata-rata dari harga jual properti di New York City dari tahun 2016 - 2017 berada dalam rentang **569650.8237149519** sampai **579511.9961050482** US Dollar"
   ]
  },
  {
   "cell_type": "markdown",
   "id": "a1f43dd0",
   "metadata": {},
   "source": [
    "# Hyphotesis Testing\n",
    "***\n",
    "1. Apakah rata-rata harga jual bangunan di New York City pada tahun 2017 berbeda secara signifikan dari rata-rata harga jual bangunan di New York City pada tahun 2016? "
   ]
  },
  {
   "cell_type": "markdown",
   "id": "661da69a",
   "metadata": {},
   "source": [
    "## Deklarasikan Hipotesis Null dan Hipotesis Alternatif\n",
    "***\n",
    "Populasi: Harga jual bangunan (properti) dalam NYC Sales Data pada tahun 2016 dan 2017 <br>\n",
    "Parameter of Interest: miu1 --> harga jual bangunan di New York City pada tahun 2016, miu2 --> harga jual bangunan di New York City pada tahun 2017 <br>\n",
    "H0 : miu1 = miu2 <br>\n",
    "Ha: miu1 != miu2"
   ]
  },
  {
   "cell_type": "markdown",
   "id": "16b284f6",
   "metadata": {},
   "source": [
    "## Tentukan level signifikansi\n",
    "***\n",
    "Level signifikansi atau *alhpa* yang digunakan biasanya 0.05. <br>\n",
    "1. Jika *p value* > *alpha* maka terima H0 \n",
    "2. Jika *p value* <= *alpha* maka tolak H0"
   ]
  },
  {
   "cell_type": "markdown",
   "id": "1c3a51cb",
   "metadata": {},
   "source": [
    "## Lihat distribusi dari data\n",
    "***\n",
    "Z test dilakukan untuk distribusi data yang normal. Pada tahap ini akan dilihat distribusi dari populasi penjualan bangunan di New York City pada tahun 2016 dan 2017"
   ]
  },
  {
   "cell_type": "code",
   "execution_count": 57,
   "id": "9df9d6e2",
   "metadata": {},
   "outputs": [
    {
     "data": {
      "text/plain": [
       "(11099, 20674)"
      ]
     },
     "execution_count": 57,
     "metadata": {},
     "output_type": "execute_result"
    }
   ],
   "source": [
    "# mengambil data penjualan (SALE PRICE) untuk tahun 2016\n",
    "sales_2016 = df_nyc_sales[\n",
    "    (df_nyc_sales['SALE YEAR']==2016)\n",
    "]['SALE PRICE']\n",
    "\n",
    "# mengambil data penjualan (SALE PRICE) untuk tahun 2017\n",
    "sales_2017 = df_nyc_sales[\n",
    "    (df_nyc_sales['SALE YEAR']==2017)\n",
    "]['SALE PRICE']\n",
    "\n",
    "# menghitung banyak data penjualan (SALE PRICE) pada tahun 2016 dan 2017\n",
    "len(sales_2016), len(sales_2017)"
   ]
  },
  {
   "cell_type": "code",
   "execution_count": 58,
   "id": "fe65cef0",
   "metadata": {},
   "outputs": [
    {
     "data": {
      "text/plain": [
       "Text(0, 0.5, 'Frekuensi')"
      ]
     },
     "execution_count": 58,
     "metadata": {},
     "output_type": "execute_result"
    },
    {
     "data": {
      "image/png": "[encoded data removed]",
      "text/plain": [
       "<Figure size 1296x576 with 2 Axes>"
      ]
     },
     "metadata": {
      "needs_background": "light"
     },
     "output_type": "display_data"
    }
   ],
   "source": [
    "# menampilkan distribusi dari data penjualan 2016 dan 2017\n",
    "fig = plt.figure(figsize=(18,8))\n",
    "ax = fig.add_subplot(1,2,1)\n",
    "ax0 = fig.add_subplot(1,2,2)\n",
    "\n",
    "# Plotting for 2016\n",
    "count, bin_edges_2016 = np.histogram(sales_2016,bins=20)\n",
    "sns.histplot(sales_2016,kde=True, ax=ax)\n",
    "ax.set_title('Histogram SALE PRICE properti di New York City pada tahun 2016')\n",
    "ax.set_xlabel('Harga Jual Properti')\n",
    "ax.set_xticks(bin_edges_2016)\n",
    "ax.tick_params(axis='x', labelrotation=90)\n",
    "ax.set_ylabel('Frekuensi')\n",
    "\n",
    "# Plotting for 2017\n",
    "count, bin_edges_2017 = np.histogram(sales_2017,bins=20)\n",
    "sns.histplot(sales_2017, kde=True, ax=ax0)\n",
    "ax0.set_title('Histogram SALE PRICE properti di New York City pada tahun 2017')\n",
    "ax0.set_xlabel('Harga Jual Properti')\n",
    "ax0.set_xticks(bin_edges_2017)\n",
    "ax0.tick_params(axis='x', labelrotation=90)\n",
    "ax0.set_ylabel('Frekuensi')"
   ]
  },
  {
   "cell_type": "markdown",
   "id": "c10e8c79",
   "metadata": {},
   "source": [
    "karena jumlah penjualan bangunan pada tahun 2017 tidak seimbang dengan tahun 2016. Selain itu, grafik distribusi histogram juga menunjukkan bahwa data belum berdistribusi normal. Oleh sebab itu, akan dilakukan sampling sesuai dengan central limit theorem. Sampling akan dilakukan sebanyak **1000** sampel yang diambil dari **100** nilai acak pada masing-masing tahun. Setelah data berdistribusi normal, akan dilakukan z test untuk menguji hipotesis yang sudah dibuat"
   ]
  },
  {
   "cell_type": "markdown",
   "id": "288da01d",
   "metadata": {},
   "source": [
    "## Implementasi Central Limit Theorem"
   ]
  },
  {
   "cell_type": "code",
   "execution_count": 59,
   "id": "2909db1d",
   "metadata": {},
   "outputs": [],
   "source": [
    "sample_means_2016 = [] # list yang menampung rata-rata dari sejumlah nilai acak\n",
    "n = 100 # banyak nilai acak yang digunakan untuk setiap sampel nya\n",
    "m = 1000\n",
    "\n",
    "for sample in range(0,m):\n",
    "    # ambil sejumlah n nilai acak dari 'SALE PRICE'\n",
    "    sample_values = np.random.choice(a=sales_2016, size=n)\n",
    "    \n",
    "    # hitung sample mean\n",
    "    sample_mean = np.mean(sample_values)\n",
    "    # append ke list\n",
    "    sample_means_2016.append(sample_mean)\n",
    "\n",
    "sample_means_2017 = [] # list yang menampung rata-rata dari sejumlah nilai acak\n",
    "n = 100 # banyak nilai acak yang digunakan untuk setiap sampel nya\n",
    "m = 1000\n",
    "\n",
    "for sample in range(0,m):\n",
    "    # ambil sejumlah n nilai acak dari 'SALE PRICE'\n",
    "    sample_values = np.random.choice(a=sales_2017, size=n)\n",
    "    \n",
    "    # hitung sample mean\n",
    "    sample_mean = np.mean(sample_values)\n",
    "    # append ke list\n",
    "    sample_means_2017.append(sample_mean)"
   ]
  },
  {
   "cell_type": "code",
   "execution_count": 60,
   "id": "12c369d6",
   "metadata": {
    "scrolled": true
   },
   "outputs": [
    {
     "data": {
      "text/plain": [
       "Text(0, 0.5, 'Frekuensi')"
      ]
     },
     "execution_count": 60,
     "metadata": {},
     "output_type": "execute_result"
    },
    {
     "data": {
      "image/png": "[encoded data removed]",
      "text/plain": [
       "<Figure size 1296x576 with 2 Axes>"
      ]
     },
     "metadata": {
      "needs_background": "light"
     },
     "output_type": "display_data"
    }
   ],
   "source": [
    "# menampilkan distribusi dari data penjualan 2016 dan 2017\n",
    "fig = plt.figure(figsize=(18,8))\n",
    "ax = fig.add_subplot(1,2,1)\n",
    "ax0 = fig.add_subplot(1,2,2)\n",
    "\n",
    "# Plotting for 2016\n",
    "count, bin_edges_2016 = np.histogram(sample_means_2016,bins=20)\n",
    "sns.histplot(sample_means_2016, kde=True, ax=ax)\n",
    "ax.set_title('Distribusi Sampel Mean SALE PRICE di tahun 2016')\n",
    "ax.set_xlabel('Rata-rata Sampel Harga Jual Properti')\n",
    "ax.set_xticks(bin_edges_2016)\n",
    "ax.tick_params(axis='x', labelrotation=90)\n",
    "ax.set_ylabel('Frekuensi')\n",
    "\n",
    "# Plotting for 2017\n",
    "count, bin_edges_2017 = np.histogram(sample_means_2017,bins=20)\n",
    "sns.histplot(sample_means_2017, kde=True, ax=ax0)\n",
    "ax0.set_title('Distribusi Sampel Mean Harga Jual Properti di tahun 2017')\n",
    "ax0.set_xlabel('Rata-rata Sampel Harga Jual Properti')\n",
    "ax0.set_xticks(bin_edges_2017)\n",
    "ax0.tick_params(axis='x', labelrotation=90)\n",
    "ax0.set_ylabel('Frekuensi')"
   ]
  },
  {
   "cell_type": "markdown",
   "id": "349939dd",
   "metadata": {},
   "source": [
    "## Menghitung *test statistics*"
   ]
  },
  {
   "cell_type": "code",
   "execution_count": 61,
   "id": "8e093165",
   "metadata": {},
   "outputs": [],
   "source": [
    "import statsmodels.api as sm"
   ]
  },
  {
   "cell_type": "code",
   "execution_count": 62,
   "id": "be01d145",
   "metadata": {},
   "outputs": [],
   "source": [
    "z_score, pvalue = sm.stats.ztest(sample_means_2016,sample_means_2017,alternative='two-sided')"
   ]
  },
  {
   "cell_type": "code",
   "execution_count": 63,
   "id": "0f82f696",
   "metadata": {},
   "outputs": [
    {
     "data": {
      "text/plain": [
       "5.824120169466725e-82"
      ]
     },
     "execution_count": 63,
     "metadata": {},
     "output_type": "execute_result"
    }
   ],
   "source": [
    "pvalue"
   ]
  },
  {
   "cell_type": "markdown",
   "id": "2ed26e89",
   "metadata": {},
   "source": [
    "## Penarikan kesimpulan"
   ]
  },
  {
   "cell_type": "code",
   "execution_count": 64,
   "id": "2ec94709",
   "metadata": {},
   "outputs": [
    {
     "name": "stdout",
     "output_type": "stream",
     "text": [
      "Ha diterima\n"
     ]
    }
   ],
   "source": [
    "if pvalue > 0.05:\n",
    "    print(\"H0 diterima\")\n",
    "else:\n",
    "    print(\"Ha diterima\")"
   ]
  },
  {
   "cell_type": "markdown",
   "id": "a0ce4660",
   "metadata": {},
   "source": [
    "**ANALISIS** <br>\n",
    "\n",
    "Karena nilai *p-value* **5.824120169466725e-82** sangat kecil dan nilainya kurang dari atau sama dengan alpha (0.05), maka H0 yang menyatakan bahwa rata-rata harga jual properti di New York City pada tahun 2016 sama dengan rata-rata harga jual properti di New York City pada tahun 2017. <br>\n",
    "\n",
    "Oleh karena itu, Ha diterima, yaitu terdapat perbedaan yang signifikan antara rata-rata harga jual properti di New York City pada tahun 2016 dan 2017"
   ]
  },
  {
   "cell_type": "markdown",
   "id": "a2d9d80a",
   "metadata": {},
   "source": [
    "# Overall Analysis"
   ]
  },
  {
   "cell_type": "markdown",
   "id": "cce32679",
   "metadata": {},
   "source": [
    "1. **Kesimpulan :** 95% Confidence Interval menyatakan bahwa nilai rata-rata dari luas total semua lantai bangunan properti (GROSS SQUARE FEET) di New York City dari tahun 2016 - 2017 berada dalam rentang **(1825.9248896843937)** sampai **(1839.8270903156063)** satuan luas\n",
    "2. **Kesimpulan :** 95% Confidence Interval menyatakan bahwa nilai rata-rata dari harga jual properti di New York City dari tahun 2016 - 2017 berada dalam rentang **569650.8237149519** sampai **579511.9961050482** US Dollar\n",
    "2. **Kesimpulan :** terdapat perbedaan yang signifikan antara rata-rata harga jual properti di New York City pada tahun 2016 dan 2017 pada level signifikansi (alpha) 0,05"
   ]
  },
  {
   "cell_type": "code",
   "execution_count": null,
   "id": "c9927ffd",
   "metadata": {},
   "outputs": [],
   "source": []
  }
 ],
 "metadata": {
  "kernelspec": {
   "display_name": "H8_001",
   "language": "python",
   "name": "h8_001"
  },
  "language_info": {
   "codemirror_mode": {
    "name": "ipython",
    "version": 3
   },
   "file_extension": ".py",
   "mimetype": "text/x-python",
   "name": "python",
   "nbconvert_exporter": "python",
   "pygments_lexer": "ipython3",
   "version": "3.7.11"
  },
  "toc": {
   "base_numbering": 1,
   "nav_menu": {},
   "number_sections": true,
   "sideBar": true,
   "skip_h1_title": false,
   "title_cell": "Table of Contents",
   "title_sidebar": "Contents",
   "toc_cell": false,
   "toc_position": {
    "height": "calc(100% - 180px)",
    "left": "10px",
    "top": "150px",
    "width": "284.431px"
   },
   "toc_section_display": true,
   "toc_window_display": true
  }
 },
 "nbformat": 4,
 "nbformat_minor": 5
}
