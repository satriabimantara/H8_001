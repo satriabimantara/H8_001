{
 "cells": [
  {
   "cell_type": "markdown",
   "id": "ef04b98a",
   "metadata": {},
   "source": [
    "# Introduction"
   ]
  },
  {
   "cell_type": "markdown",
   "id": "40783e39",
   "metadata": {},
   "source": [
    "## Penjelasan Data"
   ]
  },
  {
   "cell_type": "markdown",
   "id": "de843e76",
   "metadata": {},
   "source": [
    "Data tersebut terkait dengan kampanye pemasaran langsung dari lembaga perbankan Portugis. Kampanye pemasaran didasarkan pada panggilan telepon. Seringkali, lebih dari satu kontak ke klien yang sama diperlukan, untuk mengakses apakah produk (deposito berjangka bank) akan \"yes\" (ya) atau \"no\" (tidak) berlangganan."
   ]
  },
  {
   "cell_type": "markdown",
   "id": "32239464",
   "metadata": {},
   "source": [
    "## Penjelasan Atribut"
   ]
  },
  {
   "cell_type": "markdown",
   "id": "5f37e0e7",
   "metadata": {},
   "source": [
    "Daftar Atribut Kategorikal: <br>\n",
    "1. job <br>\n",
    "(\"admin.\",\"blue-collar\",\"entrepreneur\",\"housemaid\",\"management\",\"retired\",\"self-employed\",\"services\",\"student\",\"technician\",\"unemployed\",\"unknown\")\n",
    "2. marital <br>\n",
    "(\"divorced\",\"married\",\"single\",\"unknown\") <br>\n",
    "note: \"divorced\" means divorced or widowed\n",
    "3. education <br>\n",
    "(\"basic.4y\",\"basic.6y\",\"basic.9y\",\"high.school\",\"illiterate\",\"professional.course\",\"university.degree\",\"unknown\")\n",
    "4. default <br>\n",
    "(\"no\",\"yes\",\"unknown\")\n",
    "5. housing <br>\n",
    "(\"no\",\"yes\",\"unknown\")\n",
    "6. loan <br>\n",
    "(\"no\",\"yes\",\"unknown\")\n",
    "7. contact <br>\n",
    "(\"cellular\",\"telephone\")\n",
    "9. month <br>\n",
    "(\"jan\", \"feb\", \"mar\", ..., \"nov\", \"dec\")\n",
    "10. day_of_week <br>\n",
    "(\"mon\",\"tue\",\"wed\",\"thu\",\"fri\")\n",
    "11. poutcome <br>\n",
    "(\"failure\",\"nonexistent\",\"success\")\n",
    "12. y (target) <br>\n",
    "(\"yes\",\"no\")\n",
    "\n",
    "Daftar Atribut Numerikal: <br>\n",
    "1. Age <br>\n",
    "2. duration (in seconds) <br>\n",
    "3. campaign <br>\n",
    "4. pdays <br>\n",
    "(999 means client was not previously contacted)\n",
    "5. previous <br>\n",
    "6. emp.var.rate <br>\n",
    "7. cons.price.idx <br>\n",
    "8. cons.conf.idx <br>\n",
    "9. euribor3m <br>\n",
    "10. nr.eployed <br>"
   ]
  },
  {
   "cell_type": "markdown",
   "id": "f79c4ce4",
   "metadata": {},
   "source": [
    "# Install and Import Required Libraries"
   ]
  },
  {
   "cell_type": "code",
   "execution_count": 1,
   "id": "bbe5339f",
   "metadata": {},
   "outputs": [],
   "source": [
    "# Data processing\n",
    "import pandas as pd\n",
    "import numpy as np\n",
    "\n",
    "# visualization tools\n",
    "import matplotlib.pyplot as plt\n",
    "import seaborn as sns\n",
    "\n",
    "# Machine learning process\n",
    "from sklearn.model_selection import train_test_split, cross_val_score, GridSearchCV, KFold\n",
    "from sklearn.preprocessing import LabelEncoder, MinMaxScaler, StandardScaler\n",
    "from sklearn.impute import SimpleImputer\n",
    "from sklearn.pipeline import Pipeline\n",
    "from sklearn.naive_bayes import GaussianNB\n",
    "from sklearn.tree import DecisionTreeClassifier\n",
    "from sklearn.neighbors import KNeighborsClassifier\n",
    "from sklearn.ensemble import RandomForestClassifier\n",
    "from sklearn.svm import SVC\n",
    "from sklearn.linear_model import LogisticRegression\n",
    "from sklearn import metrics\n",
    "\n",
    "\n",
    "# features analysis libraries\n",
    "from sklearn.feature_selection import SelectKBest\n",
    "from sklearn.feature_selection import f_classif\n",
    "from sklearn.feature_selection import chi2,mutual_info_classif\n",
    "from sklearn.decomposition import PCA\n",
    "\n",
    "%matplotlib inline"
   ]
  },
  {
   "cell_type": "markdown",
   "id": "9cd3cba1",
   "metadata": {},
   "source": [
    "# Data Loading"
   ]
  },
  {
   "cell_type": "markdown",
   "id": "70ed28a5",
   "metadata": {},
   "source": [
    "## Bank Additional"
   ]
  },
  {
   "cell_type": "code",
   "execution_count": 2,
   "id": "531510bd",
   "metadata": {},
   "outputs": [],
   "source": [
    "bank_df = pd.read_excel('./dataset/bank-additional/bank-additional/bank-additional-full.xlsx')\n",
    "test_bank_df = pd.read_excel('./dataset/bank-additional/bank-additional/bank-additional.xlsx')"
   ]
  },
  {
   "cell_type": "code",
   "execution_count": 3,
   "id": "95f3b4dd",
   "metadata": {},
   "outputs": [
    {
     "data": {
      "text/html": [
       "<div>\n",
       "<style scoped>\n",
       "    .dataframe tbody tr th:only-of-type {\n",
       "        vertical-align: middle;\n",
       "    }\n",
       "\n",
       "    .dataframe tbody tr th {\n",
       "        vertical-align: top;\n",
       "    }\n",
       "\n",
       "    .dataframe thead th {\n",
       "        text-align: right;\n",
       "    }\n",
       "</style>\n",
       "<table border=\"1\" class=\"dataframe\">\n",
       "  <thead>\n",
       "    <tr style=\"text-align: right;\">\n",
       "      <th></th>\n",
       "      <th>age</th>\n",
       "      <th>job</th>\n",
       "      <th>marital</th>\n",
       "      <th>education</th>\n",
       "      <th>default</th>\n",
       "      <th>housing</th>\n",
       "      <th>loan</th>\n",
       "      <th>contact</th>\n",
       "      <th>month</th>\n",
       "      <th>day_of_week</th>\n",
       "      <th>...</th>\n",
       "      <th>campaign</th>\n",
       "      <th>pdays</th>\n",
       "      <th>previous</th>\n",
       "      <th>poutcome</th>\n",
       "      <th>emp.var.rate</th>\n",
       "      <th>cons.price.idx</th>\n",
       "      <th>cons.conf.idx</th>\n",
       "      <th>euribor3m</th>\n",
       "      <th>nr.employed</th>\n",
       "      <th>y</th>\n",
       "    </tr>\n",
       "  </thead>\n",
       "  <tbody>\n",
       "    <tr>\n",
       "      <th>0</th>\n",
       "      <td>56</td>\n",
       "      <td>housemaid</td>\n",
       "      <td>married</td>\n",
       "      <td>basic.4y</td>\n",
       "      <td>no</td>\n",
       "      <td>no</td>\n",
       "      <td>no</td>\n",
       "      <td>telephone</td>\n",
       "      <td>may</td>\n",
       "      <td>mon</td>\n",
       "      <td>...</td>\n",
       "      <td>1</td>\n",
       "      <td>999</td>\n",
       "      <td>0</td>\n",
       "      <td>nonexistent</td>\n",
       "      <td>1.1</td>\n",
       "      <td>93994.0</td>\n",
       "      <td>-36.4</td>\n",
       "      <td>4857.0</td>\n",
       "      <td>5191.0</td>\n",
       "      <td>no</td>\n",
       "    </tr>\n",
       "    <tr>\n",
       "      <th>1</th>\n",
       "      <td>57</td>\n",
       "      <td>services</td>\n",
       "      <td>married</td>\n",
       "      <td>high.school</td>\n",
       "      <td>unknown</td>\n",
       "      <td>no</td>\n",
       "      <td>no</td>\n",
       "      <td>telephone</td>\n",
       "      <td>may</td>\n",
       "      <td>mon</td>\n",
       "      <td>...</td>\n",
       "      <td>1</td>\n",
       "      <td>999</td>\n",
       "      <td>0</td>\n",
       "      <td>nonexistent</td>\n",
       "      <td>1.1</td>\n",
       "      <td>93994.0</td>\n",
       "      <td>-36.4</td>\n",
       "      <td>4857.0</td>\n",
       "      <td>5191.0</td>\n",
       "      <td>no</td>\n",
       "    </tr>\n",
       "    <tr>\n",
       "      <th>2</th>\n",
       "      <td>37</td>\n",
       "      <td>services</td>\n",
       "      <td>married</td>\n",
       "      <td>high.school</td>\n",
       "      <td>no</td>\n",
       "      <td>yes</td>\n",
       "      <td>no</td>\n",
       "      <td>telephone</td>\n",
       "      <td>may</td>\n",
       "      <td>mon</td>\n",
       "      <td>...</td>\n",
       "      <td>1</td>\n",
       "      <td>999</td>\n",
       "      <td>0</td>\n",
       "      <td>nonexistent</td>\n",
       "      <td>1.1</td>\n",
       "      <td>93994.0</td>\n",
       "      <td>-36.4</td>\n",
       "      <td>4857.0</td>\n",
       "      <td>5191.0</td>\n",
       "      <td>no</td>\n",
       "    </tr>\n",
       "    <tr>\n",
       "      <th>3</th>\n",
       "      <td>40</td>\n",
       "      <td>admin.</td>\n",
       "      <td>married</td>\n",
       "      <td>basic.6y</td>\n",
       "      <td>no</td>\n",
       "      <td>no</td>\n",
       "      <td>no</td>\n",
       "      <td>telephone</td>\n",
       "      <td>may</td>\n",
       "      <td>mon</td>\n",
       "      <td>...</td>\n",
       "      <td>1</td>\n",
       "      <td>999</td>\n",
       "      <td>0</td>\n",
       "      <td>nonexistent</td>\n",
       "      <td>1.1</td>\n",
       "      <td>93994.0</td>\n",
       "      <td>-36.4</td>\n",
       "      <td>4857.0</td>\n",
       "      <td>5191.0</td>\n",
       "      <td>no</td>\n",
       "    </tr>\n",
       "    <tr>\n",
       "      <th>4</th>\n",
       "      <td>56</td>\n",
       "      <td>services</td>\n",
       "      <td>married</td>\n",
       "      <td>high.school</td>\n",
       "      <td>no</td>\n",
       "      <td>no</td>\n",
       "      <td>yes</td>\n",
       "      <td>telephone</td>\n",
       "      <td>may</td>\n",
       "      <td>mon</td>\n",
       "      <td>...</td>\n",
       "      <td>1</td>\n",
       "      <td>999</td>\n",
       "      <td>0</td>\n",
       "      <td>nonexistent</td>\n",
       "      <td>1.1</td>\n",
       "      <td>93994.0</td>\n",
       "      <td>-36.4</td>\n",
       "      <td>4857.0</td>\n",
       "      <td>5191.0</td>\n",
       "      <td>no</td>\n",
       "    </tr>\n",
       "  </tbody>\n",
       "</table>\n",
       "<p>5 rows × 21 columns</p>\n",
       "</div>"
      ],
      "text/plain": [
       "   age        job  marital    education  default housing loan    contact  \\\n",
       "0   56  housemaid  married     basic.4y       no      no   no  telephone   \n",
       "1   57   services  married  high.school  unknown      no   no  telephone   \n",
       "2   37   services  married  high.school       no     yes   no  telephone   \n",
       "3   40     admin.  married     basic.6y       no      no   no  telephone   \n",
       "4   56   services  married  high.school       no      no  yes  telephone   \n",
       "\n",
       "  month day_of_week  ...  campaign  pdays  previous     poutcome emp.var.rate  \\\n",
       "0   may         mon  ...         1    999         0  nonexistent          1.1   \n",
       "1   may         mon  ...         1    999         0  nonexistent          1.1   \n",
       "2   may         mon  ...         1    999         0  nonexistent          1.1   \n",
       "3   may         mon  ...         1    999         0  nonexistent          1.1   \n",
       "4   may         mon  ...         1    999         0  nonexistent          1.1   \n",
       "\n",
       "   cons.price.idx  cons.conf.idx  euribor3m  nr.employed   y  \n",
       "0         93994.0          -36.4     4857.0       5191.0  no  \n",
       "1         93994.0          -36.4     4857.0       5191.0  no  \n",
       "2         93994.0          -36.4     4857.0       5191.0  no  \n",
       "3         93994.0          -36.4     4857.0       5191.0  no  \n",
       "4         93994.0          -36.4     4857.0       5191.0  no  \n",
       "\n",
       "[5 rows x 21 columns]"
      ]
     },
     "execution_count": 3,
     "metadata": {},
     "output_type": "execute_result"
    }
   ],
   "source": [
    "# Menampilkan 5 data teratas\n",
    "bank_df.head()"
   ]
  },
  {
   "cell_type": "markdown",
   "id": "f12a9c74",
   "metadata": {},
   "source": [
    "# Bank Additional Descriptions"
   ]
  },
  {
   "cell_type": "markdown",
   "id": "f7f97142",
   "metadata": {},
   "source": [
    "## Mengetahui dimensi dataset"
   ]
  },
  {
   "cell_type": "code",
   "execution_count": 4,
   "id": "665b24cd",
   "metadata": {},
   "outputs": [
    {
     "name": "stdout",
     "output_type": "stream",
     "text": [
      "Dimensi data =  (41188, 21)\n"
     ]
    }
   ],
   "source": [
    "print(\"Dimensi data = \", bank_df.shape)"
   ]
  },
  {
   "cell_type": "markdown",
   "id": "22af1012",
   "metadata": {},
   "source": [
    "## Mengetahui daftar atribut/fitur dari dataset"
   ]
  },
  {
   "cell_type": "code",
   "execution_count": 5,
   "id": "c594ec6a",
   "metadata": {},
   "outputs": [
    {
     "name": "stdout",
     "output_type": "stream",
     "text": [
      "<class 'pandas.core.frame.DataFrame'>\n",
      "RangeIndex: 41188 entries, 0 to 41187\n",
      "Data columns (total 21 columns):\n",
      " #   Column          Non-Null Count  Dtype  \n",
      "---  ------          --------------  -----  \n",
      " 0   age             41188 non-null  int64  \n",
      " 1   job             41188 non-null  object \n",
      " 2   marital         41188 non-null  object \n",
      " 3   education       41188 non-null  object \n",
      " 4   default         41188 non-null  object \n",
      " 5   housing         41188 non-null  object \n",
      " 6   loan            41188 non-null  object \n",
      " 7   contact         41188 non-null  object \n",
      " 8   month           41188 non-null  object \n",
      " 9   day_of_week     41188 non-null  object \n",
      " 10  duration        41188 non-null  int64  \n",
      " 11  campaign        41188 non-null  int64  \n",
      " 12  pdays           41188 non-null  int64  \n",
      " 13  previous        41188 non-null  int64  \n",
      " 14  poutcome        41188 non-null  object \n",
      " 15  emp.var.rate    41188 non-null  float64\n",
      " 16  cons.price.idx  41188 non-null  float64\n",
      " 17  cons.conf.idx   41188 non-null  float64\n",
      " 18  euribor3m       41188 non-null  float64\n",
      " 19  nr.employed     41188 non-null  float64\n",
      " 20  y               41188 non-null  object \n",
      "dtypes: float64(5), int64(5), object(11)\n",
      "memory usage: 6.6+ MB\n"
     ]
    }
   ],
   "source": [
    "bank_df.info()"
   ]
  },
  {
   "cell_type": "markdown",
   "id": "24f3cd41",
   "metadata": {},
   "source": [
    "**ANALISIS** <br>\n",
    "Terlihat bahwa tidak ada missing values pada data. Hal ini cukup aneh. Missing values akan diperiksa lebih lanjut. <br>\n",
    "Daftar Atribut Kategorikal: <br>\n",
    "1. job\n",
    "2. marital\n",
    "3. education\n",
    "4. default\n",
    "5. housing\n",
    "6. loan\n",
    "7. contact\n",
    "9. month\n",
    "10. day_of_week\n",
    "11. poutcome\n",
    "12. y (target) <br>\n",
    "\n",
    "Daftar Atribut Numerikal: <br>\n",
    "1. Age\n",
    "2. duration (in seconds)\n",
    "3. campaign\n",
    "4. pdays\n",
    "5. previous\n",
    "6. emp.var.rate\n",
    "7. cons.price.idx\n",
    "8. cons.conf.idx\n",
    "9. euribor3m\n",
    "10. nr.eployed"
   ]
  },
  {
   "cell_type": "markdown",
   "id": "02e126e5",
   "metadata": {},
   "source": [
    "## Mengelompokkan atribut berdasarkan tipe datanya"
   ]
  },
  {
   "cell_type": "code",
   "execution_count": 6,
   "id": "fb66f94b",
   "metadata": {},
   "outputs": [],
   "source": [
    "numerical_columns = list(bank_df.select_dtypes(include=['int64']).columns.values) + list(bank_df.select_dtypes(include=['float64']).columns.values)\n",
    "categorical_columns = list(bank_df.select_dtypes(include=['object']))"
   ]
  },
  {
   "cell_type": "code",
   "execution_count": 7,
   "id": "c3687c93",
   "metadata": {},
   "outputs": [
    {
     "data": {
      "text/plain": [
       "['age',\n",
       " 'duration',\n",
       " 'campaign',\n",
       " 'pdays',\n",
       " 'previous',\n",
       " 'emp.var.rate',\n",
       " 'cons.price.idx',\n",
       " 'cons.conf.idx',\n",
       " 'euribor3m',\n",
       " 'nr.employed']"
      ]
     },
     "execution_count": 7,
     "metadata": {},
     "output_type": "execute_result"
    }
   ],
   "source": [
    "# cetak variabel yang numerik\n",
    "numerical_columns"
   ]
  },
  {
   "cell_type": "code",
   "execution_count": 8,
   "id": "405183ca",
   "metadata": {},
   "outputs": [
    {
     "data": {
      "text/plain": [
       "['job',\n",
       " 'marital',\n",
       " 'education',\n",
       " 'default',\n",
       " 'housing',\n",
       " 'loan',\n",
       " 'contact',\n",
       " 'month',\n",
       " 'day_of_week',\n",
       " 'poutcome',\n",
       " 'y']"
      ]
     },
     "execution_count": 8,
     "metadata": {},
     "output_type": "execute_result"
    }
   ],
   "source": [
    "# cetak variabel yang kategorikal\n",
    "categorical_columns"
   ]
  },
  {
   "cell_type": "markdown",
   "id": "39c2c68f",
   "metadata": {},
   "source": [
    "Terlihat bahwa tipe data pada dataset sudah sesuai dengan apa yang seharusnya"
   ]
  },
  {
   "cell_type": "markdown",
   "id": "40f9aa8c",
   "metadata": {},
   "source": [
    "## Deskriptif Statistik untuk atribut numerikal"
   ]
  },
  {
   "cell_type": "code",
   "execution_count": 9,
   "id": "be05c45d",
   "metadata": {},
   "outputs": [
    {
     "data": {
      "text/html": [
       "<div>\n",
       "<style scoped>\n",
       "    .dataframe tbody tr th:only-of-type {\n",
       "        vertical-align: middle;\n",
       "    }\n",
       "\n",
       "    .dataframe tbody tr th {\n",
       "        vertical-align: top;\n",
       "    }\n",
       "\n",
       "    .dataframe thead th {\n",
       "        text-align: right;\n",
       "    }\n",
       "</style>\n",
       "<table border=\"1\" class=\"dataframe\">\n",
       "  <thead>\n",
       "    <tr style=\"text-align: right;\">\n",
       "      <th></th>\n",
       "      <th>age</th>\n",
       "      <th>duration</th>\n",
       "      <th>campaign</th>\n",
       "      <th>pdays</th>\n",
       "      <th>previous</th>\n",
       "      <th>emp.var.rate</th>\n",
       "      <th>cons.price.idx</th>\n",
       "      <th>cons.conf.idx</th>\n",
       "      <th>euribor3m</th>\n",
       "      <th>nr.employed</th>\n",
       "    </tr>\n",
       "  </thead>\n",
       "  <tbody>\n",
       "    <tr>\n",
       "      <th>count</th>\n",
       "      <td>41188.00000</td>\n",
       "      <td>41188.000000</td>\n",
       "      <td>41188.000000</td>\n",
       "      <td>41188.000000</td>\n",
       "      <td>41188.000000</td>\n",
       "      <td>41188.000000</td>\n",
       "      <td>41188.000000</td>\n",
       "      <td>41188.000000</td>\n",
       "      <td>41188.000000</td>\n",
       "      <td>41188.000000</td>\n",
       "    </tr>\n",
       "    <tr>\n",
       "      <th>mean</th>\n",
       "      <td>40.02406</td>\n",
       "      <td>258.285010</td>\n",
       "      <td>2.567593</td>\n",
       "      <td>962.475454</td>\n",
       "      <td>0.172963</td>\n",
       "      <td>0.081886</td>\n",
       "      <td>85401.579955</td>\n",
       "      <td>-40.502600</td>\n",
       "      <td>3180.107207</td>\n",
       "      <td>5167.035911</td>\n",
       "    </tr>\n",
       "    <tr>\n",
       "      <th>std</th>\n",
       "      <td>10.42125</td>\n",
       "      <td>259.279249</td>\n",
       "      <td>2.770014</td>\n",
       "      <td>186.910907</td>\n",
       "      <td>0.494901</td>\n",
       "      <td>1.570960</td>\n",
       "      <td>26471.506796</td>\n",
       "      <td>4.628198</td>\n",
       "      <td>2086.690436</td>\n",
       "      <td>72.251528</td>\n",
       "    </tr>\n",
       "    <tr>\n",
       "      <th>min</th>\n",
       "      <td>17.00000</td>\n",
       "      <td>0.000000</td>\n",
       "      <td>1.000000</td>\n",
       "      <td>0.000000</td>\n",
       "      <td>0.000000</td>\n",
       "      <td>-3.400000</td>\n",
       "      <td>93.200000</td>\n",
       "      <td>-50.800000</td>\n",
       "      <td>0.634000</td>\n",
       "      <td>4963.600000</td>\n",
       "    </tr>\n",
       "    <tr>\n",
       "      <th>25%</th>\n",
       "      <td>32.00000</td>\n",
       "      <td>102.000000</td>\n",
       "      <td>1.000000</td>\n",
       "      <td>999.000000</td>\n",
       "      <td>0.000000</td>\n",
       "      <td>-1.800000</td>\n",
       "      <td>92893.000000</td>\n",
       "      <td>-42.700000</td>\n",
       "      <td>1281.000000</td>\n",
       "      <td>5099.100000</td>\n",
       "    </tr>\n",
       "    <tr>\n",
       "      <th>50%</th>\n",
       "      <td>38.00000</td>\n",
       "      <td>180.000000</td>\n",
       "      <td>2.000000</td>\n",
       "      <td>999.000000</td>\n",
       "      <td>0.000000</td>\n",
       "      <td>1.100000</td>\n",
       "      <td>93749.000000</td>\n",
       "      <td>-41.800000</td>\n",
       "      <td>4856.000000</td>\n",
       "      <td>5191.000000</td>\n",
       "    </tr>\n",
       "    <tr>\n",
       "      <th>75%</th>\n",
       "      <td>47.00000</td>\n",
       "      <td>319.000000</td>\n",
       "      <td>3.000000</td>\n",
       "      <td>999.000000</td>\n",
       "      <td>0.000000</td>\n",
       "      <td>1.400000</td>\n",
       "      <td>93994.000000</td>\n",
       "      <td>-36.400000</td>\n",
       "      <td>4961.000000</td>\n",
       "      <td>5228.100000</td>\n",
       "    </tr>\n",
       "    <tr>\n",
       "      <th>max</th>\n",
       "      <td>98.00000</td>\n",
       "      <td>4918.000000</td>\n",
       "      <td>56.000000</td>\n",
       "      <td>999.000000</td>\n",
       "      <td>7.000000</td>\n",
       "      <td>1.400000</td>\n",
       "      <td>94767.000000</td>\n",
       "      <td>-26.900000</td>\n",
       "      <td>5045.000000</td>\n",
       "      <td>5228.100000</td>\n",
       "    </tr>\n",
       "  </tbody>\n",
       "</table>\n",
       "</div>"
      ],
      "text/plain": [
       "               age      duration      campaign         pdays      previous  \\\n",
       "count  41188.00000  41188.000000  41188.000000  41188.000000  41188.000000   \n",
       "mean      40.02406    258.285010      2.567593    962.475454      0.172963   \n",
       "std       10.42125    259.279249      2.770014    186.910907      0.494901   \n",
       "min       17.00000      0.000000      1.000000      0.000000      0.000000   \n",
       "25%       32.00000    102.000000      1.000000    999.000000      0.000000   \n",
       "50%       38.00000    180.000000      2.000000    999.000000      0.000000   \n",
       "75%       47.00000    319.000000      3.000000    999.000000      0.000000   \n",
       "max       98.00000   4918.000000     56.000000    999.000000      7.000000   \n",
       "\n",
       "       emp.var.rate  cons.price.idx  cons.conf.idx     euribor3m   nr.employed  \n",
       "count  41188.000000    41188.000000   41188.000000  41188.000000  41188.000000  \n",
       "mean       0.081886    85401.579955     -40.502600   3180.107207   5167.035911  \n",
       "std        1.570960    26471.506796       4.628198   2086.690436     72.251528  \n",
       "min       -3.400000       93.200000     -50.800000      0.634000   4963.600000  \n",
       "25%       -1.800000    92893.000000     -42.700000   1281.000000   5099.100000  \n",
       "50%        1.100000    93749.000000     -41.800000   4856.000000   5191.000000  \n",
       "75%        1.400000    93994.000000     -36.400000   4961.000000   5228.100000  \n",
       "max        1.400000    94767.000000     -26.900000   5045.000000   5228.100000  "
      ]
     },
     "execution_count": 9,
     "metadata": {},
     "output_type": "execute_result"
    }
   ],
   "source": [
    "# deskriptif statistik untuk data latih\n",
    "bank_df[numerical_columns].describe()"
   ]
  },
  {
   "cell_type": "markdown",
   "id": "ad321f66",
   "metadata": {},
   "source": [
    "## Mengetahui jumlah data untuk masing-masing kelas"
   ]
  },
  {
   "cell_type": "code",
   "execution_count": 10,
   "id": "98b4f756",
   "metadata": {},
   "outputs": [
    {
     "data": {
      "text/html": [
       "<div>\n",
       "<style scoped>\n",
       "    .dataframe tbody tr th:only-of-type {\n",
       "        vertical-align: middle;\n",
       "    }\n",
       "\n",
       "    .dataframe tbody tr th {\n",
       "        vertical-align: top;\n",
       "    }\n",
       "\n",
       "    .dataframe thead th {\n",
       "        text-align: right;\n",
       "    }\n",
       "</style>\n",
       "<table border=\"1\" class=\"dataframe\">\n",
       "  <thead>\n",
       "    <tr style=\"text-align: right;\">\n",
       "      <th></th>\n",
       "      <th>age</th>\n",
       "      <th>job</th>\n",
       "      <th>marital</th>\n",
       "      <th>education</th>\n",
       "      <th>default</th>\n",
       "      <th>housing</th>\n",
       "      <th>loan</th>\n",
       "      <th>contact</th>\n",
       "      <th>month</th>\n",
       "      <th>day_of_week</th>\n",
       "      <th>duration</th>\n",
       "      <th>campaign</th>\n",
       "      <th>pdays</th>\n",
       "      <th>previous</th>\n",
       "      <th>poutcome</th>\n",
       "      <th>emp.var.rate</th>\n",
       "      <th>cons.price.idx</th>\n",
       "      <th>cons.conf.idx</th>\n",
       "      <th>euribor3m</th>\n",
       "      <th>nr.employed</th>\n",
       "    </tr>\n",
       "    <tr>\n",
       "      <th>y</th>\n",
       "      <th></th>\n",
       "      <th></th>\n",
       "      <th></th>\n",
       "      <th></th>\n",
       "      <th></th>\n",
       "      <th></th>\n",
       "      <th></th>\n",
       "      <th></th>\n",
       "      <th></th>\n",
       "      <th></th>\n",
       "      <th></th>\n",
       "      <th></th>\n",
       "      <th></th>\n",
       "      <th></th>\n",
       "      <th></th>\n",
       "      <th></th>\n",
       "      <th></th>\n",
       "      <th></th>\n",
       "      <th></th>\n",
       "      <th></th>\n",
       "    </tr>\n",
       "  </thead>\n",
       "  <tbody>\n",
       "    <tr>\n",
       "      <th>no</th>\n",
       "      <td>36548</td>\n",
       "      <td>36548</td>\n",
       "      <td>36548</td>\n",
       "      <td>36548</td>\n",
       "      <td>36548</td>\n",
       "      <td>36548</td>\n",
       "      <td>36548</td>\n",
       "      <td>36548</td>\n",
       "      <td>36548</td>\n",
       "      <td>36548</td>\n",
       "      <td>36548</td>\n",
       "      <td>36548</td>\n",
       "      <td>36548</td>\n",
       "      <td>36548</td>\n",
       "      <td>36548</td>\n",
       "      <td>36548</td>\n",
       "      <td>36548</td>\n",
       "      <td>36548</td>\n",
       "      <td>36548</td>\n",
       "      <td>36548</td>\n",
       "    </tr>\n",
       "    <tr>\n",
       "      <th>yes</th>\n",
       "      <td>4640</td>\n",
       "      <td>4640</td>\n",
       "      <td>4640</td>\n",
       "      <td>4640</td>\n",
       "      <td>4640</td>\n",
       "      <td>4640</td>\n",
       "      <td>4640</td>\n",
       "      <td>4640</td>\n",
       "      <td>4640</td>\n",
       "      <td>4640</td>\n",
       "      <td>4640</td>\n",
       "      <td>4640</td>\n",
       "      <td>4640</td>\n",
       "      <td>4640</td>\n",
       "      <td>4640</td>\n",
       "      <td>4640</td>\n",
       "      <td>4640</td>\n",
       "      <td>4640</td>\n",
       "      <td>4640</td>\n",
       "      <td>4640</td>\n",
       "    </tr>\n",
       "  </tbody>\n",
       "</table>\n",
       "</div>"
      ],
      "text/plain": [
       "       age    job  marital  education  default  housing   loan  contact  \\\n",
       "y                                                                         \n",
       "no   36548  36548    36548      36548    36548    36548  36548    36548   \n",
       "yes   4640   4640     4640       4640     4640     4640   4640     4640   \n",
       "\n",
       "     month  day_of_week  duration  campaign  pdays  previous  poutcome  \\\n",
       "y                                                                        \n",
       "no   36548        36548     36548     36548  36548     36548     36548   \n",
       "yes   4640         4640      4640      4640   4640      4640      4640   \n",
       "\n",
       "     emp.var.rate  cons.price.idx  cons.conf.idx  euribor3m  nr.employed  \n",
       "y                                                                         \n",
       "no          36548           36548          36548      36548        36548  \n",
       "yes          4640            4640           4640       4640         4640  "
      ]
     },
     "execution_count": 10,
     "metadata": {},
     "output_type": "execute_result"
    }
   ],
   "source": [
    "bank_df.groupby('y').count()"
   ]
  },
  {
   "cell_type": "markdown",
   "id": "67ba6482",
   "metadata": {},
   "source": [
    "Data latih memiliki: <br>\n",
    "1. 36548 label \"no\"\n",
    "2. 4640 label \"yes\" <br>"
   ]
  },
  {
   "cell_type": "markdown",
   "id": "eba42784",
   "metadata": {},
   "source": [
    "# Data Cleaning"
   ]
  },
  {
   "cell_type": "markdown",
   "id": "45a1c362",
   "metadata": {},
   "source": [
    "## Memastikan tidak ada *missing values* pada Kolom Kategorikal\n",
    "***\n",
    "Pada keterangan dataset yang dilampirkan, missing values pada data ditandai dengan label \"unknown\" pada beberapa kolom dengan tipe kategorikal. Oleh karena, kolom kategorikal yang memuat label \"unknown\" akan diganti menjadi **nan** untuk menandai adanya missing values (unstandard missing values)"
   ]
  },
  {
   "cell_type": "code",
   "execution_count": 11,
   "id": "407b15bb",
   "metadata": {},
   "outputs": [
    {
     "data": {
      "text/plain": [
       "default           8597\n",
       "education         1731\n",
       "housing            990\n",
       "loan               990\n",
       "job                330\n",
       "marital             80\n",
       "age                  0\n",
       "poutcome             0\n",
       "nr.employed          0\n",
       "euribor3m            0\n",
       "cons.conf.idx        0\n",
       "cons.price.idx       0\n",
       "emp.var.rate         0\n",
       "duration             0\n",
       "previous             0\n",
       "pdays                0\n",
       "campaign             0\n",
       "day_of_week          0\n",
       "month                0\n",
       "contact              0\n",
       "y                    0\n",
       "dtype: int64"
      ]
     },
     "execution_count": 11,
     "metadata": {},
     "output_type": "execute_result"
    }
   ],
   "source": [
    "# Mengetahui jumlah \"unknown\" di setiap atribut\n",
    "bank_df[\n",
    "    bank_df[categorical_columns]=='unknown'\n",
    "].count().sort_values(ascending=False)"
   ]
  },
  {
   "cell_type": "markdown",
   "id": "a40e513f",
   "metadata": {},
   "source": [
    "**default, education, housing, loan, job, marital** menjadi kolom kategorikal yang banyak mengandung missing values"
   ]
  },
  {
   "cell_type": "markdown",
   "id": "ccb8052d",
   "metadata": {},
   "source": [
    "## Mengganti \"unknown\" dengan Numpy nan"
   ]
  },
  {
   "cell_type": "code",
   "execution_count": 12,
   "id": "773694f5",
   "metadata": {},
   "outputs": [],
   "source": [
    "# Mengganti \"unknown\" pada data latih\n",
    "bank_df[\n",
    "    bank_df[categorical_columns]==\"unknown\"\n",
    "] = np.nan"
   ]
  },
  {
   "cell_type": "markdown",
   "id": "9a8327b8",
   "metadata": {},
   "source": [
    "### Cek apakah \"unknown\" sudah terganti dengan Numpy nan dengan benar"
   ]
  },
  {
   "cell_type": "code",
   "execution_count": 13,
   "id": "9a1f2225",
   "metadata": {},
   "outputs": [
    {
     "data": {
      "text/plain": [
       "age               0\n",
       "campaign          0\n",
       "nr.employed       0\n",
       "euribor3m         0\n",
       "cons.conf.idx     0\n",
       "cons.price.idx    0\n",
       "emp.var.rate      0\n",
       "poutcome          0\n",
       "previous          0\n",
       "pdays             0\n",
       "duration          0\n",
       "job               0\n",
       "day_of_week       0\n",
       "month             0\n",
       "contact           0\n",
       "loan              0\n",
       "housing           0\n",
       "default           0\n",
       "education         0\n",
       "marital           0\n",
       "y                 0\n",
       "dtype: int64"
      ]
     },
     "execution_count": 13,
     "metadata": {},
     "output_type": "execute_result"
    }
   ],
   "source": [
    "# Mengetahui jumlah \"unknown\" di setiap atribut\n",
    "bank_df[\n",
    "    bank_df[categorical_columns]=='unknown'\n",
    "].count().sort_values(ascending=False)"
   ]
  },
  {
   "cell_type": "markdown",
   "id": "e6c9cc34",
   "metadata": {},
   "source": [
    "Label \"unknown\" sudah tergantikan dengan Numpy nan semuanya"
   ]
  },
  {
   "cell_type": "markdown",
   "id": "d498e3fc",
   "metadata": {},
   "source": [
    "## Melihat *unstandard missing values* pada kolom kategorikal"
   ]
  },
  {
   "cell_type": "code",
   "execution_count": 14,
   "id": "6813f07c",
   "metadata": {},
   "outputs": [
    {
     "data": {
      "text/html": [
       "<div>\n",
       "<style scoped>\n",
       "    .dataframe tbody tr th:only-of-type {\n",
       "        vertical-align: middle;\n",
       "    }\n",
       "\n",
       "    .dataframe tbody tr th {\n",
       "        vertical-align: top;\n",
       "    }\n",
       "\n",
       "    .dataframe thead th {\n",
       "        text-align: right;\n",
       "    }\n",
       "</style>\n",
       "<table border=\"1\" class=\"dataframe\">\n",
       "  <thead>\n",
       "    <tr style=\"text-align: right;\">\n",
       "      <th></th>\n",
       "      <th>job</th>\n",
       "      <th>marital</th>\n",
       "      <th>education</th>\n",
       "      <th>default</th>\n",
       "      <th>housing</th>\n",
       "      <th>loan</th>\n",
       "      <th>contact</th>\n",
       "      <th>month</th>\n",
       "      <th>day_of_week</th>\n",
       "      <th>poutcome</th>\n",
       "      <th>y</th>\n",
       "    </tr>\n",
       "  </thead>\n",
       "  <tbody>\n",
       "    <tr>\n",
       "      <th>0</th>\n",
       "      <td>housemaid</td>\n",
       "      <td>married</td>\n",
       "      <td>basic.4y</td>\n",
       "      <td>no</td>\n",
       "      <td>no</td>\n",
       "      <td>no</td>\n",
       "      <td>telephone</td>\n",
       "      <td>may</td>\n",
       "      <td>mon</td>\n",
       "      <td>nonexistent</td>\n",
       "      <td>no</td>\n",
       "    </tr>\n",
       "    <tr>\n",
       "      <th>1</th>\n",
       "      <td>services</td>\n",
       "      <td>married</td>\n",
       "      <td>high.school</td>\n",
       "      <td>NaN</td>\n",
       "      <td>no</td>\n",
       "      <td>no</td>\n",
       "      <td>telephone</td>\n",
       "      <td>may</td>\n",
       "      <td>mon</td>\n",
       "      <td>nonexistent</td>\n",
       "      <td>no</td>\n",
       "    </tr>\n",
       "    <tr>\n",
       "      <th>2</th>\n",
       "      <td>services</td>\n",
       "      <td>married</td>\n",
       "      <td>high.school</td>\n",
       "      <td>no</td>\n",
       "      <td>yes</td>\n",
       "      <td>no</td>\n",
       "      <td>telephone</td>\n",
       "      <td>may</td>\n",
       "      <td>mon</td>\n",
       "      <td>nonexistent</td>\n",
       "      <td>no</td>\n",
       "    </tr>\n",
       "    <tr>\n",
       "      <th>3</th>\n",
       "      <td>admin.</td>\n",
       "      <td>married</td>\n",
       "      <td>basic.6y</td>\n",
       "      <td>no</td>\n",
       "      <td>no</td>\n",
       "      <td>no</td>\n",
       "      <td>telephone</td>\n",
       "      <td>may</td>\n",
       "      <td>mon</td>\n",
       "      <td>nonexistent</td>\n",
       "      <td>no</td>\n",
       "    </tr>\n",
       "    <tr>\n",
       "      <th>4</th>\n",
       "      <td>services</td>\n",
       "      <td>married</td>\n",
       "      <td>high.school</td>\n",
       "      <td>no</td>\n",
       "      <td>no</td>\n",
       "      <td>yes</td>\n",
       "      <td>telephone</td>\n",
       "      <td>may</td>\n",
       "      <td>mon</td>\n",
       "      <td>nonexistent</td>\n",
       "      <td>no</td>\n",
       "    </tr>\n",
       "  </tbody>\n",
       "</table>\n",
       "</div>"
      ],
      "text/plain": [
       "         job  marital    education default housing loan    contact month  \\\n",
       "0  housemaid  married     basic.4y      no      no   no  telephone   may   \n",
       "1   services  married  high.school     NaN      no   no  telephone   may   \n",
       "2   services  married  high.school      no     yes   no  telephone   may   \n",
       "3     admin.  married     basic.6y      no      no   no  telephone   may   \n",
       "4   services  married  high.school      no      no  yes  telephone   may   \n",
       "\n",
       "  day_of_week     poutcome   y  \n",
       "0         mon  nonexistent  no  \n",
       "1         mon  nonexistent  no  \n",
       "2         mon  nonexistent  no  \n",
       "3         mon  nonexistent  no  \n",
       "4         mon  nonexistent  no  "
      ]
     },
     "execution_count": 14,
     "metadata": {},
     "output_type": "execute_result"
    }
   ],
   "source": [
    "bank_df[\n",
    "    categorical_columns\n",
    "].head()"
   ]
  },
  {
   "cell_type": "code",
   "execution_count": 15,
   "id": "dea9297c",
   "metadata": {},
   "outputs": [
    {
     "name": "stdout",
     "output_type": "stream",
     "text": [
      "Nilai unik untuk kolom  JOB\n",
      "['housemaid' 'services' 'admin.' 'blue-collar' 'technician' 'retired'\n",
      " 'management' 'unemployed' 'self-employed' nan 'entrepreneur' 'student']\n",
      "==============================\n",
      "Nilai unik untuk kolom  MARITAL\n",
      "['married' 'single' 'divorced' nan]\n",
      "==============================\n",
      "Nilai unik untuk kolom  EDUCATION\n",
      "['basic.4y' 'high.school' 'basic.6y' 'basic.9y' 'professional.course' nan\n",
      " 'university.degree' 'illiterate']\n",
      "==============================\n",
      "Nilai unik untuk kolom  DEFAULT\n",
      "['no' nan 'yes']\n",
      "==============================\n",
      "Nilai unik untuk kolom  HOUSING\n",
      "['no' 'yes' nan]\n",
      "==============================\n",
      "Nilai unik untuk kolom  LOAN\n",
      "['no' 'yes' nan]\n",
      "==============================\n",
      "Nilai unik untuk kolom  CONTACT\n",
      "['telephone' 'cellular']\n",
      "==============================\n",
      "Nilai unik untuk kolom  MONTH\n",
      "['may' 'jun' 'jul' 'aug' 'oct' 'nov' 'dec' 'mar' 'apr' 'sep']\n",
      "==============================\n",
      "Nilai unik untuk kolom  DAY_OF_WEEK\n",
      "['mon' 'tue' 'wed' 'thu' 'fri']\n",
      "==============================\n",
      "Nilai unik untuk kolom  POUTCOME\n",
      "['nonexistent' 'failure' 'success']\n",
      "==============================\n",
      "Nilai unik untuk kolom  Y\n",
      "['no' 'yes']\n",
      "==============================\n"
     ]
    }
   ],
   "source": [
    "# Mencetak semua nilai unik pada masing-masing kolom kategori\n",
    "for cat_col in categorical_columns:\n",
    "    print(\"Nilai unik untuk kolom \", cat_col.upper())\n",
    "    print(bank_df[cat_col].unique())\n",
    "    print('='*30)"
   ]
  },
  {
   "cell_type": "markdown",
   "id": "ddf49be5",
   "metadata": {},
   "source": [
    "Semua nilai di masing-masing atribut sudah sesuai dengan apa yang tertera dari deskripsi dataset yang diterima. Sehingga tidak ada **invalid values** pada kolom kategorikal. <br>\n",
    "Pada kelas target **y** juga hanya terdapat dua nilai unik yaitu **no** dan **yes** dan tidak terdapat **missing values**, sehingga **tidak diperlukan *dropping data*** karena ada kelas target yang missing values"
   ]
  },
  {
   "cell_type": "markdown",
   "id": "97e7a36c",
   "metadata": {},
   "source": [
    "## Melihat *unstandard missing values* pada kolom numerikal"
   ]
  },
  {
   "cell_type": "code",
   "execution_count": 16,
   "id": "c5dac998",
   "metadata": {},
   "outputs": [
    {
     "data": {
      "text/html": [
       "<div>\n",
       "<style scoped>\n",
       "    .dataframe tbody tr th:only-of-type {\n",
       "        vertical-align: middle;\n",
       "    }\n",
       "\n",
       "    .dataframe tbody tr th {\n",
       "        vertical-align: top;\n",
       "    }\n",
       "\n",
       "    .dataframe thead th {\n",
       "        text-align: right;\n",
       "    }\n",
       "</style>\n",
       "<table border=\"1\" class=\"dataframe\">\n",
       "  <thead>\n",
       "    <tr style=\"text-align: right;\">\n",
       "      <th></th>\n",
       "      <th>age</th>\n",
       "      <th>duration</th>\n",
       "      <th>campaign</th>\n",
       "      <th>pdays</th>\n",
       "      <th>previous</th>\n",
       "      <th>emp.var.rate</th>\n",
       "      <th>cons.price.idx</th>\n",
       "      <th>cons.conf.idx</th>\n",
       "      <th>euribor3m</th>\n",
       "      <th>nr.employed</th>\n",
       "    </tr>\n",
       "  </thead>\n",
       "  <tbody>\n",
       "    <tr>\n",
       "      <th>0</th>\n",
       "      <td>56</td>\n",
       "      <td>261</td>\n",
       "      <td>1</td>\n",
       "      <td>999</td>\n",
       "      <td>0</td>\n",
       "      <td>1.1</td>\n",
       "      <td>93994.0</td>\n",
       "      <td>-36.4</td>\n",
       "      <td>4857.0</td>\n",
       "      <td>5191.0</td>\n",
       "    </tr>\n",
       "    <tr>\n",
       "      <th>1</th>\n",
       "      <td>57</td>\n",
       "      <td>149</td>\n",
       "      <td>1</td>\n",
       "      <td>999</td>\n",
       "      <td>0</td>\n",
       "      <td>1.1</td>\n",
       "      <td>93994.0</td>\n",
       "      <td>-36.4</td>\n",
       "      <td>4857.0</td>\n",
       "      <td>5191.0</td>\n",
       "    </tr>\n",
       "    <tr>\n",
       "      <th>2</th>\n",
       "      <td>37</td>\n",
       "      <td>226</td>\n",
       "      <td>1</td>\n",
       "      <td>999</td>\n",
       "      <td>0</td>\n",
       "      <td>1.1</td>\n",
       "      <td>93994.0</td>\n",
       "      <td>-36.4</td>\n",
       "      <td>4857.0</td>\n",
       "      <td>5191.0</td>\n",
       "    </tr>\n",
       "    <tr>\n",
       "      <th>3</th>\n",
       "      <td>40</td>\n",
       "      <td>151</td>\n",
       "      <td>1</td>\n",
       "      <td>999</td>\n",
       "      <td>0</td>\n",
       "      <td>1.1</td>\n",
       "      <td>93994.0</td>\n",
       "      <td>-36.4</td>\n",
       "      <td>4857.0</td>\n",
       "      <td>5191.0</td>\n",
       "    </tr>\n",
       "    <tr>\n",
       "      <th>4</th>\n",
       "      <td>56</td>\n",
       "      <td>307</td>\n",
       "      <td>1</td>\n",
       "      <td>999</td>\n",
       "      <td>0</td>\n",
       "      <td>1.1</td>\n",
       "      <td>93994.0</td>\n",
       "      <td>-36.4</td>\n",
       "      <td>4857.0</td>\n",
       "      <td>5191.0</td>\n",
       "    </tr>\n",
       "  </tbody>\n",
       "</table>\n",
       "</div>"
      ],
      "text/plain": [
       "   age  duration  campaign  pdays  previous  emp.var.rate  cons.price.idx  \\\n",
       "0   56       261         1    999         0           1.1         93994.0   \n",
       "1   57       149         1    999         0           1.1         93994.0   \n",
       "2   37       226         1    999         0           1.1         93994.0   \n",
       "3   40       151         1    999         0           1.1         93994.0   \n",
       "4   56       307         1    999         0           1.1         93994.0   \n",
       "\n",
       "   cons.conf.idx  euribor3m  nr.employed  \n",
       "0          -36.4     4857.0       5191.0  \n",
       "1          -36.4     4857.0       5191.0  \n",
       "2          -36.4     4857.0       5191.0  \n",
       "3          -36.4     4857.0       5191.0  \n",
       "4          -36.4     4857.0       5191.0  "
      ]
     },
     "execution_count": 16,
     "metadata": {},
     "output_type": "execute_result"
    }
   ],
   "source": [
    "bank_df[\n",
    "    numerical_columns\n",
    "].head()"
   ]
  },
  {
   "cell_type": "markdown",
   "id": "254805aa",
   "metadata": {},
   "source": [
    "Terlihat bahwa atribut **pdays** ada nilai **999** yang menandakan klien sebelumnya tidak dihubungi. Ini bisa diganti dengan nilai **0**. Akan diperiksa juga nilai-nilai yang \"aneh\" untuk atribut numerikal lainnya"
   ]
  },
  {
   "cell_type": "code",
   "execution_count": 17,
   "id": "68ac0331",
   "metadata": {},
   "outputs": [
    {
     "name": "stdout",
     "output_type": "stream",
     "text": [
      "Nilai unik untuk kolom  AGE\n",
      "[56 57 37 40 45 59 41 24 25 29 35 54 46 50 39 30 55 49 34 52 58 32 38 44\n",
      " 42 60 53 47 51 48 33 31 43 36 28 27 26 22 23 20 21 61 19 18 70 66 76 67\n",
      " 73 88 95 77 68 75 63 80 62 65 72 82 64 71 69 78 85 79 83 81 74 17 87 91\n",
      " 86 98 94 84 92 89]\n",
      "==============================\n",
      "Nilai unik untuk kolom  DURATION\n",
      "[ 261  149  226 ... 1246 1556 1868]\n",
      "==============================\n",
      "Nilai unik untuk kolom  CAMPAIGN\n",
      "[ 1  2  3  4  5  6  7  8  9 10 11 12 13 19 18 23 14 22 25 16 17 15 20 56\n",
      " 39 35 42 28 26 27 32 21 24 29 31 30 41 37 40 33 34 43]\n",
      "==============================\n",
      "Nilai unik untuk kolom  PDAYS\n",
      "[999   6   4   3   5   1   0  10   7   8   9  11   2  12  13  14  15  16\n",
      "  21  17  18  22  25  26  19  27  20]\n",
      "==============================\n",
      "Nilai unik untuk kolom  PREVIOUS\n",
      "[0 1 2 3 4 5 6 7]\n",
      "==============================\n",
      "Nilai unik untuk kolom  EMP.VAR.RATE\n",
      "[ 1.1  1.4 -0.1 -0.2 -1.8 -2.9 -3.4 -3.  -1.7 -1.1]\n",
      "==============================\n",
      "Nilai unik untuk kolom  CONS.PRICE.IDX\n",
      "[9.3994e+04 9.4465e+04 9.3918e+04 9.3444e+04 9.3798e+04 9.3200e+01\n",
      " 9.2756e+04 9.2843e+04 9.3075e+04 9.2893e+04 9.2963e+04 9.2469e+04\n",
      " 9.2201e+04 9.2379e+04 9.2431e+04 9.2649e+04 9.2713e+04 9.3369e+04\n",
      " 9.3749e+04 9.3876e+04 9.4055e+04 9.4215e+04 9.4027e+04 9.4199e+04\n",
      " 9.4601e+04 9.4767e+04]\n",
      "==============================\n",
      "Nilai unik untuk kolom  CONS.CONF.IDX\n",
      "[-36.4 -41.8 -42.7 -36.1 -40.4 -42.  -45.9 -50.  -47.1 -46.2 -40.8 -33.6\n",
      " -31.4 -29.8 -26.9 -30.1 -33.  -34.8 -34.6 -40.  -39.8 -40.3 -38.3 -37.5\n",
      " -49.5 -50.8]\n",
      "==============================\n",
      "Nilai unik untuk kolom  EURIBOR3M\n",
      "[4.857e+03 4.856e+03 4.855e+03 4.859e+03 4.860e+00 4.858e+03 4.864e+03\n",
      " 4.865e+03 4.866e+03 4.967e+03 4.961e+03 4.959e+03 4.958e+03 4.960e+00\n",
      " 4.962e+03 4.955e+03 4.947e+03 4.956e+03 4.966e+03 4.963e+03 4.957e+03\n",
      " 4.968e+03 4.970e+00 4.965e+03 4.964e+03 5.045e+03 5.000e+00 4.936e+03\n",
      " 4.921e+03 4.918e+03 4.912e+03 4.827e+03 4.794e+03 4.760e+00 4.733e+03\n",
      " 4.700e+00 4.663e+03 4.592e+03 4.474e+03 4.406e+03 4.343e+03 4.286e+03\n",
      " 4.245e+03 4.223e+03 4.191e+03 4.153e+03 4.120e+00 4.076e+03 4.021e+03\n",
      " 3.901e+03 3.879e+03 3.853e+03 3.816e+03 3.743e+03 3.669e+03 3.563e+03\n",
      " 3.488e+03 3.428e+03 3.329e+03 3.282e+03 3.053e+03 1.811e+03 1.799e+03\n",
      " 1.778e+03 1.757e+03 1.726e+03 1.703e+03 1.687e+03 1.663e+03 1.650e+00\n",
      " 1.640e+00 1.629e+03 1.614e+03 1.602e+03 1.584e+03 1.574e+03 1.560e+00\n",
      " 1.556e+03 1.548e+03 1.538e+03 1.531e+03 1.520e+00 1.510e+00 1.498e+03\n",
      " 1.483e+03 1.479e+03 1.466e+03 1.453e+03 1.445e+03 1.435e+03 1.423e+03\n",
      " 1.415e+03 1.410e+00 1.405e+03 1.406e+03 1.400e+00 1.392e+03 1.384e+03\n",
      " 1.372e+03 1.365e+03 1.354e+03 1.344e+03 1.334e+03 1.327e+03 1.313e+03\n",
      " 1.299e+03 1.291e+03 1.281e+03 1.266e+03 1.250e+00 1.244e+03 1.259e+03\n",
      " 1.264e+03 1.270e+00 1.262e+03 1.260e+00 1.268e+03 1.286e+03 1.252e+03\n",
      " 1.235e+03 1.224e+03 1.215e+03 1.206e+03 1.099e+03 1.085e+03 1.072e+03\n",
      " 1.059e+03 1.048e+03 1.044e+03 1.029e+03 1.018e+03 1.007e+03 9.960e-01\n",
      " 9.790e-01 9.690e-01 9.440e-01 9.370e-01 9.330e-01 9.270e-01 9.210e-01\n",
      " 9.140e-01 9.080e-01 9.030e-01 8.990e-01 8.840e-01 8.830e-01 8.810e-01\n",
      " 8.790e-01 8.730e-01 8.690e-01 8.610e-01 8.590e-01 8.540e-01 8.510e-01\n",
      " 8.490e-01 8.430e-01 8.380e-01 8.340e-01 8.290e-01 8.250e-01 8.210e-01\n",
      " 8.190e-01 8.130e-01 8.090e-01 8.030e-01 7.970e-01 7.880e-01 7.810e-01\n",
      " 7.780e-01 7.730e-01 7.710e-01 7.700e-01 7.680e-01 7.660e-01 7.620e-01\n",
      " 7.550e-01 7.490e-01 7.430e-01 7.410e-01 7.390e-01 7.500e-01 7.530e-01\n",
      " 7.540e-01 7.520e-01 7.440e-01 7.400e-01 7.420e-01 7.370e-01 7.350e-01\n",
      " 7.330e-01 7.300e-01 7.310e-01 7.280e-01 7.240e-01 7.220e-01 7.200e-01\n",
      " 7.190e-01 7.160e-01 7.150e-01 7.140e-01 7.180e-01 7.210e-01 7.170e-01\n",
      " 7.120e-01 7.100e-01 7.090e-01 7.080e-01 7.060e-01 7.070e-01 7.000e-01\n",
      " 6.550e-01 6.540e-01 6.530e-01 6.520e-01 6.510e-01 6.500e-01 6.490e-01\n",
      " 6.460e-01 6.440e-01 6.430e-01 6.390e-01 6.370e-01 6.350e-01 6.360e-01\n",
      " 6.340e-01 6.380e-01 6.400e-01 6.420e-01 6.450e-01 6.590e-01 6.630e-01\n",
      " 6.680e-01 6.720e-01 6.770e-01 6.820e-01 6.830e-01 6.840e-01 6.850e-01\n",
      " 6.880e-01 6.900e-01 6.920e-01 6.950e-01 6.970e-01 6.990e-01 7.010e-01\n",
      " 7.020e-01 7.040e-01 7.110e-01 7.130e-01 7.230e-01 7.270e-01 7.290e-01\n",
      " 7.320e-01 7.480e-01 7.610e-01 7.670e-01 7.820e-01 7.900e-01 7.930e-01\n",
      " 8.020e-01 8.100e-01 8.220e-01 8.270e-01 8.350e-01 8.400e-01 8.460e-01\n",
      " 8.700e-01 8.760e-01 8.850e-01 8.890e-01 8.930e-01 8.960e-01 8.980e-01\n",
      " 9.000e-01 9.040e-01 9.050e-01 8.950e-01 8.940e-01 8.910e-01 8.900e-01\n",
      " 8.880e-01 8.860e-01 8.820e-01 8.800e-01 8.780e-01 8.770e-01 9.420e-01\n",
      " 9.530e-01 9.560e-01 9.590e-01 9.650e-01 9.720e-01 9.770e-01 9.820e-01\n",
      " 9.850e-01 9.870e-01 9.930e-01 1.000e+00 1.008e+03 1.016e+03 1.025e+03\n",
      " 1.032e+03 1.037e+03 1.043e+03 1.045e+03 1.047e+03 1.050e+00 1.049e+03\n",
      " 1.046e+03 1.041e+03 1.040e+00 1.039e+03 1.035e+03 1.030e+00 1.031e+03\n",
      " 1.028e+03]\n",
      "==============================\n",
      "Nilai unik untuk kolom  NR.EMPLOYED\n",
      "[5191.  5228.1 5195.8 5176.3 5099.1 5076.2 5017.5 5023.5 5008.7 4991.6\n",
      " 4963.6]\n",
      "==============================\n"
     ]
    }
   ],
   "source": [
    "# Mencetak semua nilai unik pada setiap atribut numerikal\n",
    "for num_col in numerical_columns:\n",
    "    print(\"Nilai unik untuk kolom \", num_col.upper())\n",
    "    print(bank_df[num_col].unique())\n",
    "    print('='*30)"
   ]
  },
  {
   "cell_type": "markdown",
   "id": "ef5ae7c1",
   "metadata": {},
   "source": [
    "Semua nilai yang ada untuk setiap kolom numerik tidak ada keanehan dengan nilai-nilai yang lainnya. Hanya **pdays** yang memiliki nilai yang aneh yaitu **999**, sehingga nilai ini akan diganti menjadi **0** (sesuai deskripsi dataset yang diterima)"
   ]
  },
  {
   "cell_type": "code",
   "execution_count": 18,
   "id": "5f09f19a",
   "metadata": {},
   "outputs": [],
   "source": [
    "# mengganti nilai 999 pada pdays \n",
    "bank_df['pdays'].replace(999,0,inplace=True)"
   ]
  },
  {
   "cell_type": "markdown",
   "id": "c2569502",
   "metadata": {},
   "source": [
    "## Merangkum total missing values (nan) values"
   ]
  },
  {
   "cell_type": "code",
   "execution_count": 19,
   "id": "4266bac6",
   "metadata": {},
   "outputs": [
    {
     "name": "stdout",
     "output_type": "stream",
     "text": [
      "Jumlah nan missing values atribut kategori =  12718\n",
      "Jumlah nan missing values atribut numerikal =  0\n"
     ]
    }
   ],
   "source": [
    "# missing values pada data train\n",
    "print(\"Jumlah nan missing values atribut kategori = \",bank_df[categorical_columns].isnull().sum().sum())\n",
    "print(\"Jumlah nan missing values atribut numerikal = \",bank_df[numerical_columns].isnull().sum().sum())"
   ]
  },
  {
   "cell_type": "markdown",
   "id": "d9a7412c",
   "metadata": {},
   "source": [
    "Hanya data kategorikal yang mengandung missing values dan data numerikal tidak mengandung missing values. Akan dilakukan strageti penanganan missing values untuk data kategorikal"
   ]
  },
  {
   "cell_type": "markdown",
   "id": "afcbb080",
   "metadata": {},
   "source": [
    "## Penanganan Missing Values\n",
    "***\n",
    "Untuk data kategorikal, *missing values* akan diisi dengan modus dari atribut X, sedangkan untuk data numerikal *missing values* akan diisi dengan median dari atribut Z."
   ]
  },
  {
   "cell_type": "markdown",
   "id": "8f606e24",
   "metadata": {},
   "source": [
    "### Pisahkan data yang bertipe kategorik dan numerik"
   ]
  },
  {
   "cell_type": "code",
   "execution_count": 20,
   "id": "4d095c7f",
   "metadata": {},
   "outputs": [],
   "source": [
    "# categorical data\n",
    "bank_df_categorical = bank_df[categorical_columns]\n",
    "\n",
    "# numerical data\n",
    "bank_df_numerical = bank_df[numerical_columns]"
   ]
  },
  {
   "cell_type": "markdown",
   "id": "d04ad977",
   "metadata": {},
   "source": [
    "### Instansiasi kelas Imputer untuk filling nan pada atribut kategorikal"
   ]
  },
  {
   "cell_type": "code",
   "execution_count": 21,
   "id": "6555890c",
   "metadata": {},
   "outputs": [],
   "source": [
    "# instansiasi kelas SimpleImputer untuk imputer atribut kategorikal\n",
    "imputer_categorical = SimpleImputer(missing_values=np.nan, strategy='most_frequent')"
   ]
  },
  {
   "cell_type": "markdown",
   "id": "11da1f6b",
   "metadata": {},
   "source": [
    "### Fit data training categorical into imputer, transform into training and testing categorical"
   ]
  },
  {
   "cell_type": "code",
   "execution_count": 22,
   "id": "74c0d639",
   "metadata": {},
   "outputs": [
    {
     "data": {
      "text/plain": [
       "SimpleImputer(strategy='most_frequent')"
      ]
     },
     "execution_count": 22,
     "metadata": {},
     "output_type": "execute_result"
    }
   ],
   "source": [
    "# fit dengan data training\n",
    "imputer_categorical.fit(bank_df_categorical)"
   ]
  },
  {
   "cell_type": "code",
   "execution_count": 23,
   "id": "6095f148",
   "metadata": {},
   "outputs": [],
   "source": [
    "# transform ke data latih\n",
    "bank_df_categorical = imputer_categorical.transform(bank_df_categorical)"
   ]
  },
  {
   "cell_type": "markdown",
   "id": "2d5c999b",
   "metadata": {},
   "source": [
    "### Buat numpy array hasil imputer transform ke dalam dataframe"
   ]
  },
  {
   "cell_type": "code",
   "execution_count": 24,
   "id": "cd5cc13a",
   "metadata": {},
   "outputs": [],
   "source": [
    "# buat hasil array ke dalam dataframe\n",
    "bank_df_categorical = pd.DataFrame(bank_df_categorical,columns=categorical_columns)"
   ]
  },
  {
   "cell_type": "markdown",
   "id": "8fc12c5a",
   "metadata": {},
   "source": [
    "### Concate categorical columns dengan numerical columns"
   ]
  },
  {
   "cell_type": "code",
   "execution_count": 25,
   "id": "b39f603e",
   "metadata": {},
   "outputs": [],
   "source": [
    "bank_df = pd.concat([bank_df_numerical,bank_df_categorical],axis=1)"
   ]
  },
  {
   "cell_type": "markdown",
   "id": "bd3980ec",
   "metadata": {},
   "source": [
    "### Check kalau masih ada missing values terlewat"
   ]
  },
  {
   "cell_type": "code",
   "execution_count": 26,
   "id": "07e3dd94",
   "metadata": {},
   "outputs": [
    {
     "name": "stdout",
     "output_type": "stream",
     "text": [
      "Jumlah nan missing values atribut kategori =  0\n",
      "Jumlah nan missing values atribut numerikal =  0\n"
     ]
    }
   ],
   "source": [
    "# missing values pada data train\n",
    "print(\"Jumlah nan missing values atribut kategori = \",bank_df[categorical_columns].isnull().sum().sum())\n",
    "print(\"Jumlah nan missing values atribut numerikal = \",bank_df[numerical_columns].isnull().sum().sum())"
   ]
  },
  {
   "cell_type": "markdown",
   "id": "1dcec603",
   "metadata": {},
   "source": [
    "Setelah dilakukan imputasi, **tidak ada missing values** yang tersisa"
   ]
  },
  {
   "cell_type": "markdown",
   "id": "bdc03c41",
   "metadata": {},
   "source": [
    "### Rename nama atribut pada data"
   ]
  },
  {
   "cell_type": "code",
   "execution_count": 27,
   "id": "2e565955",
   "metadata": {},
   "outputs": [],
   "source": [
    "bank_df.rename(columns={\n",
    "    'job':'pekerjaan',\n",
    "    'marital':'pernikahan',\n",
    "    'education':'pendidikan',\n",
    "    'default':'kredit_default',\n",
    "    'housing':'pinjaman_rumah',\n",
    "    'loan':'pinjaman_pribadi',\n",
    "    'contact':'alat_komunikasi',\n",
    "    'month':'kontak_terakhir_bulan',\n",
    "    'day_of_week':'kontak_terakhir_hari',\n",
    "    'poutcome':'luaran_marketing_sebelumnya',\n",
    "    'y':'berlangganan_deposito',\n",
    "    'age':'umur',\n",
    "    'duration':'kontak_terakhir_berdurasi',\n",
    "    'campaign':'jumlah_kontak_selama_pemasaran',\n",
    "    'pdays':'jumlah_hari_berlalu',\n",
    "    'previous':'jumlah_kontak_sebelum_pemasaran',\n",
    "    'emp.var.rate':'tingkat_variasi_pekerjaan',\n",
    "    'cons.price.idx':'indeks_harga_konsumen',\n",
    "    'cons.conf.idx':'indeks_kepercayaan_konsumen',\n",
    "    'euribor3m':'tarif_euribor_3bulan',\n",
    "    'nr.employed':'jumlah_karyawan',\n",
    "},inplace=True)"
   ]
  },
  {
   "cell_type": "markdown",
   "id": "93b10623",
   "metadata": {},
   "source": [
    "### Menampilkan 5 data teratas setelah imputasi missing values pada categorical columns"
   ]
  },
  {
   "cell_type": "code",
   "execution_count": 28,
   "id": "17b715f8",
   "metadata": {},
   "outputs": [
    {
     "data": {
      "text/html": [
       "<div>\n",
       "<style scoped>\n",
       "    .dataframe tbody tr th:only-of-type {\n",
       "        vertical-align: middle;\n",
       "    }\n",
       "\n",
       "    .dataframe tbody tr th {\n",
       "        vertical-align: top;\n",
       "    }\n",
       "\n",
       "    .dataframe thead th {\n",
       "        text-align: right;\n",
       "    }\n",
       "</style>\n",
       "<table border=\"1\" class=\"dataframe\">\n",
       "  <thead>\n",
       "    <tr style=\"text-align: right;\">\n",
       "      <th></th>\n",
       "      <th>umur</th>\n",
       "      <th>kontak_terakhir_berdurasi</th>\n",
       "      <th>jumlah_kontak_selama_pemasaran</th>\n",
       "      <th>jumlah_hari_berlalu</th>\n",
       "      <th>jumlah_kontak_sebelum_pemasaran</th>\n",
       "      <th>tingkat_variasi_pekerjaan</th>\n",
       "      <th>indeks_harga_konsumen</th>\n",
       "      <th>indeks_kepercayaan_konsumen</th>\n",
       "      <th>tarif_euribor_3bulan</th>\n",
       "      <th>jumlah_karyawan</th>\n",
       "      <th>...</th>\n",
       "      <th>pernikahan</th>\n",
       "      <th>pendidikan</th>\n",
       "      <th>kredit_default</th>\n",
       "      <th>pinjaman_rumah</th>\n",
       "      <th>pinjaman_pribadi</th>\n",
       "      <th>alat_komunikasi</th>\n",
       "      <th>kontak_terakhir_bulan</th>\n",
       "      <th>kontak_terakhir_hari</th>\n",
       "      <th>luaran_marketing_sebelumnya</th>\n",
       "      <th>berlangganan_deposito</th>\n",
       "    </tr>\n",
       "  </thead>\n",
       "  <tbody>\n",
       "    <tr>\n",
       "      <th>0</th>\n",
       "      <td>56</td>\n",
       "      <td>261</td>\n",
       "      <td>1</td>\n",
       "      <td>0</td>\n",
       "      <td>0</td>\n",
       "      <td>1.1</td>\n",
       "      <td>93994.0</td>\n",
       "      <td>-36.4</td>\n",
       "      <td>4857.0</td>\n",
       "      <td>5191.0</td>\n",
       "      <td>...</td>\n",
       "      <td>married</td>\n",
       "      <td>basic.4y</td>\n",
       "      <td>no</td>\n",
       "      <td>no</td>\n",
       "      <td>no</td>\n",
       "      <td>telephone</td>\n",
       "      <td>may</td>\n",
       "      <td>mon</td>\n",
       "      <td>nonexistent</td>\n",
       "      <td>no</td>\n",
       "    </tr>\n",
       "    <tr>\n",
       "      <th>1</th>\n",
       "      <td>57</td>\n",
       "      <td>149</td>\n",
       "      <td>1</td>\n",
       "      <td>0</td>\n",
       "      <td>0</td>\n",
       "      <td>1.1</td>\n",
       "      <td>93994.0</td>\n",
       "      <td>-36.4</td>\n",
       "      <td>4857.0</td>\n",
       "      <td>5191.0</td>\n",
       "      <td>...</td>\n",
       "      <td>married</td>\n",
       "      <td>high.school</td>\n",
       "      <td>no</td>\n",
       "      <td>no</td>\n",
       "      <td>no</td>\n",
       "      <td>telephone</td>\n",
       "      <td>may</td>\n",
       "      <td>mon</td>\n",
       "      <td>nonexistent</td>\n",
       "      <td>no</td>\n",
       "    </tr>\n",
       "    <tr>\n",
       "      <th>2</th>\n",
       "      <td>37</td>\n",
       "      <td>226</td>\n",
       "      <td>1</td>\n",
       "      <td>0</td>\n",
       "      <td>0</td>\n",
       "      <td>1.1</td>\n",
       "      <td>93994.0</td>\n",
       "      <td>-36.4</td>\n",
       "      <td>4857.0</td>\n",
       "      <td>5191.0</td>\n",
       "      <td>...</td>\n",
       "      <td>married</td>\n",
       "      <td>high.school</td>\n",
       "      <td>no</td>\n",
       "      <td>yes</td>\n",
       "      <td>no</td>\n",
       "      <td>telephone</td>\n",
       "      <td>may</td>\n",
       "      <td>mon</td>\n",
       "      <td>nonexistent</td>\n",
       "      <td>no</td>\n",
       "    </tr>\n",
       "    <tr>\n",
       "      <th>3</th>\n",
       "      <td>40</td>\n",
       "      <td>151</td>\n",
       "      <td>1</td>\n",
       "      <td>0</td>\n",
       "      <td>0</td>\n",
       "      <td>1.1</td>\n",
       "      <td>93994.0</td>\n",
       "      <td>-36.4</td>\n",
       "      <td>4857.0</td>\n",
       "      <td>5191.0</td>\n",
       "      <td>...</td>\n",
       "      <td>married</td>\n",
       "      <td>basic.6y</td>\n",
       "      <td>no</td>\n",
       "      <td>no</td>\n",
       "      <td>no</td>\n",
       "      <td>telephone</td>\n",
       "      <td>may</td>\n",
       "      <td>mon</td>\n",
       "      <td>nonexistent</td>\n",
       "      <td>no</td>\n",
       "    </tr>\n",
       "    <tr>\n",
       "      <th>4</th>\n",
       "      <td>56</td>\n",
       "      <td>307</td>\n",
       "      <td>1</td>\n",
       "      <td>0</td>\n",
       "      <td>0</td>\n",
       "      <td>1.1</td>\n",
       "      <td>93994.0</td>\n",
       "      <td>-36.4</td>\n",
       "      <td>4857.0</td>\n",
       "      <td>5191.0</td>\n",
       "      <td>...</td>\n",
       "      <td>married</td>\n",
       "      <td>high.school</td>\n",
       "      <td>no</td>\n",
       "      <td>no</td>\n",
       "      <td>yes</td>\n",
       "      <td>telephone</td>\n",
       "      <td>may</td>\n",
       "      <td>mon</td>\n",
       "      <td>nonexistent</td>\n",
       "      <td>no</td>\n",
       "    </tr>\n",
       "  </tbody>\n",
       "</table>\n",
       "<p>5 rows × 21 columns</p>\n",
       "</div>"
      ],
      "text/plain": [
       "   umur  kontak_terakhir_berdurasi  jumlah_kontak_selama_pemasaran  \\\n",
       "0    56                        261                               1   \n",
       "1    57                        149                               1   \n",
       "2    37                        226                               1   \n",
       "3    40                        151                               1   \n",
       "4    56                        307                               1   \n",
       "\n",
       "   jumlah_hari_berlalu  jumlah_kontak_sebelum_pemasaran  \\\n",
       "0                    0                                0   \n",
       "1                    0                                0   \n",
       "2                    0                                0   \n",
       "3                    0                                0   \n",
       "4                    0                                0   \n",
       "\n",
       "   tingkat_variasi_pekerjaan  indeks_harga_konsumen  \\\n",
       "0                        1.1                93994.0   \n",
       "1                        1.1                93994.0   \n",
       "2                        1.1                93994.0   \n",
       "3                        1.1                93994.0   \n",
       "4                        1.1                93994.0   \n",
       "\n",
       "   indeks_kepercayaan_konsumen  tarif_euribor_3bulan  jumlah_karyawan  ...  \\\n",
       "0                        -36.4                4857.0           5191.0  ...   \n",
       "1                        -36.4                4857.0           5191.0  ...   \n",
       "2                        -36.4                4857.0           5191.0  ...   \n",
       "3                        -36.4                4857.0           5191.0  ...   \n",
       "4                        -36.4                4857.0           5191.0  ...   \n",
       "\n",
       "  pernikahan   pendidikan kredit_default pinjaman_rumah pinjaman_pribadi  \\\n",
       "0    married     basic.4y             no             no               no   \n",
       "1    married  high.school             no             no               no   \n",
       "2    married  high.school             no            yes               no   \n",
       "3    married     basic.6y             no             no               no   \n",
       "4    married  high.school             no             no              yes   \n",
       "\n",
       "  alat_komunikasi kontak_terakhir_bulan kontak_terakhir_hari  \\\n",
       "0       telephone                   may                  mon   \n",
       "1       telephone                   may                  mon   \n",
       "2       telephone                   may                  mon   \n",
       "3       telephone                   may                  mon   \n",
       "4       telephone                   may                  mon   \n",
       "\n",
       "  luaran_marketing_sebelumnya berlangganan_deposito  \n",
       "0                 nonexistent                    no  \n",
       "1                 nonexistent                    no  \n",
       "2                 nonexistent                    no  \n",
       "3                 nonexistent                    no  \n",
       "4                 nonexistent                    no  \n",
       "\n",
       "[5 rows x 21 columns]"
      ]
     },
     "execution_count": 28,
     "metadata": {},
     "output_type": "execute_result"
    }
   ],
   "source": [
    "bank_df.head()"
   ]
  },
  {
   "cell_type": "markdown",
   "id": "7995b98e",
   "metadata": {},
   "source": [
    "# Eksplorasi Data (Visualisasi)"
   ]
  },
  {
   "cell_type": "markdown",
   "id": "2c4eeaa8",
   "metadata": {},
   "source": [
    "## Berapa persentase setiap nilai pada kelas target?"
   ]
  },
  {
   "cell_type": "code",
   "execution_count": 29,
   "id": "db6b2d8e",
   "metadata": {},
   "outputs": [
    {
     "data": {
      "text/plain": [
       "no     36548\n",
       "yes     4640\n",
       "Name: berlangganan_deposito, dtype: int64"
      ]
     },
     "execution_count": 29,
     "metadata": {},
     "output_type": "execute_result"
    }
   ],
   "source": [
    "bank_df['berlangganan_deposito'].value_counts()"
   ]
  },
  {
   "cell_type": "code",
   "execution_count": 30,
   "id": "06965369",
   "metadata": {},
   "outputs": [
    {
     "data": {
      "text/plain": [
       "<matplotlib.legend.Legend at 0x1620a5386c8>"
      ]
     },
     "execution_count": 30,
     "metadata": {},
     "output_type": "execute_result"
    },
    {
     "data": {
      "image/png": "[encoded data removed]",
      "text/plain": [
       "<Figure size 1152x432 with 2 Axes>"
      ]
     },
     "metadata": {
      "needs_background": "light"
     },
     "output_type": "display_data"
    }
   ],
   "source": [
    "fig, ax = plt.subplots(1,2,figsize=(16,6))\n",
    "\n",
    "# persentase \"berlangganan deposito\"\n",
    "bank_df['berlangganan_deposito'].value_counts().plot(\n",
    "    kind='pie',\n",
    "    autopct='%.1f%%',\n",
    "    explode=[0,0.05], \n",
    "    cmap='cool',\n",
    "    shadow=True,\n",
    "    ax=ax[0]\n",
    ")\n",
    "ax[0].set_title('Persentase Berlangganan Deposito')\n",
    "ax[0].set_ylabel('')\n",
    "\n",
    "# Barchart besaran setiap nilai pada kelas target\n",
    "bank_df.groupby('berlangganan_deposito').agg({'berlangganan_deposito':'count'}).plot(\n",
    "    kind='bar',\n",
    "    ax=ax[1]\n",
    ")\n",
    "ax[1].set_title('Jumlah masing-masing kelas pada label')\n",
    "ax[1].set_ylabel('Jumlah')\n",
    "ax[1].set_xlabel('Berlangganan Deposito')\n",
    "ax[1].legend(title='Deposit')"
   ]
  },
  {
   "cell_type": "markdown",
   "id": "aaf152e0",
   "metadata": {},
   "source": [
    "Terlihat bahwa dari data yang diperoleh, ada ketidakseimbangan proporsi dari setiap nilai pada label kelas. Hal ini mungkin akan berpengaruh kepada hasil *recall* klasifikasi yang rendah. Undersampling bisa jadi opsi ketika performa model klasifikasi tidak cukup bagus untuk mengenali kelas 'yes' <br>\n",
    "Nilai **yes** bahkan **7x lebih sedikit** dibandingkan nilai **no**."
   ]
  },
  {
   "cell_type": "markdown",
   "id": "a244588f",
   "metadata": {},
   "source": [
    "## Bagaimana kecenderungan berlangganan deposit dilihat dari status pernikahan?"
   ]
  },
  {
   "cell_type": "code",
   "execution_count": 31,
   "id": "c3fee585",
   "metadata": {},
   "outputs": [
    {
     "data": {
      "text/plain": [
       "<matplotlib.legend.Legend at 0x1620ab6c048>"
      ]
     },
     "execution_count": 31,
     "metadata": {},
     "output_type": "execute_result"
    },
    {
     "data": {
      "image/png": "[encoded data removed]",
      "text/plain": [
       "<Figure size 1152x432 with 2 Axes>"
      ]
     },
     "metadata": {
      "needs_background": "light"
     },
     "output_type": "display_data"
    }
   ],
   "source": [
    "fig, ax = plt.subplots(1,2,figsize=(16,6))\n",
    "\n",
    "# persentase \"marital\"\n",
    "bank_df['pernikahan'].value_counts().plot(\n",
    "    kind='pie', \n",
    "    ax=ax[0], \n",
    "    autopct='%.1f%%',\n",
    "    explode=[0,0.05,0.05], \n",
    "    cmap='coolwarm',\n",
    "    shadow=True,\n",
    ")\n",
    "ax[0].set_title('Persentase Customer berdasarkan status pernikahan')\n",
    "ax[0].set_ylabel('')\n",
    "\n",
    "# Barchart besaran setiap status pernikahan terhadap setiap kelas target\n",
    "sns.countplot(\n",
    "    x='pernikahan',\n",
    "    hue='berlangganan_deposito',\n",
    "    data=bank_df\n",
    ")\n",
    "ax[1].set_title('Jumlah status pernikahan terhadap berlangganan deposito')\n",
    "ax[1].set_ylabel('Jumlah')\n",
    "ax[1].set_xlabel('Status Pernikahan')\n",
    "ax[1].legend(title='Deposit')"
   ]
  },
  {
   "cell_type": "markdown",
   "id": "daff3af6",
   "metadata": {},
   "source": [
    "Data didominasi oleh status pernikahan \"married\". Status pernikahan ini memberikan jumlah berlangganan deposit untuk kelas 'No' dan 'Yes' tertinggi dibanding 2 status pernikahan lainnya."
   ]
  },
  {
   "cell_type": "markdown",
   "id": "e47c43f5",
   "metadata": {},
   "source": [
    "# Preprocessing Datasets sebelum Modelling"
   ]
  },
  {
   "cell_type": "markdown",
   "id": "2c49a7d6",
   "metadata": {},
   "source": [
    "## Encoding Variabel Kategorik \n",
    "***\n",
    "Atribut yang bertipe kategorikan akan dipisahkan menjadi tipe ordinal dan nominal. Tipe ordinal adalah ada tingkatan diantara nilainya, sedangkan pada tipe nominal tidak terdapat tingkatan diantara nilainya dan semua nilai dianggap setara. <br>\n",
    "Berikut ini adalah 12 atribut dengan tipe kategorikal: <br>\n",
    "1. job <br>\n",
    "(\"admin.\",\"blue-collar\",\"entrepreneur\",\"housemaid\",\"management\",\"retired\",\"self-employed\",\"services\",\"student\",\"technician\",\"unemployed\",\"unknown\")\n",
    "2. marital <br>\n",
    "(\"divorced\",\"married\",\"single\",\"unknown\") <br>\n",
    "note: \"divorced\" means divorced or widowed\n",
    "3. education <br>\n",
    "(\"basic.4y\",\"basic.6y\",\"basic.9y\",\"high.school\",\"illiterate\",\"professional.course\",\"university.degree\",\"unknown\")\n",
    "4. default <br>\n",
    "(\"no\",\"yes\",\"unknown\")\n",
    "5. housing <br>\n",
    "(\"no\",\"yes\",\"unknown\")\n",
    "6. loan <br>\n",
    "(\"no\",\"yes\",\"unknown\")\n",
    "7. contact <br>\n",
    "(\"cellular\",\"telephone\")\n",
    "9. month <br>\n",
    "(\"jan\", \"feb\", \"mar\", ..., \"nov\", \"dec\")\n",
    "10. day_of_week <br>\n",
    "(\"mon\",\"tue\",\"wed\",\"thu\",\"fri\")\n",
    "11. poutcome <br>\n",
    "(\"failure\",\"nonexistent\",\"success\")\n",
    "12. y (target) <br>\n",
    "(\"yes\",\"no\")\n",
    "\n",
    "Dari sini akan dibagi menjadi: <br>\n",
    "**Nominal Atribut** : (job, education, contact, month, day_of_week, poutcome) <br>\n",
    "**Ordinal Atribut** : (marital, default, housing, loan, y) <br>\n",
    "\n",
    "Atribut bertipe **nominal** akan dilakukan one-hot encoding, sedangkan atribut bertipe **ordinal** akan dilakukan label encoding"
   ]
  },
  {
   "cell_type": "markdown",
   "id": "7b1fce1f",
   "metadata": {},
   "source": [
    "### Mengelompokkan atribut berdasarkan tipe datanya"
   ]
  },
  {
   "cell_type": "code",
   "execution_count": 36,
   "id": "85c659bf",
   "metadata": {},
   "outputs": [],
   "source": [
    "numerical_columns = list(bank_df.select_dtypes(include=['int64']).columns.values) + list(bank_df.select_dtypes(include=['float64']).columns.values)\n",
    "categorical_columns = list(bank_df.select_dtypes(include=['object']))"
   ]
  },
  {
   "cell_type": "code",
   "execution_count": 37,
   "id": "06eed327",
   "metadata": {},
   "outputs": [],
   "source": [
    "# memilih atribut nominal dari atribut kategori\n",
    "nominal_columns = ['pekerjaan', 'pendidikan', 'alat_komunikasi', 'kontak_terakhir_bulan', 'kontak_terakhir_hari', 'luaran_marketing_sebelumnya']\n",
    "ordinal_columns = [col for col in categorical_columns if col not in nominal_columns]"
   ]
  },
  {
   "cell_type": "markdown",
   "id": "73628243",
   "metadata": {},
   "source": [
    "### One Hot Encoding untuk Nominal Atribut"
   ]
  },
  {
   "cell_type": "code",
   "execution_count": 38,
   "id": "4a0cbbc7",
   "metadata": {},
   "outputs": [],
   "source": [
    "# one hot encoding pada data untuk nominal columns\n",
    "ohe_bank_df = pd.get_dummies(bank_df[nominal_columns], columns=nominal_columns, prefix=nominal_columns)"
   ]
  },
  {
   "cell_type": "markdown",
   "id": "2d55b5fa",
   "metadata": {},
   "source": [
    "### Label Enconding untuk ordinal atribut"
   ]
  },
  {
   "cell_type": "code",
   "execution_count": 39,
   "id": "18cf09a0",
   "metadata": {},
   "outputs": [],
   "source": [
    "le_bank_df = bank_df.loc[:,ordinal_columns]\n",
    "# instansiasi kelas LabelEncoder\n",
    "encoder = LabelEncoder()"
   ]
  },
  {
   "cell_type": "code",
   "execution_count": 40,
   "id": "638e2113",
   "metadata": {},
   "outputs": [],
   "source": [
    "# label encoding\n",
    "for ord_col in ordinal_columns:\n",
    "    le_bank_df[ord_col] = encoder.fit_transform(le_bank_df[ord_col])"
   ]
  },
  {
   "cell_type": "markdown",
   "id": "767146a3",
   "metadata": {},
   "source": [
    "### Concatination data hasil one hot encoding dan label encoding menjadi 1 dataframe"
   ]
  },
  {
   "cell_type": "code",
   "execution_count": 41,
   "id": "30afa949",
   "metadata": {},
   "outputs": [],
   "source": [
    "bank_df_categorical_encoded = pd.concat([ohe_bank_df,le_bank_df],axis=1)"
   ]
  },
  {
   "cell_type": "markdown",
   "id": "2bac3b3a",
   "metadata": {},
   "source": [
    "### Menampilkan 5 data teratas hasil encoding"
   ]
  },
  {
   "cell_type": "code",
   "execution_count": 42,
   "id": "da2a8a9e",
   "metadata": {},
   "outputs": [
    {
     "data": {
      "text/html": [
       "<div>\n",
       "<style scoped>\n",
       "    .dataframe tbody tr th:only-of-type {\n",
       "        vertical-align: middle;\n",
       "    }\n",
       "\n",
       "    .dataframe tbody tr th {\n",
       "        vertical-align: top;\n",
       "    }\n",
       "\n",
       "    .dataframe thead th {\n",
       "        text-align: right;\n",
       "    }\n",
       "</style>\n",
       "<table border=\"1\" class=\"dataframe\">\n",
       "  <thead>\n",
       "    <tr style=\"text-align: right;\">\n",
       "      <th></th>\n",
       "      <th>pekerjaan_admin.</th>\n",
       "      <th>pekerjaan_blue-collar</th>\n",
       "      <th>pekerjaan_entrepreneur</th>\n",
       "      <th>pekerjaan_housemaid</th>\n",
       "      <th>pekerjaan_management</th>\n",
       "      <th>pekerjaan_retired</th>\n",
       "      <th>pekerjaan_self-employed</th>\n",
       "      <th>pekerjaan_services</th>\n",
       "      <th>pekerjaan_student</th>\n",
       "      <th>pekerjaan_technician</th>\n",
       "      <th>...</th>\n",
       "      <th>kontak_terakhir_hari_tue</th>\n",
       "      <th>kontak_terakhir_hari_wed</th>\n",
       "      <th>luaran_marketing_sebelumnya_failure</th>\n",
       "      <th>luaran_marketing_sebelumnya_nonexistent</th>\n",
       "      <th>luaran_marketing_sebelumnya_success</th>\n",
       "      <th>pernikahan</th>\n",
       "      <th>kredit_default</th>\n",
       "      <th>pinjaman_rumah</th>\n",
       "      <th>pinjaman_pribadi</th>\n",
       "      <th>berlangganan_deposito</th>\n",
       "    </tr>\n",
       "  </thead>\n",
       "  <tbody>\n",
       "    <tr>\n",
       "      <th>0</th>\n",
       "      <td>0</td>\n",
       "      <td>0</td>\n",
       "      <td>0</td>\n",
       "      <td>1</td>\n",
       "      <td>0</td>\n",
       "      <td>0</td>\n",
       "      <td>0</td>\n",
       "      <td>0</td>\n",
       "      <td>0</td>\n",
       "      <td>0</td>\n",
       "      <td>...</td>\n",
       "      <td>0</td>\n",
       "      <td>0</td>\n",
       "      <td>0</td>\n",
       "      <td>1</td>\n",
       "      <td>0</td>\n",
       "      <td>1</td>\n",
       "      <td>0</td>\n",
       "      <td>0</td>\n",
       "      <td>0</td>\n",
       "      <td>0</td>\n",
       "    </tr>\n",
       "    <tr>\n",
       "      <th>1</th>\n",
       "      <td>0</td>\n",
       "      <td>0</td>\n",
       "      <td>0</td>\n",
       "      <td>0</td>\n",
       "      <td>0</td>\n",
       "      <td>0</td>\n",
       "      <td>0</td>\n",
       "      <td>1</td>\n",
       "      <td>0</td>\n",
       "      <td>0</td>\n",
       "      <td>...</td>\n",
       "      <td>0</td>\n",
       "      <td>0</td>\n",
       "      <td>0</td>\n",
       "      <td>1</td>\n",
       "      <td>0</td>\n",
       "      <td>1</td>\n",
       "      <td>0</td>\n",
       "      <td>0</td>\n",
       "      <td>0</td>\n",
       "      <td>0</td>\n",
       "    </tr>\n",
       "    <tr>\n",
       "      <th>2</th>\n",
       "      <td>0</td>\n",
       "      <td>0</td>\n",
       "      <td>0</td>\n",
       "      <td>0</td>\n",
       "      <td>0</td>\n",
       "      <td>0</td>\n",
       "      <td>0</td>\n",
       "      <td>1</td>\n",
       "      <td>0</td>\n",
       "      <td>0</td>\n",
       "      <td>...</td>\n",
       "      <td>0</td>\n",
       "      <td>0</td>\n",
       "      <td>0</td>\n",
       "      <td>1</td>\n",
       "      <td>0</td>\n",
       "      <td>1</td>\n",
       "      <td>0</td>\n",
       "      <td>1</td>\n",
       "      <td>0</td>\n",
       "      <td>0</td>\n",
       "    </tr>\n",
       "    <tr>\n",
       "      <th>3</th>\n",
       "      <td>1</td>\n",
       "      <td>0</td>\n",
       "      <td>0</td>\n",
       "      <td>0</td>\n",
       "      <td>0</td>\n",
       "      <td>0</td>\n",
       "      <td>0</td>\n",
       "      <td>0</td>\n",
       "      <td>0</td>\n",
       "      <td>0</td>\n",
       "      <td>...</td>\n",
       "      <td>0</td>\n",
       "      <td>0</td>\n",
       "      <td>0</td>\n",
       "      <td>1</td>\n",
       "      <td>0</td>\n",
       "      <td>1</td>\n",
       "      <td>0</td>\n",
       "      <td>0</td>\n",
       "      <td>0</td>\n",
       "      <td>0</td>\n",
       "    </tr>\n",
       "    <tr>\n",
       "      <th>4</th>\n",
       "      <td>0</td>\n",
       "      <td>0</td>\n",
       "      <td>0</td>\n",
       "      <td>0</td>\n",
       "      <td>0</td>\n",
       "      <td>0</td>\n",
       "      <td>0</td>\n",
       "      <td>1</td>\n",
       "      <td>0</td>\n",
       "      <td>0</td>\n",
       "      <td>...</td>\n",
       "      <td>0</td>\n",
       "      <td>0</td>\n",
       "      <td>0</td>\n",
       "      <td>1</td>\n",
       "      <td>0</td>\n",
       "      <td>1</td>\n",
       "      <td>0</td>\n",
       "      <td>0</td>\n",
       "      <td>1</td>\n",
       "      <td>0</td>\n",
       "    </tr>\n",
       "  </tbody>\n",
       "</table>\n",
       "<p>5 rows × 43 columns</p>\n",
       "</div>"
      ],
      "text/plain": [
       "   pekerjaan_admin.  pekerjaan_blue-collar  pekerjaan_entrepreneur  \\\n",
       "0                 0                      0                       0   \n",
       "1                 0                      0                       0   \n",
       "2                 0                      0                       0   \n",
       "3                 1                      0                       0   \n",
       "4                 0                      0                       0   \n",
       "\n",
       "   pekerjaan_housemaid  pekerjaan_management  pekerjaan_retired  \\\n",
       "0                    1                     0                  0   \n",
       "1                    0                     0                  0   \n",
       "2                    0                     0                  0   \n",
       "3                    0                     0                  0   \n",
       "4                    0                     0                  0   \n",
       "\n",
       "   pekerjaan_self-employed  pekerjaan_services  pekerjaan_student  \\\n",
       "0                        0                   0                  0   \n",
       "1                        0                   1                  0   \n",
       "2                        0                   1                  0   \n",
       "3                        0                   0                  0   \n",
       "4                        0                   1                  0   \n",
       "\n",
       "   pekerjaan_technician  ...  kontak_terakhir_hari_tue  \\\n",
       "0                     0  ...                         0   \n",
       "1                     0  ...                         0   \n",
       "2                     0  ...                         0   \n",
       "3                     0  ...                         0   \n",
       "4                     0  ...                         0   \n",
       "\n",
       "   kontak_terakhir_hari_wed  luaran_marketing_sebelumnya_failure  \\\n",
       "0                         0                                    0   \n",
       "1                         0                                    0   \n",
       "2                         0                                    0   \n",
       "3                         0                                    0   \n",
       "4                         0                                    0   \n",
       "\n",
       "   luaran_marketing_sebelumnya_nonexistent  \\\n",
       "0                                        1   \n",
       "1                                        1   \n",
       "2                                        1   \n",
       "3                                        1   \n",
       "4                                        1   \n",
       "\n",
       "   luaran_marketing_sebelumnya_success  pernikahan  kredit_default  \\\n",
       "0                                    0           1               0   \n",
       "1                                    0           1               0   \n",
       "2                                    0           1               0   \n",
       "3                                    0           1               0   \n",
       "4                                    0           1               0   \n",
       "\n",
       "   pinjaman_rumah  pinjaman_pribadi  berlangganan_deposito  \n",
       "0               0                 0                      0  \n",
       "1               0                 0                      0  \n",
       "2               1                 0                      0  \n",
       "3               0                 0                      0  \n",
       "4               0                 1                      0  \n",
       "\n",
       "[5 rows x 43 columns]"
      ]
     },
     "execution_count": 42,
     "metadata": {},
     "output_type": "execute_result"
    }
   ],
   "source": [
    "# 5 data teratas \n",
    "bank_df_categorical_encoded.head()"
   ]
  },
  {
   "cell_type": "markdown",
   "id": "98ebb556",
   "metadata": {},
   "source": [
    "## Mengukur pengaruh atribut pada kelas target"
   ]
  },
  {
   "cell_type": "markdown",
   "id": "ef221352",
   "metadata": {},
   "source": [
    "### Pengaruh atribut kategorikal pada kelas target\n",
    "***\n",
    "Pengaruh atribut/fitur bertipe **kategorikal** dapat diukur dengan **Chi-Squared**"
   ]
  },
  {
   "cell_type": "code",
   "execution_count": 43,
   "id": "57d16ddc",
   "metadata": {},
   "outputs": [],
   "source": [
    "# mendapatkan daftar kolom baru hasil encoding\n",
    "ec_categorical_columns = list(bank_df_categorical_encoded.columns)\n",
    "ec_categorical_columns.remove('berlangganan_deposito')\n",
    "\n",
    "# Menyiapkan atribute dan target\n",
    "X_categorical = bank_df_categorical_encoded.drop('berlangganan_deposito',axis=1)\n",
    "y_categorical = bank_df_categorical_encoded['berlangganan_deposito']"
   ]
  },
  {
   "cell_type": "code",
   "execution_count": 44,
   "id": "650bb25b",
   "metadata": {},
   "outputs": [],
   "source": [
    "# instansiasi kelas untuk Chi-Squared\n",
    "chi_square_fs = SelectKBest(score_func=chi2,k='all')\n",
    "\n",
    "# fit chi-square into data\n",
    "X_categorical_selected = chi_square_fs.fit_transform(X_categorical,y_categorical)"
   ]
  },
  {
   "cell_type": "code",
   "execution_count": 45,
   "id": "b907f4d5",
   "metadata": {},
   "outputs": [
    {
     "data": {
      "image/png": "[encoded data removed]",
      "text/plain": [
       "<Figure size 864x720 with 1 Axes>"
      ]
     },
     "metadata": {
      "needs_background": "light"
     },
     "output_type": "display_data"
    }
   ],
   "source": [
    "# Plotting score setiap atribut kategorikal\n",
    "plt.figure(figsize=(12,10))\n",
    "plt.barh([cat_col for cat_col in ec_categorical_columns], chi_square_fs.scores_)\n",
    "plt.ylabel('Daftar Atribut Kategorikal', fontsize=12)\n",
    "plt.xlabel('Nilai Chi-Squared Feature Importance', fontsize=12)\n",
    "plt.title('Grafik batang atribut (x) vs The Chi-Squared Feature Importance (y)',fontsize=12)\n",
    "plt.show()"
   ]
  },
  {
   "cell_type": "markdown",
   "id": "c249a19b",
   "metadata": {},
   "source": [
    "Atribut **luaran_marketing_sebelumnya_success** menjadi atribut kategorikal yang memberikan kepentingan atribut tertinggi dibandingkan dengan yang lainnya. Bahkan rentang nilainya cukup jauh dibandingkan dengan atribut yang lainnya."
   ]
  },
  {
   "cell_type": "markdown",
   "id": "5862ea35",
   "metadata": {},
   "source": [
    "### Pengaruh atribut numerikal pada kelas target\n",
    "***\n",
    "Kepentingan atribut numerik terhadap label kelas kategorikal bisa diukur dengan ANOVA F-score"
   ]
  },
  {
   "cell_type": "code",
   "execution_count": 46,
   "id": "e43cbb39",
   "metadata": {},
   "outputs": [],
   "source": [
    "# menyiapkan atribut dan target\n",
    "X_numerical = bank_df[numerical_columns].copy(deep=True)\n",
    "y_numerical = y_categorical.copy(deep=True)"
   ]
  },
  {
   "cell_type": "code",
   "execution_count": 47,
   "id": "e3d3afcc",
   "metadata": {},
   "outputs": [],
   "source": [
    "# instansiasi kelas anova\n",
    "anova_fs = SelectKBest(score_func=f_classif,k='all')\n",
    "\n",
    "# fit into data\n",
    "X_numerical_selected = anova_fs.fit_transform(X_numerical,y_numerical)"
   ]
  },
  {
   "cell_type": "code",
   "execution_count": 48,
   "id": "7a7d6599",
   "metadata": {},
   "outputs": [
    {
     "data": {
      "image/png": "[encoded data removed]",
      "text/plain": [
       "<Figure size 864x720 with 1 Axes>"
      ]
     },
     "metadata": {
      "needs_background": "light"
     },
     "output_type": "display_data"
    }
   ],
   "source": [
    "# Plotting score setiap atribut kategorikal\n",
    "plt.figure(figsize=(12,10))\n",
    "plt.barh([num_col for num_col in list(X_numerical.columns)], anova_fs.scores_)\n",
    "plt.ylabel('Daftar Atribut Numerikal', fontsize=12)\n",
    "plt.xlabel('Nilai ANOVA F-measure Feature Importance', fontsize=12)\n",
    "plt.title('Grafik batang atribut (x) vs The ANOVA F-measure Feature Importance (y)',fontsize=12)\n",
    "plt.show()"
   ]
  },
  {
   "cell_type": "markdown",
   "id": "ea87db12",
   "metadata": {},
   "source": [
    "Atribut **kontak_terakhir_berdurasi** memiliki kepentingan atribut yang paling tinggi dibandingkan atribut numerikal lainnya. Hal ini masuk akal karena keberhasilan *customer* berlangganan deposito ditentukan berapa lama durasi pemasaran/kampanye yang dilakukan pihak bank melalui telepon"
   ]
  },
  {
   "cell_type": "markdown",
   "id": "4dfb77cd",
   "metadata": {},
   "source": [
    "## Menyatukan data bertipe numerikal dan data bertipe kategorikal hasil encoding"
   ]
  },
  {
   "cell_type": "code",
   "execution_count": 49,
   "id": "a890ac6f",
   "metadata": {},
   "outputs": [],
   "source": [
    "bank_df = pd.concat([bank_df[numerical_columns],bank_df_categorical_encoded],axis=1)"
   ]
  },
  {
   "cell_type": "markdown",
   "id": "2bfd444f",
   "metadata": {},
   "source": [
    "## Pembagian dataset ke dalam data latih dan data uji\n",
    "***\n",
    "Dataset akan dibagi ke dalam **80% data latih** dan **20% data uji**. <br>\n",
    "1. Data latih akan digunakan untuk proses tuning parameter dan hyperparameter serta melakukan feature selection\n",
    "2. Data latih akan digunakan untuk melatih model setelah mendapatkan hyperparameter terbaik dengan fitur terbaik  hasil seleksi\n",
    "3. Data uji digunakan untuk menguji performa model klasifikasi yang sudah dilatih"
   ]
  },
  {
   "cell_type": "markdown",
   "id": "7a1350fb",
   "metadata": {},
   "source": [
    "### Pisahkan attributes sebagai X dan target sebagai y"
   ]
  },
  {
   "cell_type": "code",
   "execution_count": 50,
   "id": "e51ac7e0",
   "metadata": {},
   "outputs": [],
   "source": [
    "X = bank_df.drop('berlangganan_deposito',axis=1)\n",
    "y = bank_df['berlangganan_deposito']"
   ]
  },
  {
   "cell_type": "markdown",
   "id": "8692662b",
   "metadata": {},
   "source": [
    "### Train test split (80 train : 20 test)"
   ]
  },
  {
   "cell_type": "code",
   "execution_count": 51,
   "id": "1e3ca011",
   "metadata": {},
   "outputs": [],
   "source": [
    "X_train,X_test,y_train,y_test = train_test_split(X,y,test_size=0.2,random_state=42)"
   ]
  },
  {
   "cell_type": "markdown",
   "id": "4db28aa6",
   "metadata": {},
   "source": [
    "### Mengetahui dimensi data train dan data test"
   ]
  },
  {
   "cell_type": "code",
   "execution_count": 52,
   "id": "7536183e",
   "metadata": {},
   "outputs": [
    {
     "name": "stdout",
     "output_type": "stream",
     "text": [
      "Dimensi atribut data latih =  (32950, 52)\n",
      "Dimensi target data latih =  (32950,)\n",
      "Dimensi atribut data uji =  (8238, 52)\n",
      "Dimensi target data uji =  (8238,)\n"
     ]
    }
   ],
   "source": [
    "print(\"Dimensi atribut data latih = \", X_train.shape)\n",
    "print(\"Dimensi target data latih = \", y_train.shape)\n",
    "print(\"Dimensi atribut data uji = \", X_test.shape)\n",
    "print(\"Dimensi target data uji = \", y_test.shape)"
   ]
  },
  {
   "cell_type": "markdown",
   "id": "373caa65",
   "metadata": {},
   "source": [
    "## Normalisasi Data\n",
    "***\n",
    "Metode Normalisasi *z-score* digunakan untuk menyamakan skala dari setiap atribut pada data ke standard normal distribution (mean=0, std=1)"
   ]
  },
  {
   "cell_type": "code",
   "execution_count": 53,
   "id": "b4a7f522",
   "metadata": {},
   "outputs": [],
   "source": [
    "# instansiasi kelas StandardScaler\n",
    "standard_scaler = StandardScaler()\n",
    "\n",
    "# fit scaler into train data\n",
    "standard_scaler.fit(X_train)\n",
    "\n",
    "# transform data with scaler\n",
    "X_train = standard_scaler.transform(X_train)\n",
    "X_test = standard_scaler.transform(X_test)"
   ]
  },
  {
   "cell_type": "markdown",
   "id": "463554d7",
   "metadata": {},
   "source": [
    "## Dimensionality Reduction\n",
    "***\n",
    "Jumlah dimensi akan dikurangi dengan PCA"
   ]
  },
  {
   "cell_type": "markdown",
   "id": "dfb3041c",
   "metadata": {},
   "source": [
    "### Menerapkan PCA pada data latih"
   ]
  },
  {
   "cell_type": "code",
   "execution_count": 54,
   "id": "38c47948",
   "metadata": {},
   "outputs": [
    {
     "name": "stdout",
     "output_type": "stream",
     "text": [
      "Nilai Eigen setiap Principal Component\n",
      "[5.10895472e+00 2.73036870e+00 2.31634593e+00 2.10655934e+00\n",
      " 2.00419634e+00 1.79099640e+00 1.72717132e+00 1.65495244e+00\n",
      " 1.49945474e+00 1.46778074e+00 1.27154651e+00 1.26981328e+00\n",
      " 1.25246035e+00 1.22137440e+00 1.19699440e+00 1.14872904e+00\n",
      " 1.13419904e+00 1.10505081e+00 1.06923547e+00 1.05409598e+00\n",
      " 1.04391627e+00 1.03824430e+00 1.03138828e+00 1.02267454e+00\n",
      " 1.01146984e+00 1.00372467e+00 9.91652715e-01 9.86685340e-01\n",
      " 9.76632416e-01 9.49898910e-01 9.41751024e-01 8.81241091e-01\n",
      " 8.58688378e-01 7.93596086e-01 7.38968053e-01 7.13063877e-01\n",
      " 6.11181454e-01 4.47409332e-01 4.36431294e-01 4.26761863e-01\n",
      " 2.85931685e-01 2.43253460e-01 1.83000765e-01 1.44292935e-01\n",
      " 6.69557982e-02 4.24838651e-02 1.16799646e-30 9.97619268e-31\n",
      " 8.64012805e-31 4.64012137e-31 4.48388992e-31 7.36182966e-32]\n",
      "==============================\n",
      "Rasio Nilai Eigen setiap Principal Component\n",
      "[9.82461475e-02 5.25054969e-02 4.45437622e-02 4.05095270e-02\n",
      " 3.85410675e-02 3.44411931e-02 3.32138251e-02 3.18250426e-02\n",
      " 2.88347929e-02 2.82256960e-02 2.44520754e-02 2.44187450e-02\n",
      " 2.40850450e-02 2.34872565e-02 2.30184244e-02 2.20902726e-02\n",
      " 2.18108581e-02 2.12503322e-02 2.05615966e-02 2.02704613e-02\n",
      " 2.00747036e-02 1.99656305e-02 1.98337880e-02 1.96662213e-02\n",
      " 1.94507527e-02 1.93018117e-02 1.90696658e-02 1.89741422e-02\n",
      " 1.87808226e-02 1.82667323e-02 1.81100470e-02 1.69464297e-02\n",
      " 1.65127369e-02 1.52610000e-02 1.42104928e-02 1.37123507e-02\n",
      " 1.17531328e-02 8.60376448e-03 8.39265479e-03 8.20670984e-03\n",
      " 5.49851936e-03 4.67780918e-03 3.51913868e-03 2.77477991e-03\n",
      " 1.28757243e-03 8.16972610e-04 2.24607886e-32 1.91844037e-32\n",
      " 1.66151266e-32 8.92303951e-33 8.62260354e-33 1.41569351e-33]\n",
      "==============================\n"
     ]
    }
   ],
   "source": [
    "# instansiasi objek PCA\n",
    "pca_ = PCA()\n",
    "\n",
    "# fit into training data\n",
    "pca_.fit(X_train)\n",
    "\n",
    "# mencetak nilai eigen setiap principal component\n",
    "print('Nilai Eigen setiap Principal Component')\n",
    "print(pca_.explained_variance_)\n",
    "print(\"=\"*30)\n",
    "\n",
    "# mencetak ratio masing-masing nilai eigen terhadap keseluruhan\n",
    "print('Rasio Nilai Eigen setiap Principal Component')\n",
    "print(pca_.explained_variance_ratio_)\n",
    "print(\"=\"*30)"
   ]
  },
  {
   "cell_type": "markdown",
   "id": "4875c8fd",
   "metadata": {},
   "source": [
    "### Plotting Ratio Nilai Eigen yang dihasilkan PCA terhadap data latih"
   ]
  },
  {
   "cell_type": "code",
   "execution_count": 55,
   "id": "2ef80120",
   "metadata": {},
   "outputs": [],
   "source": [
    "# membuat dataframe untuk memplotting variance ratio yang dihasilkan PCA\n",
    "pca_variance = pd.DataFrame(data=pca_.explained_variance_ratio_,columns=['PC Variance'])\n",
    "pca_variance['pc_name'] = pd.Series(data=['PC-'+str(i+1) for i in range(0,X_train.shape[1])])\n",
    "pca_variance = pca_variance.sort_values(by='PC Variance')"
   ]
  },
  {
   "cell_type": "code",
   "execution_count": 56,
   "id": "357de957",
   "metadata": {},
   "outputs": [
    {
     "data": {
      "image/png": "[encoded data removed]",
      "text/plain": [
       "<Figure size 864x1008 with 1 Axes>"
      ]
     },
     "metadata": {
      "needs_background": "light"
     },
     "output_type": "display_data"
    }
   ],
   "source": [
    "# Plotting variance ratio yang dijelaskan setiap component\n",
    "plt.figure(figsize=(12,14))\n",
    "pca_variance['PC Variance'].plot(kind='barh')\n",
    "plt.yticks(ticks=range(0,X_train.shape[1]), labels=pca_variance['pc_name'])\n",
    "plt.title('Rasio Variance yang dihasilkan setiap Principal Component')\n",
    "plt.xlabel('Rasio Variance')\n",
    "plt.ylabel('Principal Component')\n",
    "plt.show()"
   ]
  },
  {
   "cell_type": "markdown",
   "id": "d923f592",
   "metadata": {},
   "source": [
    "### Mencari jumlah principal component terbaik\n",
    "***\n",
    "Ada beberapa metode untuk menentukan jumlah principal component terbaik yang harus digunakan. Salah satu sumber menyebutkan: <br>\n",
    "1. Jumlah PC terbaik yang terpilih adalah PC yang menghasilkan nilai eigen lebih besar atau sama dengan 1"
   ]
  },
  {
   "cell_type": "code",
   "execution_count": 57,
   "id": "f915c5e0",
   "metadata": {},
   "outputs": [],
   "source": [
    "# Mencari jumlah n_component yang menghasilkan nilai eigen value >= 1\n",
    "def find_best_n_components(pca):\n",
    "    \"\"\"\n",
    "        Deskripsi Fungsi:\n",
    "        - Fungsi untuk mencari jumlah principal component terbaik dari hasil PCA pada data latih \n",
    "        dengan syarat nilai eigen PC >= 1\n",
    "        \n",
    "        Parameter Fungsi:\n",
    "        -pca : model pca yang sudah difitting pada data latih\n",
    "        \n",
    "        Return Fungsi:\n",
    "        -n_best_component: jumlah principal component terbaik yang memenuhi syarat\n",
    "        \n",
    "    \"\"\"\n",
    "    \n",
    "    n_best_component = 0\n",
    "    for i in range(0,len(pca.explained_variance_)):\n",
    "        if pca.explained_variance_[i]>=1:\n",
    "            n_best_component+=1\n",
    "    \n",
    "    return n_best_component"
   ]
  },
  {
   "cell_type": "code",
   "execution_count": 58,
   "id": "3049dac8",
   "metadata": {},
   "outputs": [
    {
     "name": "stdout",
     "output_type": "stream",
     "text": [
      "Jumlah n Principal Component terbaik = 26 komponen\n",
      "Informasi yang dijelaskan oleh 26 komponen = 77.46245258724745 %\n",
      "Kehilangan Informasi = 22.537547412752545 %\n"
     ]
    }
   ],
   "source": [
    "# mencari jumlah principal component terbaik\n",
    "n_components = find_best_n_components(pca_)\n",
    "print('Jumlah n Principal Component terbaik = {} komponen'.format(n_components))\n",
    "print('Informasi yang dijelaskan oleh {} komponen = {} %'.format(n_components,(np.sum(pca_.explained_variance_ratio_[:n_components]))*100))\n",
    "print('Kehilangan Informasi = {} %'.format(100-(np.sum(pca_.explained_variance_ratio_[:n_components]))*100))"
   ]
  },
  {
   "cell_type": "markdown",
   "id": "2937ffaa",
   "metadata": {},
   "source": [
    "### Instansiasi PCA dengan n component terbaik\n",
    "***\n",
    "1. Buat PCA dengan n component terbaik\n",
    "2. Fitting ke data latih \n",
    "3. Transform ke atribut data latih dan data uji"
   ]
  },
  {
   "cell_type": "code",
   "execution_count": 59,
   "id": "8a319248",
   "metadata": {},
   "outputs": [],
   "source": [
    "# instansiasi objek PCA\n",
    "pca_ = PCA(n_components=n_components)\n",
    "\n",
    "# fit into training data\n",
    "pca_.fit(X_train)\n",
    "\n",
    "# transform into train and test data\n",
    "X_train_pca = pca_.transform(X_train)\n",
    "X_test_pca = pca_.transform(X_test)"
   ]
  },
  {
   "cell_type": "markdown",
   "id": "b0aa285e",
   "metadata": {},
   "source": [
    "### Buat DataFrame hasil perhitungan PCA"
   ]
  },
  {
   "cell_type": "code",
   "execution_count": 60,
   "id": "8ec4fdf1",
   "metadata": {},
   "outputs": [],
   "source": [
    "# buat dataframe untuk mempermudah melihat data hasil PCA\n",
    "train_pca_df = pd.DataFrame(data=X_train_pca,columns=['PC-'+str(i) for i in range(0,n_components)])\n",
    "train_pca_df['target'] = y_train.to_numpy()\n",
    "\n",
    "test_pca_df = pd.DataFrame(data=X_test_pca,columns=['PC-'+str(i) for i in range(0,n_components)])\n",
    "test_pca_df['target'] = y_test.to_numpy()"
   ]
  },
  {
   "cell_type": "markdown",
   "id": "f927f890",
   "metadata": {},
   "source": [
    "# Data yang siap dimodelkan"
   ]
  },
  {
   "cell_type": "markdown",
   "id": "ca085c81",
   "metadata": {},
   "source": [
    "## Data Latih"
   ]
  },
  {
   "cell_type": "markdown",
   "id": "faccb110",
   "metadata": {},
   "source": [
    "### Atribut"
   ]
  },
  {
   "cell_type": "code",
   "execution_count": 61,
   "id": "a6767500",
   "metadata": {},
   "outputs": [
    {
     "data": {
      "text/html": [
       "<div>\n",
       "<style scoped>\n",
       "    .dataframe tbody tr th:only-of-type {\n",
       "        vertical-align: middle;\n",
       "    }\n",
       "\n",
       "    .dataframe tbody tr th {\n",
       "        vertical-align: top;\n",
       "    }\n",
       "\n",
       "    .dataframe thead th {\n",
       "        text-align: right;\n",
       "    }\n",
       "</style>\n",
       "<table border=\"1\" class=\"dataframe\">\n",
       "  <thead>\n",
       "    <tr style=\"text-align: right;\">\n",
       "      <th></th>\n",
       "      <th>PC-0</th>\n",
       "      <th>PC-1</th>\n",
       "      <th>PC-2</th>\n",
       "      <th>PC-3</th>\n",
       "      <th>PC-4</th>\n",
       "      <th>PC-5</th>\n",
       "      <th>PC-6</th>\n",
       "      <th>PC-7</th>\n",
       "      <th>PC-8</th>\n",
       "      <th>PC-9</th>\n",
       "      <th>...</th>\n",
       "      <th>PC-17</th>\n",
       "      <th>PC-18</th>\n",
       "      <th>PC-19</th>\n",
       "      <th>PC-20</th>\n",
       "      <th>PC-21</th>\n",
       "      <th>PC-22</th>\n",
       "      <th>PC-23</th>\n",
       "      <th>PC-24</th>\n",
       "      <th>PC-25</th>\n",
       "      <th>target</th>\n",
       "    </tr>\n",
       "  </thead>\n",
       "  <tbody>\n",
       "    <tr>\n",
       "      <th>0</th>\n",
       "      <td>-1.511256</td>\n",
       "      <td>1.334789</td>\n",
       "      <td>-1.694722</td>\n",
       "      <td>0.383251</td>\n",
       "      <td>-1.149499</td>\n",
       "      <td>-0.082431</td>\n",
       "      <td>0.775471</td>\n",
       "      <td>-1.614662</td>\n",
       "      <td>0.740260</td>\n",
       "      <td>0.598714</td>\n",
       "      <td>...</td>\n",
       "      <td>-1.066218</td>\n",
       "      <td>0.702698</td>\n",
       "      <td>0.200539</td>\n",
       "      <td>0.100780</td>\n",
       "      <td>-0.336269</td>\n",
       "      <td>0.026808</td>\n",
       "      <td>-0.135000</td>\n",
       "      <td>-0.173723</td>\n",
       "      <td>-0.488031</td>\n",
       "      <td>0</td>\n",
       "    </tr>\n",
       "    <tr>\n",
       "      <th>1</th>\n",
       "      <td>1.173154</td>\n",
       "      <td>-0.285196</td>\n",
       "      <td>-0.200791</td>\n",
       "      <td>-1.832885</td>\n",
       "      <td>-0.111619</td>\n",
       "      <td>-1.985344</td>\n",
       "      <td>-1.134036</td>\n",
       "      <td>-0.240373</td>\n",
       "      <td>0.348870</td>\n",
       "      <td>-0.356971</td>\n",
       "      <td>...</td>\n",
       "      <td>-0.474214</td>\n",
       "      <td>0.108690</td>\n",
       "      <td>-0.049133</td>\n",
       "      <td>-0.372092</td>\n",
       "      <td>-0.248849</td>\n",
       "      <td>1.113365</td>\n",
       "      <td>-0.318716</td>\n",
       "      <td>0.575654</td>\n",
       "      <td>-0.072758</td>\n",
       "      <td>0</td>\n",
       "    </tr>\n",
       "    <tr>\n",
       "      <th>2</th>\n",
       "      <td>3.712752</td>\n",
       "      <td>1.780559</td>\n",
       "      <td>-0.665103</td>\n",
       "      <td>3.445312</td>\n",
       "      <td>-1.025918</td>\n",
       "      <td>-1.097075</td>\n",
       "      <td>0.105405</td>\n",
       "      <td>1.841761</td>\n",
       "      <td>1.036750</td>\n",
       "      <td>-3.000182</td>\n",
       "      <td>...</td>\n",
       "      <td>-1.530331</td>\n",
       "      <td>1.251636</td>\n",
       "      <td>-0.346835</td>\n",
       "      <td>-1.229520</td>\n",
       "      <td>-0.754339</td>\n",
       "      <td>0.320708</td>\n",
       "      <td>-0.512354</td>\n",
       "      <td>0.914693</td>\n",
       "      <td>0.035259</td>\n",
       "      <td>0</td>\n",
       "    </tr>\n",
       "    <tr>\n",
       "      <th>3</th>\n",
       "      <td>-1.522567</td>\n",
       "      <td>-0.929082</td>\n",
       "      <td>-1.016858</td>\n",
       "      <td>1.814950</td>\n",
       "      <td>-1.880351</td>\n",
       "      <td>-0.144434</td>\n",
       "      <td>2.131922</td>\n",
       "      <td>-0.161427</td>\n",
       "      <td>-0.070042</td>\n",
       "      <td>-0.536332</td>\n",
       "      <td>...</td>\n",
       "      <td>-1.896797</td>\n",
       "      <td>-1.116709</td>\n",
       "      <td>-0.501986</td>\n",
       "      <td>1.414642</td>\n",
       "      <td>0.235338</td>\n",
       "      <td>0.728260</td>\n",
       "      <td>0.041266</td>\n",
       "      <td>-0.664672</td>\n",
       "      <td>-0.559438</td>\n",
       "      <td>0</td>\n",
       "    </tr>\n",
       "    <tr>\n",
       "      <th>4</th>\n",
       "      <td>-0.848325</td>\n",
       "      <td>1.546795</td>\n",
       "      <td>0.657429</td>\n",
       "      <td>-1.966923</td>\n",
       "      <td>0.906161</td>\n",
       "      <td>-0.582266</td>\n",
       "      <td>-0.095410</td>\n",
       "      <td>1.032899</td>\n",
       "      <td>-0.857467</td>\n",
       "      <td>0.574869</td>\n",
       "      <td>...</td>\n",
       "      <td>-0.598011</td>\n",
       "      <td>0.074863</td>\n",
       "      <td>0.226157</td>\n",
       "      <td>-0.494577</td>\n",
       "      <td>-0.817571</td>\n",
       "      <td>0.673685</td>\n",
       "      <td>-0.465679</td>\n",
       "      <td>0.481441</td>\n",
       "      <td>0.177269</td>\n",
       "      <td>0</td>\n",
       "    </tr>\n",
       "  </tbody>\n",
       "</table>\n",
       "<p>5 rows × 27 columns</p>\n",
       "</div>"
      ],
      "text/plain": [
       "       PC-0      PC-1      PC-2      PC-3      PC-4      PC-5      PC-6  \\\n",
       "0 -1.511256  1.334789 -1.694722  0.383251 -1.149499 -0.082431  0.775471   \n",
       "1  1.173154 -0.285196 -0.200791 -1.832885 -0.111619 -1.985344 -1.134036   \n",
       "2  3.712752  1.780559 -0.665103  3.445312 -1.025918 -1.097075  0.105405   \n",
       "3 -1.522567 -0.929082 -1.016858  1.814950 -1.880351 -0.144434  2.131922   \n",
       "4 -0.848325  1.546795  0.657429 -1.966923  0.906161 -0.582266 -0.095410   \n",
       "\n",
       "       PC-7      PC-8      PC-9  ...     PC-17     PC-18     PC-19     PC-20  \\\n",
       "0 -1.614662  0.740260  0.598714  ... -1.066218  0.702698  0.200539  0.100780   \n",
       "1 -0.240373  0.348870 -0.356971  ... -0.474214  0.108690 -0.049133 -0.372092   \n",
       "2  1.841761  1.036750 -3.000182  ... -1.530331  1.251636 -0.346835 -1.229520   \n",
       "3 -0.161427 -0.070042 -0.536332  ... -1.896797 -1.116709 -0.501986  1.414642   \n",
       "4  1.032899 -0.857467  0.574869  ... -0.598011  0.074863  0.226157 -0.494577   \n",
       "\n",
       "      PC-21     PC-22     PC-23     PC-24     PC-25  target  \n",
       "0 -0.336269  0.026808 -0.135000 -0.173723 -0.488031       0  \n",
       "1 -0.248849  1.113365 -0.318716  0.575654 -0.072758       0  \n",
       "2 -0.754339  0.320708 -0.512354  0.914693  0.035259       0  \n",
       "3  0.235338  0.728260  0.041266 -0.664672 -0.559438       0  \n",
       "4 -0.817571  0.673685 -0.465679  0.481441  0.177269       0  \n",
       "\n",
       "[5 rows x 27 columns]"
      ]
     },
     "execution_count": 61,
     "metadata": {},
     "output_type": "execute_result"
    }
   ],
   "source": [
    "train_pca_df.head()"
   ]
  },
  {
   "cell_type": "markdown",
   "id": "50a050da",
   "metadata": {},
   "source": [
    "### Target"
   ]
  },
  {
   "cell_type": "code",
   "execution_count": 62,
   "id": "5f8df20d",
   "metadata": {},
   "outputs": [
    {
     "data": {
      "text/plain": [
       "12556    0\n",
       "35451    0\n",
       "30592    0\n",
       "17914    0\n",
       "3315     0\n",
       "Name: berlangganan_deposito, dtype: int32"
      ]
     },
     "execution_count": 62,
     "metadata": {},
     "output_type": "execute_result"
    }
   ],
   "source": [
    "y_train.head()"
   ]
  },
  {
   "cell_type": "markdown",
   "id": "9b38ef33",
   "metadata": {},
   "source": [
    "## Data Uji"
   ]
  },
  {
   "cell_type": "markdown",
   "id": "c6263b51",
   "metadata": {},
   "source": [
    "### Atribut"
   ]
  },
  {
   "cell_type": "code",
   "execution_count": 63,
   "id": "c9b4a55e",
   "metadata": {},
   "outputs": [
    {
     "data": {
      "text/html": [
       "<div>\n",
       "<style scoped>\n",
       "    .dataframe tbody tr th:only-of-type {\n",
       "        vertical-align: middle;\n",
       "    }\n",
       "\n",
       "    .dataframe tbody tr th {\n",
       "        vertical-align: top;\n",
       "    }\n",
       "\n",
       "    .dataframe thead th {\n",
       "        text-align: right;\n",
       "    }\n",
       "</style>\n",
       "<table border=\"1\" class=\"dataframe\">\n",
       "  <thead>\n",
       "    <tr style=\"text-align: right;\">\n",
       "      <th></th>\n",
       "      <th>PC-0</th>\n",
       "      <th>PC-1</th>\n",
       "      <th>PC-2</th>\n",
       "      <th>PC-3</th>\n",
       "      <th>PC-4</th>\n",
       "      <th>PC-5</th>\n",
       "      <th>PC-6</th>\n",
       "      <th>PC-7</th>\n",
       "      <th>PC-8</th>\n",
       "      <th>PC-9</th>\n",
       "      <th>...</th>\n",
       "      <th>PC-17</th>\n",
       "      <th>PC-18</th>\n",
       "      <th>PC-19</th>\n",
       "      <th>PC-20</th>\n",
       "      <th>PC-21</th>\n",
       "      <th>PC-22</th>\n",
       "      <th>PC-23</th>\n",
       "      <th>PC-24</th>\n",
       "      <th>PC-25</th>\n",
       "      <th>target</th>\n",
       "    </tr>\n",
       "  </thead>\n",
       "  <tbody>\n",
       "    <tr>\n",
       "      <th>0</th>\n",
       "      <td>3.687402</td>\n",
       "      <td>0.939623</td>\n",
       "      <td>-0.871580</td>\n",
       "      <td>0.021198</td>\n",
       "      <td>-0.088785</td>\n",
       "      <td>1.561365</td>\n",
       "      <td>-0.321355</td>\n",
       "      <td>1.835011</td>\n",
       "      <td>0.597245</td>\n",
       "      <td>-2.723827</td>\n",
       "      <td>...</td>\n",
       "      <td>-0.551881</td>\n",
       "      <td>0.312552</td>\n",
       "      <td>0.717551</td>\n",
       "      <td>-0.013279</td>\n",
       "      <td>-0.691716</td>\n",
       "      <td>-0.851117</td>\n",
       "      <td>0.162561</td>\n",
       "      <td>-0.600833</td>\n",
       "      <td>-0.042227</td>\n",
       "      <td>0</td>\n",
       "    </tr>\n",
       "    <tr>\n",
       "      <th>1</th>\n",
       "      <td>-0.786832</td>\n",
       "      <td>0.960104</td>\n",
       "      <td>1.402658</td>\n",
       "      <td>-0.377974</td>\n",
       "      <td>0.994453</td>\n",
       "      <td>-1.853493</td>\n",
       "      <td>-1.104599</td>\n",
       "      <td>-0.076723</td>\n",
       "      <td>-0.137891</td>\n",
       "      <td>-0.237930</td>\n",
       "      <td>...</td>\n",
       "      <td>-0.592467</td>\n",
       "      <td>0.185184</td>\n",
       "      <td>-0.302707</td>\n",
       "      <td>0.116769</td>\n",
       "      <td>-0.046340</td>\n",
       "      <td>-0.047620</td>\n",
       "      <td>-0.083816</td>\n",
       "      <td>-0.023761</td>\n",
       "      <td>0.188546</td>\n",
       "      <td>0</td>\n",
       "    </tr>\n",
       "    <tr>\n",
       "      <th>2</th>\n",
       "      <td>3.405556</td>\n",
       "      <td>2.161233</td>\n",
       "      <td>-2.590239</td>\n",
       "      <td>0.223501</td>\n",
       "      <td>-0.100632</td>\n",
       "      <td>0.982150</td>\n",
       "      <td>-0.008738</td>\n",
       "      <td>-1.630096</td>\n",
       "      <td>-1.062622</td>\n",
       "      <td>-2.849990</td>\n",
       "      <td>...</td>\n",
       "      <td>-0.826754</td>\n",
       "      <td>-0.087516</td>\n",
       "      <td>0.043794</td>\n",
       "      <td>-0.121079</td>\n",
       "      <td>-0.812123</td>\n",
       "      <td>0.673887</td>\n",
       "      <td>-0.280186</td>\n",
       "      <td>0.670352</td>\n",
       "      <td>-0.073248</td>\n",
       "      <td>0</td>\n",
       "    </tr>\n",
       "    <tr>\n",
       "      <th>3</th>\n",
       "      <td>-2.284189</td>\n",
       "      <td>1.232480</td>\n",
       "      <td>0.722590</td>\n",
       "      <td>-1.345249</td>\n",
       "      <td>1.578438</td>\n",
       "      <td>-0.240890</td>\n",
       "      <td>1.245734</td>\n",
       "      <td>1.037097</td>\n",
       "      <td>1.561336</td>\n",
       "      <td>-0.371332</td>\n",
       "      <td>...</td>\n",
       "      <td>0.375159</td>\n",
       "      <td>-0.173795</td>\n",
       "      <td>0.434502</td>\n",
       "      <td>-0.292724</td>\n",
       "      <td>-0.659162</td>\n",
       "      <td>0.371599</td>\n",
       "      <td>-0.429091</td>\n",
       "      <td>0.271414</td>\n",
       "      <td>0.407438</td>\n",
       "      <td>0</td>\n",
       "    </tr>\n",
       "    <tr>\n",
       "      <th>4</th>\n",
       "      <td>-1.238627</td>\n",
       "      <td>-1.169121</td>\n",
       "      <td>-0.758721</td>\n",
       "      <td>-0.393975</td>\n",
       "      <td>-1.239786</td>\n",
       "      <td>0.171876</td>\n",
       "      <td>2.356251</td>\n",
       "      <td>1.268563</td>\n",
       "      <td>0.116893</td>\n",
       "      <td>-0.236434</td>\n",
       "      <td>...</td>\n",
       "      <td>-1.354780</td>\n",
       "      <td>-0.808927</td>\n",
       "      <td>0.074841</td>\n",
       "      <td>0.873253</td>\n",
       "      <td>-0.045277</td>\n",
       "      <td>1.084368</td>\n",
       "      <td>0.311879</td>\n",
       "      <td>-1.038293</td>\n",
       "      <td>-0.200199</td>\n",
       "      <td>0</td>\n",
       "    </tr>\n",
       "  </tbody>\n",
       "</table>\n",
       "<p>5 rows × 27 columns</p>\n",
       "</div>"
      ],
      "text/plain": [
       "       PC-0      PC-1      PC-2      PC-3      PC-4      PC-5      PC-6  \\\n",
       "0  3.687402  0.939623 -0.871580  0.021198 -0.088785  1.561365 -0.321355   \n",
       "1 -0.786832  0.960104  1.402658 -0.377974  0.994453 -1.853493 -1.104599   \n",
       "2  3.405556  2.161233 -2.590239  0.223501 -0.100632  0.982150 -0.008738   \n",
       "3 -2.284189  1.232480  0.722590 -1.345249  1.578438 -0.240890  1.245734   \n",
       "4 -1.238627 -1.169121 -0.758721 -0.393975 -1.239786  0.171876  2.356251   \n",
       "\n",
       "       PC-7      PC-8      PC-9  ...     PC-17     PC-18     PC-19     PC-20  \\\n",
       "0  1.835011  0.597245 -2.723827  ... -0.551881  0.312552  0.717551 -0.013279   \n",
       "1 -0.076723 -0.137891 -0.237930  ... -0.592467  0.185184 -0.302707  0.116769   \n",
       "2 -1.630096 -1.062622 -2.849990  ... -0.826754 -0.087516  0.043794 -0.121079   \n",
       "3  1.037097  1.561336 -0.371332  ...  0.375159 -0.173795  0.434502 -0.292724   \n",
       "4  1.268563  0.116893 -0.236434  ... -1.354780 -0.808927  0.074841  0.873253   \n",
       "\n",
       "      PC-21     PC-22     PC-23     PC-24     PC-25  target  \n",
       "0 -0.691716 -0.851117  0.162561 -0.600833 -0.042227       0  \n",
       "1 -0.046340 -0.047620 -0.083816 -0.023761  0.188546       0  \n",
       "2 -0.812123  0.673887 -0.280186  0.670352 -0.073248       0  \n",
       "3 -0.659162  0.371599 -0.429091  0.271414  0.407438       0  \n",
       "4 -0.045277  1.084368  0.311879 -1.038293 -0.200199       0  \n",
       "\n",
       "[5 rows x 27 columns]"
      ]
     },
     "execution_count": 63,
     "metadata": {},
     "output_type": "execute_result"
    }
   ],
   "source": [
    "test_pca_df.head()"
   ]
  },
  {
   "cell_type": "markdown",
   "id": "e9cb5c76",
   "metadata": {},
   "source": [
    "### Target"
   ]
  },
  {
   "cell_type": "code",
   "execution_count": 64,
   "id": "79964645",
   "metadata": {},
   "outputs": [
    {
     "data": {
      "text/plain": [
       "32884    0\n",
       "3169     0\n",
       "32206    0\n",
       "9403     0\n",
       "14020    0\n",
       "Name: berlangganan_deposito, dtype: int32"
      ]
     },
     "execution_count": 64,
     "metadata": {},
     "output_type": "execute_result"
    }
   ],
   "source": [
    "y_test.head()"
   ]
  },
  {
   "cell_type": "markdown",
   "id": "9f67a029",
   "metadata": {},
   "source": [
    "# Modelling\n",
    "***\n",
    "Model klasifikasi *machine learning* yang digunakan pada tugas ini yaitu: <br>\n",
    "1. Logistic Regression\n",
    "2. KNN\n",
    "3. SVM\n",
    "4. Decision Tree\n",
    "5. Random Forest\n",
    "6. Naive Bayes\n",
    "\n",
    "***\n",
    "**Recall** akan digunakan sebagai penilaian model karena pada permasalahan ini bertujuan untuk **meminimumkan *False Negative*** <br>\n",
    "Confusion matrix: <br>\n",
    "    &emsp;Predicted <br>\n",
    "    &emsp;&emsp;0(No)   1(yes) <br>\n",
    "0(No) <br>\n",
    "1(yes) <br> <br>\n",
    "\n",
    "**Alur** <br>\n",
    "1. Setiap model akan dilihat performanya dengan akurasi untuk pertama kali. Semua model yang digunakan akan menggunakan *default* parameter pada masing-masing model.\n",
    "2. Hasil akurasi setiap model akan dibandingkan dengan boxplot\n",
    "3. Setiap model akan dituning dengan memilih metric recall\n",
    "4. Model dengan rata-rata recall terbaik akan dipilih sebagai model terbaik.\n",
    "5. Model terbaik tersebut akan dituning kembali dengan menerapkan undersampling pada dataset karena dataset memiliki kelas yang unbalanced"
   ]
  },
  {
   "cell_type": "code",
   "execution_count": 65,
   "id": "3d2e1283",
   "metadata": {},
   "outputs": [],
   "source": [
    "# Inisialisasi fold dan scoring yang digunakan\n",
    "num_fold = 10\n",
    "scoring_accuracy ='accuracy'\n",
    "scoring_recall = 'recall'"
   ]
  },
  {
   "cell_type": "code",
   "execution_count": 66,
   "id": "c0140c5c",
   "metadata": {},
   "outputs": [],
   "source": [
    "# buat list dari seluruh model yang digunakan\n",
    "models = []\n",
    "\n",
    "# append model\n",
    "models.append(('Logistic Regression', LogisticRegression()))\n",
    "models.append(('K-Nearest Neighbor', KNeighborsClassifier()))\n",
    "models.append(('Support Vector Machine', SVC()))\n",
    "models.append(('Decision Tree', DecisionTreeClassifier()))\n",
    "models.append(('Random Forest', RandomForestClassifier()))\n",
    "models.append(('Naive Bayes', GaussianNB()))\n",
    "\n",
    "#k-fold cross validation initialization object\n",
    "kfold = KFold(n_splits=num_fold, random_state=42, shuffle=True)"
   ]
  },
  {
   "cell_type": "code",
   "execution_count": 67,
   "id": "387d9b93",
   "metadata": {},
   "outputs": [],
   "source": [
    "def perform_model(models,X_train,y_train,kfold, scoring='accuracy'):\n",
    "    \"\"\"\n",
    "        Deskripsi Function:\n",
    "        - Fungsi ini digunakan untuk melakukan model cross-validation dengan data latih yang ada. Setiap model\n",
    "        akan divalidasi dengan ukuran skor (scoring) yang telah ditetapkan, semisal (akurasi, recall, etc).\n",
    "        \n",
    "        Function parameters:\n",
    "        - models: list of tuples dari model yang ingin dituning (LogisticRegression, SVM, etc)\n",
    "        - X_train: dataframe atau np.array dari atribut data latih yang sudah dipreprocessing\n",
    "        - y_train: dataframe atau np.array dari target data latih yang sudah dipreprocessing\n",
    "        - kfold: objek hasil instansiasi kelas KFold \n",
    "        - scoring: metode untuk memngukur performa model (accuracy, recall, precision, etc)\n",
    "        \n",
    "        Function returns:\n",
    "        - cv_results: List dari hasil cross validation setiap model yang sudah dituning\n",
    "        - model_names: List dari nama setiap model (string)\n",
    "        - print_msg: List berupa pesan untuk menampilkan model dengan hasil performanya pada data validasi\n",
    "    \"\"\"\n",
    "    cv_results = [] #menampung hasil crossvalidation setiap model\n",
    "    model_names = [] #menampung nama model\n",
    "    print_msg = [] #menampung pesan yang akan ditampilkan\n",
    "    \n",
    "    \n",
    "    for model_name, model in models:\n",
    "        #cross validation result\n",
    "        cv_result = cross_val_score(model,X_train,y_train, cv=kfold,scoring=scoring)\n",
    "\n",
    "        #append into list\n",
    "        cv_results.append(cv_result)\n",
    "        model_names.append(model_name)\n",
    "\n",
    "        #print result\n",
    "        msg_result = \"{}: mean {} = {}  std {} = {}\".format(model_name,scoring,cv_result.mean(),scoring,cv_result.std())\n",
    "        print_msg.append(msg_result)\n",
    "    \n",
    "    return cv_results,model_names,print_msg"
   ]
  },
  {
   "cell_type": "markdown",
   "id": "57f88984",
   "metadata": {},
   "source": [
    "## Hitung mean dan std dari akurasi dari setiap model yang digunakan\n",
    "***\n",
    "Validasi yang digunakan adalah 10-fold cross-validation"
   ]
  },
  {
   "cell_type": "code",
   "execution_count": 68,
   "id": "85f2722d",
   "metadata": {},
   "outputs": [],
   "source": [
    "cv_results_accuracy, model_names, print_msg_accuracy = perform_model(\n",
    "    models=models,\n",
    "    X_train=X_train_pca,\n",
    "    y_train=y_train,\n",
    "    kfold=kfold,\n",
    "    scoring=scoring_accuracy\n",
    ")"
   ]
  },
  {
   "cell_type": "code",
   "execution_count": 69,
   "id": "66506347",
   "metadata": {},
   "outputs": [
    {
     "name": "stdout",
     "output_type": "stream",
     "text": [
      "Logistic Regression: mean accuracy = 0.9023368740515935  std accuracy = 0.0035750056018518483\n",
      "K-Nearest Neighbor: mean accuracy = 0.8957511380880122  std accuracy = 0.004907258140775195\n",
      "Support Vector Machine: mean accuracy = 0.9059180576631259  std accuracy = 0.004287704525025643\n",
      "Decision Tree: mean accuracy = 0.8747496206373292  std accuracy = 0.004125791859052058\n",
      "Random Forest: mean accuracy = 0.9045827010622155  std accuracy = 0.004709869677588193\n",
      "Naive Bayes: mean accuracy = 0.8845220030349015  std accuracy = 0.006082308815917677\n"
     ]
    }
   ],
   "source": [
    "# cetak hasil rata-rata akurasi setiap model\n",
    "for msg in print_msg_accuracy:\n",
    "    print(msg)"
   ]
  },
  {
   "cell_type": "markdown",
   "id": "f97aa7ea",
   "metadata": {},
   "source": [
    "## Bandingkan hasil akurasi setiap model"
   ]
  },
  {
   "cell_type": "code",
   "execution_count": 70,
   "id": "bd2df055",
   "metadata": {},
   "outputs": [
    {
     "data": {
      "image/png": "[encoded data removed]",
      "text/plain": [
       "<Figure size 576x288 with 1 Axes>"
      ]
     },
     "metadata": {
      "needs_background": "light"
     },
     "output_type": "display_data"
    }
   ],
   "source": [
    "fig = plt.figure(figsize=(10,8))\n",
    "fig.suptitle('Hasil perbandingan akurasi setiap model klasifikasi')\n",
    "ax = fig.add_subplot(111)\n",
    "\n",
    "plt.boxplot(cv_results_accuracy)\n",
    "ax.set_xticklabels(model_names, rotation=90)\n",
    "fig.set_size_inches(8,4)\n",
    "plt.show()"
   ]
  },
  {
   "cell_type": "markdown",
   "id": "8f2d0e25",
   "metadata": {},
   "source": [
    "**ANALISIS** <br>\n",
    "1. Dari segi **akurasi** Logistic Regression, SVM, dan Random Forest tampil menjadi model terbaik dengan rata-rata akurasi ketiga model ini yang hampir sama. \n",
    "2. Decision Tree dan Naive Bayes memberikan performa akurasi paling rendah"
   ]
  },
  {
   "cell_type": "markdown",
   "id": "c7000577",
   "metadata": {},
   "source": [
    "## Melihat confusion matrix dari SVM\n",
    "***\n",
    "Ukuran performa yang digunakan pada permasalahan ini adalah **memaksimalkan recall**"
   ]
  },
  {
   "cell_type": "code",
   "execution_count": 71,
   "id": "0f9a83b9",
   "metadata": {},
   "outputs": [],
   "source": [
    "# inisialisasi model SVM dengan default parameter\n",
    "svm = SVC()\n",
    "\n",
    "# fit model into training data\n",
    "svm.fit(X_train_pca,y_train)\n",
    "\n",
    "# get y prediction\n",
    "y_pred = svm.predict(X_test_pca)"
   ]
  },
  {
   "cell_type": "code",
   "execution_count": 72,
   "id": "c483f9c9",
   "metadata": {},
   "outputs": [
    {
     "name": "stdout",
     "output_type": "stream",
     "text": [
      "SVM Recall score =  0.32727272727272727\n",
      "              precision    recall  f1-score   support\n",
      "\n",
      "           0       0.92      0.98      0.95      7303\n",
      "           1       0.64      0.33      0.43       935\n",
      "\n",
      "    accuracy                           0.90      8238\n",
      "   macro avg       0.78      0.65      0.69      8238\n",
      "weighted avg       0.89      0.90      0.89      8238\n",
      "\n",
      "[[7134  169]\n",
      " [ 629  306]]\n"
     ]
    }
   ],
   "source": [
    "# print results\n",
    "print(\"SVM Recall score = \", metrics.recall_score(y_test,y_pred))\n",
    "print(metrics.classification_report(y_test,y_pred))\n",
    "\n",
    "# confusion matrix\n",
    "print(metrics.confusion_matrix(y_test,y_pred))"
   ]
  },
  {
   "cell_type": "markdown",
   "id": "b90e8f2d",
   "metadata": {},
   "source": [
    "**ANALISIS HASIL CONFUSION MATRIX SVM** <br>\n",
    "Model SVM walaupun memberikan nilai rata-rata akurasi tertinggi, namun nyatanya masih belum maksimal dalam memberikan **recall** terbaik. Hal ini dibuktikan dengan nilai FN yang besar yaitu **629** dibandingkan TP yaitu **306**. <br> <br>\n",
    "**Penting!!** <br>\n",
    "Nilai FN dan TP mungkin bervariasi seiring kode program dijalankan dan komputer yang digunakan. Namun, saat dijalankan SVM muncul memberikan hasil seperti di atas"
   ]
  },
  {
   "cell_type": "markdown",
   "id": "aa48dfdb",
   "metadata": {},
   "source": [
    "## Model Tuning dengan memilih metriks evaluasi yang benar\n",
    "***\n",
    "Recall akan digunakan untuk mentuning model yang digunakan "
   ]
  },
  {
   "cell_type": "code",
   "execution_count": 73,
   "id": "7adfea83",
   "metadata": {},
   "outputs": [],
   "source": [
    "cv_results_recall, model_names, print_msg_recall = perform_model(\n",
    "    models=models,\n",
    "    X_train=X_train_pca,\n",
    "    y_train=y_train,\n",
    "    kfold=kfold,\n",
    "    scoring=scoring_recall\n",
    ")"
   ]
  },
  {
   "cell_type": "code",
   "execution_count": 74,
   "id": "6de12f8c",
   "metadata": {},
   "outputs": [
    {
     "name": "stdout",
     "output_type": "stream",
     "text": [
      "Logistic Regression: mean recall = 0.3001232434216726  std recall = 0.0264367072479942\n",
      "K-Nearest Neighbor: mean recall = 0.31006878283817807  std recall = 0.02647516484092692\n",
      "Support Vector Machine: mean recall = 0.3320671662420843  std recall = 0.022689143588631826\n",
      "Decision Tree: mean recall = 0.44291126610978415  std recall = 0.03010849415041011\n",
      "Random Forest: mean recall = 0.38275103227226326  std recall = 0.03354554451183333\n",
      "Naive Bayes: mean recall = 0.4053439758536073  std recall = 0.03125109677380032\n"
     ]
    }
   ],
   "source": [
    "# cetak hasil rata-rata recall setiap model\n",
    "for msg in print_msg_recall:\n",
    "    print(msg)"
   ]
  },
  {
   "cell_type": "markdown",
   "id": "96e4c936",
   "metadata": {},
   "source": [
    "### Bandingkan hasil recall setiap model"
   ]
  },
  {
   "cell_type": "code",
   "execution_count": 75,
   "id": "7d116c13",
   "metadata": {},
   "outputs": [
    {
     "data": {
      "image/png": "[encoded data removed]",
      "text/plain": [
       "<Figure size 576x288 with 1 Axes>"
      ]
     },
     "metadata": {
      "needs_background": "light"
     },
     "output_type": "display_data"
    }
   ],
   "source": [
    "fig = plt.figure(figsize=(10,8))\n",
    "fig.suptitle('Hasil perbandingan recall setiap model klasifikasi')\n",
    "ax = fig.add_subplot(111)\n",
    "\n",
    "plt.boxplot(cv_results_recall)\n",
    "ax.set_xticklabels(model_names, rotation=90)\n",
    "fig.set_size_inches(8,4)\n",
    "plt.show()"
   ]
  },
  {
   "cell_type": "markdown",
   "id": "978494ba",
   "metadata": {},
   "source": [
    "**ANALISIS** <br>\n",
    "1. Decision Tree dan Naive Bayes tampil dengan rata-rata recall terbaik dibandingkan model-model lainnya.\n",
    "2. Akurasi pada dataset yang imbalanced tidak bisa menjadi penentu untuk memilih model. Bisa dilihat bahwa SVM tidak mampu memberikan performa recall yang terbaik, padahal sebelumnya model ini memberikan akurasi tertinggi."
   ]
  },
  {
   "cell_type": "markdown",
   "id": "f433c183",
   "metadata": {},
   "source": [
    "### Evaluasi model dengan recall terbaik menggunakan data testing"
   ]
  },
  {
   "cell_type": "code",
   "execution_count": 76,
   "id": "666d8d99",
   "metadata": {},
   "outputs": [],
   "source": [
    "# inisialisasi model Decision Tree\n",
    "dt = DecisionTreeClassifier()\n",
    "\n",
    "# fit model into training data\n",
    "dt.fit(X_train_pca,y_train)\n",
    "\n",
    "# get y prediction\n",
    "y_pred_dt = dt.predict(X_test_pca)"
   ]
  },
  {
   "cell_type": "code",
   "execution_count": 77,
   "id": "4ba688ff",
   "metadata": {},
   "outputs": [
    {
     "name": "stdout",
     "output_type": "stream",
     "text": [
      "Accuracy score Decision Tree =  0.8749696528283564\n",
      "              precision    recall  f1-score   support\n",
      "\n",
      "           0       0.93      0.93      0.93      7303\n",
      "           1       0.45      0.44      0.44       935\n",
      "\n",
      "    accuracy                           0.87      8238\n",
      "   macro avg       0.69      0.68      0.69      8238\n",
      "weighted avg       0.87      0.87      0.87      8238\n",
      "\n",
      "[[6800  503]\n",
      " [ 527  408]]\n"
     ]
    }
   ],
   "source": [
    "# print score\n",
    "print(\"Accuracy score Decision Tree = \", metrics.accuracy_score(y_test,y_pred_dt))\n",
    "print(metrics.classification_report(y_test,y_pred_dt))\n",
    "\n",
    "# confusion matrix\n",
    "print(metrics.confusion_matrix(y_test,y_pred_dt))"
   ]
  },
  {
   "cell_type": "markdown",
   "id": "192e4f57",
   "metadata": {},
   "source": [
    "Decision Tree masih memberikan **FN (511)** dan **FP (521)** yang terbilang masih tinggi. <br>\n",
    "\n",
    "**Penting!!** <br>\n",
    "Nilai FN dan FP mungkin bervariasi seiring kode program dijalankan dan komputer yang digunakan. Namun, saat dijalankan Decision Tree (DT) muncul memberikan hasil seperti di atas"
   ]
  },
  {
   "cell_type": "markdown",
   "id": "96de3633",
   "metadata": {},
   "source": [
    "## Model Tuning dengan balancing data sampel - undersampling\n",
    "***\n",
    "Sampel dataset memiliki ketidakseimbangan pada label kelas yang cukup besar. Hal ini bisa menyebabkan bias pada kelas mayoritas; menyebabkan performa model klasifikasi menjadi menurun; dan **meningkatkan terjadinya FN** <br>\n",
    "Model yang ingin dikembangkan adalah sebisa mungkin meminimumkan adanya FN, sehingga perlu dilakukan penyeimbangan pada label kelas. Salah satu caranya dengan *undersampling*"
   ]
  },
  {
   "cell_type": "markdown",
   "id": "e65e76a5",
   "metadata": {},
   "source": [
    "### Undersampling dataset pada kelas yang dominan menjadi sama dengan kelas minoritas"
   ]
  },
  {
   "cell_type": "code",
   "execution_count": 78,
   "id": "4fa7d9fe",
   "metadata": {},
   "outputs": [],
   "source": [
    "# menyatukan atribut dan target pada data latih\n",
    "df = pd.concat([pd.DataFrame(data=X_train_pca),y_train.reset_index()['berlangganan_deposito']],axis=1)"
   ]
  },
  {
   "cell_type": "code",
   "execution_count": 79,
   "id": "11a2101b",
   "metadata": {},
   "outputs": [
    {
     "data": {
      "text/html": [
       "<div>\n",
       "<style scoped>\n",
       "    .dataframe tbody tr th:only-of-type {\n",
       "        vertical-align: middle;\n",
       "    }\n",
       "\n",
       "    .dataframe tbody tr th {\n",
       "        vertical-align: top;\n",
       "    }\n",
       "\n",
       "    .dataframe thead th {\n",
       "        text-align: right;\n",
       "    }\n",
       "</style>\n",
       "<table border=\"1\" class=\"dataframe\">\n",
       "  <thead>\n",
       "    <tr style=\"text-align: right;\">\n",
       "      <th></th>\n",
       "      <th>0</th>\n",
       "      <th>1</th>\n",
       "      <th>2</th>\n",
       "      <th>3</th>\n",
       "      <th>4</th>\n",
       "      <th>5</th>\n",
       "      <th>6</th>\n",
       "      <th>7</th>\n",
       "      <th>8</th>\n",
       "      <th>9</th>\n",
       "      <th>...</th>\n",
       "      <th>17</th>\n",
       "      <th>18</th>\n",
       "      <th>19</th>\n",
       "      <th>20</th>\n",
       "      <th>21</th>\n",
       "      <th>22</th>\n",
       "      <th>23</th>\n",
       "      <th>24</th>\n",
       "      <th>25</th>\n",
       "      <th>berlangganan_deposito</th>\n",
       "    </tr>\n",
       "  </thead>\n",
       "  <tbody>\n",
       "    <tr>\n",
       "      <th>0</th>\n",
       "      <td>-1.511256</td>\n",
       "      <td>1.334789</td>\n",
       "      <td>-1.694722</td>\n",
       "      <td>0.383251</td>\n",
       "      <td>-1.149499</td>\n",
       "      <td>-0.082431</td>\n",
       "      <td>0.775471</td>\n",
       "      <td>-1.614662</td>\n",
       "      <td>0.740260</td>\n",
       "      <td>0.598714</td>\n",
       "      <td>...</td>\n",
       "      <td>-1.066218</td>\n",
       "      <td>0.702698</td>\n",
       "      <td>0.200539</td>\n",
       "      <td>0.100780</td>\n",
       "      <td>-0.336269</td>\n",
       "      <td>0.026808</td>\n",
       "      <td>-0.135000</td>\n",
       "      <td>-0.173723</td>\n",
       "      <td>-0.488031</td>\n",
       "      <td>0</td>\n",
       "    </tr>\n",
       "    <tr>\n",
       "      <th>1</th>\n",
       "      <td>1.173154</td>\n",
       "      <td>-0.285196</td>\n",
       "      <td>-0.200791</td>\n",
       "      <td>-1.832885</td>\n",
       "      <td>-0.111619</td>\n",
       "      <td>-1.985344</td>\n",
       "      <td>-1.134036</td>\n",
       "      <td>-0.240373</td>\n",
       "      <td>0.348870</td>\n",
       "      <td>-0.356971</td>\n",
       "      <td>...</td>\n",
       "      <td>-0.474214</td>\n",
       "      <td>0.108690</td>\n",
       "      <td>-0.049133</td>\n",
       "      <td>-0.372092</td>\n",
       "      <td>-0.248849</td>\n",
       "      <td>1.113365</td>\n",
       "      <td>-0.318716</td>\n",
       "      <td>0.575654</td>\n",
       "      <td>-0.072758</td>\n",
       "      <td>0</td>\n",
       "    </tr>\n",
       "    <tr>\n",
       "      <th>2</th>\n",
       "      <td>3.712752</td>\n",
       "      <td>1.780559</td>\n",
       "      <td>-0.665103</td>\n",
       "      <td>3.445312</td>\n",
       "      <td>-1.025918</td>\n",
       "      <td>-1.097075</td>\n",
       "      <td>0.105405</td>\n",
       "      <td>1.841761</td>\n",
       "      <td>1.036750</td>\n",
       "      <td>-3.000182</td>\n",
       "      <td>...</td>\n",
       "      <td>-1.530331</td>\n",
       "      <td>1.251636</td>\n",
       "      <td>-0.346835</td>\n",
       "      <td>-1.229520</td>\n",
       "      <td>-0.754339</td>\n",
       "      <td>0.320708</td>\n",
       "      <td>-0.512354</td>\n",
       "      <td>0.914693</td>\n",
       "      <td>0.035259</td>\n",
       "      <td>0</td>\n",
       "    </tr>\n",
       "    <tr>\n",
       "      <th>3</th>\n",
       "      <td>-1.522567</td>\n",
       "      <td>-0.929082</td>\n",
       "      <td>-1.016858</td>\n",
       "      <td>1.814950</td>\n",
       "      <td>-1.880351</td>\n",
       "      <td>-0.144434</td>\n",
       "      <td>2.131922</td>\n",
       "      <td>-0.161427</td>\n",
       "      <td>-0.070042</td>\n",
       "      <td>-0.536332</td>\n",
       "      <td>...</td>\n",
       "      <td>-1.896797</td>\n",
       "      <td>-1.116709</td>\n",
       "      <td>-0.501986</td>\n",
       "      <td>1.414642</td>\n",
       "      <td>0.235338</td>\n",
       "      <td>0.728260</td>\n",
       "      <td>0.041266</td>\n",
       "      <td>-0.664672</td>\n",
       "      <td>-0.559438</td>\n",
       "      <td>0</td>\n",
       "    </tr>\n",
       "    <tr>\n",
       "      <th>4</th>\n",
       "      <td>-0.848325</td>\n",
       "      <td>1.546795</td>\n",
       "      <td>0.657429</td>\n",
       "      <td>-1.966923</td>\n",
       "      <td>0.906161</td>\n",
       "      <td>-0.582266</td>\n",
       "      <td>-0.095410</td>\n",
       "      <td>1.032899</td>\n",
       "      <td>-0.857467</td>\n",
       "      <td>0.574869</td>\n",
       "      <td>...</td>\n",
       "      <td>-0.598011</td>\n",
       "      <td>0.074863</td>\n",
       "      <td>0.226157</td>\n",
       "      <td>-0.494577</td>\n",
       "      <td>-0.817571</td>\n",
       "      <td>0.673685</td>\n",
       "      <td>-0.465679</td>\n",
       "      <td>0.481441</td>\n",
       "      <td>0.177269</td>\n",
       "      <td>0</td>\n",
       "    </tr>\n",
       "    <tr>\n",
       "      <th>...</th>\n",
       "      <td>...</td>\n",
       "      <td>...</td>\n",
       "      <td>...</td>\n",
       "      <td>...</td>\n",
       "      <td>...</td>\n",
       "      <td>...</td>\n",
       "      <td>...</td>\n",
       "      <td>...</td>\n",
       "      <td>...</td>\n",
       "      <td>...</td>\n",
       "      <td>...</td>\n",
       "      <td>...</td>\n",
       "      <td>...</td>\n",
       "      <td>...</td>\n",
       "      <td>...</td>\n",
       "      <td>...</td>\n",
       "      <td>...</td>\n",
       "      <td>...</td>\n",
       "      <td>...</td>\n",
       "      <td>...</td>\n",
       "      <td>...</td>\n",
       "    </tr>\n",
       "    <tr>\n",
       "      <th>32945</th>\n",
       "      <td>-1.582753</td>\n",
       "      <td>1.670793</td>\n",
       "      <td>1.696145</td>\n",
       "      <td>2.751513</td>\n",
       "      <td>-0.334386</td>\n",
       "      <td>0.476249</td>\n",
       "      <td>-1.371858</td>\n",
       "      <td>2.061996</td>\n",
       "      <td>-0.082484</td>\n",
       "      <td>-0.093522</td>\n",
       "      <td>...</td>\n",
       "      <td>-0.637547</td>\n",
       "      <td>0.515452</td>\n",
       "      <td>0.570036</td>\n",
       "      <td>-1.098449</td>\n",
       "      <td>-0.817743</td>\n",
       "      <td>-0.274972</td>\n",
       "      <td>-0.469554</td>\n",
       "      <td>0.523653</td>\n",
       "      <td>0.654199</td>\n",
       "      <td>0</td>\n",
       "    </tr>\n",
       "    <tr>\n",
       "      <th>32946</th>\n",
       "      <td>-2.100100</td>\n",
       "      <td>0.476208</td>\n",
       "      <td>1.045314</td>\n",
       "      <td>-0.232017</td>\n",
       "      <td>1.870402</td>\n",
       "      <td>-1.101957</td>\n",
       "      <td>-0.325147</td>\n",
       "      <td>-1.259469</td>\n",
       "      <td>2.511306</td>\n",
       "      <td>-0.033674</td>\n",
       "      <td>...</td>\n",
       "      <td>1.756331</td>\n",
       "      <td>-0.256554</td>\n",
       "      <td>-0.246506</td>\n",
       "      <td>0.348102</td>\n",
       "      <td>-1.667067</td>\n",
       "      <td>0.088248</td>\n",
       "      <td>-0.243657</td>\n",
       "      <td>0.319117</td>\n",
       "      <td>-0.334659</td>\n",
       "      <td>0</td>\n",
       "    </tr>\n",
       "    <tr>\n",
       "      <th>32947</th>\n",
       "      <td>6.231605</td>\n",
       "      <td>1.368565</td>\n",
       "      <td>4.379538</td>\n",
       "      <td>0.070916</td>\n",
       "      <td>0.101321</td>\n",
       "      <td>0.094913</td>\n",
       "      <td>2.413389</td>\n",
       "      <td>0.511678</td>\n",
       "      <td>-1.107387</td>\n",
       "      <td>3.406354</td>\n",
       "      <td>...</td>\n",
       "      <td>0.020451</td>\n",
       "      <td>0.985272</td>\n",
       "      <td>1.016515</td>\n",
       "      <td>-0.975005</td>\n",
       "      <td>-1.653483</td>\n",
       "      <td>1.172637</td>\n",
       "      <td>4.079481</td>\n",
       "      <td>-1.107930</td>\n",
       "      <td>-2.457486</td>\n",
       "      <td>1</td>\n",
       "    </tr>\n",
       "    <tr>\n",
       "      <th>32948</th>\n",
       "      <td>-1.646938</td>\n",
       "      <td>0.868608</td>\n",
       "      <td>1.270475</td>\n",
       "      <td>-0.079411</td>\n",
       "      <td>1.759518</td>\n",
       "      <td>-1.158088</td>\n",
       "      <td>-1.056592</td>\n",
       "      <td>-0.864500</td>\n",
       "      <td>-0.619892</td>\n",
       "      <td>-0.426167</td>\n",
       "      <td>...</td>\n",
       "      <td>0.774616</td>\n",
       "      <td>-0.215669</td>\n",
       "      <td>-0.821700</td>\n",
       "      <td>0.754257</td>\n",
       "      <td>-0.943698</td>\n",
       "      <td>-0.436601</td>\n",
       "      <td>0.301747</td>\n",
       "      <td>0.044232</td>\n",
       "      <td>-0.403584</td>\n",
       "      <td>0</td>\n",
       "    </tr>\n",
       "    <tr>\n",
       "      <th>32949</th>\n",
       "      <td>-0.076583</td>\n",
       "      <td>-2.032604</td>\n",
       "      <td>0.014316</td>\n",
       "      <td>-2.111032</td>\n",
       "      <td>-0.859415</td>\n",
       "      <td>-1.351619</td>\n",
       "      <td>0.839425</td>\n",
       "      <td>-1.061257</td>\n",
       "      <td>0.907852</td>\n",
       "      <td>0.058830</td>\n",
       "      <td>...</td>\n",
       "      <td>-0.789961</td>\n",
       "      <td>0.798877</td>\n",
       "      <td>0.731328</td>\n",
       "      <td>-0.257560</td>\n",
       "      <td>-0.274070</td>\n",
       "      <td>0.350717</td>\n",
       "      <td>0.005646</td>\n",
       "      <td>-0.590283</td>\n",
       "      <td>0.054987</td>\n",
       "      <td>0</td>\n",
       "    </tr>\n",
       "  </tbody>\n",
       "</table>\n",
       "<p>32950 rows × 27 columns</p>\n",
       "</div>"
      ],
      "text/plain": [
       "              0         1         2         3         4         5         6  \\\n",
       "0     -1.511256  1.334789 -1.694722  0.383251 -1.149499 -0.082431  0.775471   \n",
       "1      1.173154 -0.285196 -0.200791 -1.832885 -0.111619 -1.985344 -1.134036   \n",
       "2      3.712752  1.780559 -0.665103  3.445312 -1.025918 -1.097075  0.105405   \n",
       "3     -1.522567 -0.929082 -1.016858  1.814950 -1.880351 -0.144434  2.131922   \n",
       "4     -0.848325  1.546795  0.657429 -1.966923  0.906161 -0.582266 -0.095410   \n",
       "...         ...       ...       ...       ...       ...       ...       ...   \n",
       "32945 -1.582753  1.670793  1.696145  2.751513 -0.334386  0.476249 -1.371858   \n",
       "32946 -2.100100  0.476208  1.045314 -0.232017  1.870402 -1.101957 -0.325147   \n",
       "32947  6.231605  1.368565  4.379538  0.070916  0.101321  0.094913  2.413389   \n",
       "32948 -1.646938  0.868608  1.270475 -0.079411  1.759518 -1.158088 -1.056592   \n",
       "32949 -0.076583 -2.032604  0.014316 -2.111032 -0.859415 -1.351619  0.839425   \n",
       "\n",
       "              7         8         9  ...        17        18        19  \\\n",
       "0     -1.614662  0.740260  0.598714  ... -1.066218  0.702698  0.200539   \n",
       "1     -0.240373  0.348870 -0.356971  ... -0.474214  0.108690 -0.049133   \n",
       "2      1.841761  1.036750 -3.000182  ... -1.530331  1.251636 -0.346835   \n",
       "3     -0.161427 -0.070042 -0.536332  ... -1.896797 -1.116709 -0.501986   \n",
       "4      1.032899 -0.857467  0.574869  ... -0.598011  0.074863  0.226157   \n",
       "...         ...       ...       ...  ...       ...       ...       ...   \n",
       "32945  2.061996 -0.082484 -0.093522  ... -0.637547  0.515452  0.570036   \n",
       "32946 -1.259469  2.511306 -0.033674  ...  1.756331 -0.256554 -0.246506   \n",
       "32947  0.511678 -1.107387  3.406354  ...  0.020451  0.985272  1.016515   \n",
       "32948 -0.864500 -0.619892 -0.426167  ...  0.774616 -0.215669 -0.821700   \n",
       "32949 -1.061257  0.907852  0.058830  ... -0.789961  0.798877  0.731328   \n",
       "\n",
       "             20        21        22        23        24        25  \\\n",
       "0      0.100780 -0.336269  0.026808 -0.135000 -0.173723 -0.488031   \n",
       "1     -0.372092 -0.248849  1.113365 -0.318716  0.575654 -0.072758   \n",
       "2     -1.229520 -0.754339  0.320708 -0.512354  0.914693  0.035259   \n",
       "3      1.414642  0.235338  0.728260  0.041266 -0.664672 -0.559438   \n",
       "4     -0.494577 -0.817571  0.673685 -0.465679  0.481441  0.177269   \n",
       "...         ...       ...       ...       ...       ...       ...   \n",
       "32945 -1.098449 -0.817743 -0.274972 -0.469554  0.523653  0.654199   \n",
       "32946  0.348102 -1.667067  0.088248 -0.243657  0.319117 -0.334659   \n",
       "32947 -0.975005 -1.653483  1.172637  4.079481 -1.107930 -2.457486   \n",
       "32948  0.754257 -0.943698 -0.436601  0.301747  0.044232 -0.403584   \n",
       "32949 -0.257560 -0.274070  0.350717  0.005646 -0.590283  0.054987   \n",
       "\n",
       "       berlangganan_deposito  \n",
       "0                          0  \n",
       "1                          0  \n",
       "2                          0  \n",
       "3                          0  \n",
       "4                          0  \n",
       "...                      ...  \n",
       "32945                      0  \n",
       "32946                      0  \n",
       "32947                      1  \n",
       "32948                      0  \n",
       "32949                      0  \n",
       "\n",
       "[32950 rows x 27 columns]"
      ]
     },
     "execution_count": 79,
     "metadata": {},
     "output_type": "execute_result"
    }
   ],
   "source": [
    "df"
   ]
  },
  {
   "cell_type": "code",
   "execution_count": 80,
   "id": "24e4dcc8",
   "metadata": {},
   "outputs": [
    {
     "data": {
      "text/plain": [
       "0    29245\n",
       "1     3705\n",
       "Name: berlangganan_deposito, dtype: int64"
      ]
     },
     "execution_count": 80,
     "metadata": {},
     "output_type": "execute_result"
    }
   ],
   "source": [
    "# melihat banyak setiap nilai pada label kelas\n",
    "df['berlangganan_deposito'].value_counts()"
   ]
  },
  {
   "cell_type": "code",
   "execution_count": 81,
   "id": "61d6fbf9",
   "metadata": {},
   "outputs": [],
   "source": [
    "# under-sampling kelas 'No' menjadi 3705\n",
    "no_df = df[df['berlangganan_deposito']==0][:df['berlangganan_deposito'].value_counts()[1]]\n",
    "yes_df = df[df['berlangganan_deposito']==1]"
   ]
  },
  {
   "cell_type": "markdown",
   "id": "37b00e6f",
   "metadata": {},
   "source": [
    "### Menggabungkan dataset yang setiap kelasnya sudah balanced menjadi 1"
   ]
  },
  {
   "cell_type": "code",
   "execution_count": 82,
   "id": "fe496ea3",
   "metadata": {},
   "outputs": [],
   "source": [
    "normal_distributed_df = pd.concat([yes_df,no_df])\n",
    "\n",
    "# shuffle row pada data yang sudah digabung agar acak\n",
    "bank_df_normal_distributed = normal_distributed_df.sample(frac=1, random_state=42)"
   ]
  },
  {
   "cell_type": "code",
   "execution_count": 83,
   "id": "c5423871",
   "metadata": {},
   "outputs": [
    {
     "data": {
      "text/html": [
       "<div>\n",
       "<style scoped>\n",
       "    .dataframe tbody tr th:only-of-type {\n",
       "        vertical-align: middle;\n",
       "    }\n",
       "\n",
       "    .dataframe tbody tr th {\n",
       "        vertical-align: top;\n",
       "    }\n",
       "\n",
       "    .dataframe thead th {\n",
       "        text-align: right;\n",
       "    }\n",
       "</style>\n",
       "<table border=\"1\" class=\"dataframe\">\n",
       "  <thead>\n",
       "    <tr style=\"text-align: right;\">\n",
       "      <th></th>\n",
       "      <th>0</th>\n",
       "      <th>1</th>\n",
       "      <th>2</th>\n",
       "      <th>3</th>\n",
       "      <th>4</th>\n",
       "      <th>5</th>\n",
       "      <th>6</th>\n",
       "      <th>7</th>\n",
       "      <th>8</th>\n",
       "      <th>9</th>\n",
       "      <th>...</th>\n",
       "      <th>17</th>\n",
       "      <th>18</th>\n",
       "      <th>19</th>\n",
       "      <th>20</th>\n",
       "      <th>21</th>\n",
       "      <th>22</th>\n",
       "      <th>23</th>\n",
       "      <th>24</th>\n",
       "      <th>25</th>\n",
       "      <th>berlangganan_deposito</th>\n",
       "    </tr>\n",
       "  </thead>\n",
       "  <tbody>\n",
       "    <tr>\n",
       "      <th>1481</th>\n",
       "      <td>-0.951806</td>\n",
       "      <td>-2.668908</td>\n",
       "      <td>1.920620</td>\n",
       "      <td>-0.581600</td>\n",
       "      <td>-0.976741</td>\n",
       "      <td>1.023132</td>\n",
       "      <td>-1.060801</td>\n",
       "      <td>-0.940605</td>\n",
       "      <td>-0.611950</td>\n",
       "      <td>-0.321711</td>\n",
       "      <td>...</td>\n",
       "      <td>0.541416</td>\n",
       "      <td>-0.460233</td>\n",
       "      <td>-0.362829</td>\n",
       "      <td>0.170341</td>\n",
       "      <td>0.092935</td>\n",
       "      <td>-0.247235</td>\n",
       "      <td>0.114307</td>\n",
       "      <td>0.162178</td>\n",
       "      <td>-0.142623</td>\n",
       "      <td>0</td>\n",
       "    </tr>\n",
       "    <tr>\n",
       "      <th>13735</th>\n",
       "      <td>-1.082334</td>\n",
       "      <td>-1.317078</td>\n",
       "      <td>-0.445060</td>\n",
       "      <td>-0.818239</td>\n",
       "      <td>-1.019375</td>\n",
       "      <td>-0.478542</td>\n",
       "      <td>2.699708</td>\n",
       "      <td>1.053048</td>\n",
       "      <td>-0.436642</td>\n",
       "      <td>0.504398</td>\n",
       "      <td>...</td>\n",
       "      <td>-0.128179</td>\n",
       "      <td>-1.138022</td>\n",
       "      <td>2.728592</td>\n",
       "      <td>-0.669205</td>\n",
       "      <td>-1.792888</td>\n",
       "      <td>0.443284</td>\n",
       "      <td>-0.554150</td>\n",
       "      <td>-1.039779</td>\n",
       "      <td>2.208377</td>\n",
       "      <td>1</td>\n",
       "    </tr>\n",
       "    <tr>\n",
       "      <th>21627</th>\n",
       "      <td>1.341377</td>\n",
       "      <td>-0.389645</td>\n",
       "      <td>-0.406936</td>\n",
       "      <td>-1.427428</td>\n",
       "      <td>-0.320514</td>\n",
       "      <td>-1.973518</td>\n",
       "      <td>-1.157053</td>\n",
       "      <td>-0.248807</td>\n",
       "      <td>-0.194923</td>\n",
       "      <td>0.343968</td>\n",
       "      <td>...</td>\n",
       "      <td>-0.165638</td>\n",
       "      <td>-1.031930</td>\n",
       "      <td>0.731044</td>\n",
       "      <td>0.216650</td>\n",
       "      <td>-0.548401</td>\n",
       "      <td>-0.037513</td>\n",
       "      <td>-0.164524</td>\n",
       "      <td>-0.886885</td>\n",
       "      <td>1.298134</td>\n",
       "      <td>1</td>\n",
       "    </tr>\n",
       "    <tr>\n",
       "      <th>2286</th>\n",
       "      <td>0.941270</td>\n",
       "      <td>1.052442</td>\n",
       "      <td>-2.038827</td>\n",
       "      <td>-0.255487</td>\n",
       "      <td>-1.100170</td>\n",
       "      <td>-0.624464</td>\n",
       "      <td>-0.365516</td>\n",
       "      <td>0.998815</td>\n",
       "      <td>-0.743819</td>\n",
       "      <td>0.628268</td>\n",
       "      <td>...</td>\n",
       "      <td>0.332043</td>\n",
       "      <td>-0.399023</td>\n",
       "      <td>-0.280319</td>\n",
       "      <td>-0.154913</td>\n",
       "      <td>-0.492749</td>\n",
       "      <td>0.823546</td>\n",
       "      <td>-0.430584</td>\n",
       "      <td>0.716807</td>\n",
       "      <td>0.129809</td>\n",
       "      <td>0</td>\n",
       "    </tr>\n",
       "    <tr>\n",
       "      <th>22685</th>\n",
       "      <td>5.608009</td>\n",
       "      <td>-0.451831</td>\n",
       "      <td>3.054258</td>\n",
       "      <td>0.648080</td>\n",
       "      <td>2.142404</td>\n",
       "      <td>0.029547</td>\n",
       "      <td>1.812503</td>\n",
       "      <td>-1.422764</td>\n",
       "      <td>-0.756821</td>\n",
       "      <td>1.964485</td>\n",
       "      <td>...</td>\n",
       "      <td>0.263968</td>\n",
       "      <td>-1.088822</td>\n",
       "      <td>-0.305752</td>\n",
       "      <td>0.247348</td>\n",
       "      <td>0.383245</td>\n",
       "      <td>-0.222422</td>\n",
       "      <td>0.000076</td>\n",
       "      <td>-0.125240</td>\n",
       "      <td>0.079811</td>\n",
       "      <td>1</td>\n",
       "    </tr>\n",
       "  </tbody>\n",
       "</table>\n",
       "<p>5 rows × 27 columns</p>\n",
       "</div>"
      ],
      "text/plain": [
       "              0         1         2         3         4         5         6  \\\n",
       "1481  -0.951806 -2.668908  1.920620 -0.581600 -0.976741  1.023132 -1.060801   \n",
       "13735 -1.082334 -1.317078 -0.445060 -0.818239 -1.019375 -0.478542  2.699708   \n",
       "21627  1.341377 -0.389645 -0.406936 -1.427428 -0.320514 -1.973518 -1.157053   \n",
       "2286   0.941270  1.052442 -2.038827 -0.255487 -1.100170 -0.624464 -0.365516   \n",
       "22685  5.608009 -0.451831  3.054258  0.648080  2.142404  0.029547  1.812503   \n",
       "\n",
       "              7         8         9  ...        17        18        19  \\\n",
       "1481  -0.940605 -0.611950 -0.321711  ...  0.541416 -0.460233 -0.362829   \n",
       "13735  1.053048 -0.436642  0.504398  ... -0.128179 -1.138022  2.728592   \n",
       "21627 -0.248807 -0.194923  0.343968  ... -0.165638 -1.031930  0.731044   \n",
       "2286   0.998815 -0.743819  0.628268  ...  0.332043 -0.399023 -0.280319   \n",
       "22685 -1.422764 -0.756821  1.964485  ...  0.263968 -1.088822 -0.305752   \n",
       "\n",
       "             20        21        22        23        24        25  \\\n",
       "1481   0.170341  0.092935 -0.247235  0.114307  0.162178 -0.142623   \n",
       "13735 -0.669205 -1.792888  0.443284 -0.554150 -1.039779  2.208377   \n",
       "21627  0.216650 -0.548401 -0.037513 -0.164524 -0.886885  1.298134   \n",
       "2286  -0.154913 -0.492749  0.823546 -0.430584  0.716807  0.129809   \n",
       "22685  0.247348  0.383245 -0.222422  0.000076 -0.125240  0.079811   \n",
       "\n",
       "       berlangganan_deposito  \n",
       "1481                       0  \n",
       "13735                      1  \n",
       "21627                      1  \n",
       "2286                       0  \n",
       "22685                      1  \n",
       "\n",
       "[5 rows x 27 columns]"
      ]
     },
     "execution_count": 83,
     "metadata": {},
     "output_type": "execute_result"
    }
   ],
   "source": [
    "bank_df_normal_distributed.head()"
   ]
  },
  {
   "cell_type": "markdown",
   "id": "9e3c8e5f",
   "metadata": {},
   "source": [
    "### Split attributes dan target"
   ]
  },
  {
   "cell_type": "code",
   "execution_count": 84,
   "id": "35a86704",
   "metadata": {},
   "outputs": [],
   "source": [
    "X_train_balanced = bank_df_normal_distributed.drop('berlangganan_deposito',axis=1)\n",
    "y_train_balanced = bank_df_normal_distributed['berlangganan_deposito']"
   ]
  },
  {
   "cell_type": "markdown",
   "id": "76c4a09f",
   "metadata": {},
   "source": [
    "### Lihat distribusi dari data train yang sudah disampling"
   ]
  },
  {
   "cell_type": "code",
   "execution_count": 85,
   "id": "b96d022a",
   "metadata": {},
   "outputs": [
    {
     "name": "stdout",
     "output_type": "stream",
     "text": [
      "Distribusi setiap kelas dari subsampel dataset\n",
      "0    0.5\n",
      "1    0.5\n",
      "Name: berlangganan_deposito, dtype: float64\n"
     ]
    }
   ],
   "source": [
    "print('Distribusi setiap kelas dari subsampel dataset')\n",
    "print(bank_df_normal_distributed['berlangganan_deposito'].value_counts()/len(bank_df_normal_distributed))"
   ]
  },
  {
   "cell_type": "code",
   "execution_count": 86,
   "id": "c8768b43",
   "metadata": {},
   "outputs": [
    {
     "data": {
      "image/png": "[encoded data removed]",
      "text/plain": [
       "<Figure size 1008x504 with 1 Axes>"
      ]
     },
     "metadata": {
      "needs_background": "light"
     },
     "output_type": "display_data"
    }
   ],
   "source": [
    "plt.figure(figsize=(14,7))\n",
    "sns.countplot(x='berlangganan_deposito', data=bank_df_normal_distributed)\n",
    "plt.title('Distribusi kelas yang seimbang', fontsize=12)\n",
    "plt.xlabel('Berlangganan Deposito (Kelas)', fontsize=12)\n",
    "plt.ylabel('Jumlah', fontsize=12)\n",
    "plt.show()"
   ]
  },
  {
   "cell_type": "markdown",
   "id": "c987339b",
   "metadata": {},
   "source": [
    "Data latih kita sudah memiliki proporsi kelas yang seimbang. Kini akan dilakukan training ulang pada model dan melihat evaluasinya dengan scoring **accuracy** karena subsample sudah disampling dengan seimbang"
   ]
  },
  {
   "cell_type": "markdown",
   "id": "919a915d",
   "metadata": {},
   "source": [
    "## Training model dengan kelas data latih yang sudah seimbang"
   ]
  },
  {
   "cell_type": "markdown",
   "id": "01d504cf",
   "metadata": {},
   "source": [
    "### Model Training"
   ]
  },
  {
   "cell_type": "code",
   "execution_count": 87,
   "id": "fd89f03f",
   "metadata": {},
   "outputs": [],
   "source": [
    "cv_results_accuracy, model_names, print_msg_accuracy = perform_model(\n",
    "    models=models,\n",
    "    X_train=X_train_balanced,\n",
    "    y_train=y_train_balanced,\n",
    "    kfold=kfold,\n",
    "    scoring=scoring_accuracy\n",
    ")"
   ]
  },
  {
   "cell_type": "markdown",
   "id": "fca56ecc",
   "metadata": {},
   "source": [
    "### Lihat performa (akurasi) model yang sudah dilatih\n",
    "***\n",
    "Performa ini dilihat dari hasil k-fold cross-validation yang sudah dilakukan"
   ]
  },
  {
   "cell_type": "code",
   "execution_count": 88,
   "id": "ac8cd63f",
   "metadata": {},
   "outputs": [
    {
     "name": "stdout",
     "output_type": "stream",
     "text": [
      "Logistic Regression: mean accuracy = 0.8329284750337381  std accuracy = 0.012642416657090844\n",
      "K-Nearest Neighbor: mean accuracy = 0.7757085020242915  std accuracy = 0.012112715612586727\n",
      "Support Vector Machine: mean accuracy = 0.8695006747638327  std accuracy = 0.012146498702307473\n",
      "Decision Tree: mean accuracy = 0.8043184885290149  std accuracy = 0.016384399687747558\n",
      "Random Forest: mean accuracy = 0.8588394062078273  std accuracy = 0.0131701731700468\n",
      "Naive Bayes: mean accuracy = 0.7021592442645075  std accuracy = 0.018425377533061674\n"
     ]
    }
   ],
   "source": [
    "# cetak hasil rata-rata akurasi setiap model\n",
    "for msg in print_msg_accuracy:\n",
    "    print(msg)"
   ]
  },
  {
   "cell_type": "code",
   "execution_count": 89,
   "id": "75ab9109",
   "metadata": {},
   "outputs": [
    {
     "data": {
      "image/png": "[encoded data removed]",
      "text/plain": [
       "<Figure size 576x288 with 1 Axes>"
      ]
     },
     "metadata": {
      "needs_background": "light"
     },
     "output_type": "display_data"
    }
   ],
   "source": [
    "fig = plt.figure(figsize=(10,8))\n",
    "fig.suptitle('Hasil perbandingan akurasi setiap model klasifikasi dengan subsampel seimbang')\n",
    "ax = fig.add_subplot(111)\n",
    "\n",
    "plt.boxplot(cv_results_accuracy)\n",
    "ax.set_xticklabels(model_names, rotation=90)\n",
    "fig.set_size_inches(8,4)\n",
    "plt.show()"
   ]
  },
  {
   "cell_type": "markdown",
   "id": "2e6df58f",
   "metadata": {},
   "source": [
    "**ANALISIS** <br>\n",
    "Model SVM tampil memberikan rata-rata akurasi tertinggi ketika model dilatih dengan data latih yang seimbang."
   ]
  },
  {
   "cell_type": "markdown",
   "id": "6764f68b",
   "metadata": {},
   "source": [
    "### Melihat hasil klasifikasi SVM yang sudah dilatih dengan data uji"
   ]
  },
  {
   "cell_type": "code",
   "execution_count": 90,
   "id": "868875b2",
   "metadata": {},
   "outputs": [],
   "source": [
    "# inisialisasi model\n",
    "svm_balanced = SVC()\n",
    "\n",
    "# fit model into training data\n",
    "svm_balanced.fit(X_train_balanced,y_train_balanced)\n",
    "\n",
    "# get y prediction\n",
    "y_pred_balanced = svm_balanced.predict(X_test_pca)\n"
   ]
  },
  {
   "cell_type": "code",
   "execution_count": 91,
   "id": "1ef026c5",
   "metadata": {},
   "outputs": [
    {
     "name": "stdout",
     "output_type": "stream",
     "text": [
      "Accuracy score SVM with balanced subsample =  0.8417091527069677  %\n",
      "[[6076 1227]\n",
      " [  77  858]]\n",
      "              precision    recall  f1-score   support\n",
      "\n",
      "           0       0.99      0.83      0.90      7303\n",
      "           1       0.41      0.92      0.57       935\n",
      "\n",
      "    accuracy                           0.84      8238\n",
      "   macro avg       0.70      0.87      0.74      8238\n",
      "weighted avg       0.92      0.84      0.87      8238\n",
      "\n"
     ]
    }
   ],
   "source": [
    "# print score\n",
    "print(\"Accuracy score SVM with balanced subsample = \", metrics.accuracy_score(y_test,y_pred_balanced),\" %\")\n",
    "\n",
    "# confusion matrix\n",
    "print(metrics.confusion_matrix(y_test,y_pred_balanced))\n",
    "\n",
    "# hasil klasifikasi\n",
    "print(metrics.classification_report(y_test,y_pred_balanced))"
   ]
  },
  {
   "cell_type": "markdown",
   "id": "6379b1e5",
   "metadata": {},
   "source": [
    "**ANALISIS** <br>\n",
    "Hasil *confusion matrix* pada model SVM yang dilatih dengan sample yang balanced menunjukkan adanya peningkatan nilai **recall** kelas '1'. <br>\n",
    "1. Sebelum dilakukan *under-sampling* nilai recall untuk kelas '1' yaitu 0.44, sedangkan setelah di-*undersampling* menjadi 0.92 (**peningkatannya drastis**) <br>\n",
    "2. Terjadi penurunan **recall** untuk kelas '0' setelah *undersampling* dari 0.93 menjadi 0.83. Penurunannya tidak sebesar pada kenaikan recall untuk kelas '1'\n",
    "3. Model SVM ini juga memberikan nilai akurasi yang terbilang cukup baik sebesar 84,17% <br>\n",
    "\n",
    "**Penting!!** <br>\n",
    "Nilai-nilai yang dihasilkan mungkin bervariasi seiring kode program dijalankan dan komputer yang digunakan. Namun, saat dijalankan SVM muncul memberikan hasil seperti di atas"
   ]
  },
  {
   "cell_type": "markdown",
   "id": "adb1ff3c",
   "metadata": {},
   "source": [
    "## Tuning hyperparameter dari model terbaik\n",
    "***\n",
    "SVM tampil dengan nilai rata-rata akurasi tertinggi serta memberikan hasil recall yang bagus. Selanjutnya hyperparameter dari SVM akan dilakukan tuning untuk bisa mendapatkan performa yang lebih optimal"
   ]
  },
  {
   "cell_type": "code",
   "execution_count": 92,
   "id": "f49c8398",
   "metadata": {},
   "outputs": [],
   "source": [
    "# inisialisasi SVM model\n",
    "svm_params_tuned = SVC()\n",
    "\n",
    "# inisialisasi objek KFold dengan k=10\n",
    "kfold = kfold\n",
    "\n",
    "# inisialisasi daftar hyperparameter yang akan dituning\n",
    "params_grid={\n",
    "    'kernel' : ['linear', 'poly', 'rbf'],\n",
    "    'gamma':['scale','auto'],\n",
    "}\n",
    "\n",
    "# instansiasi grid seach objek\n",
    "grid_svm = GridSearchCV(\n",
    "    estimator= svm_params_tuned,\n",
    "    param_grid=params_grid,\n",
    "    scoring=scoring_accuracy,\n",
    "    cv = kfold\n",
    ")\n",
    "\n",
    "# fit grid objek ke data train\n",
    "grid_results_ = grid_svm.fit(X_train_balanced,y_train_balanced)"
   ]
  },
  {
   "cell_type": "code",
   "execution_count": 93,
   "id": "450abd36",
   "metadata": {},
   "outputs": [
    {
     "name": "stdout",
     "output_type": "stream",
     "text": [
      "Best SVM Hyperparameter: {'gamma': 'scale', 'kernel': 'rbf'}\n",
      "Best SVM Accuracy Score: 0.8695006747638327\n"
     ]
    }
   ],
   "source": [
    "# Cetak hyperparameter yang memberikan hasil terbaik\n",
    "print('Best SVM Hyperparameter: {}'.format(grid_results_.best_params_))\n",
    "print('Best SVM Accuracy Score: {}'.format(grid_results_.best_score_))"
   ]
  },
  {
   "cell_type": "markdown",
   "id": "a80966d4",
   "metadata": {},
   "source": [
    "## Finalisasi Model"
   ]
  },
  {
   "cell_type": "markdown",
   "id": "b28bbd74",
   "metadata": {},
   "source": [
    "### Training model dengan hyperparameter optimal"
   ]
  },
  {
   "cell_type": "code",
   "execution_count": 94,
   "id": "57eb43b3",
   "metadata": {},
   "outputs": [],
   "source": [
    "# instansiasi objek SVM dengan hyperparameter optimal\n",
    "svm_final = SVC(gamma=grid_results_.best_params_['gamma'],kernel=grid_results_.best_params_['kernel'])\n",
    "\n",
    "\n",
    "# training\n",
    "svm_final.fit(X_train_balanced,y_train_balanced)\n",
    "\n",
    "# model evaluation using data testing\n",
    "y_pred_final = svm_final.predict(X_test_pca)"
   ]
  },
  {
   "cell_type": "markdown",
   "id": "07e35bba",
   "metadata": {},
   "source": [
    "### Cetak hasil model yang sudah dievaluasi"
   ]
  },
  {
   "cell_type": "code",
   "execution_count": 95,
   "id": "b48006c2",
   "metadata": {},
   "outputs": [
    {
     "name": "stdout",
     "output_type": "stream",
     "text": [
      "Accuracy score Final Model SVM =  0.8417091527069677  %\n",
      "[[6076 1227]\n",
      " [  77  858]]\n",
      "              precision    recall  f1-score   support\n",
      "\n",
      "           0       0.99      0.83      0.90      7303\n",
      "           1       0.41      0.92      0.57       935\n",
      "\n",
      "    accuracy                           0.84      8238\n",
      "   macro avg       0.70      0.87      0.74      8238\n",
      "weighted avg       0.92      0.84      0.87      8238\n",
      "\n"
     ]
    }
   ],
   "source": [
    "# print score\n",
    "print(\"Accuracy score Final Model SVM = \", metrics.accuracy_score(y_test,y_pred_final),\" %\")\n",
    "\n",
    "# confusion matrix\n",
    "print(metrics.confusion_matrix(y_test,y_pred_final))\n",
    "\n",
    "# hasil klasifikasi\n",
    "print(metrics.classification_report(y_test,y_pred_final))"
   ]
  },
  {
   "cell_type": "markdown",
   "id": "f676b290",
   "metadata": {},
   "source": [
    "Model SVM Final memberikan **recall** untuk kedua kelas yang sangat baik. Pengaturan *hyperparameter* untuk SVM final adalah *kernel* **rbf** dan *gamma* **scale**. Selanjutnya model ini siap untuk masuk ke tahap *deployment*"
   ]
  },
  {
   "cell_type": "code",
   "execution_count": null,
   "id": "218dc545",
   "metadata": {},
   "outputs": [],
   "source": []
  }
 ],
 "metadata": {
  "kernelspec": {
   "display_name": "H8_001",
   "language": "python",
   "name": "h8_001"
  },
  "language_info": {
   "codemirror_mode": {
    "name": "ipython",
    "version": 3
   },
   "file_extension": ".py",
   "mimetype": "text/x-python",
   "name": "python",
   "nbconvert_exporter": "python",
   "pygments_lexer": "ipython3",
   "version": "3.7.11"
  },
  "toc": {
   "base_numbering": 1,
   "nav_menu": {},
   "number_sections": true,
   "sideBar": true,
   "skip_h1_title": false,
   "title_cell": "Table of Contents",
   "title_sidebar": "Contents",
   "toc_cell": false,
   "toc_position": {
    "height": "calc(100% - 180px)",
    "left": "10px",
    "top": "150px",
    "width": "388.449px"
   },
   "toc_section_display": true,
   "toc_window_display": true
  }
 },
 "nbformat": 4,
 "nbformat_minor": 5
}
