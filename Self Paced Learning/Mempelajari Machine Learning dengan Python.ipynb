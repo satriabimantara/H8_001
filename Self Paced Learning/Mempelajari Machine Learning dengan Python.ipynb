{
 "cells": [
  {
   "cell_type": "markdown",
   "id": "38b09646",
   "metadata": {},
   "source": [
    "# Permasalahan"
   ]
  },
  {
   "cell_type": "markdown",
   "id": "2fe4e7e6",
   "metadata": {},
   "source": [
    "Membangun model machine learning yang bisa memprediksi seseorang terklasifikasi diabetes atau tidak diabetes"
   ]
  },
  {
   "cell_type": "markdown",
   "id": "588c338d",
   "metadata": {},
   "source": [
    "# Import Libraries "
   ]
  },
  {
   "cell_type": "code",
   "execution_count": 1,
   "id": "e4c8a96c",
   "metadata": {},
   "outputs": [],
   "source": [
    "import pandas as pd\n",
    "import matplotlib.pyplot as plt\n",
    "\n",
    "%matplotlib inline"
   ]
  },
  {
   "cell_type": "markdown",
   "id": "6b4174b4",
   "metadata": {},
   "source": [
    "# Load and Inspect Data"
   ]
  },
  {
   "cell_type": "code",
   "execution_count": 2,
   "id": "8f916f86",
   "metadata": {},
   "outputs": [],
   "source": [
    "diabetes_df = pd.read_csv(\"./dataset/diabetes.csv\")"
   ]
  },
  {
   "cell_type": "markdown",
   "id": "21d5dfc6",
   "metadata": {},
   "source": [
    "## Melihat dimensi data"
   ]
  },
  {
   "cell_type": "code",
   "execution_count": 3,
   "id": "b82fe9d5",
   "metadata": {},
   "outputs": [
    {
     "data": {
      "text/plain": [
       "(768, 9)"
      ]
     },
     "execution_count": 3,
     "metadata": {},
     "output_type": "execute_result"
    }
   ],
   "source": [
    "diabetes_df.shape"
   ]
  },
  {
   "cell_type": "markdown",
   "id": "06b7e51d",
   "metadata": {},
   "source": [
    "## Mengetahui sekilas data"
   ]
  },
  {
   "cell_type": "code",
   "execution_count": 4,
   "id": "31b919ac",
   "metadata": {},
   "outputs": [
    {
     "data": {
      "text/html": [
       "<div>\n",
       "<style scoped>\n",
       "    .dataframe tbody tr th:only-of-type {\n",
       "        vertical-align: middle;\n",
       "    }\n",
       "\n",
       "    .dataframe tbody tr th {\n",
       "        vertical-align: top;\n",
       "    }\n",
       "\n",
       "    .dataframe thead th {\n",
       "        text-align: right;\n",
       "    }\n",
       "</style>\n",
       "<table border=\"1\" class=\"dataframe\">\n",
       "  <thead>\n",
       "    <tr style=\"text-align: right;\">\n",
       "      <th></th>\n",
       "      <th>Pregnancies</th>\n",
       "      <th>Glucose</th>\n",
       "      <th>BloodPressure</th>\n",
       "      <th>SkinThickness</th>\n",
       "      <th>Insulin</th>\n",
       "      <th>BMI</th>\n",
       "      <th>DiabetesPedigreeFunction</th>\n",
       "      <th>Age</th>\n",
       "      <th>Outcome</th>\n",
       "    </tr>\n",
       "  </thead>\n",
       "  <tbody>\n",
       "    <tr>\n",
       "      <th>0</th>\n",
       "      <td>6</td>\n",
       "      <td>148</td>\n",
       "      <td>72</td>\n",
       "      <td>35</td>\n",
       "      <td>0</td>\n",
       "      <td>33.6</td>\n",
       "      <td>0.627</td>\n",
       "      <td>50</td>\n",
       "      <td>1</td>\n",
       "    </tr>\n",
       "    <tr>\n",
       "      <th>1</th>\n",
       "      <td>1</td>\n",
       "      <td>85</td>\n",
       "      <td>66</td>\n",
       "      <td>29</td>\n",
       "      <td>0</td>\n",
       "      <td>26.6</td>\n",
       "      <td>0.351</td>\n",
       "      <td>31</td>\n",
       "      <td>0</td>\n",
       "    </tr>\n",
       "    <tr>\n",
       "      <th>2</th>\n",
       "      <td>8</td>\n",
       "      <td>183</td>\n",
       "      <td>64</td>\n",
       "      <td>0</td>\n",
       "      <td>0</td>\n",
       "      <td>23.3</td>\n",
       "      <td>0.672</td>\n",
       "      <td>32</td>\n",
       "      <td>1</td>\n",
       "    </tr>\n",
       "    <tr>\n",
       "      <th>3</th>\n",
       "      <td>1</td>\n",
       "      <td>89</td>\n",
       "      <td>66</td>\n",
       "      <td>23</td>\n",
       "      <td>94</td>\n",
       "      <td>28.1</td>\n",
       "      <td>0.167</td>\n",
       "      <td>21</td>\n",
       "      <td>0</td>\n",
       "    </tr>\n",
       "    <tr>\n",
       "      <th>4</th>\n",
       "      <td>0</td>\n",
       "      <td>137</td>\n",
       "      <td>40</td>\n",
       "      <td>35</td>\n",
       "      <td>168</td>\n",
       "      <td>43.1</td>\n",
       "      <td>2.288</td>\n",
       "      <td>33</td>\n",
       "      <td>1</td>\n",
       "    </tr>\n",
       "  </tbody>\n",
       "</table>\n",
       "</div>"
      ],
      "text/plain": [
       "   Pregnancies  Glucose  BloodPressure  SkinThickness  Insulin   BMI  \\\n",
       "0            6      148             72             35        0  33.6   \n",
       "1            1       85             66             29        0  26.6   \n",
       "2            8      183             64              0        0  23.3   \n",
       "3            1       89             66             23       94  28.1   \n",
       "4            0      137             40             35      168  43.1   \n",
       "\n",
       "   DiabetesPedigreeFunction  Age  Outcome  \n",
       "0                     0.627   50        1  \n",
       "1                     0.351   31        0  \n",
       "2                     0.672   32        1  \n",
       "3                     0.167   21        0  \n",
       "4                     2.288   33        1  "
      ]
     },
     "execution_count": 4,
     "metadata": {},
     "output_type": "execute_result"
    }
   ],
   "source": [
    "diabetes_df.head()"
   ]
  },
  {
   "cell_type": "code",
   "execution_count": 5,
   "id": "6f775a70",
   "metadata": {},
   "outputs": [
    {
     "data": {
      "text/html": [
       "<div>\n",
       "<style scoped>\n",
       "    .dataframe tbody tr th:only-of-type {\n",
       "        vertical-align: middle;\n",
       "    }\n",
       "\n",
       "    .dataframe tbody tr th {\n",
       "        vertical-align: top;\n",
       "    }\n",
       "\n",
       "    .dataframe thead th {\n",
       "        text-align: right;\n",
       "    }\n",
       "</style>\n",
       "<table border=\"1\" class=\"dataframe\">\n",
       "  <thead>\n",
       "    <tr style=\"text-align: right;\">\n",
       "      <th></th>\n",
       "      <th>Pregnancies</th>\n",
       "      <th>Glucose</th>\n",
       "      <th>BloodPressure</th>\n",
       "      <th>SkinThickness</th>\n",
       "      <th>Insulin</th>\n",
       "      <th>BMI</th>\n",
       "      <th>DiabetesPedigreeFunction</th>\n",
       "      <th>Age</th>\n",
       "      <th>Outcome</th>\n",
       "    </tr>\n",
       "  </thead>\n",
       "  <tbody>\n",
       "    <tr>\n",
       "      <th>763</th>\n",
       "      <td>10</td>\n",
       "      <td>101</td>\n",
       "      <td>76</td>\n",
       "      <td>48</td>\n",
       "      <td>180</td>\n",
       "      <td>32.9</td>\n",
       "      <td>0.171</td>\n",
       "      <td>63</td>\n",
       "      <td>0</td>\n",
       "    </tr>\n",
       "    <tr>\n",
       "      <th>764</th>\n",
       "      <td>2</td>\n",
       "      <td>122</td>\n",
       "      <td>70</td>\n",
       "      <td>27</td>\n",
       "      <td>0</td>\n",
       "      <td>36.8</td>\n",
       "      <td>0.340</td>\n",
       "      <td>27</td>\n",
       "      <td>0</td>\n",
       "    </tr>\n",
       "    <tr>\n",
       "      <th>765</th>\n",
       "      <td>5</td>\n",
       "      <td>121</td>\n",
       "      <td>72</td>\n",
       "      <td>23</td>\n",
       "      <td>112</td>\n",
       "      <td>26.2</td>\n",
       "      <td>0.245</td>\n",
       "      <td>30</td>\n",
       "      <td>0</td>\n",
       "    </tr>\n",
       "    <tr>\n",
       "      <th>766</th>\n",
       "      <td>1</td>\n",
       "      <td>126</td>\n",
       "      <td>60</td>\n",
       "      <td>0</td>\n",
       "      <td>0</td>\n",
       "      <td>30.1</td>\n",
       "      <td>0.349</td>\n",
       "      <td>47</td>\n",
       "      <td>1</td>\n",
       "    </tr>\n",
       "    <tr>\n",
       "      <th>767</th>\n",
       "      <td>1</td>\n",
       "      <td>93</td>\n",
       "      <td>70</td>\n",
       "      <td>31</td>\n",
       "      <td>0</td>\n",
       "      <td>30.4</td>\n",
       "      <td>0.315</td>\n",
       "      <td>23</td>\n",
       "      <td>0</td>\n",
       "    </tr>\n",
       "  </tbody>\n",
       "</table>\n",
       "</div>"
      ],
      "text/plain": [
       "     Pregnancies  Glucose  BloodPressure  SkinThickness  Insulin   BMI  \\\n",
       "763           10      101             76             48      180  32.9   \n",
       "764            2      122             70             27        0  36.8   \n",
       "765            5      121             72             23      112  26.2   \n",
       "766            1      126             60              0        0  30.1   \n",
       "767            1       93             70             31        0  30.4   \n",
       "\n",
       "     DiabetesPedigreeFunction  Age  Outcome  \n",
       "763                     0.171   63        0  \n",
       "764                     0.340   27        0  \n",
       "765                     0.245   30        0  \n",
       "766                     0.349   47        1  \n",
       "767                     0.315   23        0  "
      ]
     },
     "execution_count": 5,
     "metadata": {},
     "output_type": "execute_result"
    }
   ],
   "source": [
    "diabetes_df.tail()"
   ]
  },
  {
   "cell_type": "markdown",
   "id": "83246db8",
   "metadata": {},
   "source": [
    "## Rename Columns"
   ]
  },
  {
   "cell_type": "code",
   "execution_count": 6,
   "id": "590a4c0f",
   "metadata": {},
   "outputs": [],
   "source": [
    "diabetes_df.rename(\n",
    "    columns={\n",
    "        'Pregnancies': 'num_preg',\n",
    "        'Glucose':'glucose',\n",
    "        'BloodPressure':'diastolic_bp',\n",
    "        'SkinThickness': 'skin_thickness',\n",
    "        'Insulin':'insulin',\n",
    "        'BMI':'bmi',\n",
    "        'DiabetesPedigreeFunction':'diabetes_pred',\n",
    "        'Age':'age',\n",
    "        'Outcome':'target'\n",
    "    },\n",
    "    inplace=True\n",
    ")"
   ]
  },
  {
   "cell_type": "markdown",
   "id": "736b95b0",
   "metadata": {},
   "source": [
    "## Mengecek missing values"
   ]
  },
  {
   "cell_type": "code",
   "execution_count": 7,
   "id": "3c885ad1",
   "metadata": {},
   "outputs": [
    {
     "data": {
      "text/plain": [
       "num_preg          0\n",
       "glucose           0\n",
       "diastolic_bp      0\n",
       "skin_thickness    0\n",
       "insulin           0\n",
       "bmi               0\n",
       "diabetes_pred     0\n",
       "age               0\n",
       "target            0\n",
       "dtype: int64"
      ]
     },
     "execution_count": 7,
     "metadata": {},
     "output_type": "execute_result"
    }
   ],
   "source": [
    "diabetes_df.isnull().sum()"
   ]
  },
  {
   "cell_type": "markdown",
   "id": "eedebba5",
   "metadata": {},
   "source": [
    "## Hitung korelasi fitur"
   ]
  },
  {
   "cell_type": "code",
   "execution_count": 8,
   "id": "febb9df6",
   "metadata": {},
   "outputs": [
    {
     "data": {
      "text/html": [
       "<div>\n",
       "<style scoped>\n",
       "    .dataframe tbody tr th:only-of-type {\n",
       "        vertical-align: middle;\n",
       "    }\n",
       "\n",
       "    .dataframe tbody tr th {\n",
       "        vertical-align: top;\n",
       "    }\n",
       "\n",
       "    .dataframe thead th {\n",
       "        text-align: right;\n",
       "    }\n",
       "</style>\n",
       "<table border=\"1\" class=\"dataframe\">\n",
       "  <thead>\n",
       "    <tr style=\"text-align: right;\">\n",
       "      <th></th>\n",
       "      <th>num_preg</th>\n",
       "      <th>glucose</th>\n",
       "      <th>diastolic_bp</th>\n",
       "      <th>skin_thickness</th>\n",
       "      <th>insulin</th>\n",
       "      <th>bmi</th>\n",
       "      <th>diabetes_pred</th>\n",
       "      <th>age</th>\n",
       "      <th>target</th>\n",
       "    </tr>\n",
       "  </thead>\n",
       "  <tbody>\n",
       "    <tr>\n",
       "      <th>num_preg</th>\n",
       "      <td>1.000000</td>\n",
       "      <td>0.129459</td>\n",
       "      <td>0.141282</td>\n",
       "      <td>-0.081672</td>\n",
       "      <td>-0.073535</td>\n",
       "      <td>0.017683</td>\n",
       "      <td>-0.033523</td>\n",
       "      <td>0.544341</td>\n",
       "      <td>0.221898</td>\n",
       "    </tr>\n",
       "    <tr>\n",
       "      <th>glucose</th>\n",
       "      <td>0.129459</td>\n",
       "      <td>1.000000</td>\n",
       "      <td>0.152590</td>\n",
       "      <td>0.057328</td>\n",
       "      <td>0.331357</td>\n",
       "      <td>0.221071</td>\n",
       "      <td>0.137337</td>\n",
       "      <td>0.263514</td>\n",
       "      <td>0.466581</td>\n",
       "    </tr>\n",
       "    <tr>\n",
       "      <th>diastolic_bp</th>\n",
       "      <td>0.141282</td>\n",
       "      <td>0.152590</td>\n",
       "      <td>1.000000</td>\n",
       "      <td>0.207371</td>\n",
       "      <td>0.088933</td>\n",
       "      <td>0.281805</td>\n",
       "      <td>0.041265</td>\n",
       "      <td>0.239528</td>\n",
       "      <td>0.065068</td>\n",
       "    </tr>\n",
       "    <tr>\n",
       "      <th>skin_thickness</th>\n",
       "      <td>-0.081672</td>\n",
       "      <td>0.057328</td>\n",
       "      <td>0.207371</td>\n",
       "      <td>1.000000</td>\n",
       "      <td>0.436783</td>\n",
       "      <td>0.392573</td>\n",
       "      <td>0.183928</td>\n",
       "      <td>-0.113970</td>\n",
       "      <td>0.074752</td>\n",
       "    </tr>\n",
       "    <tr>\n",
       "      <th>insulin</th>\n",
       "      <td>-0.073535</td>\n",
       "      <td>0.331357</td>\n",
       "      <td>0.088933</td>\n",
       "      <td>0.436783</td>\n",
       "      <td>1.000000</td>\n",
       "      <td>0.197859</td>\n",
       "      <td>0.185071</td>\n",
       "      <td>-0.042163</td>\n",
       "      <td>0.130548</td>\n",
       "    </tr>\n",
       "    <tr>\n",
       "      <th>bmi</th>\n",
       "      <td>0.017683</td>\n",
       "      <td>0.221071</td>\n",
       "      <td>0.281805</td>\n",
       "      <td>0.392573</td>\n",
       "      <td>0.197859</td>\n",
       "      <td>1.000000</td>\n",
       "      <td>0.140647</td>\n",
       "      <td>0.036242</td>\n",
       "      <td>0.292695</td>\n",
       "    </tr>\n",
       "    <tr>\n",
       "      <th>diabetes_pred</th>\n",
       "      <td>-0.033523</td>\n",
       "      <td>0.137337</td>\n",
       "      <td>0.041265</td>\n",
       "      <td>0.183928</td>\n",
       "      <td>0.185071</td>\n",
       "      <td>0.140647</td>\n",
       "      <td>1.000000</td>\n",
       "      <td>0.033561</td>\n",
       "      <td>0.173844</td>\n",
       "    </tr>\n",
       "    <tr>\n",
       "      <th>age</th>\n",
       "      <td>0.544341</td>\n",
       "      <td>0.263514</td>\n",
       "      <td>0.239528</td>\n",
       "      <td>-0.113970</td>\n",
       "      <td>-0.042163</td>\n",
       "      <td>0.036242</td>\n",
       "      <td>0.033561</td>\n",
       "      <td>1.000000</td>\n",
       "      <td>0.238356</td>\n",
       "    </tr>\n",
       "    <tr>\n",
       "      <th>target</th>\n",
       "      <td>0.221898</td>\n",
       "      <td>0.466581</td>\n",
       "      <td>0.065068</td>\n",
       "      <td>0.074752</td>\n",
       "      <td>0.130548</td>\n",
       "      <td>0.292695</td>\n",
       "      <td>0.173844</td>\n",
       "      <td>0.238356</td>\n",
       "      <td>1.000000</td>\n",
       "    </tr>\n",
       "  </tbody>\n",
       "</table>\n",
       "</div>"
      ],
      "text/plain": [
       "                num_preg   glucose  diastolic_bp  skin_thickness   insulin  \\\n",
       "num_preg        1.000000  0.129459      0.141282       -0.081672 -0.073535   \n",
       "glucose         0.129459  1.000000      0.152590        0.057328  0.331357   \n",
       "diastolic_bp    0.141282  0.152590      1.000000        0.207371  0.088933   \n",
       "skin_thickness -0.081672  0.057328      0.207371        1.000000  0.436783   \n",
       "insulin        -0.073535  0.331357      0.088933        0.436783  1.000000   \n",
       "bmi             0.017683  0.221071      0.281805        0.392573  0.197859   \n",
       "diabetes_pred  -0.033523  0.137337      0.041265        0.183928  0.185071   \n",
       "age             0.544341  0.263514      0.239528       -0.113970 -0.042163   \n",
       "target          0.221898  0.466581      0.065068        0.074752  0.130548   \n",
       "\n",
       "                     bmi  diabetes_pred       age    target  \n",
       "num_preg        0.017683      -0.033523  0.544341  0.221898  \n",
       "glucose         0.221071       0.137337  0.263514  0.466581  \n",
       "diastolic_bp    0.281805       0.041265  0.239528  0.065068  \n",
       "skin_thickness  0.392573       0.183928 -0.113970  0.074752  \n",
       "insulin         0.197859       0.185071 -0.042163  0.130548  \n",
       "bmi             1.000000       0.140647  0.036242  0.292695  \n",
       "diabetes_pred   0.140647       1.000000  0.033561  0.173844  \n",
       "age             0.036242       0.033561  1.000000  0.238356  \n",
       "target          0.292695       0.173844  0.238356  1.000000  "
      ]
     },
     "execution_count": 8,
     "metadata": {},
     "output_type": "execute_result"
    }
   ],
   "source": [
    "diabetes_df.corr()"
   ]
  },
  {
   "cell_type": "code",
   "execution_count": 9,
   "id": "109ad559",
   "metadata": {},
   "outputs": [],
   "source": [
    "def plot_fig(df,size=11):\n",
    "    corr = df.corr()\n",
    "    fig,ax = plt.subplots(figsize=(size,size))\n",
    "    ax.matshow(corr)\n",
    "    plt.xticks(range(len(corr.columns)), corr.columns, fontsize=14, rotation=-270)\n",
    "    plt.yticks(range(len(corr.columns)), corr.columns, fontsize=14)    "
   ]
  },
  {
   "cell_type": "code",
   "execution_count": 10,
   "id": "330ba1bf",
   "metadata": {},
   "outputs": [
    {
     "data": {
      "image/png": "[encoded data removed]",
      "text/plain": [
       "<Figure size 792x792 with 1 Axes>"
      ]
     },
     "metadata": {
      "needs_background": "light"
     },
     "output_type": "display_data"
    }
   ],
   "source": [
    "plot_fig(diabetes_df)"
   ]
  },
  {
   "cell_type": "markdown",
   "id": "d1a19501",
   "metadata": {},
   "source": [
    "Warna kuning menandakan adanya korelasi antar fitur yang kuat. Berdasarkan plot di atas, tidak multicolinear pada atribut"
   ]
  },
  {
   "cell_type": "markdown",
   "id": "339d2ba2",
   "metadata": {},
   "source": [
    "## Mengecek tipe data\n",
    "***\n",
    "Pastikan semua tipe datanya adalah bertipe numerik"
   ]
  },
  {
   "cell_type": "code",
   "execution_count": 11,
   "id": "386c6755",
   "metadata": {},
   "outputs": [
    {
     "name": "stdout",
     "output_type": "stream",
     "text": [
      "<class 'pandas.core.frame.DataFrame'>\n",
      "RangeIndex: 768 entries, 0 to 767\n",
      "Data columns (total 9 columns):\n",
      " #   Column          Non-Null Count  Dtype  \n",
      "---  ------          --------------  -----  \n",
      " 0   num_preg        768 non-null    int64  \n",
      " 1   glucose         768 non-null    int64  \n",
      " 2   diastolic_bp    768 non-null    int64  \n",
      " 3   skin_thickness  768 non-null    int64  \n",
      " 4   insulin         768 non-null    int64  \n",
      " 5   bmi             768 non-null    float64\n",
      " 6   diabetes_pred   768 non-null    float64\n",
      " 7   age             768 non-null    int64  \n",
      " 8   target          768 non-null    int64  \n",
      "dtypes: float64(2), int64(7)\n",
      "memory usage: 54.1 KB\n"
     ]
    }
   ],
   "source": [
    "diabetes_df.info()"
   ]
  },
  {
   "cell_type": "markdown",
   "id": "3979a32a",
   "metadata": {},
   "source": [
    "Data yang didapatkan sudah bernilai numerik. Ketika label kelas \"target\" tidak bernilai numerik, melainkan kategori (nominal), maka tipe datanya harus diubah dulu ke dalam numerik"
   ]
  },
  {
   "cell_type": "markdown",
   "id": "c6e839ca",
   "metadata": {},
   "source": [
    "## Cek distribusi label kelas"
   ]
  },
  {
   "cell_type": "code",
   "execution_count": 12,
   "id": "76621625",
   "metadata": {},
   "outputs": [],
   "source": [
    "num_observation = len(diabetes_df)\n",
    "num_true = len(\n",
    "    diabetes_df[\n",
    "        diabetes_df['target']==1\n",
    "    ]\n",
    ")\n",
    "num_negatif = len(\n",
    "    diabetes_df[\n",
    "        diabetes_df['target']==0\n",
    "    ]\n",
    ")"
   ]
  },
  {
   "cell_type": "code",
   "execution_count": 13,
   "id": "e2736fb8",
   "metadata": {},
   "outputs": [
    {
     "name": "stdout",
     "output_type": "stream",
     "text": [
      "Jumlah Terkena Diabetes = 268, (34.90%)\n",
      "Jumlah Tidak Terkena Diabetes = 500, (65.10%)\n"
     ]
    }
   ],
   "source": [
    "print('Jumlah Terkena Diabetes = {0}, ({1:2.2f}%)'.format(num_true,((num_true)/num_observation)*100))\n",
    "print('Jumlah Tidak Terkena Diabetes = {0}, ({1:2.2f}%)'.format(num_negatif,((num_negatif)/num_observation)*100))"
   ]
  },
  {
   "cell_type": "markdown",
   "id": "777009a0",
   "metadata": {},
   "source": [
    "# Model Training & Model Test"
   ]
  },
  {
   "cell_type": "markdown",
   "id": "dbe9d078",
   "metadata": {},
   "source": [
    "## Import scikit learn"
   ]
  },
  {
   "cell_type": "code",
   "execution_count": 14,
   "id": "d8e88c0c",
   "metadata": {},
   "outputs": [],
   "source": [
    "from sklearn.model_selection import train_test_split"
   ]
  },
  {
   "cell_type": "markdown",
   "id": "11b4b47a",
   "metadata": {},
   "source": [
    "## Splitting Dataset menjadi Data Latih dan Data Uji"
   ]
  },
  {
   "cell_type": "code",
   "execution_count": 20,
   "id": "02241f46",
   "metadata": {},
   "outputs": [],
   "source": [
    "features_columns = diabetes_df.drop(columns=['target']).columns\n",
    "target_column = ['target']"
   ]
  },
  {
   "cell_type": "code",
   "execution_count": 21,
   "id": "215e9c74",
   "metadata": {},
   "outputs": [],
   "source": [
    "X = diabetes_df[features_columns]\n",
    "y = diabetes_df[target_column]"
   ]
  },
  {
   "cell_type": "code",
   "execution_count": 22,
   "id": "b2bc21c3",
   "metadata": {},
   "outputs": [],
   "source": [
    "X_train,X_test, y_train,y_test = train_test_split(X,y,test_size=0.3,random_state=42)"
   ]
  },
  {
   "cell_type": "markdown",
   "id": "247f1b12",
   "metadata": {},
   "source": [
    "## Sebelum training, pastikan data tidak mengandung missing values\n",
    "***\n",
    "Cek juga apakah data mengandung *unstandard missing values*"
   ]
  },
  {
   "cell_type": "code",
   "execution_count": 23,
   "id": "46136302",
   "metadata": {},
   "outputs": [
    {
     "data": {
      "text/html": [
       "<div>\n",
       "<style scoped>\n",
       "    .dataframe tbody tr th:only-of-type {\n",
       "        vertical-align: middle;\n",
       "    }\n",
       "\n",
       "    .dataframe tbody tr th {\n",
       "        vertical-align: top;\n",
       "    }\n",
       "\n",
       "    .dataframe thead th {\n",
       "        text-align: right;\n",
       "    }\n",
       "</style>\n",
       "<table border=\"1\" class=\"dataframe\">\n",
       "  <thead>\n",
       "    <tr style=\"text-align: right;\">\n",
       "      <th></th>\n",
       "      <th>num_preg</th>\n",
       "      <th>glucose</th>\n",
       "      <th>diastolic_bp</th>\n",
       "      <th>skin_thickness</th>\n",
       "      <th>insulin</th>\n",
       "      <th>bmi</th>\n",
       "      <th>diabetes_pred</th>\n",
       "      <th>age</th>\n",
       "      <th>target</th>\n",
       "    </tr>\n",
       "  </thead>\n",
       "  <tbody>\n",
       "    <tr>\n",
       "      <th>0</th>\n",
       "      <td>6</td>\n",
       "      <td>148</td>\n",
       "      <td>72</td>\n",
       "      <td>35</td>\n",
       "      <td>0</td>\n",
       "      <td>33.6</td>\n",
       "      <td>0.627</td>\n",
       "      <td>50</td>\n",
       "      <td>1</td>\n",
       "    </tr>\n",
       "    <tr>\n",
       "      <th>1</th>\n",
       "      <td>1</td>\n",
       "      <td>85</td>\n",
       "      <td>66</td>\n",
       "      <td>29</td>\n",
       "      <td>0</td>\n",
       "      <td>26.6</td>\n",
       "      <td>0.351</td>\n",
       "      <td>31</td>\n",
       "      <td>0</td>\n",
       "    </tr>\n",
       "    <tr>\n",
       "      <th>2</th>\n",
       "      <td>8</td>\n",
       "      <td>183</td>\n",
       "      <td>64</td>\n",
       "      <td>0</td>\n",
       "      <td>0</td>\n",
       "      <td>23.3</td>\n",
       "      <td>0.672</td>\n",
       "      <td>32</td>\n",
       "      <td>1</td>\n",
       "    </tr>\n",
       "    <tr>\n",
       "      <th>3</th>\n",
       "      <td>1</td>\n",
       "      <td>89</td>\n",
       "      <td>66</td>\n",
       "      <td>23</td>\n",
       "      <td>94</td>\n",
       "      <td>28.1</td>\n",
       "      <td>0.167</td>\n",
       "      <td>21</td>\n",
       "      <td>0</td>\n",
       "    </tr>\n",
       "    <tr>\n",
       "      <th>4</th>\n",
       "      <td>0</td>\n",
       "      <td>137</td>\n",
       "      <td>40</td>\n",
       "      <td>35</td>\n",
       "      <td>168</td>\n",
       "      <td>43.1</td>\n",
       "      <td>2.288</td>\n",
       "      <td>33</td>\n",
       "      <td>1</td>\n",
       "    </tr>\n",
       "  </tbody>\n",
       "</table>\n",
       "</div>"
      ],
      "text/plain": [
       "   num_preg  glucose  diastolic_bp  skin_thickness  insulin   bmi  \\\n",
       "0         6      148            72              35        0  33.6   \n",
       "1         1       85            66              29        0  26.6   \n",
       "2         8      183            64               0        0  23.3   \n",
       "3         1       89            66              23       94  28.1   \n",
       "4         0      137            40              35      168  43.1   \n",
       "\n",
       "   diabetes_pred  age  target  \n",
       "0          0.627   50       1  \n",
       "1          0.351   31       0  \n",
       "2          0.672   32       1  \n",
       "3          0.167   21       0  \n",
       "4          2.288   33       1  "
      ]
     },
     "execution_count": 23,
     "metadata": {},
     "output_type": "execute_result"
    }
   ],
   "source": [
    "diabetes_df.head()"
   ]
  },
  {
   "cell_type": "markdown",
   "id": "4ce671fa",
   "metadata": {},
   "source": [
    "Pada beberapa kolom ada yang mengandung nilai **0**. Patut dicurigai. Cek ada berapa jumlah 0 di masing-masing kolom"
   ]
  },
  {
   "cell_type": "code",
   "execution_count": 25,
   "id": "590298e5",
   "metadata": {},
   "outputs": [
    {
     "name": "stdout",
     "output_type": "stream",
     "text": [
      "Row missing num_preg = 111\n",
      "Row missing glucose = 5\n",
      "Row missing diastolic_bp = 35\n",
      "Row missing skin_thickness = 227\n",
      "Row missing insulin = 374\n",
      "Row missing bmi = 11\n",
      "Row missing diabetes_pred = 0\n",
      "Row missing age = 0\n"
     ]
    }
   ],
   "source": [
    "for col in features_columns:\n",
    "    row_missing = len(\n",
    "        diabetes_df[\n",
    "            diabetes_df[col]==0\n",
    "        ]\n",
    "    )\n",
    "    print(\"Row missing {0} = {1}\".format(col,row_missing ))"
   ]
  },
  {
   "cell_type": "markdown",
   "id": "87f32865",
   "metadata": {},
   "source": [
    "karena cukup banyak yang mengandung nilai 0, maka penanganannya bisa mengimputasinya dengan nilai **median** atau **mean**."
   ]
  },
  {
   "cell_type": "code",
   "execution_count": 26,
   "id": "a581daec",
   "metadata": {},
   "outputs": [],
   "source": [
    "from sklearn.impute import SimpleImputer"
   ]
  },
  {
   "cell_type": "code",
   "execution_count": 27,
   "id": "92f59377",
   "metadata": {},
   "outputs": [],
   "source": [
    "fill_0 = SimpleImputer(missing_values=0,strategy='median')"
   ]
  },
  {
   "cell_type": "code",
   "execution_count": 28,
   "id": "c1e9a083",
   "metadata": {},
   "outputs": [],
   "source": [
    "X_train = fill_0.fit_transform(X_train)\n",
    "X_test = fill_0.fit_transform(X_test)"
   ]
  },
  {
   "cell_type": "markdown",
   "id": "a2b91ab1",
   "metadata": {},
   "source": [
    "## Model Training"
   ]
  },
  {
   "cell_type": "code",
   "execution_count": 47,
   "id": "8dcabd14",
   "metadata": {},
   "outputs": [],
   "source": [
    "from sklearn.naive_bayes import GaussianNB\n",
    "from numpy import ravel"
   ]
  },
  {
   "cell_type": "code",
   "execution_count": 48,
   "id": "7d4aeaca",
   "metadata": {},
   "outputs": [],
   "source": [
    "nb_model = GaussianNB()"
   ]
  },
  {
   "cell_type": "code",
   "execution_count": 49,
   "id": "f0261d89",
   "metadata": {},
   "outputs": [
    {
     "data": {
      "text/plain": [
       "GaussianNB()"
      ]
     },
     "execution_count": 49,
     "metadata": {},
     "output_type": "execute_result"
    }
   ],
   "source": [
    "nb_model.fit(X_train,ravel(y_train))"
   ]
  },
  {
   "cell_type": "markdown",
   "id": "b8313a98",
   "metadata": {},
   "source": [
    "## Model Testing (Menguji Akurasi)"
   ]
  },
  {
   "cell_type": "code",
   "execution_count": 53,
   "id": "958494ef",
   "metadata": {},
   "outputs": [],
   "source": [
    "from sklearn import metrics"
   ]
  },
  {
   "cell_type": "markdown",
   "id": "728bb68a",
   "metadata": {},
   "source": [
    "### Performance pada *Training Data*"
   ]
  },
  {
   "cell_type": "code",
   "execution_count": 54,
   "id": "16c5c657",
   "metadata": {},
   "outputs": [],
   "source": [
    "predicted_train = nb_model.predict(X_train)"
   ]
  },
  {
   "cell_type": "code",
   "execution_count": 55,
   "id": "df974199",
   "metadata": {},
   "outputs": [
    {
     "name": "stdout",
     "output_type": "stream",
     "text": [
      "Akurasi Train = 0.7541899441340782\n"
     ]
    }
   ],
   "source": [
    "print(\"Akurasi Train = {}\".format(metrics.accuracy_score(y_train,predicted_train)))"
   ]
  },
  {
   "cell_type": "markdown",
   "id": "f21098b1",
   "metadata": {},
   "source": [
    "### Performance pada Testing Data"
   ]
  },
  {
   "cell_type": "code",
   "execution_count": 56,
   "id": "7e1d8293",
   "metadata": {},
   "outputs": [
    {
     "name": "stdout",
     "output_type": "stream",
     "text": [
      "Akurasi Test = 0.7359307359307359\n"
     ]
    }
   ],
   "source": [
    "predicted_test = nb_model.predict(X_test)\n",
    "print(\"Akurasi Test = {}\".format(metrics.accuracy_score(y_test,predicted_test)))"
   ]
  },
  {
   "cell_type": "markdown",
   "id": "67115c25",
   "metadata": {},
   "source": [
    "### Performansi model menggunakan Confusion Matrix"
   ]
  },
  {
   "cell_type": "code",
   "execution_count": 58,
   "id": "a437ffa4",
   "metadata": {},
   "outputs": [
    {
     "name": "stdout",
     "output_type": "stream",
     "text": [
      "Confusion Matrix Result\n",
      "[[118  33]\n",
      " [ 28  52]]\n",
      "====================================================================================================\n",
      "              precision    recall  f1-score   support\n",
      "\n",
      "           0       0.81      0.78      0.79       151\n",
      "           1       0.61      0.65      0.63        80\n",
      "\n",
      "    accuracy                           0.74       231\n",
      "   macro avg       0.71      0.72      0.71       231\n",
      "weighted avg       0.74      0.74      0.74       231\n",
      "\n"
     ]
    }
   ],
   "source": [
    "print(\"Confusion Matrix Result\")\n",
    "print(metrics.confusion_matrix(y_test,predicted_test))\n",
    "print(\"=\"*100)\n",
    "print(metrics.classification_report(y_test,predicted_test))"
   ]
  },
  {
   "cell_type": "markdown",
   "id": "699af497",
   "metadata": {},
   "source": [
    "TN : 118 <br>\n",
    "TP : 52 <br>\n",
    "FN : 28 <br>\n",
    "FP : 33 <br>"
   ]
  },
  {
   "cell_type": "markdown",
   "id": "b8e014d5",
   "metadata": {},
   "source": [
    "## Peningkatan performa model dengan Random Forest Classifier"
   ]
  },
  {
   "cell_type": "code",
   "execution_count": 59,
   "id": "ea6f10e9",
   "metadata": {},
   "outputs": [],
   "source": [
    "from sklearn.ensemble import RandomForestClassifier"
   ]
  },
  {
   "cell_type": "code",
   "execution_count": 60,
   "id": "53dbc022",
   "metadata": {},
   "outputs": [],
   "source": [
    "rfc = RandomForestClassifier(random_state=42, n_estimators=10)"
   ]
  },
  {
   "cell_type": "code",
   "execution_count": 61,
   "id": "5122c88c",
   "metadata": {},
   "outputs": [
    {
     "data": {
      "text/plain": [
       "RandomForestClassifier(n_estimators=10, random_state=42)"
      ]
     },
     "execution_count": 61,
     "metadata": {},
     "output_type": "execute_result"
    }
   ],
   "source": [
    "rfc.fit(X_train, ravel(y_train))"
   ]
  },
  {
   "cell_type": "markdown",
   "id": "9eb1cd0f",
   "metadata": {},
   "source": [
    "### Performance di data training"
   ]
  },
  {
   "cell_type": "code",
   "execution_count": 62,
   "id": "b8de1439",
   "metadata": {},
   "outputs": [],
   "source": [
    "predicted_train_rfc = rfc.predict(X_train)"
   ]
  },
  {
   "cell_type": "code",
   "execution_count": 64,
   "id": "d5e31d93",
   "metadata": {},
   "outputs": [
    {
     "name": "stdout",
     "output_type": "stream",
     "text": [
      "Akurasi Train = 0.9869646182495344\n"
     ]
    }
   ],
   "source": [
    "print(\"Akurasi Train = {}\".format(metrics.accuracy_score(y_train,predicted_train_rfc)))"
   ]
  },
  {
   "cell_type": "markdown",
   "id": "b8a8bb64",
   "metadata": {},
   "source": [
    "### Performance di data testing"
   ]
  },
  {
   "cell_type": "code",
   "execution_count": 66,
   "id": "ab9979bb",
   "metadata": {},
   "outputs": [
    {
     "name": "stdout",
     "output_type": "stream",
     "text": [
      "Akurasi Train = 0.7402597402597403\n"
     ]
    }
   ],
   "source": [
    "predicted_test_rfc = rfc.predict(X_test)\n",
    "print(\"Akurasi Train = {}\".format(metrics.accuracy_score(y_test,predicted_test_rfc)))"
   ]
  },
  {
   "cell_type": "code",
   "execution_count": 67,
   "id": "1982d0df",
   "metadata": {},
   "outputs": [
    {
     "name": "stdout",
     "output_type": "stream",
     "text": [
      "Confusion Matrix Result\n",
      "[[125  26]\n",
      " [ 34  46]]\n",
      "====================================================================================================\n",
      "              precision    recall  f1-score   support\n",
      "\n",
      "           0       0.79      0.83      0.81       151\n",
      "           1       0.64      0.57      0.61        80\n",
      "\n",
      "    accuracy                           0.74       231\n",
      "   macro avg       0.71      0.70      0.71       231\n",
      "weighted avg       0.74      0.74      0.74       231\n",
      "\n"
     ]
    }
   ],
   "source": [
    "print(\"Confusion Matrix Result\")\n",
    "print(metrics.confusion_matrix(y_test,predicted_test_rfc))\n",
    "print(\"=\"*100)\n",
    "print(metrics.classification_report(y_test,predicted_test_rfc))"
   ]
  },
  {
   "cell_type": "markdown",
   "id": "72d9594a",
   "metadata": {},
   "source": [
    "Recall yang dihasilkan oleh RFC masih belum optimal dimana hasilnya menunjukkan 0,54"
   ]
  },
  {
   "cell_type": "markdown",
   "id": "ad261719",
   "metadata": {},
   "source": [
    "## Peningkatan performa model dengan Logistic Regression"
   ]
  },
  {
   "cell_type": "code",
   "execution_count": 68,
   "id": "050a7705",
   "metadata": {},
   "outputs": [],
   "source": [
    "from sklearn.linear_model import LogisticRegression"
   ]
  },
  {
   "cell_type": "code",
   "execution_count": 69,
   "id": "2b81090f",
   "metadata": {},
   "outputs": [],
   "source": [
    "lr_model = LogisticRegression(C=0.7, random_state=42, solver='liblinear', max_iter=10000)"
   ]
  },
  {
   "cell_type": "code",
   "execution_count": 70,
   "id": "e2c67b1a",
   "metadata": {},
   "outputs": [
    {
     "data": {
      "text/plain": [
       "LogisticRegression(C=0.7, max_iter=10000, random_state=42, solver='liblinear')"
      ]
     },
     "execution_count": 70,
     "metadata": {},
     "output_type": "execute_result"
    }
   ],
   "source": [
    "lr_model.fit(X_train, ravel(y_train))"
   ]
  },
  {
   "cell_type": "markdown",
   "id": "8202e0dd",
   "metadata": {},
   "source": [
    "### Performance di data training"
   ]
  },
  {
   "cell_type": "code",
   "execution_count": 72,
   "id": "506be3b4",
   "metadata": {},
   "outputs": [
    {
     "name": "stdout",
     "output_type": "stream",
     "text": [
      "Akurasi Train = 0.776536312849162\n"
     ]
    }
   ],
   "source": [
    "predicted_lr_model_train = lr_model.predict(X_train)\n",
    "print(\"Akurasi Train = {}\".format(metrics.accuracy_score(y_train,predicted_lr_model_train)))"
   ]
  },
  {
   "cell_type": "markdown",
   "id": "cfe58276",
   "metadata": {},
   "source": [
    "### Performance di data testing"
   ]
  },
  {
   "cell_type": "code",
   "execution_count": 74,
   "id": "170eafa7",
   "metadata": {},
   "outputs": [
    {
     "name": "stdout",
     "output_type": "stream",
     "text": [
      "Akurasi Train = 0.7489177489177489\n"
     ]
    }
   ],
   "source": [
    "predicted_lr_model_testing = lr_model.predict(X_test)\n",
    "print(\"Akurasi Train = {}\".format(metrics.accuracy_score(y_test,predicted_lr_model_testing)))"
   ]
  },
  {
   "cell_type": "markdown",
   "id": "7201d2d2",
   "metadata": {},
   "source": [
    "### Confusion Matrix Logistic Regression"
   ]
  },
  {
   "cell_type": "code",
   "execution_count": 75,
   "id": "b1e2fb47",
   "metadata": {},
   "outputs": [
    {
     "name": "stdout",
     "output_type": "stream",
     "text": [
      "Confusion Matrix Result\n",
      "[[125  26]\n",
      " [ 34  46]]\n",
      "====================================================================================================\n",
      "              precision    recall  f1-score   support\n",
      "\n",
      "           0       0.79      0.83      0.81       151\n",
      "           1       0.64      0.57      0.61        80\n",
      "\n",
      "    accuracy                           0.74       231\n",
      "   macro avg       0.71      0.70      0.71       231\n",
      "weighted avg       0.74      0.74      0.74       231\n",
      "\n"
     ]
    }
   ],
   "source": [
    "print(\"Confusion Matrix Result\")\n",
    "print(metrics.confusion_matrix(y_test,predicted_test_rfc))\n",
    "print(\"=\"*100)\n",
    "print(metrics.classification_report(y_test,predicted_test_rfc))"
   ]
  },
  {
   "cell_type": "markdown",
   "id": "7683627e",
   "metadata": {},
   "source": [
    "Recall dan precision yang dihasilkan LR juga masih kecil "
   ]
  },
  {
   "cell_type": "markdown",
   "id": "f842d5c7",
   "metadata": {},
   "source": [
    "## Analisis Data Kembali"
   ]
  },
  {
   "cell_type": "markdown",
   "id": "4eb47f89",
   "metadata": {},
   "source": [
    "Ketidakoptimalan model yang dihasilkan (Recall dan Precision yang rendah) mungkin saja diakibatkan oleh ketidakproporsionalan dari kelas target. Jumlah yang tidak terkena diabetes lebih banyak dibandingkan dengan jumlah yang terkena diabetes"
   ]
  },
  {
   "cell_type": "markdown",
   "id": "fea832cf",
   "metadata": {},
   "source": [
    "### Tuning Hyperparameter pada LR\n",
    "***\n",
    "Lakukan tuning hyperparameter C_values pada LR dengan menggunakan X_train untuk mendapatkan nilai recall yang optimal dengan kelas target yang sudah balanced. Ada beberapa cara yang bisa digunakan untuk balancing value pada kelas target, salah satunya dengan random sampling. Bisa upsampling atau downsampling. <br>\n",
    "Setelah mendapatkan hyperparameter yang optimal, lakukan pembentukan model LR ulang dengan menggunakan parameter optimal tadi. Lihat performansi model baru yang sudah terbentuk tadi pada data latih dan data uji"
   ]
  },
  {
   "cell_type": "markdown",
   "id": "04478afc",
   "metadata": {},
   "source": [
    "# Menyimpan model hasil training"
   ]
  },
  {
   "cell_type": "code",
   "execution_count": 77,
   "id": "c8f33958",
   "metadata": {},
   "outputs": [],
   "source": [
    "import joblib"
   ]
  },
  {
   "cell_type": "code",
   "execution_count": 78,
   "id": "c4e0726d",
   "metadata": {},
   "outputs": [
    {
     "data": {
      "text/plain": [
       "['./Model Train/NB_model.pkl']"
      ]
     },
     "execution_count": 78,
     "metadata": {},
     "output_type": "execute_result"
    }
   ],
   "source": [
    "joblib.dump(nb_model,'./Model Train/NB_model.pkl')"
   ]
  },
  {
   "cell_type": "code",
   "execution_count": 79,
   "id": "20e5ff54",
   "metadata": {},
   "outputs": [
    {
     "data": {
      "text/plain": [
       "['./Model Train/NB_model.pkl']"
      ]
     },
     "execution_count": 79,
     "metadata": {},
     "output_type": "execute_result"
    }
   ],
   "source": [
    "joblib.dump(lr_model,'./Model Train/NB_model.pkl')"
   ]
  },
  {
   "cell_type": "markdown",
   "id": "d1f1c079",
   "metadata": {},
   "source": [
    "# Loading Model hasil training"
   ]
  },
  {
   "cell_type": "code",
   "execution_count": 80,
   "id": "d1069b97",
   "metadata": {},
   "outputs": [],
   "source": [
    "nb_model_loaded = joblib.load('./Model Train/NB_model.pkl')"
   ]
  },
  {
   "cell_type": "code",
   "execution_count": 81,
   "id": "f966b105",
   "metadata": {},
   "outputs": [],
   "source": [
    "y_predicted = nb_model_loaded.predict(X_test)"
   ]
  },
  {
   "cell_type": "code",
   "execution_count": null,
   "id": "b3a26fd1",
   "metadata": {},
   "outputs": [],
   "source": []
  }
 ],
 "metadata": {
  "kernelspec": {
   "display_name": "H8_001",
   "language": "python",
   "name": "h8_001"
  },
  "language_info": {
   "codemirror_mode": {
    "name": "ipython",
    "version": 3
   },
   "file_extension": ".py",
   "mimetype": "text/x-python",
   "name": "python",
   "nbconvert_exporter": "python",
   "pygments_lexer": "ipython3",
   "version": "3.7.11"
  },
  "toc": {
   "base_numbering": 1,
   "nav_menu": {},
   "number_sections": true,
   "sideBar": true,
   "skip_h1_title": false,
   "title_cell": "Table of Contents",
   "title_sidebar": "Contents",
   "toc_cell": false,
   "toc_position": {
    "height": "calc(100% - 180px)",
    "left": "10px",
    "top": "150px",
    "width": "213.449px"
   },
   "toc_section_display": true,
   "toc_window_display": true
  }
 },
 "nbformat": 4,
 "nbformat_minor": 5
}
