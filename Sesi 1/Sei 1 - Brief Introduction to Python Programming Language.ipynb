{
 "cells": [
  {
   "cell_type": "markdown",
   "id": "688ac0f0",
   "metadata": {},
   "source": [
    "# Basic Python Programming Language"
   ]
  },
  {
   "cell_type": "markdown",
   "id": "3f8c46bf",
   "metadata": {},
   "source": [
    "## Why choose Python?\n",
    "***\n",
    "1. Python is popular\n",
    "2. Python is Interpreted\n",
    "3. Python is Free\n",
    "4. Python is Simple"
   ]
  },
  {
   "cell_type": "markdown",
   "id": "bf60c218",
   "metadata": {},
   "source": [
    "## Basic Syntax"
   ]
  },
  {
   "cell_type": "markdown",
   "id": "b4555182",
   "metadata": {},
   "source": [
    "### Data Types"
   ]
  },
  {
   "cell_type": "code",
   "execution_count": 1,
   "id": "2391ccd2",
   "metadata": {},
   "outputs": [
    {
     "name": "stdout",
     "output_type": "stream",
     "text": [
      "101010101010\n",
      "<class 'int'>\n",
      "0.7328\n",
      "<class 'float'>\n",
      "Hello World\n",
      "<class 'str'>\n",
      "\n",
      "<class 'str'>\n",
      "True\n",
      "False\n",
      "<class 'bool'>\n"
     ]
    }
   ],
   "source": [
    "# Decimal number\n",
    "print(101010101010)\n",
    "print(type(101010101010))\n",
    "# Float number\n",
    "print(0.7328)\n",
    "print(type(0.7328))\n",
    "# String\n",
    "print(\"Hello World\")\n",
    "print(type('Hello World'))\n",
    "# Empty String\n",
    "print('')\n",
    "print(type(''))\n",
    "# Boolean \n",
    "print(True)\n",
    "print(False)\n",
    "print(type(True))"
   ]
  },
  {
   "cell_type": "markdown",
   "id": "4259cc1f",
   "metadata": {},
   "source": [
    "### Variable Assignment"
   ]
  },
  {
   "cell_type": "code",
   "execution_count": 2,
   "id": "8783c2d5",
   "metadata": {},
   "outputs": [
    {
     "name": "stdout",
     "output_type": "stream",
     "text": [
      "Hello World\n"
     ]
    }
   ],
   "source": [
    "my_variable = \"Hello World\" #string\n",
    "print(my_variable)"
   ]
  },
  {
   "cell_type": "code",
   "execution_count": 3,
   "id": "e4dfc0c1",
   "metadata": {},
   "outputs": [],
   "source": [
    "# Chained Assignment\n",
    "a = b = c = 2700"
   ]
  },
  {
   "cell_type": "markdown",
   "id": "eca19d68",
   "metadata": {},
   "source": [
    "### Rule for Variables Name\n",
    "***\n",
    "1. Bisa memiliki panjang karakter berapapun\n",
    "2. Bisa terdiri dari huruf besar dan kecil (A-Z, a-z, '_') sebagai awalan\n",
    "3. Tidak bisa digit sebagai awalan (0-9)"
   ]
  },
  {
   "cell_type": "code",
   "execution_count": 4,
   "id": "b1390644",
   "metadata": {},
   "outputs": [],
   "source": [
    "a = 20\n",
    "myName = 'I Made Satria Bimantara'\n",
    "_age = 21\n",
    "Address = 'Bali'"
   ]
  },
  {
   "cell_type": "code",
   "execution_count": 5,
   "id": "e618f61b",
   "metadata": {},
   "outputs": [
    {
     "ename": "SyntaxError",
     "evalue": "invalid syntax (<ipython-input-5-5c3daed04c96>, line 2)",
     "output_type": "error",
     "traceback": [
      "\u001b[1;36m  File \u001b[1;32m\"<ipython-input-5-5c3daed04c96>\"\u001b[1;36m, line \u001b[1;32m2\u001b[0m\n\u001b[1;33m    9Name = \"Budi\"\u001b[0m\n\u001b[1;37m        ^\u001b[0m\n\u001b[1;31mSyntaxError\u001b[0m\u001b[1;31m:\u001b[0m invalid syntax\n"
     ]
    }
   ],
   "source": [
    "#raise Error\n",
    "9Name = \"Budi\""
   ]
  },
  {
   "cell_type": "markdown",
   "id": "ec097e23",
   "metadata": {},
   "source": [
    "### Operators and Expressions in Python"
   ]
  },
  {
   "cell_type": "code",
   "execution_count": 6,
   "id": "b2ab3653",
   "metadata": {},
   "outputs": [],
   "source": [
    "# Aritmatika Opeartor\n",
    "a = 90\n",
    "b = 89\n",
    "c = a +b\n",
    "d = a- b\n",
    "e = a* b\n",
    "f = a /b\n",
    "g = a % b\n",
    "# pow\n",
    "h = a**2"
   ]
  },
  {
   "cell_type": "markdown",
   "id": "e55e9016",
   "metadata": {},
   "source": [
    "### Comparison Operator"
   ]
  },
  {
   "cell_type": "code",
   "execution_count": 7,
   "id": "0daffc0a",
   "metadata": {},
   "outputs": [
    {
     "name": "stdout",
     "output_type": "stream",
     "text": [
      "False\n",
      "True\n",
      "True\n",
      "False\n"
     ]
    }
   ],
   "source": [
    "a=90\n",
    "b = 289\n",
    "print(a==b)\n",
    "print(a!=b)\n",
    "print(a<=b)\n",
    "print(a>=b)"
   ]
  },
  {
   "cell_type": "markdown",
   "id": "acd0a409",
   "metadata": {},
   "source": [
    "### String Manipulation"
   ]
  },
  {
   "cell_type": "code",
   "execution_count": 8,
   "id": "017c3bf2",
   "metadata": {},
   "outputs": [
    {
     "name": "stdout",
     "output_type": "stream",
     "text": [
      "Hello World\n",
      "Hello Hello Hello Hello \n",
      "Hello \n",
      "world\n",
      "World\n",
      "NAME\n"
     ]
    }
   ],
   "source": [
    "first = \"Hello \"\n",
    "last = \"World\"\n",
    "print(first + last)\n",
    "print(first *4)\n",
    "\n",
    "# Capitalize\n",
    "print(first.capitalize())\n",
    "# Lower\n",
    "print(last.lower())\n",
    "# Title Case\n",
    "print(last.title())\n",
    "# upper case\n",
    "print(\"name\".upper())"
   ]
  },
  {
   "cell_type": "markdown",
   "id": "a87d7698",
   "metadata": {},
   "source": [
    "### Python List"
   ]
  },
  {
   "cell_type": "code",
   "execution_count": 9,
   "id": "75e21e44",
   "metadata": {},
   "outputs": [
    {
     "name": "stdout",
     "output_type": "stream",
     "text": [
      "['I Made Satria Bimantara', 21, 4.0, 'Hello WOrld', True]\n"
     ]
    }
   ],
   "source": [
    "# List can contain any types of data\n",
    "my_List = ['I Made Satria Bimantara', 21, 4.00, \"Hello WOrld\", True]\n",
    "print(my_List)"
   ]
  },
  {
   "cell_type": "markdown",
   "id": "e3e6961c",
   "metadata": {},
   "source": [
    "#### Accessing Python List Using Index"
   ]
  },
  {
   "cell_type": "code",
   "execution_count": 10,
   "id": "81e395dc",
   "metadata": {},
   "outputs": [
    {
     "name": "stdout",
     "output_type": "stream",
     "text": [
      "True\n",
      "['I Made Satria Bimantara', 21, 4.0, 'Hello WOrld']\n"
     ]
    }
   ],
   "source": [
    "print(my_List[4])\n",
    "# print value from index 0 to 3\n",
    "print(my_List[0:4])"
   ]
  },
  {
   "cell_type": "code",
   "execution_count": 11,
   "id": "ce4a4b0e",
   "metadata": {},
   "outputs": [
    {
     "name": "stdout",
     "output_type": "stream",
     "text": [
      "I Made Satria Bimantara\n",
      "Budi Santoso\n"
     ]
    }
   ],
   "source": [
    "# Modifying a single list\n",
    "print(my_List[0])\n",
    "my_List[0] = 'Budi Santoso'\n",
    "print(my_List[0])"
   ]
  },
  {
   "cell_type": "code",
   "execution_count": 12,
   "id": "b7d4efe1",
   "metadata": {},
   "outputs": [
    {
     "name": "stdout",
     "output_type": "stream",
     "text": [
      "['Budi Santoso', 21, 4.0, 'Hello WOrld', True]\n",
      "['Budi Santoso', 21, 4.0, True]\n"
     ]
    }
   ],
   "source": [
    "# deleting element in list (\"Hello WOrld\")\n",
    "print(my_List)\n",
    "del my_List[3]\n",
    "print(my_List)"
   ]
  },
  {
   "cell_type": "markdown",
   "id": "c6736f7d",
   "metadata": {},
   "source": [
    "### Python Tuples"
   ]
  },
  {
   "cell_type": "code",
   "execution_count": 18,
   "id": "00b23608",
   "metadata": {},
   "outputs": [],
   "source": [
    "my_Tuples = ('foo', 'bar', 21,'quux', 'corge', 'geeks', 'for', 'geeks')"
   ]
  },
  {
   "cell_type": "code",
   "execution_count": 19,
   "id": "76990ecb",
   "metadata": {},
   "outputs": [
    {
     "name": "stdout",
     "output_type": "stream",
     "text": [
      "quux\n",
      "('foo', 'bar', 21, 'quux')\n"
     ]
    }
   ],
   "source": [
    "# Accesing element in Tuples (identic with List)\n",
    "print(my_Tuples[3])\n",
    "print(my_Tuples[0:4])"
   ]
  },
  {
   "cell_type": "code",
   "execution_count": 21,
   "id": "a7a054b4",
   "metadata": {},
   "outputs": [
    {
     "data": {
      "text/plain": [
       "('I Made Satria Bimantara', 21)"
      ]
     },
     "execution_count": 21,
     "metadata": {},
     "output_type": "execute_result"
    }
   ],
   "source": [
    "# Packing and Unpacking\n",
    "(name, age) = ('I Made Satria Bimantara', 21)\n",
    "name, age"
   ]
  },
  {
   "cell_type": "markdown",
   "id": "015f4c53",
   "metadata": {},
   "source": [
    "### Python Dictionary"
   ]
  },
  {
   "cell_type": "code",
   "execution_count": 29,
   "id": "4068a3e0",
   "metadata": {},
   "outputs": [],
   "source": [
    "my_Dictionary = {\n",
    "    'name' : \"I Made Satria Bimantara\",\n",
    "    'occupation': 'Udayana University',\n",
    "    'job' : 'Student',\n",
    "    'gpa' : 4.00,\n",
    "    'current_major' : 'Computer Science',\n",
    "    'current_courses' :['Data Science', 'Data Mining',' Algebra', 'Calculus']\n",
    "}"
   ]
  },
  {
   "cell_type": "code",
   "execution_count": 33,
   "id": "600bf7b0",
   "metadata": {},
   "outputs": [
    {
     "name": "stdout",
     "output_type": "stream",
     "text": [
      "I Made Satria Bimantara\n",
      " Algebra\n"
     ]
    }
   ],
   "source": [
    "# Accessing dictionary with key\n",
    "print(my_Dictionary['name'])\n",
    "\n",
    "# Accessing dictionary that element as a list\n",
    "print(my_Dictionary['current_courses'][2])"
   ]
  },
  {
   "cell_type": "code",
   "execution_count": 31,
   "id": "0afe26d3",
   "metadata": {},
   "outputs": [
    {
     "data": {
      "text/plain": [
       "{'name': 'I Made Satria Bimantara',\n",
       " 'occupation': 'Udayana University',\n",
       " 'job': 'Back End Engineer',\n",
       " 'gpa': 4.0,\n",
       " 'current_major': 'Computer Science',\n",
       " 'current_courses': ['Data Science', 'Data Mining', ' Algebra', 'Calculus']}"
      ]
     },
     "execution_count": 31,
     "metadata": {},
     "output_type": "execute_result"
    }
   ],
   "source": [
    "# Updating value\n",
    "my_Dictionary['job'] = 'Back End Engineer'\n",
    "my_Dictionary"
   ]
  },
  {
   "cell_type": "code",
   "execution_count": 36,
   "id": "83313852",
   "metadata": {},
   "outputs": [
    {
     "name": "stdout",
     "output_type": "stream",
     "text": [
      "dict_keys(['name', 'occupation', 'job', 'gpa', 'current_major', 'current_courses'])\n",
      "dict_values(['I Made Satria Bimantara', 'Udayana University', 'Back End Engineer', 4.0, 'Computer Science', ['Data Science', 'Data Mining', ' Algebra', 'Calculus']])\n",
      "dict_items([('name', 'I Made Satria Bimantara'), ('occupation', 'Udayana University'), ('job', 'Back End Engineer'), ('gpa', 4.0), ('current_major', 'Computer Science'), ('current_courses', ['Data Science', 'Data Mining', ' Algebra', 'Calculus'])])\n"
     ]
    }
   ],
   "source": [
    "# Get all keys\n",
    "print(my_Dictionary.keys())\n",
    "# Get all values\n",
    "print(my_Dictionary.values())\n",
    "# Get all keys and values\n",
    "print(my_Dictionary.items())"
   ]
  },
  {
   "cell_type": "code",
   "execution_count": null,
   "id": "f24741e2",
   "metadata": {},
   "outputs": [],
   "source": []
  }
 ],
 "metadata": {
  "kernelspec": {
   "display_name": "H8_001",
   "language": "python",
   "name": "h8_001"
  },
  "language_info": {
   "codemirror_mode": {
    "name": "ipython",
    "version": 3
   },
   "file_extension": ".py",
   "mimetype": "text/x-python",
   "name": "python",
   "nbconvert_exporter": "python",
   "pygments_lexer": "ipython3",
   "version": "3.7.11"
  },
  "toc": {
   "base_numbering": 1,
   "nav_menu": {},
   "number_sections": true,
   "sideBar": true,
   "skip_h1_title": false,
   "title_cell": "Table of Contents",
   "title_sidebar": "Contents",
   "toc_cell": false,
   "toc_position": {},
   "toc_section_display": true,
   "toc_window_display": true
  }
 },
 "nbformat": 4,
 "nbformat_minor": 5
}
