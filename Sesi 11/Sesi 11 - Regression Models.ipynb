{
 "cells": [
  {
   "cell_type": "markdown",
   "id": "a87c0237",
   "metadata": {},
   "source": [
    "# Introduction to Machine Learning"
   ]
  },
  {
   "cell_type": "markdown",
   "id": "6f14df32",
   "metadata": {},
   "source": [
    "## Kenapa butuh AI"
   ]
  },
  {
   "cell_type": "markdown",
   "id": "4e685226",
   "metadata": {},
   "source": [
    "AI dibutuhkan oleh manusia beberapa tahun belakangan karena: <br>\n",
    "1. Menggantikan pekerjaan manusia yang berbahaya, repetitif. <br>\n",
    "Misalnya investigasi korban bencana di daerah rawan bencana, maka bisa mengirimkan robot AI \n",
    "2. Mengotomatiskan pekerjaan, misalnya sorting kacang kualitas jelek di perusahaan"
   ]
  },
  {
   "cell_type": "markdown",
   "id": "6c3f8187",
   "metadata": {},
   "source": [
    "## Machine Learning"
   ]
  },
  {
   "cell_type": "markdown",
   "id": "4ac6fe0d",
   "metadata": {},
   "source": [
    "Machine learning memerlukan data, kalau pemrograman tradisional itu input, proses, output. AI lebih meniru pekerjakan manusia, seperti penglihatan (computer vision), pengenalan teks (natural language processing). ML memerlukan learning algorithm supaya bisa belajar sesuatu dari data (mengekstrak suatu informasi dari data)"
   ]
  },
  {
   "cell_type": "markdown",
   "id": "cf9f89e3",
   "metadata": {},
   "source": [
    "## Terminologi"
   ]
  },
  {
   "cell_type": "markdown",
   "id": "798f9730",
   "metadata": {},
   "source": [
    "1. Dataset <br>\n",
    "Sekumpulan data yang mengandung fitur-fitur yang penting untuk menyelesaikan masalah\n",
    "2. Fitur <br>\n",
    "Atribut atau objektif yang dimiliki oleh data agar dapat memahami data sebelu masuk ke model machine learning\n",
    "3. Model <br>\n",
    "Representasi dari sebuah algoritma machine learning hasil pembelajaran. Model adalah keluaran yang dihasilkan dalam fase pelatihan sebuah algoritma machine learning."
   ]
  },
  {
   "cell_type": "markdown",
   "id": "5571322a",
   "metadata": {},
   "source": [
    "## Process"
   ]
  },
  {
   "cell_type": "markdown",
   "id": "3f841263",
   "metadata": {},
   "source": [
    "Flowchart Machine Learning Process: <br>\n",
    "1. Data collection\n",
    "2. Data preparation\n",
    "3. Training \n",
    "4. Evaluation\n",
    "5. Tuning Hyperparameter"
   ]
  },
  {
   "cell_type": "markdown",
   "id": "8069ecd5",
   "metadata": {},
   "source": [
    "# Regression Models"
   ]
  },
  {
   "cell_type": "markdown",
   "id": "2d71b51c",
   "metadata": {},
   "source": [
    "## Definition\n",
    "***\n",
    "Menemukan fungsi yang memetakan beberapa fitur atau variabel ke fitur lain dengan cukup baik. <br>\n",
    "1. **Fitur dependen** disebut sebagai variabel dependen atau output, atau target\n",
    "2. **Fitur independen** disebut sebagai variabel atau fitur dari dataset"
   ]
  },
  {
   "cell_type": "markdown",
   "id": "c82eb32a",
   "metadata": {},
   "source": [
    "## Kapan kita butuh regresi?\n",
    "***\n",
    "Regresi digunakan untuk menjawab apakah dan bagaimana beberapa fenomena mempengaruhi yang lain. Dengan kata lain, bagaimana keterkaitan antara variabel. <br>\n",
    "Selain itu, regresi juga digunakan untuk meramalkan respons menggunakan kumpulan prediktor lama"
   ]
  },
  {
   "cell_type": "markdown",
   "id": "3c965999",
   "metadata": {},
   "source": [
    "## Linear Regression\n",
    "***\n",
    "w1.x1 + w2.x2 + ... + w3.x3 = y <br>\n",
    "Semisal: <br>\n",
    "1. **y** adalah harga rumah dalam dolar (USD)\n",
    "2. **x1, x2, x3** adalah variabel atau fitur yang menjadi prediktor <br>\n",
    "Semisal didapatkan fungsi persamaan garis akhir: <br>\n",
    "1500x1 + 2500x2 + 500x3 <br>\n",
    "**Interpretasi** : Apabila terjadi kenaikan 1 unit pada x1, akan menyumbang sebesar 1500 US Dollar, apabila terjadi kenaikan 1 unit pada x2 akan menyumbang sebesar 2500 US Dollar, dan apabila terjadi kenaikan 1 unit pada x2 akan menyumbang sebesar 500 US Dollar"
   ]
  },
  {
   "cell_type": "markdown",
   "id": "e8b1d8a1",
   "metadata": {},
   "source": [
    "**PENTING!!** <br>\n",
    "1. Seluruh fitur diasumsikan independen <br>\n",
    "Misal ada dua fitur yang highly correlated, maka kita bisa removed salah satu fiturnya. Hal ini disebut multikolinearity. Adanya dependensi antara dua fitur. Bisa di cek dengan VIF <br>\n",
    "https://www.analyticsvidhya.com/blog/2020/03/what-is-multicollinearity/\n",
    "2. Harus Homoscedasticity <br>\n",
    "Ketika tidak terjadi homoscedasicity, maka model dibuat lebih kompleks lagi. Untuk mengetahui Homoscesdasticity terjadi, kita bisa plotting scatter antara fitur X dengan residualnya"
   ]
  },
  {
   "cell_type": "markdown",
   "id": "cbd55db7",
   "metadata": {},
   "source": [
    "## Implementasi Linear Regression"
   ]
  },
  {
   "cell_type": "markdown",
   "id": "4983ba4f",
   "metadata": {},
   "source": [
    "### Import Libraries"
   ]
  },
  {
   "cell_type": "code",
   "execution_count": 2,
   "id": "51073425",
   "metadata": {},
   "outputs": [
    {
     "name": "stdout",
     "output_type": "stream",
     "text": [
      "Collecting sklearn\n",
      "  Using cached sklearn-0.0-py2.py3-none-any.whl\n",
      "Collecting scikit-learn\n",
      "  Downloading scikit_learn-1.0-cp37-cp37m-win_amd64.whl (7.1 MB)\n",
      "Collecting joblib>=0.11\n",
      "  Using cached joblib-1.0.1-py3-none-any.whl (303 kB)\n",
      "Collecting threadpoolctl>=2.0.0\n",
      "  Using cached threadpoolctl-2.2.0-py3-none-any.whl (12 kB)\n",
      "Requirement already satisfied: scipy>=1.1.0 in c:\\users\\asus\\.conda\\envs\\h8_001\\lib\\site-packages (from scikit-learn->sklearn) (1.7.1)\n",
      "Requirement already satisfied: numpy>=1.14.6 in c:\\users\\asus\\.conda\\envs\\h8_001\\lib\\site-packages (from scikit-learn->sklearn) (1.21.2)\n",
      "Installing collected packages: threadpoolctl, joblib, scikit-learn, sklearn\n",
      "Successfully installed joblib-1.0.1 scikit-learn-1.0 sklearn-0.0 threadpoolctl-2.2.0\n"
     ]
    }
   ],
   "source": [
    "!pip install sklearn"
   ]
  },
  {
   "cell_type": "code",
   "execution_count": 4,
   "id": "3bba6930",
   "metadata": {},
   "outputs": [],
   "source": [
    "from sklearn.linear_model import LinearRegression\n",
    "import matplotlib.pyplot as plt\n",
    "import numpy as np\n",
    "\n",
    "%matplotlib inline"
   ]
  },
  {
   "cell_type": "markdown",
   "id": "46dcb00e",
   "metadata": {},
   "source": [
    "### Provide Data"
   ]
  },
  {
   "cell_type": "code",
   "execution_count": 5,
   "id": "5c149de4",
   "metadata": {},
   "outputs": [],
   "source": [
    "X = np.array([5,15,25,35,45,55]).reshape((-1,1))\n",
    "y = np.array([5,20,14,32,22,38])"
   ]
  },
  {
   "cell_type": "markdown",
   "id": "3e0669b4",
   "metadata": {},
   "source": [
    "### Create model and fit it"
   ]
  },
  {
   "cell_type": "code",
   "execution_count": 8,
   "id": "141c193b",
   "metadata": {},
   "outputs": [],
   "source": [
    "model = LinearRegression()\n",
    "model.fit(X,y)\n",
    "y_pred = model.predict(X)"
   ]
  },
  {
   "cell_type": "code",
   "execution_count": 10,
   "id": "37b20d9b",
   "metadata": {},
   "outputs": [
    {
     "data": {
      "text/plain": [
       "[<matplotlib.lines.Line2D at 0x1f27377a148>]"
      ]
     },
     "execution_count": 10,
     "metadata": {},
     "output_type": "execute_result"
    },
    {
     "data": {
      "image/png": "[encoded data removed]",
      "text/plain": [
       "<Figure size 432x288 with 1 Axes>"
      ]
     },
     "metadata": {
      "needs_background": "light"
     },
     "output_type": "display_data"
    }
   ],
   "source": [
    "plt.scatter(X,y)\n",
    "plt.plot(X,y_pred)"
   ]
  },
  {
   "cell_type": "code",
   "execution_count": 11,
   "id": "f085ce0f",
   "metadata": {},
   "outputs": [
    {
     "data": {
      "text/plain": [
       "0.7158756137479542"
      ]
     },
     "execution_count": 11,
     "metadata": {},
     "output_type": "execute_result"
    }
   ],
   "source": [
    "r_square = model.score(X,y)\n",
    "r_square"
   ]
  },
  {
   "cell_type": "code",
   "execution_count": 12,
   "id": "ca06b3e3",
   "metadata": {},
   "outputs": [
    {
     "name": "stdout",
     "output_type": "stream",
     "text": [
      "Gradient =  [0.54]\n",
      "Intercept =  5.633333333333329\n"
     ]
    }
   ],
   "source": [
    "print('Gradient = ',model.coef_)\n",
    "print('Intercept = ', model.intercept_)"
   ]
  },
  {
   "cell_type": "code",
   "execution_count": 15,
   "id": "c8be1e1a",
   "metadata": {},
   "outputs": [],
   "source": [
    "y_pred2 = model.coef_ * X + model.intercept_"
   ]
  },
  {
   "cell_type": "code",
   "execution_count": 17,
   "id": "14eb3120",
   "metadata": {},
   "outputs": [
    {
     "data": {
      "text/plain": [
       "array([ 8.33333333, 13.73333333, 19.13333333, 24.53333333, 29.93333333,\n",
       "       35.33333333])"
      ]
     },
     "execution_count": 17,
     "metadata": {},
     "output_type": "execute_result"
    }
   ],
   "source": [
    "y_pred"
   ]
  },
  {
   "cell_type": "code",
   "execution_count": 18,
   "id": "1c2326b5",
   "metadata": {},
   "outputs": [
    {
     "data": {
      "text/plain": [
       "array([[ 8.33333333],\n",
       "       [13.73333333],\n",
       "       [19.13333333],\n",
       "       [24.53333333],\n",
       "       [29.93333333],\n",
       "       [35.33333333]])"
      ]
     },
     "execution_count": 18,
     "metadata": {},
     "output_type": "execute_result"
    }
   ],
   "source": [
    "y_pred2"
   ]
  },
  {
   "cell_type": "markdown",
   "id": "d9c6106e",
   "metadata": {},
   "source": [
    "Interpretasi: <br>\n",
    "Setiap kenaikan 1 unit pada fitur 1 maka berkontribusi kenaikan pada y sebesar 0,54 (gradient masing-masing fitur)"
   ]
  },
  {
   "cell_type": "markdown",
   "id": "81460976",
   "metadata": {},
   "source": [
    "## Implementasi Multiple Linear Regression\n",
    "***\n",
    "Ada lebih dari 1 fitur"
   ]
  },
  {
   "cell_type": "code",
   "execution_count": 38,
   "id": "0edc7967",
   "metadata": {},
   "outputs": [],
   "source": [
    "x = [[0, 1], [5, 1], [15, 2], [25, 5], [35, 11], [45, 15], [55, 34], [60, 35]]\n",
    "y = [4, 5, 20, 14, 32, 22, 38, 43]\n",
    "x, y = np.array(x), np.array(y)"
   ]
  },
  {
   "cell_type": "code",
   "execution_count": 43,
   "id": "94255810",
   "metadata": {},
   "outputs": [],
   "source": [
    "model_multiple_linear_regression = LinearRegression().fit(x,y)\n",
    "y_pred_multiple = model_multiple_linear_regression.predict(x)"
   ]
  },
  {
   "cell_type": "code",
   "execution_count": 40,
   "id": "c8a0a4c7",
   "metadata": {},
   "outputs": [
    {
     "name": "stdout",
     "output_type": "stream",
     "text": [
      "Gradient =  [0.44706965 0.25502548]\n",
      "Intercept =  5.52257927519819\n"
     ]
    }
   ],
   "source": [
    "print('Gradient = ',model_multiple_linear_regression.coef_)\n",
    "print('Intercept = ', model_multiple_linear_regression.intercept_)"
   ]
  },
  {
   "cell_type": "code",
   "execution_count": 41,
   "id": "9b951df6",
   "metadata": {},
   "outputs": [
    {
     "name": "stdout",
     "output_type": "stream",
     "text": [
      "Coefficient of determination =  0.8615939258756775\n"
     ]
    }
   ],
   "source": [
    "print('Coefficient of determination = ', model_multiple_linear_regression.score(x,y))"
   ]
  },
  {
   "cell_type": "markdown",
   "id": "07f29215",
   "metadata": {},
   "source": [
    "**Interpretasi** <br>\n",
    "Setiap kenaikan 1 unit di fitur x1 menyumbang kenaikan sebesar 0,44 pada y, setiap kenaikan 1 unit di fitur x2 menyumbang kenaikan sebesar 0,255 pada y"
   ]
  },
  {
   "cell_type": "markdown",
   "id": "e6d6e396",
   "metadata": {},
   "source": [
    "## Implementasi Polynomial Regression"
   ]
  },
  {
   "cell_type": "markdown",
   "id": "b62b8ae5",
   "metadata": {},
   "source": [
    "### Import Libraries"
   ]
  },
  {
   "cell_type": "code",
   "execution_count": 46,
   "id": "3b0aa0f5",
   "metadata": {},
   "outputs": [],
   "source": [
    "import numpy as np\n",
    "from sklearn.linear_model import LinearRegression\n",
    "from sklearn.preprocessing import PolynomialFeatures"
   ]
  },
  {
   "cell_type": "markdown",
   "id": "a1a2e560",
   "metadata": {},
   "source": [
    "### Provide Data"
   ]
  },
  {
   "cell_type": "code",
   "execution_count": 47,
   "id": "798e292d",
   "metadata": {},
   "outputs": [],
   "source": [
    "x = np.array([5, 15, 25, 35, 45, 55]).reshape((-1, 1))\n",
    "y = np.array([15, 11, 2, 8, 25, 32])"
   ]
  },
  {
   "cell_type": "markdown",
   "id": "729b605a",
   "metadata": {},
   "source": [
    "#### Transform input data untuk mengincludekan x^2"
   ]
  },
  {
   "cell_type": "code",
   "execution_count": 48,
   "id": "b5f392a6",
   "metadata": {},
   "outputs": [
    {
     "name": "stdout",
     "output_type": "stream",
     "text": [
      "[[   5.   25.]\n",
      " [  15.  225.]\n",
      " [  25.  625.]\n",
      " [  35. 1225.]\n",
      " [  45. 2025.]\n",
      " [  55. 3025.]]\n"
     ]
    }
   ],
   "source": [
    "transformer = PolynomialFeatures(degree=2, include_bias=False)\n",
    "transformer.fit(x)\n",
    "x_ = transformer.transform(x)\n",
    "print(x_)"
   ]
  },
  {
   "cell_type": "markdown",
   "id": "60abaf9b",
   "metadata": {},
   "source": [
    "### Create Linear Regression model"
   ]
  },
  {
   "cell_type": "code",
   "execution_count": 49,
   "id": "b1ae241d",
   "metadata": {},
   "outputs": [],
   "source": [
    "model = LinearRegression().fit(x_, y)"
   ]
  },
  {
   "cell_type": "markdown",
   "id": "01d28bd6",
   "metadata": {},
   "source": [
    "### Get Results"
   ]
  },
  {
   "cell_type": "code",
   "execution_count": 50,
   "id": "f272bedd",
   "metadata": {},
   "outputs": [
    {
     "name": "stdout",
     "output_type": "stream",
     "text": [
      "coefficient of determination: 0.8908516262498563\n",
      "intercept: 21.37232142857144\n",
      "coefficients: [-1.32357143  0.02839286]\n"
     ]
    }
   ],
   "source": [
    "r_sq = model.score(x_, y)\n",
    "print('coefficient of determination:', r_sq)\n",
    "print('intercept:', model.intercept_)\n",
    "print('coefficients:', model.coef_)"
   ]
  },
  {
   "cell_type": "markdown",
   "id": "7cfa36fc",
   "metadata": {},
   "source": [
    "## Implementing Linear Regresiion on Real Dataset"
   ]
  },
  {
   "cell_type": "markdown",
   "id": "37cb2f3c",
   "metadata": {},
   "source": [
    "### Import data from libraries (Boston Dataset)"
   ]
  },
  {
   "cell_type": "code",
   "execution_count": 56,
   "id": "247f099d",
   "metadata": {},
   "outputs": [
    {
     "name": "stderr",
     "output_type": "stream",
     "text": [
      "C:\\Users\\ASUS\\.conda\\envs\\H8_001\\lib\\site-packages\\sklearn\\utils\\deprecation.py:87: FutureWarning: Function load_boston is deprecated; `load_boston` is deprecated in 1.0 and will be removed in 1.2.\n",
      "\n",
      "    The Boston housing prices dataset has an ethical problem. You can refer to\n",
      "    the documentation of this function for further details.\n",
      "\n",
      "    The scikit-learn maintainers therefore strongly discourage the use of this\n",
      "    dataset unless the purpose of the code is to study and educate about\n",
      "    ethical issues in data science and machine learning.\n",
      "\n",
      "    In this case special case, you can fetch the dataset from the original\n",
      "    source::\n",
      "\n",
      "        import pandas as pd\n",
      "        import numpy as np\n",
      "\n",
      "\n",
      "        data_url = \"http://lib.stat.cmu.edu/datasets/boston\"\n",
      "        raw_df = pd.read_csv(data_url, sep=\"\\s+\", skiprows=22, header=None)\n",
      "        data = np.hstack([raw_df.values[::2, :], raw_df.values[1::2, :2]])\n",
      "        target = raw_df.values[1::2, 2]\n",
      "\n",
      "    Alternative datasets include the California housing dataset (i.e.\n",
      "    func:`~sklearn.datasets.fetch_california_housing`) and the Ames housing\n",
      "    dataset. You can load the datasets as follows:\n",
      "\n",
      "        from sklearn.datasets import fetch_california_housing\n",
      "        housing = fetch_california_housing()\n",
      "\n",
      "    for the California housing dataset and:\n",
      "\n",
      "        from sklearn.datasets import fetch_openml\n",
      "        housing = fetch_openml(name=\"house_prices\", as_frame=True)\n",
      "\n",
      "    for the Ames housing dataset.\n",
      "    \n",
      "  warnings.warn(msg, category=FutureWarning)\n"
     ]
    }
   ],
   "source": [
    "import statsmodels.api as sm\n",
    "from sklearn import datasets ## imports datasets from scikit-learn\n",
    "\n",
    "data = datasets.load_boston() ## loads Boston dataset from datasets library "
   ]
  },
  {
   "cell_type": "code",
   "execution_count": 57,
   "id": "7579b29b",
   "metadata": {},
   "outputs": [],
   "source": [
    "import numpy as np\n",
    "import pandas as pd"
   ]
  },
  {
   "cell_type": "code",
   "execution_count": 58,
   "id": "df00015e",
   "metadata": {},
   "outputs": [],
   "source": [
    "# define the data/predictors as the pre-set feature names  \n",
    "df = pd.DataFrame(data.data, columns=data.feature_names)\n",
    "\n",
    "# Put the target (housing value -- MEDV) in another DataFrame\n",
    "target = pd.DataFrame(data.target, columns=[\"MEDV\"])"
   ]
  },
  {
   "cell_type": "code",
   "execution_count": 59,
   "id": "2d56920e",
   "metadata": {},
   "outputs": [],
   "source": [
    "# define predictor and target\n",
    "X = df[\"RM\"]\n",
    "y = target[\"MEDV\"]"
   ]
  },
  {
   "cell_type": "markdown",
   "id": "55043a4d",
   "metadata": {},
   "source": [
    "### Implementing Linear Regression using Statsmodel"
   ]
  },
  {
   "cell_type": "code",
   "execution_count": 60,
   "id": "0c8c790b",
   "metadata": {},
   "outputs": [],
   "source": [
    "model = sm.OLS(y, X).fit()\n",
    "predictions = model.predict(X)"
   ]
  },
  {
   "cell_type": "code",
   "execution_count": 61,
   "id": "0f8eee6e",
   "metadata": {},
   "outputs": [
    {
     "data": {
      "text/plain": [
       "0      24.020779\n",
       "1      23.458163\n",
       "2      26.249323\n",
       "3      25.566146\n",
       "4      26.110495\n",
       "         ...    \n",
       "501    24.086539\n",
       "502    22.358504\n",
       "503    25.485772\n",
       "504    24.820863\n",
       "505    22.029703\n",
       "Length: 506, dtype: float64"
      ]
     },
     "execution_count": 61,
     "metadata": {},
     "output_type": "execute_result"
    }
   ],
   "source": [
    "predictions"
   ]
  },
  {
   "cell_type": "code",
   "execution_count": 62,
   "id": "65074505",
   "metadata": {},
   "outputs": [
    {
     "data": {
      "text/html": [
       "<table class=\"simpletable\">\n",
       "<caption>OLS Regression Results</caption>\n",
       "<tr>\n",
       "  <th>Dep. Variable:</th>          <td>MEDV</td>       <th>  R-squared (uncentered):</th>      <td>   0.901</td> \n",
       "</tr>\n",
       "<tr>\n",
       "  <th>Model:</th>                   <td>OLS</td>       <th>  Adj. R-squared (uncentered):</th> <td>   0.901</td> \n",
       "</tr>\n",
       "<tr>\n",
       "  <th>Method:</th>             <td>Least Squares</td>  <th>  F-statistic:       </th>          <td>   4615.</td> \n",
       "</tr>\n",
       "<tr>\n",
       "  <th>Date:</th>             <td>Tue, 28 Sep 2021</td> <th>  Prob (F-statistic):</th>          <td>3.74e-256</td>\n",
       "</tr>\n",
       "<tr>\n",
       "  <th>Time:</th>                 <td>22:34:02</td>     <th>  Log-Likelihood:    </th>          <td> -1747.1</td> \n",
       "</tr>\n",
       "<tr>\n",
       "  <th>No. Observations:</th>      <td>   506</td>      <th>  AIC:               </th>          <td>   3496.</td> \n",
       "</tr>\n",
       "<tr>\n",
       "  <th>Df Residuals:</th>          <td>   505</td>      <th>  BIC:               </th>          <td>   3500.</td> \n",
       "</tr>\n",
       "<tr>\n",
       "  <th>Df Model:</th>              <td>     1</td>      <th>                     </th>              <td> </td>    \n",
       "</tr>\n",
       "<tr>\n",
       "  <th>Covariance Type:</th>      <td>nonrobust</td>    <th>                     </th>              <td> </td>    \n",
       "</tr>\n",
       "</table>\n",
       "<table class=\"simpletable\">\n",
       "<tr>\n",
       "   <td></td>     <th>coef</th>     <th>std err</th>      <th>t</th>      <th>P>|t|</th>  <th>[0.025</th>    <th>0.975]</th>  \n",
       "</tr>\n",
       "<tr>\n",
       "  <th>RM</th> <td>    3.6534</td> <td>    0.054</td> <td>   67.930</td> <td> 0.000</td> <td>    3.548</td> <td>    3.759</td>\n",
       "</tr>\n",
       "</table>\n",
       "<table class=\"simpletable\">\n",
       "<tr>\n",
       "  <th>Omnibus:</th>       <td>83.295</td> <th>  Durbin-Watson:     </th> <td>   0.493</td>\n",
       "</tr>\n",
       "<tr>\n",
       "  <th>Prob(Omnibus):</th> <td> 0.000</td> <th>  Jarque-Bera (JB):  </th> <td> 152.507</td>\n",
       "</tr>\n",
       "<tr>\n",
       "  <th>Skew:</th>          <td> 0.955</td> <th>  Prob(JB):          </th> <td>7.65e-34</td>\n",
       "</tr>\n",
       "<tr>\n",
       "  <th>Kurtosis:</th>      <td> 4.894</td> <th>  Cond. No.          </th> <td>    1.00</td>\n",
       "</tr>\n",
       "</table><br/><br/>Notes:<br/>[1] R² is computed without centering (uncentered) since the model does not contain a constant.<br/>[2] Standard Errors assume that the covariance matrix of the errors is correctly specified."
      ],
      "text/plain": [
       "<class 'statsmodels.iolib.summary.Summary'>\n",
       "\"\"\"\n",
       "                                 OLS Regression Results                                \n",
       "=======================================================================================\n",
       "Dep. Variable:                   MEDV   R-squared (uncentered):                   0.901\n",
       "Model:                            OLS   Adj. R-squared (uncentered):              0.901\n",
       "Method:                 Least Squares   F-statistic:                              4615.\n",
       "Date:                Tue, 28 Sep 2021   Prob (F-statistic):                   3.74e-256\n",
       "Time:                        22:34:02   Log-Likelihood:                         -1747.1\n",
       "No. Observations:                 506   AIC:                                      3496.\n",
       "Df Residuals:                     505   BIC:                                      3500.\n",
       "Df Model:                           1                                                  \n",
       "Covariance Type:            nonrobust                                                  \n",
       "==============================================================================\n",
       "                 coef    std err          t      P>|t|      [0.025      0.975]\n",
       "------------------------------------------------------------------------------\n",
       "RM             3.6534      0.054     67.930      0.000       3.548       3.759\n",
       "==============================================================================\n",
       "Omnibus:                       83.295   Durbin-Watson:                   0.493\n",
       "Prob(Omnibus):                  0.000   Jarque-Bera (JB):              152.507\n",
       "Skew:                           0.955   Prob(JB):                     7.65e-34\n",
       "Kurtosis:                       4.894   Cond. No.                         1.00\n",
       "==============================================================================\n",
       "\n",
       "Notes:\n",
       "[1] R² is computed without centering (uncentered) since the model does not contain a constant.\n",
       "[2] Standard Errors assume that the covariance matrix of the errors is correctly specified.\n",
       "\"\"\""
      ]
     },
     "execution_count": 62,
     "metadata": {},
     "output_type": "execute_result"
    }
   ],
   "source": [
    "model.summary()"
   ]
  },
  {
   "cell_type": "code",
   "execution_count": 63,
   "id": "aa6975e2",
   "metadata": {},
   "outputs": [
    {
     "data": {
      "image/png": "[encoded data removed]",
      "text/plain": [
       "<Figure size 432x288 with 1 Axes>"
      ]
     },
     "metadata": {
      "needs_background": "light"
     },
     "output_type": "display_data"
    }
   ],
   "source": [
    "plt.scatter(X, y, alpha=0.5)\n",
    "plt.plot(X, predictions)\n",
    "plt.title('Scatter plot x and y')\n",
    "plt.xlabel('x')\n",
    "plt.ylabel('y')\n",
    "plt.show()"
   ]
  },
  {
   "cell_type": "markdown",
   "id": "ba052a7c",
   "metadata": {},
   "source": [
    "## Implementing Linear Regression Using Sklearn"
   ]
  },
  {
   "cell_type": "code",
   "execution_count": 65,
   "id": "4b4c0ed3",
   "metadata": {},
   "outputs": [
    {
     "name": "stderr",
     "output_type": "stream",
     "text": [
      "C:\\Users\\ASUS\\.conda\\envs\\H8_001\\lib\\site-packages\\sklearn\\utils\\deprecation.py:87: FutureWarning: Function load_boston is deprecated; `load_boston` is deprecated in 1.0 and will be removed in 1.2.\n",
      "\n",
      "    The Boston housing prices dataset has an ethical problem. You can refer to\n",
      "    the documentation of this function for further details.\n",
      "\n",
      "    The scikit-learn maintainers therefore strongly discourage the use of this\n",
      "    dataset unless the purpose of the code is to study and educate about\n",
      "    ethical issues in data science and machine learning.\n",
      "\n",
      "    In this case special case, you can fetch the dataset from the original\n",
      "    source::\n",
      "\n",
      "        import pandas as pd\n",
      "        import numpy as np\n",
      "\n",
      "\n",
      "        data_url = \"http://lib.stat.cmu.edu/datasets/boston\"\n",
      "        raw_df = pd.read_csv(data_url, sep=\"\\s+\", skiprows=22, header=None)\n",
      "        data = np.hstack([raw_df.values[::2, :], raw_df.values[1::2, :2]])\n",
      "        target = raw_df.values[1::2, 2]\n",
      "\n",
      "    Alternative datasets include the California housing dataset (i.e.\n",
      "    func:`~sklearn.datasets.fetch_california_housing`) and the Ames housing\n",
      "    dataset. You can load the datasets as follows:\n",
      "\n",
      "        from sklearn.datasets import fetch_california_housing\n",
      "        housing = fetch_california_housing()\n",
      "\n",
      "    for the California housing dataset and:\n",
      "\n",
      "        from sklearn.datasets import fetch_openml\n",
      "        housing = fetch_openml(name=\"house_prices\", as_frame=True)\n",
      "\n",
      "    for the Ames housing dataset.\n",
      "    \n",
      "  warnings.warn(msg, category=FutureWarning)\n"
     ]
    }
   ],
   "source": [
    "from sklearn import linear_model\n",
    "from sklearn import datasets ## imports datasets from scikit-learn\n",
    "data = datasets.load_boston() ## loads Boston dataset from datasets library"
   ]
  },
  {
   "cell_type": "markdown",
   "id": "75c871fc",
   "metadata": {},
   "source": [
    "### Provide data and split predictor and target"
   ]
  },
  {
   "cell_type": "code",
   "execution_count": 66,
   "id": "7fe3410b",
   "metadata": {},
   "outputs": [],
   "source": [
    "# define the data/predictors as the pre-set feature names  \n",
    "df = pd.DataFrame(data.data, columns=data.feature_names)\n",
    "\n",
    "# Put the target (housing value -- MEDV) in another DataFrame\n",
    "target = pd.DataFrame(data.target, columns=['MEDV'])"
   ]
  },
  {
   "cell_type": "code",
   "execution_count": 67,
   "id": "41aea6c7",
   "metadata": {},
   "outputs": [],
   "source": [
    "X = df\n",
    "y = target['MEDV']"
   ]
  },
  {
   "cell_type": "code",
   "execution_count": 68,
   "id": "1a06ae83",
   "metadata": {},
   "outputs": [],
   "source": [
    "lm = linear_model.LinearRegression()\n",
    "model = lm.fit(X,y)"
   ]
  },
  {
   "cell_type": "code",
   "execution_count": 69,
   "id": "abbd2234",
   "metadata": {},
   "outputs": [],
   "source": [
    "predictions = lm.predict(X)"
   ]
  },
  {
   "cell_type": "code",
   "execution_count": 70,
   "id": "eeb360e4",
   "metadata": {},
   "outputs": [
    {
     "data": {
      "text/plain": [
       "0.7406426641094094"
      ]
     },
     "execution_count": 70,
     "metadata": {},
     "output_type": "execute_result"
    }
   ],
   "source": [
    "lm.score(X,y)"
   ]
  },
  {
   "cell_type": "code",
   "execution_count": null,
   "id": "ccbb3e4b",
   "metadata": {},
   "outputs": [],
   "source": []
  }
 ],
 "metadata": {
  "kernelspec": {
   "display_name": "H8_001",
   "language": "python",
   "name": "h8_001"
  },
  "language_info": {
   "codemirror_mode": {
    "name": "ipython",
    "version": 3
   },
   "file_extension": ".py",
   "mimetype": "text/x-python",
   "name": "python",
   "nbconvert_exporter": "python",
   "pygments_lexer": "ipython3",
   "version": "3.7.11"
  },
  "toc": {
   "base_numbering": 1,
   "nav_menu": {},
   "number_sections": true,
   "sideBar": true,
   "skip_h1_title": false,
   "title_cell": "Table of Contents",
   "title_sidebar": "Contents",
   "toc_cell": false,
   "toc_position": {},
   "toc_section_display": true,
   "toc_window_display": true
  }
 },
 "nbformat": 4,
 "nbformat_minor": 5
}
