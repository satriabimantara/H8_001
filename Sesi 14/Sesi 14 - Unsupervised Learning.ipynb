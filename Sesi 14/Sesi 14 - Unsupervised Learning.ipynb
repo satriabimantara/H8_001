{
 "cells": [
  {
   "cell_type": "markdown",
   "id": "26bd2217",
   "metadata": {},
   "source": [
    "# Introduction into Unsupervised Learning\n",
    "***\n",
    "Unsupervised machine learning digunakan untuk mengelompokkan data tidak terstruktur menurut kesamaan dan pola yang berbeda dari kumpulan data. Disebut *unsupervised* karena pembelajarannya tidak menggunakan label kelas, sehingga disebut tidak ada yang mengawasi. Tujuan pembelajaran ini adalah untuk eksplorasi. <br>\n",
    "**Kegunaan**<br>\n",
    "1. **Explore** struktur dari suatu informasi \n",
    "2. **Ekstraksi** penemuan yang berharga\n",
    "3. **Deteksi** pola pada data\n",
    "4. **Implementasi** teknik UL untuk operasi machine learning lainnya agar meningkatkan efisiensi"
   ]
  },
  {
   "cell_type": "markdown",
   "id": "451631ef",
   "metadata": {},
   "source": [
    "# Import Libraries"
   ]
  },
  {
   "cell_type": "code",
   "execution_count": 74,
   "id": "d3e95e64",
   "metadata": {},
   "outputs": [],
   "source": [
    "from sklearn.datasets import load_breast_cancer\n",
    "from sklearn.preprocessing import StandardScaler, LabelEncoder\n",
    "from sklearn.decomposition import PCA\n",
    "from sklearn.cluster import KMeans\n",
    "from sklearn.naive_bayes import GaussianNB\n",
    "import pandas as pd\n",
    "import numpy as np\n",
    "import pickle\n",
    "import matplotlib.pyplot as plt\n",
    "%matplotlib inline"
   ]
  },
  {
   "cell_type": "markdown",
   "id": "b3da8751",
   "metadata": {},
   "source": [
    "# Dimensionality Reduction using PCA"
   ]
  },
  {
   "cell_type": "markdown",
   "id": "85fdc234",
   "metadata": {},
   "source": [
    "## PCA Definition\n",
    "***\n",
    "- PCA adalah salah satu teknik untuk mengurangi dimensi pada data dengan cara mengekstrasi informasi pada data dari ruang berdimensi tinggi ke ruang berdimensi rendah dengan memproyeksikannya dengan suatu eigen vektor. <br>\n",
    "- PCA mencoba untuk mempertahankan variasi pada data yang lebih banyak dan menghapus bagian dari data dengan variasi yang lebih sedikit"
   ]
  },
  {
   "cell_type": "markdown",
   "id": "30f95a54",
   "metadata": {},
   "source": [
    "## PCA implementation with Python"
   ]
  },
  {
   "cell_type": "markdown",
   "id": "7aad17f4",
   "metadata": {},
   "source": [
    "### Data Loading\n",
    "***\n",
    "Data yang digunakan adalah data *breast cancer*"
   ]
  },
  {
   "cell_type": "code",
   "execution_count": 3,
   "id": "5ef0a517",
   "metadata": {},
   "outputs": [],
   "source": [
    "breast_cancer_ = load_breast_cancer()\n",
    "breast_cancer_data_ = breast_cancer_.data\n",
    "breast_cancer_label = breast_cancer_.target"
   ]
  },
  {
   "cell_type": "code",
   "execution_count": 4,
   "id": "ef27c56b",
   "metadata": {},
   "outputs": [
    {
     "data": {
      "text/plain": [
       "((569, 30), (569,))"
      ]
     },
     "execution_count": 4,
     "metadata": {},
     "output_type": "execute_result"
    }
   ],
   "source": [
    "breast_cancer_data_.shape, breast_cancer_label.shape"
   ]
  },
  {
   "cell_type": "code",
   "execution_count": 8,
   "id": "1e2c30f1",
   "metadata": {},
   "outputs": [],
   "source": [
    "breast_cancer_label = np.reshape(breast_cancer_label,(len(breast_cancer_label),1))"
   ]
  },
  {
   "cell_type": "markdown",
   "id": "2d2b2595",
   "metadata": {},
   "source": [
    "### Concate data into dataframe"
   ]
  },
  {
   "cell_type": "code",
   "execution_count": 13,
   "id": "f2c2833a",
   "metadata": {},
   "outputs": [],
   "source": [
    "breast_cancer_df = pd.DataFrame(data=breast_cancer_data_,columns=breast_cancer_.feature_names)\n",
    "breast_cancer_df['diagnosis'] = breast_cancer_label"
   ]
  },
  {
   "cell_type": "code",
   "execution_count": 14,
   "id": "13e27a8b",
   "metadata": {},
   "outputs": [
    {
     "data": {
      "text/html": [
       "<div>\n",
       "<style scoped>\n",
       "    .dataframe tbody tr th:only-of-type {\n",
       "        vertical-align: middle;\n",
       "    }\n",
       "\n",
       "    .dataframe tbody tr th {\n",
       "        vertical-align: top;\n",
       "    }\n",
       "\n",
       "    .dataframe thead th {\n",
       "        text-align: right;\n",
       "    }\n",
       "</style>\n",
       "<table border=\"1\" class=\"dataframe\">\n",
       "  <thead>\n",
       "    <tr style=\"text-align: right;\">\n",
       "      <th></th>\n",
       "      <th>mean radius</th>\n",
       "      <th>mean texture</th>\n",
       "      <th>mean perimeter</th>\n",
       "      <th>mean area</th>\n",
       "      <th>mean smoothness</th>\n",
       "      <th>mean compactness</th>\n",
       "      <th>mean concavity</th>\n",
       "      <th>mean concave points</th>\n",
       "      <th>mean symmetry</th>\n",
       "      <th>mean fractal dimension</th>\n",
       "      <th>...</th>\n",
       "      <th>worst texture</th>\n",
       "      <th>worst perimeter</th>\n",
       "      <th>worst area</th>\n",
       "      <th>worst smoothness</th>\n",
       "      <th>worst compactness</th>\n",
       "      <th>worst concavity</th>\n",
       "      <th>worst concave points</th>\n",
       "      <th>worst symmetry</th>\n",
       "      <th>worst fractal dimension</th>\n",
       "      <th>diagnosis</th>\n",
       "    </tr>\n",
       "  </thead>\n",
       "  <tbody>\n",
       "    <tr>\n",
       "      <th>0</th>\n",
       "      <td>17.99</td>\n",
       "      <td>10.38</td>\n",
       "      <td>122.80</td>\n",
       "      <td>1001.0</td>\n",
       "      <td>0.11840</td>\n",
       "      <td>0.27760</td>\n",
       "      <td>0.3001</td>\n",
       "      <td>0.14710</td>\n",
       "      <td>0.2419</td>\n",
       "      <td>0.07871</td>\n",
       "      <td>...</td>\n",
       "      <td>17.33</td>\n",
       "      <td>184.60</td>\n",
       "      <td>2019.0</td>\n",
       "      <td>0.1622</td>\n",
       "      <td>0.6656</td>\n",
       "      <td>0.7119</td>\n",
       "      <td>0.2654</td>\n",
       "      <td>0.4601</td>\n",
       "      <td>0.11890</td>\n",
       "      <td>0</td>\n",
       "    </tr>\n",
       "    <tr>\n",
       "      <th>1</th>\n",
       "      <td>20.57</td>\n",
       "      <td>17.77</td>\n",
       "      <td>132.90</td>\n",
       "      <td>1326.0</td>\n",
       "      <td>0.08474</td>\n",
       "      <td>0.07864</td>\n",
       "      <td>0.0869</td>\n",
       "      <td>0.07017</td>\n",
       "      <td>0.1812</td>\n",
       "      <td>0.05667</td>\n",
       "      <td>...</td>\n",
       "      <td>23.41</td>\n",
       "      <td>158.80</td>\n",
       "      <td>1956.0</td>\n",
       "      <td>0.1238</td>\n",
       "      <td>0.1866</td>\n",
       "      <td>0.2416</td>\n",
       "      <td>0.1860</td>\n",
       "      <td>0.2750</td>\n",
       "      <td>0.08902</td>\n",
       "      <td>0</td>\n",
       "    </tr>\n",
       "    <tr>\n",
       "      <th>2</th>\n",
       "      <td>19.69</td>\n",
       "      <td>21.25</td>\n",
       "      <td>130.00</td>\n",
       "      <td>1203.0</td>\n",
       "      <td>0.10960</td>\n",
       "      <td>0.15990</td>\n",
       "      <td>0.1974</td>\n",
       "      <td>0.12790</td>\n",
       "      <td>0.2069</td>\n",
       "      <td>0.05999</td>\n",
       "      <td>...</td>\n",
       "      <td>25.53</td>\n",
       "      <td>152.50</td>\n",
       "      <td>1709.0</td>\n",
       "      <td>0.1444</td>\n",
       "      <td>0.4245</td>\n",
       "      <td>0.4504</td>\n",
       "      <td>0.2430</td>\n",
       "      <td>0.3613</td>\n",
       "      <td>0.08758</td>\n",
       "      <td>0</td>\n",
       "    </tr>\n",
       "    <tr>\n",
       "      <th>3</th>\n",
       "      <td>11.42</td>\n",
       "      <td>20.38</td>\n",
       "      <td>77.58</td>\n",
       "      <td>386.1</td>\n",
       "      <td>0.14250</td>\n",
       "      <td>0.28390</td>\n",
       "      <td>0.2414</td>\n",
       "      <td>0.10520</td>\n",
       "      <td>0.2597</td>\n",
       "      <td>0.09744</td>\n",
       "      <td>...</td>\n",
       "      <td>26.50</td>\n",
       "      <td>98.87</td>\n",
       "      <td>567.7</td>\n",
       "      <td>0.2098</td>\n",
       "      <td>0.8663</td>\n",
       "      <td>0.6869</td>\n",
       "      <td>0.2575</td>\n",
       "      <td>0.6638</td>\n",
       "      <td>0.17300</td>\n",
       "      <td>0</td>\n",
       "    </tr>\n",
       "    <tr>\n",
       "      <th>4</th>\n",
       "      <td>20.29</td>\n",
       "      <td>14.34</td>\n",
       "      <td>135.10</td>\n",
       "      <td>1297.0</td>\n",
       "      <td>0.10030</td>\n",
       "      <td>0.13280</td>\n",
       "      <td>0.1980</td>\n",
       "      <td>0.10430</td>\n",
       "      <td>0.1809</td>\n",
       "      <td>0.05883</td>\n",
       "      <td>...</td>\n",
       "      <td>16.67</td>\n",
       "      <td>152.20</td>\n",
       "      <td>1575.0</td>\n",
       "      <td>0.1374</td>\n",
       "      <td>0.2050</td>\n",
       "      <td>0.4000</td>\n",
       "      <td>0.1625</td>\n",
       "      <td>0.2364</td>\n",
       "      <td>0.07678</td>\n",
       "      <td>0</td>\n",
       "    </tr>\n",
       "  </tbody>\n",
       "</table>\n",
       "<p>5 rows × 31 columns</p>\n",
       "</div>"
      ],
      "text/plain": [
       "   mean radius  mean texture  mean perimeter  mean area  mean smoothness  \\\n",
       "0        17.99         10.38          122.80     1001.0          0.11840   \n",
       "1        20.57         17.77          132.90     1326.0          0.08474   \n",
       "2        19.69         21.25          130.00     1203.0          0.10960   \n",
       "3        11.42         20.38           77.58      386.1          0.14250   \n",
       "4        20.29         14.34          135.10     1297.0          0.10030   \n",
       "\n",
       "   mean compactness  mean concavity  mean concave points  mean symmetry  \\\n",
       "0           0.27760          0.3001              0.14710         0.2419   \n",
       "1           0.07864          0.0869              0.07017         0.1812   \n",
       "2           0.15990          0.1974              0.12790         0.2069   \n",
       "3           0.28390          0.2414              0.10520         0.2597   \n",
       "4           0.13280          0.1980              0.10430         0.1809   \n",
       "\n",
       "   mean fractal dimension  ...  worst texture  worst perimeter  worst area  \\\n",
       "0                 0.07871  ...          17.33           184.60      2019.0   \n",
       "1                 0.05667  ...          23.41           158.80      1956.0   \n",
       "2                 0.05999  ...          25.53           152.50      1709.0   \n",
       "3                 0.09744  ...          26.50            98.87       567.7   \n",
       "4                 0.05883  ...          16.67           152.20      1575.0   \n",
       "\n",
       "   worst smoothness  worst compactness  worst concavity  worst concave points  \\\n",
       "0            0.1622             0.6656           0.7119                0.2654   \n",
       "1            0.1238             0.1866           0.2416                0.1860   \n",
       "2            0.1444             0.4245           0.4504                0.2430   \n",
       "3            0.2098             0.8663           0.6869                0.2575   \n",
       "4            0.1374             0.2050           0.4000                0.1625   \n",
       "\n",
       "   worst symmetry  worst fractal dimension  diagnosis  \n",
       "0          0.4601                  0.11890          0  \n",
       "1          0.2750                  0.08902          0  \n",
       "2          0.3613                  0.08758          0  \n",
       "3          0.6638                  0.17300          0  \n",
       "4          0.2364                  0.07678          0  \n",
       "\n",
       "[5 rows x 31 columns]"
      ]
     },
     "execution_count": 14,
     "metadata": {},
     "output_type": "execute_result"
    }
   ],
   "source": [
    "breast_cancer_df.head()"
   ]
  },
  {
   "cell_type": "markdown",
   "id": "d1294ad2",
   "metadata": {},
   "source": [
    "***\n",
    "Target: <br>\n",
    "1. 0 : Benign\n",
    "2. 1 : Malignant"
   ]
  },
  {
   "cell_type": "markdown",
   "id": "eceed2d5",
   "metadata": {},
   "source": [
    "### Data Visualization using 2 principal component"
   ]
  },
  {
   "cell_type": "markdown",
   "id": "baf7421e",
   "metadata": {},
   "source": [
    "#### Split attribute and target"
   ]
  },
  {
   "cell_type": "code",
   "execution_count": 19,
   "id": "2b5e09d9",
   "metadata": {},
   "outputs": [],
   "source": [
    "X = breast_cancer_df.drop('diagnosis',axis=1)\n",
    "y = breast_cancer_df['diagnosis']"
   ]
  },
  {
   "cell_type": "markdown",
   "id": "fe9eeb6d",
   "metadata": {},
   "source": [
    "#### Standarizing data\n",
    "***\n",
    "Luaran PCA akan bergantung atau dipengaruhi berdasarkan skala fitur dari data yang diolah"
   ]
  },
  {
   "cell_type": "code",
   "execution_count": 20,
   "id": "c4880931",
   "metadata": {},
   "outputs": [],
   "source": [
    "# instansiasi objek Standard scaler\n",
    "standard_scaler = StandardScaler()\n",
    "\n",
    "# fit into X\n",
    "X = standard_scaler.fit_transform(X)"
   ]
  },
  {
   "cell_type": "markdown",
   "id": "82d82470",
   "metadata": {},
   "source": [
    "#### fit PCA into X"
   ]
  },
  {
   "cell_type": "code",
   "execution_count": 21,
   "id": "f588c05e",
   "metadata": {},
   "outputs": [],
   "source": [
    "pca_breast_cancer_ = PCA(n_components=2)\n",
    "\n",
    "# fit into X\n",
    "X_pca = pca_breast_cancer_.fit_transform(X)"
   ]
  },
  {
   "cell_type": "code",
   "execution_count": 22,
   "id": "7edd5dbb",
   "metadata": {},
   "outputs": [
    {
     "data": {
      "text/plain": [
       "(569, 2)"
      ]
     },
     "execution_count": 22,
     "metadata": {},
     "output_type": "execute_result"
    }
   ],
   "source": [
    "X_pca.shape"
   ]
  },
  {
   "cell_type": "markdown",
   "id": "a5867b15",
   "metadata": {},
   "source": [
    "#### Buat dataframe hasil PCA"
   ]
  },
  {
   "cell_type": "code",
   "execution_count": 23,
   "id": "bb50a858",
   "metadata": {},
   "outputs": [],
   "source": [
    "breast_cancer_pca_ = pd.DataFrame(data=X_pca, columns=['PC-'+str(i+1) for i in range(X_pca.shape[1])])"
   ]
  },
  {
   "cell_type": "code",
   "execution_count": 24,
   "id": "fa78d480",
   "metadata": {},
   "outputs": [
    {
     "data": {
      "text/html": [
       "<div>\n",
       "<style scoped>\n",
       "    .dataframe tbody tr th:only-of-type {\n",
       "        vertical-align: middle;\n",
       "    }\n",
       "\n",
       "    .dataframe tbody tr th {\n",
       "        vertical-align: top;\n",
       "    }\n",
       "\n",
       "    .dataframe thead th {\n",
       "        text-align: right;\n",
       "    }\n",
       "</style>\n",
       "<table border=\"1\" class=\"dataframe\">\n",
       "  <thead>\n",
       "    <tr style=\"text-align: right;\">\n",
       "      <th></th>\n",
       "      <th>PC-1</th>\n",
       "      <th>PC-2</th>\n",
       "    </tr>\n",
       "  </thead>\n",
       "  <tbody>\n",
       "    <tr>\n",
       "      <th>0</th>\n",
       "      <td>9.192837</td>\n",
       "      <td>1.948583</td>\n",
       "    </tr>\n",
       "    <tr>\n",
       "      <th>1</th>\n",
       "      <td>2.387802</td>\n",
       "      <td>-3.768172</td>\n",
       "    </tr>\n",
       "    <tr>\n",
       "      <th>2</th>\n",
       "      <td>5.733896</td>\n",
       "      <td>-1.075174</td>\n",
       "    </tr>\n",
       "    <tr>\n",
       "      <th>3</th>\n",
       "      <td>7.122953</td>\n",
       "      <td>10.275589</td>\n",
       "    </tr>\n",
       "    <tr>\n",
       "      <th>4</th>\n",
       "      <td>3.935302</td>\n",
       "      <td>-1.948072</td>\n",
       "    </tr>\n",
       "  </tbody>\n",
       "</table>\n",
       "</div>"
      ],
      "text/plain": [
       "       PC-1       PC-2\n",
       "0  9.192837   1.948583\n",
       "1  2.387802  -3.768172\n",
       "2  5.733896  -1.075174\n",
       "3  7.122953  10.275589\n",
       "4  3.935302  -1.948072"
      ]
     },
     "execution_count": 24,
     "metadata": {},
     "output_type": "execute_result"
    }
   ],
   "source": [
    "breast_cancer_pca_.head()"
   ]
  },
  {
   "cell_type": "markdown",
   "id": "dbade445",
   "metadata": {},
   "source": [
    "#### Rasio nilai eigen (variasi) yang mampu dijelaskan setiap principal component"
   ]
  },
  {
   "cell_type": "code",
   "execution_count": 25,
   "id": "42cd06c2",
   "metadata": {},
   "outputs": [
    {
     "name": "stdout",
     "output_type": "stream",
     "text": [
      "Variasi yang mampu dijelaskan setiap principal component\n",
      "[0.44272026 0.18971182]\n"
     ]
    }
   ],
   "source": [
    "print(\"Variasi yang mampu dijelaskan setiap principal component\")\n",
    "print(pca_breast_cancer_.explained_variance_ratio_)"
   ]
  },
  {
   "cell_type": "code",
   "execution_count": 26,
   "id": "17c91e39",
   "metadata": {},
   "outputs": [
    {
     "data": {
      "text/plain": [
       "0.632432076515595"
      ]
     },
     "execution_count": 26,
     "metadata": {},
     "output_type": "execute_result"
    }
   ],
   "source": [
    "np.sum(pca_breast_cancer_.explained_variance_ratio_)"
   ]
  },
  {
   "cell_type": "markdown",
   "id": "7480a13d",
   "metadata": {},
   "source": [
    "**Analisis** <br>\n",
    "Dengan menggunakan 2 principal component saja kita mampu mendapatkan 0.632432076515595 atau += 63,24% dari 100% informasi yang ada pada data. Dengan 2 principal component kita kehilangan informais sebesar 36,8%"
   ]
  },
  {
   "cell_type": "markdown",
   "id": "fdd8c3c7",
   "metadata": {},
   "source": [
    "#### Visualisasi data breast cancer ke ranah yang baru\n",
    "***\n",
    "Data breast cancer dengan 569 baris data akan divualisasikan ke ranah baru sepanjang principal component 1 dan principal component 2"
   ]
  },
  {
   "cell_type": "code",
   "execution_count": 33,
   "id": "5a3c6719",
   "metadata": {},
   "outputs": [
    {
     "data": {
      "text/plain": [
       "<Figure size 432x288 with 0 Axes>"
      ]
     },
     "metadata": {},
     "output_type": "display_data"
    },
    {
     "data": {
      "image/png": "[encoded data removed]",
      "text/plain": [
       "<Figure size 720x720 with 1 Axes>"
      ]
     },
     "metadata": {
      "needs_background": "light"
     },
     "output_type": "display_data"
    }
   ],
   "source": [
    "plt.figure()\n",
    "plt.figure(figsize=(10,10))\n",
    "plt.xticks(fontsize=12)\n",
    "plt.yticks(fontsize=14)\n",
    "plt.xlabel('Principal Component - 1',fontsize=20)\n",
    "plt.ylabel('Principal Component - 2',fontsize=20)\n",
    "plt.title(\"Principal Component Analysis of Breast Cancer Dataset\",fontsize=20)\n",
    "targets = [0, 1]\n",
    "colors = ['r', 'g']\n",
    "\n",
    "for target, color in zip(targets,colors):\n",
    "    indicesToKeep = breast_cancer_df['diagnosis'] == target\n",
    "    plt.scatter(\n",
    "        breast_cancer_pca_.loc[indicesToKeep, 'PC-1'], \n",
    "        breast_cancer_pca_.loc[indicesToKeep, 'PC-2'],\n",
    "        c = color,\n",
    "        s = 50\n",
    "    )\n",
    "    \n",
    "plt.legend(targets,prop={'size': 15})\n",
    "plt.show()"
   ]
  },
  {
   "cell_type": "markdown",
   "id": "e15aad3b",
   "metadata": {},
   "source": [
    "# K-Means Clustering\n",
    "***\n",
    "KMeans clustering adalah algoritma yang digunakan untuk mengelompokkan sekumpulan data ke dalam cluster-cluster dimana setiap clusternya mengandung kumpulan data yang mirip satu sama lainnya berdasarkan beberapa atribut pembeda. <br>\n",
    "Untuk mengukur kemiripan antar data itu digunakan metriks pengukuran berupa *similarity*. Similarity yang biasanya digunakan adalah perhitungan jarak *Euclidean distance*. Semakin kecil nilai *euclidean distance* antara data A dan data B, maka bisa dikatakan bahwa keduanya mirip, dan begitupun sebaliknya"
   ]
  },
  {
   "cell_type": "markdown",
   "id": "56fba713",
   "metadata": {},
   "source": [
    "## Sifat kluster (Properties of clusters)\n",
    "***\n",
    "1. **Semua data yang berada dalam 1 kluster, adalah data-data yang mirip satu sama lainnya**\n",
    "2. **Semua data yang berada dalam kluster yang berbeda, harus sebisa mungkin berbeda satu sama lainnya**\n",
    "Sifat nomor dua ini menyiratkan bahwa untuk menetapkan suatu kluster, harus mengoptimalkan atribut-atribut yang melekat pada data, sehingga pemisahan klusternya lebih optimal dan tidak saling tumpang tindih"
   ]
  },
  {
   "cell_type": "markdown",
   "id": "1b90ac0d",
   "metadata": {},
   "source": [
    "## Clustering evaluation metrics\n",
    "***\n",
    "Untuk membedakan cluster yang terbentuk dengan 2 atribut/fitur cukup mudah bagi kita dengan melakukan visualisasi. Namun, data pada kehidupan nyata tidak bisa demikian. Kita sering berurusan dengan fitur yang lebih dari 2 dan akan sangat sulit untuk membedakan kualitas kluster dengan cara visualisasi. Oleh karena itu, dibutuhkan suatu ukuran (metriks) yang bisa digunakan untuk mengevaluasi suatu kluster yang terbentuk. <br>\n",
    "Metriks yang digunakan adalah **inertia**. <br>\n",
    "**INERTIA** <br>\n",
    "Inertia akan menghitung jumlah jarak setiap titik yang berada dalam 1 kluster dengan titik pusat klusternya. Hal ini dilakukan untuk semua kluster yang terbentuk dan akan mendapatkan nilai akhir yaitu jumlah dari semua jarak *intracluster*. <br>\n",
    "- Inertia adalah penjumlahan dari *intracluster distance* <br>\n",
    "\n",
    "Kriteria kualitas kluster yang terbentuk adalah **nilai inertia yang kecil**, karena tujuan utama klustering adalah meminimalkan jarak antara titik-titik dalam sebuah cluster\n"
   ]
  },
  {
   "cell_type": "markdown",
   "id": "ba4dbb65",
   "metadata": {},
   "source": [
    "## Kriteria pemberhentian iterasi pada K-Means\n",
    "***\n",
    "1. Tidak terjadi perubahan dari centroid saat iterasi sebelumnya dan iterasi saat ini\n",
    "2. Semua titik tetap berada pada kluster yang sama walaupun sudah dilatih dengan beberapa iterasi\n",
    "3. Menetapkan sejumlah batas iterasi (maksimum iterasi)"
   ]
  },
  {
   "cell_type": "markdown",
   "id": "374416a2",
   "metadata": {},
   "source": [
    "## Menentukan jumlah *k* kluster yang terbentuk\n",
    "***\n",
    "**Metode Elbow** bisa digunakan untuk menentukan jumlah *k* kluster optimal yang terbentuk. <br>\n",
    "- Sumbu x mewakili *k* kluster\n",
    "- Sumbu y mewakili inertia masing-masing *k* kluster <br>\n",
    "\n",
    "Metode Elbow akan menentukan titik pada grafik yang berbentuk seperti siku. Titik *k* kluster yang akan dipilih adalah ketika tidak terjadi penurunan nilai *inertia* yang tajam. Titik *k* ketika penurunan nilai *inertia* nya mulai konstan bisa ditentukan sebagai kluster optimal yang terbentuk"
   ]
  },
  {
   "cell_type": "markdown",
   "id": "dd3b1f07",
   "metadata": {},
   "source": [
    "## Implementasi K-Means di Python"
   ]
  },
  {
   "cell_type": "markdown",
   "id": "53ee5beb",
   "metadata": {},
   "source": [
    "### Siapkan Data"
   ]
  },
  {
   "cell_type": "code",
   "execution_count": 35,
   "id": "d2d315e4",
   "metadata": {},
   "outputs": [
    {
     "data": {
      "image/png": "[encoded data removed]",
      "text/plain": [
       "<Figure size 432x288 with 1 Axes>"
      ]
     },
     "metadata": {
      "needs_background": "light"
     },
     "output_type": "display_data"
    }
   ],
   "source": [
    "X= -2 * np.random.rand(100,2)\n",
    "X1 = 1 + 2 * np.random.rand(50,2)\n",
    "X[50:100, :] = X1\n",
    "\n",
    "plt.scatter(X[ : , 0], X[ :, 1], s = 50, c = 'b')\n",
    "plt.show()"
   ]
  },
  {
   "cell_type": "markdown",
   "id": "7967bcbe",
   "metadata": {},
   "source": [
    "### Using Elbow Method untuk menentukan k optimal"
   ]
  },
  {
   "cell_type": "code",
   "execution_count": 36,
   "id": "b4a85e5d",
   "metadata": {},
   "outputs": [
    {
     "data": {
      "image/png": "[encoded data removed]",
      "text/plain": [
       "<Figure size 432x288 with 1 Axes>"
      ]
     },
     "metadata": {
      "needs_background": "light"
     },
     "output_type": "display_data"
    }
   ],
   "source": [
    "wcss = []\n",
    "\n",
    "for i in range(1, 11):\n",
    "    kmeans = KMeans(n_clusters = i, init = 'k-means++', max_iter = 300, n_init = 10, random_state = 0)\n",
    "    kmeans.fit(X)\n",
    "    wcss.append(kmeans.inertia_)\n",
    "    \n",
    "plt.plot(range(1, 11), wcss)\n",
    "plt.title('The elbow method')\n",
    "plt.xlabel('Number of clusters')\n",
    "plt.ylabel('WCSS') #within cluster sum of squares\n",
    "plt.show()"
   ]
  },
  {
   "cell_type": "markdown",
   "id": "e11f5af1",
   "metadata": {},
   "source": [
    "Kluster optimal yang terbentuk adalah 2"
   ]
  },
  {
   "cell_type": "markdown",
   "id": "2db4b886",
   "metadata": {},
   "source": [
    "### Inisialisasi KMeans dengan 2 kluster"
   ]
  },
  {
   "cell_type": "code",
   "execution_count": 37,
   "id": "d79e8f4c",
   "metadata": {},
   "outputs": [
    {
     "data": {
      "text/plain": [
       "KMeans(n_clusters=2)"
      ]
     },
     "execution_count": 37,
     "metadata": {},
     "output_type": "execute_result"
    }
   ],
   "source": [
    "kmeans_ = KMeans(n_clusters=2)\n",
    "\n",
    "# fit into data\n",
    "kmeans_.fit(X)"
   ]
  },
  {
   "cell_type": "markdown",
   "id": "38f78eac",
   "metadata": {},
   "source": [
    "### Melihat centroid yang terbentuk"
   ]
  },
  {
   "cell_type": "code",
   "execution_count": 39,
   "id": "25c4e13b",
   "metadata": {},
   "outputs": [
    {
     "data": {
      "text/plain": [
       "array([[-1.11887678, -0.9172082 ],\n",
       "       [ 2.12052306,  1.85886429]])"
      ]
     },
     "execution_count": 39,
     "metadata": {},
     "output_type": "execute_result"
    }
   ],
   "source": [
    "kmeans_.cluster_centers_"
   ]
  },
  {
   "cell_type": "markdown",
   "id": "eb764c3a",
   "metadata": {},
   "source": [
    "### Plotting centroid grafik"
   ]
  },
  {
   "cell_type": "code",
   "execution_count": 43,
   "id": "fef2a493",
   "metadata": {},
   "outputs": [
    {
     "data": {
      "image/png": "[encoded data removed]",
      "text/plain": [
       "<Figure size 432x288 with 1 Axes>"
      ]
     },
     "metadata": {
      "needs_background": "light"
     },
     "output_type": "display_data"
    }
   ],
   "source": [
    "color_centroid=['g','r']\n",
    "plt.scatter(X[ : , 0], X[ :, 1], s = 50, c = 'b')\n",
    "for i,centroid in enumerate(kmeans_.cluster_centers_):\n",
    "    plt.scatter(x=centroid[0], y=centroid[1], s = 200, c = color_centroid[i], marker='s')\n",
    "plt.show()"
   ]
  },
  {
   "cell_type": "markdown",
   "id": "1232dcee",
   "metadata": {},
   "source": [
    "## Implementasi KMeans pada real datasets\n",
    "***\n",
    "Data wholesalescustomer.csv pada folder dataset akan digunakan untuk praktik kali ini"
   ]
  },
  {
   "cell_type": "markdown",
   "id": "e67e7d0d",
   "metadata": {},
   "source": [
    "### Import data"
   ]
  },
  {
   "cell_type": "code",
   "execution_count": 44,
   "id": "38d3dbcc",
   "metadata": {},
   "outputs": [],
   "source": [
    "wholesales_df = pd.read_csv('dataset/wholesalecustomer.csv')"
   ]
  },
  {
   "cell_type": "code",
   "execution_count": 45,
   "id": "39fb99e8",
   "metadata": {},
   "outputs": [
    {
     "data": {
      "text/html": [
       "<div>\n",
       "<style scoped>\n",
       "    .dataframe tbody tr th:only-of-type {\n",
       "        vertical-align: middle;\n",
       "    }\n",
       "\n",
       "    .dataframe tbody tr th {\n",
       "        vertical-align: top;\n",
       "    }\n",
       "\n",
       "    .dataframe thead th {\n",
       "        text-align: right;\n",
       "    }\n",
       "</style>\n",
       "<table border=\"1\" class=\"dataframe\">\n",
       "  <thead>\n",
       "    <tr style=\"text-align: right;\">\n",
       "      <th></th>\n",
       "      <th>Channel</th>\n",
       "      <th>Region</th>\n",
       "      <th>Fresh</th>\n",
       "      <th>Milk</th>\n",
       "      <th>Grocery</th>\n",
       "      <th>Frozen</th>\n",
       "      <th>Detergents_Paper</th>\n",
       "      <th>Delicassen</th>\n",
       "    </tr>\n",
       "  </thead>\n",
       "  <tbody>\n",
       "    <tr>\n",
       "      <th>0</th>\n",
       "      <td>2</td>\n",
       "      <td>3</td>\n",
       "      <td>12669</td>\n",
       "      <td>9656</td>\n",
       "      <td>7561</td>\n",
       "      <td>214</td>\n",
       "      <td>2674</td>\n",
       "      <td>1338</td>\n",
       "    </tr>\n",
       "    <tr>\n",
       "      <th>1</th>\n",
       "      <td>2</td>\n",
       "      <td>3</td>\n",
       "      <td>7057</td>\n",
       "      <td>9810</td>\n",
       "      <td>9568</td>\n",
       "      <td>1762</td>\n",
       "      <td>3293</td>\n",
       "      <td>1776</td>\n",
       "    </tr>\n",
       "    <tr>\n",
       "      <th>2</th>\n",
       "      <td>2</td>\n",
       "      <td>3</td>\n",
       "      <td>6353</td>\n",
       "      <td>8808</td>\n",
       "      <td>7684</td>\n",
       "      <td>2405</td>\n",
       "      <td>3516</td>\n",
       "      <td>7844</td>\n",
       "    </tr>\n",
       "    <tr>\n",
       "      <th>3</th>\n",
       "      <td>1</td>\n",
       "      <td>3</td>\n",
       "      <td>13265</td>\n",
       "      <td>1196</td>\n",
       "      <td>4221</td>\n",
       "      <td>6404</td>\n",
       "      <td>507</td>\n",
       "      <td>1788</td>\n",
       "    </tr>\n",
       "    <tr>\n",
       "      <th>4</th>\n",
       "      <td>2</td>\n",
       "      <td>3</td>\n",
       "      <td>22615</td>\n",
       "      <td>5410</td>\n",
       "      <td>7198</td>\n",
       "      <td>3915</td>\n",
       "      <td>1777</td>\n",
       "      <td>5185</td>\n",
       "    </tr>\n",
       "  </tbody>\n",
       "</table>\n",
       "</div>"
      ],
      "text/plain": [
       "   Channel  Region  Fresh  Milk  Grocery  Frozen  Detergents_Paper  Delicassen\n",
       "0        2       3  12669  9656     7561     214              2674        1338\n",
       "1        2       3   7057  9810     9568    1762              3293        1776\n",
       "2        2       3   6353  8808     7684    2405              3516        7844\n",
       "3        1       3  13265  1196     4221    6404               507        1788\n",
       "4        2       3  22615  5410     7198    3915              1777        5185"
      ]
     },
     "execution_count": 45,
     "metadata": {},
     "output_type": "execute_result"
    }
   ],
   "source": [
    "wholesales_df.head()"
   ]
  },
  {
   "cell_type": "code",
   "execution_count": 46,
   "id": "f1ed7927",
   "metadata": {},
   "outputs": [
    {
     "data": {
      "text/html": [
       "<div>\n",
       "<style scoped>\n",
       "    .dataframe tbody tr th:only-of-type {\n",
       "        vertical-align: middle;\n",
       "    }\n",
       "\n",
       "    .dataframe tbody tr th {\n",
       "        vertical-align: top;\n",
       "    }\n",
       "\n",
       "    .dataframe thead th {\n",
       "        text-align: right;\n",
       "    }\n",
       "</style>\n",
       "<table border=\"1\" class=\"dataframe\">\n",
       "  <thead>\n",
       "    <tr style=\"text-align: right;\">\n",
       "      <th></th>\n",
       "      <th>Channel</th>\n",
       "      <th>Region</th>\n",
       "      <th>Fresh</th>\n",
       "      <th>Milk</th>\n",
       "      <th>Grocery</th>\n",
       "      <th>Frozen</th>\n",
       "      <th>Detergents_Paper</th>\n",
       "      <th>Delicassen</th>\n",
       "    </tr>\n",
       "  </thead>\n",
       "  <tbody>\n",
       "    <tr>\n",
       "      <th>count</th>\n",
       "      <td>440.000000</td>\n",
       "      <td>440.000000</td>\n",
       "      <td>440.000000</td>\n",
       "      <td>440.000000</td>\n",
       "      <td>440.000000</td>\n",
       "      <td>440.000000</td>\n",
       "      <td>440.000000</td>\n",
       "      <td>440.000000</td>\n",
       "    </tr>\n",
       "    <tr>\n",
       "      <th>mean</th>\n",
       "      <td>1.322727</td>\n",
       "      <td>2.543182</td>\n",
       "      <td>12000.297727</td>\n",
       "      <td>5796.265909</td>\n",
       "      <td>7951.277273</td>\n",
       "      <td>3071.931818</td>\n",
       "      <td>2881.493182</td>\n",
       "      <td>1524.870455</td>\n",
       "    </tr>\n",
       "    <tr>\n",
       "      <th>std</th>\n",
       "      <td>0.468052</td>\n",
       "      <td>0.774272</td>\n",
       "      <td>12647.328865</td>\n",
       "      <td>7380.377175</td>\n",
       "      <td>9503.162829</td>\n",
       "      <td>4854.673333</td>\n",
       "      <td>4767.854448</td>\n",
       "      <td>2820.105937</td>\n",
       "    </tr>\n",
       "    <tr>\n",
       "      <th>min</th>\n",
       "      <td>1.000000</td>\n",
       "      <td>1.000000</td>\n",
       "      <td>3.000000</td>\n",
       "      <td>55.000000</td>\n",
       "      <td>3.000000</td>\n",
       "      <td>25.000000</td>\n",
       "      <td>3.000000</td>\n",
       "      <td>3.000000</td>\n",
       "    </tr>\n",
       "    <tr>\n",
       "      <th>25%</th>\n",
       "      <td>1.000000</td>\n",
       "      <td>2.000000</td>\n",
       "      <td>3127.750000</td>\n",
       "      <td>1533.000000</td>\n",
       "      <td>2153.000000</td>\n",
       "      <td>742.250000</td>\n",
       "      <td>256.750000</td>\n",
       "      <td>408.250000</td>\n",
       "    </tr>\n",
       "    <tr>\n",
       "      <th>50%</th>\n",
       "      <td>1.000000</td>\n",
       "      <td>3.000000</td>\n",
       "      <td>8504.000000</td>\n",
       "      <td>3627.000000</td>\n",
       "      <td>4755.500000</td>\n",
       "      <td>1526.000000</td>\n",
       "      <td>816.500000</td>\n",
       "      <td>965.500000</td>\n",
       "    </tr>\n",
       "    <tr>\n",
       "      <th>75%</th>\n",
       "      <td>2.000000</td>\n",
       "      <td>3.000000</td>\n",
       "      <td>16933.750000</td>\n",
       "      <td>7190.250000</td>\n",
       "      <td>10655.750000</td>\n",
       "      <td>3554.250000</td>\n",
       "      <td>3922.000000</td>\n",
       "      <td>1820.250000</td>\n",
       "    </tr>\n",
       "    <tr>\n",
       "      <th>max</th>\n",
       "      <td>2.000000</td>\n",
       "      <td>3.000000</td>\n",
       "      <td>112151.000000</td>\n",
       "      <td>73498.000000</td>\n",
       "      <td>92780.000000</td>\n",
       "      <td>60869.000000</td>\n",
       "      <td>40827.000000</td>\n",
       "      <td>47943.000000</td>\n",
       "    </tr>\n",
       "  </tbody>\n",
       "</table>\n",
       "</div>"
      ],
      "text/plain": [
       "          Channel      Region          Fresh          Milk       Grocery  \\\n",
       "count  440.000000  440.000000     440.000000    440.000000    440.000000   \n",
       "mean     1.322727    2.543182   12000.297727   5796.265909   7951.277273   \n",
       "std      0.468052    0.774272   12647.328865   7380.377175   9503.162829   \n",
       "min      1.000000    1.000000       3.000000     55.000000      3.000000   \n",
       "25%      1.000000    2.000000    3127.750000   1533.000000   2153.000000   \n",
       "50%      1.000000    3.000000    8504.000000   3627.000000   4755.500000   \n",
       "75%      2.000000    3.000000   16933.750000   7190.250000  10655.750000   \n",
       "max      2.000000    3.000000  112151.000000  73498.000000  92780.000000   \n",
       "\n",
       "             Frozen  Detergents_Paper    Delicassen  \n",
       "count    440.000000        440.000000    440.000000  \n",
       "mean    3071.931818       2881.493182   1524.870455  \n",
       "std     4854.673333       4767.854448   2820.105937  \n",
       "min       25.000000          3.000000      3.000000  \n",
       "25%      742.250000        256.750000    408.250000  \n",
       "50%     1526.000000        816.500000    965.500000  \n",
       "75%     3554.250000       3922.000000   1820.250000  \n",
       "max    60869.000000      40827.000000  47943.000000  "
      ]
     },
     "execution_count": 46,
     "metadata": {},
     "output_type": "execute_result"
    }
   ],
   "source": [
    "wholesales_df.describe()"
   ]
  },
  {
   "cell_type": "markdown",
   "id": "a8130e9b",
   "metadata": {},
   "source": [
    "### Normalize data\n",
    "***\n",
    "Perhitungan jarak pada KMeans akan dipengaruhi pada skala setiap data di setiap atributnya."
   ]
  },
  {
   "cell_type": "code",
   "execution_count": 47,
   "id": "f1548072",
   "metadata": {},
   "outputs": [],
   "source": [
    "standard_scaler_kmeans = StandardScaler()\n",
    "\n",
    "# fit into data\n",
    "wholesales_scaled = standard_scaler_kmeans.fit_transform(wholesales_df)"
   ]
  },
  {
   "cell_type": "markdown",
   "id": "b0a0d54d",
   "metadata": {},
   "source": [
    "### Tentukan k-kluster optimal dengan metode Elbow"
   ]
  },
  {
   "cell_type": "markdown",
   "id": "8036ef9d",
   "metadata": {},
   "source": [
    "#### Menghitung SSE (inertia) setiap kluster yang terbentuk"
   ]
  },
  {
   "cell_type": "code",
   "execution_count": 49,
   "id": "ee5d403e",
   "metadata": {},
   "outputs": [],
   "source": [
    "SSE = []\n",
    "\n",
    "# hitung SSE untuk k=1 sampai k=20\n",
    "for k in range(1,20):\n",
    "    kmeans__ = KMeans(n_clusters=k)\n",
    "    kmeans__.fit(wholesales_scaled)\n",
    "    SSE.append(kmeans__.inertia_)    "
   ]
  },
  {
   "cell_type": "markdown",
   "id": "18b2514a",
   "metadata": {},
   "source": [
    "#### Konversi hasil SSE ke dataframe dan plotting"
   ]
  },
  {
   "cell_type": "code",
   "execution_count": 54,
   "id": "6755fc84",
   "metadata": {},
   "outputs": [],
   "source": [
    "clusters = list(range(1,20))\n",
    "sse_df = pd.DataFrame(data={\n",
    "    'Clusters': clusters,\n",
    "    'SSE':SSE\n",
    "})"
   ]
  },
  {
   "cell_type": "code",
   "execution_count": 58,
   "id": "757e3dbc",
   "metadata": {},
   "outputs": [
    {
     "data": {
      "image/png": "[encoded data removed]",
      "text/plain": [
       "<Figure size 432x288 with 1 Axes>"
      ]
     },
     "metadata": {
      "needs_background": "light"
     },
     "output_type": "display_data"
    }
   ],
   "source": [
    "plt.plot(sse_df['Clusters'],sse_df['SSE'], marker='o')\n",
    "plt.xticks(ticks=clusters, labels=clusters)\n",
    "plt.ylabel('SSE')\n",
    "plt.xlabel('Jumlah Kluster')\n",
    "plt.show()"
   ]
  },
  {
   "cell_type": "markdown",
   "id": "39057661",
   "metadata": {},
   "source": [
    "Terlihat bahwa dari k=8 penurunan inertia mulai konstan"
   ]
  },
  {
   "cell_type": "markdown",
   "id": "0580ebbd",
   "metadata": {},
   "source": [
    "### Define KMeans using k=8"
   ]
  },
  {
   "cell_type": "code",
   "execution_count": 59,
   "id": "3830b205",
   "metadata": {},
   "outputs": [],
   "source": [
    "kmeans_final = KMeans(n_clusters=8)\n",
    "\n",
    "kmeans_final.fit(wholesales_scaled)\n",
    "wholesales_kmeans_pred = kmeans_final.predict(wholesales_scaled)"
   ]
  },
  {
   "cell_type": "code",
   "execution_count": 61,
   "id": "9e0083a9",
   "metadata": {},
   "outputs": [],
   "source": [
    "wholesales_df_clustered = pd.DataFrame(data=wholesales_scaled)\n",
    "wholesales_df_clustered['Labels KMeans'] = wholesales_kmeans_pred"
   ]
  },
  {
   "cell_type": "code",
   "execution_count": 64,
   "id": "1dd5f36b",
   "metadata": {},
   "outputs": [
    {
     "data": {
      "text/html": [
       "<div>\n",
       "<style scoped>\n",
       "    .dataframe tbody tr th:only-of-type {\n",
       "        vertical-align: middle;\n",
       "    }\n",
       "\n",
       "    .dataframe tbody tr th {\n",
       "        vertical-align: top;\n",
       "    }\n",
       "\n",
       "    .dataframe thead th {\n",
       "        text-align: right;\n",
       "    }\n",
       "</style>\n",
       "<table border=\"1\" class=\"dataframe\">\n",
       "  <thead>\n",
       "    <tr style=\"text-align: right;\">\n",
       "      <th></th>\n",
       "      <th>0</th>\n",
       "      <th>1</th>\n",
       "      <th>2</th>\n",
       "      <th>3</th>\n",
       "      <th>4</th>\n",
       "      <th>5</th>\n",
       "      <th>6</th>\n",
       "      <th>7</th>\n",
       "      <th>Labels KMeans</th>\n",
       "    </tr>\n",
       "  </thead>\n",
       "  <tbody>\n",
       "    <tr>\n",
       "      <th>0</th>\n",
       "      <td>1.448652</td>\n",
       "      <td>0.590668</td>\n",
       "      <td>0.052933</td>\n",
       "      <td>0.523568</td>\n",
       "      <td>-0.041115</td>\n",
       "      <td>-0.589367</td>\n",
       "      <td>-0.043569</td>\n",
       "      <td>-0.066339</td>\n",
       "      <td>4</td>\n",
       "    </tr>\n",
       "    <tr>\n",
       "      <th>1</th>\n",
       "      <td>1.448652</td>\n",
       "      <td>0.590668</td>\n",
       "      <td>-0.391302</td>\n",
       "      <td>0.544458</td>\n",
       "      <td>0.170318</td>\n",
       "      <td>-0.270136</td>\n",
       "      <td>0.086407</td>\n",
       "      <td>0.089151</td>\n",
       "      <td>4</td>\n",
       "    </tr>\n",
       "    <tr>\n",
       "      <th>2</th>\n",
       "      <td>1.448652</td>\n",
       "      <td>0.590668</td>\n",
       "      <td>-0.447029</td>\n",
       "      <td>0.408538</td>\n",
       "      <td>-0.028157</td>\n",
       "      <td>-0.137536</td>\n",
       "      <td>0.133232</td>\n",
       "      <td>2.243293</td>\n",
       "      <td>4</td>\n",
       "    </tr>\n",
       "    <tr>\n",
       "      <th>3</th>\n",
       "      <td>-0.690297</td>\n",
       "      <td>0.590668</td>\n",
       "      <td>0.100111</td>\n",
       "      <td>-0.624020</td>\n",
       "      <td>-0.392977</td>\n",
       "      <td>0.687144</td>\n",
       "      <td>-0.498588</td>\n",
       "      <td>0.093411</td>\n",
       "      <td>0</td>\n",
       "    </tr>\n",
       "    <tr>\n",
       "      <th>4</th>\n",
       "      <td>1.448652</td>\n",
       "      <td>0.590668</td>\n",
       "      <td>0.840239</td>\n",
       "      <td>-0.052396</td>\n",
       "      <td>-0.079356</td>\n",
       "      <td>0.173859</td>\n",
       "      <td>-0.231918</td>\n",
       "      <td>1.299347</td>\n",
       "      <td>4</td>\n",
       "    </tr>\n",
       "  </tbody>\n",
       "</table>\n",
       "</div>"
      ],
      "text/plain": [
       "          0         1         2         3         4         5         6  \\\n",
       "0  1.448652  0.590668  0.052933  0.523568 -0.041115 -0.589367 -0.043569   \n",
       "1  1.448652  0.590668 -0.391302  0.544458  0.170318 -0.270136  0.086407   \n",
       "2  1.448652  0.590668 -0.447029  0.408538 -0.028157 -0.137536  0.133232   \n",
       "3 -0.690297  0.590668  0.100111 -0.624020 -0.392977  0.687144 -0.498588   \n",
       "4  1.448652  0.590668  0.840239 -0.052396 -0.079356  0.173859 -0.231918   \n",
       "\n",
       "          7  Labels KMeans  \n",
       "0 -0.066339              4  \n",
       "1  0.089151              4  \n",
       "2  2.243293              4  \n",
       "3  0.093411              0  \n",
       "4  1.299347              4  "
      ]
     },
     "execution_count": 64,
     "metadata": {},
     "output_type": "execute_result"
    }
   ],
   "source": [
    "wholesales_df_clustered.head()"
   ]
  },
  {
   "cell_type": "code",
   "execution_count": 65,
   "id": "c7c0a3c1",
   "metadata": {},
   "outputs": [
    {
     "data": {
      "text/plain": [
       "<AxesSubplot:>"
      ]
     },
     "execution_count": 65,
     "metadata": {},
     "output_type": "execute_result"
    },
    {
     "data": {
      "image/png": "[encoded data removed]",
      "text/plain": [
       "<Figure size 432x288 with 1 Axes>"
      ]
     },
     "metadata": {
      "needs_background": "light"
     },
     "output_type": "display_data"
    }
   ],
   "source": [
    "wholesales_df_clustered['Labels KMeans'].value_counts().plot(kind='bar')"
   ]
  },
  {
   "cell_type": "markdown",
   "id": "cd88156e",
   "metadata": {},
   "source": [
    "# Example Save Model Trained using Pickle"
   ]
  },
  {
   "cell_type": "markdown",
   "id": "f9d0a96e",
   "metadata": {},
   "source": [
    "## Defining the data (Attributes and Target)"
   ]
  },
  {
   "cell_type": "code",
   "execution_count": 66,
   "id": "c0ce4a72",
   "metadata": {},
   "outputs": [],
   "source": [
    "# Assigning features and label variables\n",
    "weather=['Sunny','Sunny','Overcast','Rainy','Rainy','Rainy','Overcast','Sunny','Sunny', 'Rainy','Sunny','Overcast','Overcast','Rainy']\n",
    "temp=['Hot','Hot','Hot','Mild','Cool','Cool','Cool','Mild','Cool','Mild','Mild','Mild','Hot','Mild']\n",
    "play=['No','No','Yes','Yes','Yes','No','Yes','No','Yes','Yes','Yes','Yes','Yes','No']\n"
   ]
  },
  {
   "cell_type": "markdown",
   "id": "732226d1",
   "metadata": {},
   "source": [
    "## Encoding the categorical features"
   ]
  },
  {
   "cell_type": "code",
   "execution_count": 69,
   "id": "0b757c94",
   "metadata": {},
   "outputs": [],
   "source": [
    "#creating labelEncoder\n",
    "le = LabelEncoder()\n",
    "\n",
    "# Converting string labels into numbers.\n",
    "weather_encoded=le.fit_transform(weather)\n",
    "temp_encoded=le.fit_transform(temp)\n",
    "label=le.fit_transform(play)\n",
    "\n",
    "#Combinig weather and temp into single listof tuples\n",
    "features=list(zip(weather_encoded,temp_encoded))"
   ]
  },
  {
   "cell_type": "markdown",
   "id": "9cb1fe18",
   "metadata": {},
   "source": [
    "## Defining Gaussian Model"
   ]
  },
  {
   "cell_type": "code",
   "execution_count": 73,
   "id": "32369875",
   "metadata": {},
   "outputs": [
    {
     "data": {
      "text/plain": [
       "GaussianNB()"
      ]
     },
     "execution_count": 73,
     "metadata": {},
     "output_type": "execute_result"
    }
   ],
   "source": [
    "gaussian_model_ = GaussianNB()\n",
    "\n",
    "# Train the model using the training sets\n",
    "gaussian_model_.fit(features,label)"
   ]
  },
  {
   "cell_type": "markdown",
   "id": "9d904e1b",
   "metadata": {},
   "source": [
    "## Simpan model yang sudah dilatih"
   ]
  },
  {
   "cell_type": "code",
   "execution_count": 76,
   "id": "be533318",
   "metadata": {},
   "outputs": [],
   "source": [
    "# save the model to disk\n",
    "filename = 'gaussian_model.sav'\n",
    "pickle.dump(gaussian_model_, open(filename, 'wb'))"
   ]
  },
  {
   "cell_type": "markdown",
   "id": "9bc30d7f",
   "metadata": {},
   "source": [
    "## Memanggil model yang sudah disimpan untuk melakukan prediksi"
   ]
  },
  {
   "cell_type": "code",
   "execution_count": 77,
   "id": "67ed6091",
   "metadata": {},
   "outputs": [],
   "source": [
    "gaussian_model_ = pickle.load(open(filename,'rb'))"
   ]
  },
  {
   "cell_type": "code",
   "execution_count": 79,
   "id": "8abbc33c",
   "metadata": {},
   "outputs": [
    {
     "data": {
      "text/plain": [
       "array([1], dtype=int64)"
      ]
     },
     "execution_count": 79,
     "metadata": {},
     "output_type": "execute_result"
    }
   ],
   "source": [
    "gaussian_model_.predict([[0,2]])"
   ]
  },
  {
   "cell_type": "code",
   "execution_count": null,
   "id": "c2daab34",
   "metadata": {},
   "outputs": [],
   "source": []
  },
  {
   "cell_type": "markdown",
   "id": "376aa6be",
   "metadata": {},
   "source": [
    "## Exercise"
   ]
  },
  {
   "cell_type": "code",
   "execution_count": 85,
   "id": "f5af6c9b",
   "metadata": {},
   "outputs": [],
   "source": [
    "from sklearn.datasets import load_digits\n",
    "import matplotlib.pyplot as plt\n",
    "from matplotlib import colors as mcolors\n",
    "\n",
    "\n",
    "colors = dict(mcolors.BASE_COLORS, **mcolors.CSS4_COLORS)"
   ]
  },
  {
   "cell_type": "code",
   "execution_count": 56,
   "id": "3a48e946",
   "metadata": {},
   "outputs": [],
   "source": [
    "digits = load_digits()"
   ]
  },
  {
   "cell_type": "code",
   "execution_count": 61,
   "id": "a5a5d927",
   "metadata": {},
   "outputs": [],
   "source": [
    "data = digits.data\n",
    "labels = digits.target\n",
    "features_name = digits.feature_names +['target']"
   ]
  },
  {
   "cell_type": "code",
   "execution_count": 51,
   "id": "4627ea98",
   "metadata": {},
   "outputs": [],
   "source": [
    "final_data = np.concatenate((data,np.reshape(labels,(len(labels),1))),axis=1)"
   ]
  },
  {
   "cell_type": "code",
   "execution_count": 63,
   "id": "a95bbf9c",
   "metadata": {},
   "outputs": [],
   "source": [
    "digits_df = pd.DataFrame(data=final_data,columns=features_name)"
   ]
  },
  {
   "cell_type": "code",
   "execution_count": 65,
   "id": "6e9f56a9",
   "metadata": {},
   "outputs": [],
   "source": [
    "# Splitting attributes and target\n",
    "X = digits_df.drop('target',axis=1)\n",
    "y = digits_df['target']"
   ]
  },
  {
   "cell_type": "markdown",
   "id": "7379eb36",
   "metadata": {},
   "source": [
    "### PCA "
   ]
  },
  {
   "cell_type": "code",
   "execution_count": 66,
   "id": "2e5457ba",
   "metadata": {},
   "outputs": [],
   "source": [
    "pca_digits = PCA(n_components=2)\n",
    "X = pca_digits.fit_transform(X)"
   ]
  },
  {
   "cell_type": "code",
   "execution_count": 68,
   "id": "e608b86e",
   "metadata": {},
   "outputs": [],
   "source": [
    "digits_pca_df = pd.DataFrame(data=X,columns=['PC-'+str(i) for i in range(2)])"
   ]
  },
  {
   "cell_type": "code",
   "execution_count": 92,
   "id": "ff4c6bef",
   "metadata": {},
   "outputs": [
    {
     "data": {
      "image/png": "[encoded data removed]",
      "text/plain": [
       "<Figure size 640x480 with 1 Axes>"
      ]
     },
     "metadata": {},
     "output_type": "display_data"
    }
   ],
   "source": [
    "plt.scatter(x=digits_pca_df['PC-0'],y=digits_pca_df['PC-1'])\n",
    "plt.show()"
   ]
  },
  {
   "cell_type": "markdown",
   "id": "826bfd0b",
   "metadata": {},
   "source": [
    "## Clustering"
   ]
  },
  {
   "cell_type": "code",
   "execution_count": 95,
   "id": "ea3d08d6",
   "metadata": {},
   "outputs": [
    {
     "data": {
      "text/html": [
       "<div>\n",
       "<style scoped>\n",
       "    .dataframe tbody tr th:only-of-type {\n",
       "        vertical-align: middle;\n",
       "    }\n",
       "\n",
       "    .dataframe tbody tr th {\n",
       "        vertical-align: top;\n",
       "    }\n",
       "\n",
       "    .dataframe thead th {\n",
       "        text-align: right;\n",
       "    }\n",
       "</style>\n",
       "<table border=\"1\" class=\"dataframe\">\n",
       "  <thead>\n",
       "    <tr style=\"text-align: right;\">\n",
       "      <th></th>\n",
       "      <th>pixel_0_0</th>\n",
       "      <th>pixel_0_1</th>\n",
       "      <th>pixel_0_2</th>\n",
       "      <th>pixel_0_3</th>\n",
       "      <th>pixel_0_4</th>\n",
       "      <th>pixel_0_5</th>\n",
       "      <th>pixel_0_6</th>\n",
       "      <th>pixel_0_7</th>\n",
       "      <th>pixel_1_0</th>\n",
       "      <th>pixel_1_1</th>\n",
       "      <th>...</th>\n",
       "      <th>pixel_6_7</th>\n",
       "      <th>pixel_7_0</th>\n",
       "      <th>pixel_7_1</th>\n",
       "      <th>pixel_7_2</th>\n",
       "      <th>pixel_7_3</th>\n",
       "      <th>pixel_7_4</th>\n",
       "      <th>pixel_7_5</th>\n",
       "      <th>pixel_7_6</th>\n",
       "      <th>pixel_7_7</th>\n",
       "      <th>target</th>\n",
       "    </tr>\n",
       "  </thead>\n",
       "  <tbody>\n",
       "    <tr>\n",
       "      <th>0</th>\n",
       "      <td>0.0</td>\n",
       "      <td>0.0</td>\n",
       "      <td>5.0</td>\n",
       "      <td>13.0</td>\n",
       "      <td>9.0</td>\n",
       "      <td>1.0</td>\n",
       "      <td>0.0</td>\n",
       "      <td>0.0</td>\n",
       "      <td>0.0</td>\n",
       "      <td>0.0</td>\n",
       "      <td>...</td>\n",
       "      <td>0.0</td>\n",
       "      <td>0.0</td>\n",
       "      <td>0.0</td>\n",
       "      <td>6.0</td>\n",
       "      <td>13.0</td>\n",
       "      <td>10.0</td>\n",
       "      <td>0.0</td>\n",
       "      <td>0.0</td>\n",
       "      <td>0.0</td>\n",
       "      <td>0.0</td>\n",
       "    </tr>\n",
       "    <tr>\n",
       "      <th>1</th>\n",
       "      <td>0.0</td>\n",
       "      <td>0.0</td>\n",
       "      <td>0.0</td>\n",
       "      <td>12.0</td>\n",
       "      <td>13.0</td>\n",
       "      <td>5.0</td>\n",
       "      <td>0.0</td>\n",
       "      <td>0.0</td>\n",
       "      <td>0.0</td>\n",
       "      <td>0.0</td>\n",
       "      <td>...</td>\n",
       "      <td>0.0</td>\n",
       "      <td>0.0</td>\n",
       "      <td>0.0</td>\n",
       "      <td>0.0</td>\n",
       "      <td>11.0</td>\n",
       "      <td>16.0</td>\n",
       "      <td>10.0</td>\n",
       "      <td>0.0</td>\n",
       "      <td>0.0</td>\n",
       "      <td>1.0</td>\n",
       "    </tr>\n",
       "    <tr>\n",
       "      <th>2</th>\n",
       "      <td>0.0</td>\n",
       "      <td>0.0</td>\n",
       "      <td>0.0</td>\n",
       "      <td>4.0</td>\n",
       "      <td>15.0</td>\n",
       "      <td>12.0</td>\n",
       "      <td>0.0</td>\n",
       "      <td>0.0</td>\n",
       "      <td>0.0</td>\n",
       "      <td>0.0</td>\n",
       "      <td>...</td>\n",
       "      <td>0.0</td>\n",
       "      <td>0.0</td>\n",
       "      <td>0.0</td>\n",
       "      <td>0.0</td>\n",
       "      <td>3.0</td>\n",
       "      <td>11.0</td>\n",
       "      <td>16.0</td>\n",
       "      <td>9.0</td>\n",
       "      <td>0.0</td>\n",
       "      <td>2.0</td>\n",
       "    </tr>\n",
       "    <tr>\n",
       "      <th>3</th>\n",
       "      <td>0.0</td>\n",
       "      <td>0.0</td>\n",
       "      <td>7.0</td>\n",
       "      <td>15.0</td>\n",
       "      <td>13.0</td>\n",
       "      <td>1.0</td>\n",
       "      <td>0.0</td>\n",
       "      <td>0.0</td>\n",
       "      <td>0.0</td>\n",
       "      <td>8.0</td>\n",
       "      <td>...</td>\n",
       "      <td>0.0</td>\n",
       "      <td>0.0</td>\n",
       "      <td>0.0</td>\n",
       "      <td>7.0</td>\n",
       "      <td>13.0</td>\n",
       "      <td>13.0</td>\n",
       "      <td>9.0</td>\n",
       "      <td>0.0</td>\n",
       "      <td>0.0</td>\n",
       "      <td>3.0</td>\n",
       "    </tr>\n",
       "    <tr>\n",
       "      <th>4</th>\n",
       "      <td>0.0</td>\n",
       "      <td>0.0</td>\n",
       "      <td>0.0</td>\n",
       "      <td>1.0</td>\n",
       "      <td>11.0</td>\n",
       "      <td>0.0</td>\n",
       "      <td>0.0</td>\n",
       "      <td>0.0</td>\n",
       "      <td>0.0</td>\n",
       "      <td>0.0</td>\n",
       "      <td>...</td>\n",
       "      <td>0.0</td>\n",
       "      <td>0.0</td>\n",
       "      <td>0.0</td>\n",
       "      <td>0.0</td>\n",
       "      <td>2.0</td>\n",
       "      <td>16.0</td>\n",
       "      <td>4.0</td>\n",
       "      <td>0.0</td>\n",
       "      <td>0.0</td>\n",
       "      <td>4.0</td>\n",
       "    </tr>\n",
       "    <tr>\n",
       "      <th>...</th>\n",
       "      <td>...</td>\n",
       "      <td>...</td>\n",
       "      <td>...</td>\n",
       "      <td>...</td>\n",
       "      <td>...</td>\n",
       "      <td>...</td>\n",
       "      <td>...</td>\n",
       "      <td>...</td>\n",
       "      <td>...</td>\n",
       "      <td>...</td>\n",
       "      <td>...</td>\n",
       "      <td>...</td>\n",
       "      <td>...</td>\n",
       "      <td>...</td>\n",
       "      <td>...</td>\n",
       "      <td>...</td>\n",
       "      <td>...</td>\n",
       "      <td>...</td>\n",
       "      <td>...</td>\n",
       "      <td>...</td>\n",
       "      <td>...</td>\n",
       "    </tr>\n",
       "    <tr>\n",
       "      <th>1792</th>\n",
       "      <td>0.0</td>\n",
       "      <td>0.0</td>\n",
       "      <td>4.0</td>\n",
       "      <td>10.0</td>\n",
       "      <td>13.0</td>\n",
       "      <td>6.0</td>\n",
       "      <td>0.0</td>\n",
       "      <td>0.0</td>\n",
       "      <td>0.0</td>\n",
       "      <td>1.0</td>\n",
       "      <td>...</td>\n",
       "      <td>0.0</td>\n",
       "      <td>0.0</td>\n",
       "      <td>0.0</td>\n",
       "      <td>2.0</td>\n",
       "      <td>14.0</td>\n",
       "      <td>15.0</td>\n",
       "      <td>9.0</td>\n",
       "      <td>0.0</td>\n",
       "      <td>0.0</td>\n",
       "      <td>9.0</td>\n",
       "    </tr>\n",
       "    <tr>\n",
       "      <th>1793</th>\n",
       "      <td>0.0</td>\n",
       "      <td>0.0</td>\n",
       "      <td>6.0</td>\n",
       "      <td>16.0</td>\n",
       "      <td>13.0</td>\n",
       "      <td>11.0</td>\n",
       "      <td>1.0</td>\n",
       "      <td>0.0</td>\n",
       "      <td>0.0</td>\n",
       "      <td>0.0</td>\n",
       "      <td>...</td>\n",
       "      <td>0.0</td>\n",
       "      <td>0.0</td>\n",
       "      <td>0.0</td>\n",
       "      <td>6.0</td>\n",
       "      <td>16.0</td>\n",
       "      <td>14.0</td>\n",
       "      <td>6.0</td>\n",
       "      <td>0.0</td>\n",
       "      <td>0.0</td>\n",
       "      <td>0.0</td>\n",
       "    </tr>\n",
       "    <tr>\n",
       "      <th>1794</th>\n",
       "      <td>0.0</td>\n",
       "      <td>0.0</td>\n",
       "      <td>1.0</td>\n",
       "      <td>11.0</td>\n",
       "      <td>15.0</td>\n",
       "      <td>1.0</td>\n",
       "      <td>0.0</td>\n",
       "      <td>0.0</td>\n",
       "      <td>0.0</td>\n",
       "      <td>0.0</td>\n",
       "      <td>...</td>\n",
       "      <td>0.0</td>\n",
       "      <td>0.0</td>\n",
       "      <td>0.0</td>\n",
       "      <td>2.0</td>\n",
       "      <td>9.0</td>\n",
       "      <td>13.0</td>\n",
       "      <td>6.0</td>\n",
       "      <td>0.0</td>\n",
       "      <td>0.0</td>\n",
       "      <td>8.0</td>\n",
       "    </tr>\n",
       "    <tr>\n",
       "      <th>1795</th>\n",
       "      <td>0.0</td>\n",
       "      <td>0.0</td>\n",
       "      <td>2.0</td>\n",
       "      <td>10.0</td>\n",
       "      <td>7.0</td>\n",
       "      <td>0.0</td>\n",
       "      <td>0.0</td>\n",
       "      <td>0.0</td>\n",
       "      <td>0.0</td>\n",
       "      <td>0.0</td>\n",
       "      <td>...</td>\n",
       "      <td>0.0</td>\n",
       "      <td>0.0</td>\n",
       "      <td>0.0</td>\n",
       "      <td>5.0</td>\n",
       "      <td>12.0</td>\n",
       "      <td>16.0</td>\n",
       "      <td>12.0</td>\n",
       "      <td>0.0</td>\n",
       "      <td>0.0</td>\n",
       "      <td>9.0</td>\n",
       "    </tr>\n",
       "    <tr>\n",
       "      <th>1796</th>\n",
       "      <td>0.0</td>\n",
       "      <td>0.0</td>\n",
       "      <td>10.0</td>\n",
       "      <td>14.0</td>\n",
       "      <td>8.0</td>\n",
       "      <td>1.0</td>\n",
       "      <td>0.0</td>\n",
       "      <td>0.0</td>\n",
       "      <td>0.0</td>\n",
       "      <td>2.0</td>\n",
       "      <td>...</td>\n",
       "      <td>0.0</td>\n",
       "      <td>0.0</td>\n",
       "      <td>1.0</td>\n",
       "      <td>8.0</td>\n",
       "      <td>12.0</td>\n",
       "      <td>14.0</td>\n",
       "      <td>12.0</td>\n",
       "      <td>1.0</td>\n",
       "      <td>0.0</td>\n",
       "      <td>8.0</td>\n",
       "    </tr>\n",
       "  </tbody>\n",
       "</table>\n",
       "<p>1797 rows × 65 columns</p>\n",
       "</div>"
      ],
      "text/plain": [
       "      pixel_0_0  pixel_0_1  pixel_0_2  pixel_0_3  pixel_0_4  pixel_0_5  \\\n",
       "0           0.0        0.0        5.0       13.0        9.0        1.0   \n",
       "1           0.0        0.0        0.0       12.0       13.0        5.0   \n",
       "2           0.0        0.0        0.0        4.0       15.0       12.0   \n",
       "3           0.0        0.0        7.0       15.0       13.0        1.0   \n",
       "4           0.0        0.0        0.0        1.0       11.0        0.0   \n",
       "...         ...        ...        ...        ...        ...        ...   \n",
       "1792        0.0        0.0        4.0       10.0       13.0        6.0   \n",
       "1793        0.0        0.0        6.0       16.0       13.0       11.0   \n",
       "1794        0.0        0.0        1.0       11.0       15.0        1.0   \n",
       "1795        0.0        0.0        2.0       10.0        7.0        0.0   \n",
       "1796        0.0        0.0       10.0       14.0        8.0        1.0   \n",
       "\n",
       "      pixel_0_6  pixel_0_7  pixel_1_0  pixel_1_1  ...  pixel_6_7  pixel_7_0  \\\n",
       "0           0.0        0.0        0.0        0.0  ...        0.0        0.0   \n",
       "1           0.0        0.0        0.0        0.0  ...        0.0        0.0   \n",
       "2           0.0        0.0        0.0        0.0  ...        0.0        0.0   \n",
       "3           0.0        0.0        0.0        8.0  ...        0.0        0.0   \n",
       "4           0.0        0.0        0.0        0.0  ...        0.0        0.0   \n",
       "...         ...        ...        ...        ...  ...        ...        ...   \n",
       "1792        0.0        0.0        0.0        1.0  ...        0.0        0.0   \n",
       "1793        1.0        0.0        0.0        0.0  ...        0.0        0.0   \n",
       "1794        0.0        0.0        0.0        0.0  ...        0.0        0.0   \n",
       "1795        0.0        0.0        0.0        0.0  ...        0.0        0.0   \n",
       "1796        0.0        0.0        0.0        2.0  ...        0.0        0.0   \n",
       "\n",
       "      pixel_7_1  pixel_7_2  pixel_7_3  pixel_7_4  pixel_7_5  pixel_7_6  \\\n",
       "0           0.0        6.0       13.0       10.0        0.0        0.0   \n",
       "1           0.0        0.0       11.0       16.0       10.0        0.0   \n",
       "2           0.0        0.0        3.0       11.0       16.0        9.0   \n",
       "3           0.0        7.0       13.0       13.0        9.0        0.0   \n",
       "4           0.0        0.0        2.0       16.0        4.0        0.0   \n",
       "...         ...        ...        ...        ...        ...        ...   \n",
       "1792        0.0        2.0       14.0       15.0        9.0        0.0   \n",
       "1793        0.0        6.0       16.0       14.0        6.0        0.0   \n",
       "1794        0.0        2.0        9.0       13.0        6.0        0.0   \n",
       "1795        0.0        5.0       12.0       16.0       12.0        0.0   \n",
       "1796        1.0        8.0       12.0       14.0       12.0        1.0   \n",
       "\n",
       "      pixel_7_7  target  \n",
       "0           0.0     0.0  \n",
       "1           0.0     1.0  \n",
       "2           0.0     2.0  \n",
       "3           0.0     3.0  \n",
       "4           0.0     4.0  \n",
       "...         ...     ...  \n",
       "1792        0.0     9.0  \n",
       "1793        0.0     0.0  \n",
       "1794        0.0     8.0  \n",
       "1795        0.0     9.0  \n",
       "1796        0.0     8.0  \n",
       "\n",
       "[1797 rows x 65 columns]"
      ]
     },
     "execution_count": 95,
     "metadata": {},
     "output_type": "execute_result"
    }
   ],
   "source": [
    "digits_df"
   ]
  },
  {
   "cell_type": "code",
   "execution_count": 114,
   "id": "846fb0de",
   "metadata": {},
   "outputs": [
    {
     "data": {
      "text/plain": [
       "array([0., 1., 2., 3., 4., 5., 6., 7., 8., 9.])"
      ]
     },
     "execution_count": 114,
     "metadata": {},
     "output_type": "execute_result"
    }
   ],
   "source": [
    "digits_df['target'].unique()"
   ]
  },
  {
   "cell_type": "code",
   "execution_count": 115,
   "id": "e9a8d439",
   "metadata": {},
   "outputs": [],
   "source": [
    "X_cluster = digits_df.drop('target',axis=1)\n",
    "y_cluster = digits_df['target']"
   ]
  },
  {
   "cell_type": "markdown",
   "id": "774a6b15",
   "metadata": {},
   "source": [
    "### Standarized Data"
   ]
  },
  {
   "cell_type": "code",
   "execution_count": 116,
   "id": "26f269b4",
   "metadata": {},
   "outputs": [],
   "source": [
    "scaler_kmeans = StandardScaler()\n",
    "X_cluster = scaler_kmeans.fit_transform(X_cluster)"
   ]
  },
  {
   "cell_type": "code",
   "execution_count": 117,
   "id": "163ba88f",
   "metadata": {},
   "outputs": [],
   "source": [
    "from sklearn.cluster import KMeans"
   ]
  },
  {
   "cell_type": "code",
   "execution_count": 118,
   "id": "50cebfc9",
   "metadata": {},
   "outputs": [],
   "source": [
    "kmeans_digits = KMeans(n_clusters=len(digits_df['target'])).fit(X_cluster)"
   ]
  },
  {
   "cell_type": "code",
   "execution_count": 119,
   "id": "edad5c17",
   "metadata": {},
   "outputs": [],
   "source": [
    "labels_kmeans = kmeans_digits.labels_"
   ]
  },
  {
   "cell_type": "code",
   "execution_count": 120,
   "id": "2b87bca3",
   "metadata": {},
   "outputs": [
    {
     "data": {
      "text/plain": [
       "array([1740, 1569,   87, ...,  962,  382,  275])"
      ]
     },
     "execution_count": 120,
     "metadata": {},
     "output_type": "execute_result"
    }
   ],
   "source": [
    "labels_kmeans"
   ]
  },
  {
   "cell_type": "code",
   "execution_count": null,
   "id": "45da492f",
   "metadata": {},
   "outputs": [],
   "source": []
  },
  {
   "cell_type": "code",
   "execution_count": null,
   "id": "be32fee6",
   "metadata": {},
   "outputs": [],
   "source": []
  },
  {
   "cell_type": "code",
   "execution_count": null,
   "id": "ae3e5698",
   "metadata": {},
   "outputs": [],
   "source": [
    "### Tasks\n",
    "### ========\n",
    "### 1. PCA 2 dimensi, visualize data nya berdasarkan label -> legend: label\n",
    "### 2. clustering, PCA 2d, visualize -> legend: cluster label"
   ]
  },
  {
   "cell_type": "code",
   "execution_count": null,
   "id": "d8faac1b",
   "metadata": {},
   "outputs": [],
   "source": [
    "label = model.predict(X)\n",
    "list_label = [0,1]\n",
    "list_color = ['r', 'b']\n",
    "for target, color in zip(list_label,list_color):\n",
    "    indicesToKeep = label == target\n",
    "    plt.scatter(X[indicesToKeep,0]\n",
    "               , X[indicesToKeep,1], c = color, s = 50)"
   ]
  },
  {
   "cell_type": "markdown",
   "id": "225a7cbd",
   "metadata": {},
   "source": [
    "https://scikit-learn.org/stable/auto_examples/cluster/plot_kmeans_digits.html"
   ]
  },
  {
   "cell_type": "code",
   "execution_count": null,
   "id": "1311b606",
   "metadata": {},
   "outputs": [],
   "source": []
  }
 ],
 "metadata": {
  "kernelspec": {
   "display_name": "H8_001",
   "language": "python",
   "name": "h8_001"
  },
  "language_info": {
   "codemirror_mode": {
    "name": "ipython",
    "version": 3
   },
   "file_extension": ".py",
   "mimetype": "text/x-python",
   "name": "python",
   "nbconvert_exporter": "python",
   "pygments_lexer": "ipython3",
   "version": "3.7.11"
  },
  "toc": {
   "base_numbering": 1,
   "nav_menu": {},
   "number_sections": true,
   "sideBar": true,
   "skip_h1_title": false,
   "title_cell": "Table of Contents",
   "title_sidebar": "Contents",
   "toc_cell": false,
   "toc_position": {
    "height": "calc(100% - 180px)",
    "left": "10px",
    "top": "150px",
    "width": "284.444px"
   },
   "toc_section_display": true,
   "toc_window_display": true
  }
 },
 "nbformat": 4,
 "nbformat_minor": 5
}
