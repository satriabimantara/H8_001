{
 "cells": [
  {
   "cell_type": "markdown",
   "metadata": {},
   "source": [
    "# Conditional"
   ]
  },
  {
   "cell_type": "code",
   "execution_count": 2,
   "metadata": {},
   "outputs": [],
   "source": [
    "# Example in variable\n",
    "a = 1\n",
    "b = 4"
   ]
  },
  {
   "cell_type": "code",
   "execution_count": 4,
   "metadata": {},
   "outputs": [
    {
     "data": {
      "text/plain": [
       "False"
      ]
     },
     "execution_count": 4,
     "metadata": {},
     "output_type": "execute_result"
    }
   ],
   "source": [
    "a==b"
   ]
  },
  {
   "cell_type": "code",
   "execution_count": 5,
   "metadata": {},
   "outputs": [
    {
     "data": {
      "text/plain": [
       "True"
      ]
     },
     "execution_count": 5,
     "metadata": {},
     "output_type": "execute_result"
    }
   ],
   "source": [
    "a!=b"
   ]
  },
  {
   "cell_type": "markdown",
   "metadata": {},
   "source": [
    "## IF Conditional"
   ]
  },
  {
   "cell_type": "markdown",
   "metadata": {},
   "source": [
    "if <expr>:\n",
    "    <stt 1>\n",
    "else:\n",
    "    <stt 2>"
   ]
  },
  {
   "cell_type": "code",
   "execution_count": 7,
   "metadata": {},
   "outputs": [
    {
     "name": "stdout",
     "output_type": "stream",
     "text": [
      "Tidak sama\n"
     ]
    }
   ],
   "source": [
    "# Logic operator\n",
    "if a==b:\n",
    "    print(\"Sama\")\n",
    "else:\n",
    "    print(\"Tidak sama\")"
   ]
  },
  {
   "cell_type": "code",
   "execution_count": 8,
   "metadata": {},
   "outputs": [
    {
     "name": "stdout",
     "output_type": "stream",
     "text": [
      "Terdapat di dalam array\n"
     ]
    }
   ],
   "source": [
    "# In operator\n",
    "eg_list = ['jerapah', 'gajah','babi']\n",
    "string = 'babi'\n",
    "if string in eg_list:\n",
    "    print(\"Terdapat di dalam array\")\n",
    "else:\n",
    "    print(\"Tidak terdapat\")"
   ]
  },
  {
   "cell_type": "markdown",
   "metadata": {},
   "source": [
    "## Nested IF"
   ]
  },
  {
   "cell_type": "markdown",
   "metadata": {},
   "source": [
    "Nested if adalah if condition yang bersarang. Di dalam suatu if condition bisa saja terdapat satu atau lebih if condition yang lain"
   ]
  },
  {
   "cell_type": "code",
   "execution_count": 9,
   "metadata": {},
   "outputs": [
    {
     "name": "stdout",
     "output_type": "stream",
     "text": [
      "Nilai Bagus\n",
      "Sikap sangat baik\n"
     ]
    }
   ],
   "source": [
    "nilai = 80\n",
    "sikap = 90\n",
    "if nilai > 70 and nilai <= 100:\n",
    "    print(\"Nilai Bagus\")\n",
    "    if sikap >80 and nilai <=100:\n",
    "        print(\"Sikap sangat baik\")"
   ]
  },
  {
   "cell_type": "markdown",
   "metadata": {},
   "source": [
    "## Example"
   ]
  },
  {
   "cell_type": "code",
   "execution_count": 14,
   "metadata": {},
   "outputs": [
    {
     "name": "stdout",
     "output_type": "stream",
     "text": [
      "Angka Anda : 58 adalah Genap\n"
     ]
    }
   ],
   "source": [
    "from random import randint\n",
    "odd_number = [i for i in range(0,100) if i%2!=0]\n",
    "even_number = [i for i in range(0,100) if i%2 ==0]\n",
    "your_number = randint(0,100)\n",
    "if your_number in odd_number:\n",
    "    print(\"Angka Anda : {yn} adalah Ganjil\".format(yn=your_number))\n",
    "elif your_number in even_number:\n",
    "    print(\"Angka Anda : {yn} adalah Genap\".format(yn=your_number))\n",
    "else:\n",
    "    print(\"Tidak terdefinisi\")"
   ]
  },
  {
   "cell_type": "markdown",
   "metadata": {},
   "source": [
    "Klausa if dengan elif clausa menggunakan prinsip short-circuit --> kalau statement di if bernilai true maka statement di elif tidak dijalankan"
   ]
  },
  {
   "cell_type": "code",
   "execution_count": 18,
   "metadata": {},
   "outputs": [
    {
     "name": "stdout",
     "output_type": "stream",
     "text": [
      "Value is none\n",
      "Value is None\n"
     ]
    }
   ],
   "source": [
    "# cara mengecek nilai None (keperluan di data science)\n",
    "val = None\n",
    "target = \"\"\n",
    "\n",
    "\n",
    "# Manual way\n",
    "if val == None:\n",
    "    print(\"Value is None\")\n",
    "\n",
    "# Short way\n",
    "if not val:\n",
    "    print(\"Value is None\")"
   ]
  },
  {
   "cell_type": "markdown",
   "metadata": {},
   "source": [
    "## One line if statement"
   ]
  },
  {
   "cell_type": "markdown",
   "metadata": {},
   "source": [
    "Fitur yang digunakan untuk if statement di dalam satu baris "
   ]
  },
  {
   "cell_type": "code",
   "execution_count": 22,
   "metadata": {},
   "outputs": [
    {
     "name": "stdout",
     "output_type": "stream",
     "text": [
      "Huruf a adalah vokal\n"
     ]
    }
   ],
   "source": [
    "vokal = ['a','i','u','e','o']\n",
    "char = 'a'\n",
    "if char in vokal: print('Huruf {} adalah vokal'.format(char))\n",
    "else: print('Huruf {} adalah konsonan'.format(char))"
   ]
  },
  {
   "cell_type": "markdown",
   "metadata": {},
   "source": [
    "## Ternary Operation"
   ]
  },
  {
   "cell_type": "code",
   "execution_count": 23,
   "metadata": {},
   "outputs": [
    {
     "data": {
      "text/plain": [
       "'Genap'"
      ]
     },
     "execution_count": 23,
     "metadata": {},
     "output_type": "execute_result"
    }
   ],
   "source": [
    "x = 100\n",
    "'Genap' if x%2==0 else 'Ganjil'"
   ]
  },
  {
   "cell_type": "markdown",
   "metadata": {},
   "source": [
    "## Pass Statement "
   ]
  },
  {
   "cell_type": "markdown",
   "metadata": {},
   "source": [
    "Berguna untuk mempersiapkan struktur di kode program tapi kita belum tahu untuk isi di dalam blok tersebut.  "
   ]
  },
  {
   "cell_type": "code",
   "execution_count": 29,
   "metadata": {},
   "outputs": [
    {
     "name": "stdout",
     "output_type": "stream",
     "text": [
      "A\n"
     ]
    }
   ],
   "source": [
    "banana = \"A\"\n",
    "if banana in ['a','i','e']:\n",
    "    pass\n",
    "else:\n",
    "    print(banana)"
   ]
  },
  {
   "cell_type": "markdown",
   "metadata": {},
   "source": [
    "# Looping"
   ]
  },
  {
   "cell_type": "markdown",
   "metadata": {},
   "source": [
    "Looping adalah perulangan atau iterasi untuk melakukan task yang sama berulang kali sesuai jumlah yang telah ditentukan atau suatu kondisi True tercapai. <br>\n",
    "Dalam Python, looping terdapat dua jenis: <br>\n",
    "a. Definite <br>\n",
    "For, ada limit iterasi <br>\n",
    "b. Indefinite <br>\n",
    "while, biasanya kondisi statementnya True dan keluar dari while dengan 'break' <br>"
   ]
  },
  {
   "cell_type": "code",
   "execution_count": 31,
   "metadata": {},
   "outputs": [
    {
     "name": "stdout",
     "output_type": "stream",
     "text": [
      "1\n",
      "2\n",
      "3\n",
      "4\n",
      "5\n",
      "6\n",
      "7\n",
      "8\n",
      "9\n",
      "10\n"
     ]
    }
   ],
   "source": [
    "# Definite looping\n",
    "for i in range(10):\n",
    "    print(i+1)"
   ]
  },
  {
   "cell_type": "code",
   "execution_count": 32,
   "metadata": {},
   "outputs": [
    {
     "name": "stdout",
     "output_type": "stream",
     "text": [
      "0\n",
      "1\n",
      "2\n",
      "3\n",
      "4\n",
      "5\n",
      "6\n",
      "7\n",
      "8\n",
      "9\n",
      "10\n"
     ]
    }
   ],
   "source": [
    "# Indefinite statement\n",
    "start_i=0\n",
    "while True:\n",
    "    if start_i <= 10:\n",
    "        print(start_i)\n",
    "    if start_i >10:\n",
    "        break\n",
    "    start_i+=1"
   ]
  },
  {
   "cell_type": "markdown",
   "metadata": {},
   "source": [
    "## Nested Looping"
   ]
  },
  {
   "cell_type": "code",
   "execution_count": 33,
   "metadata": {},
   "outputs": [
    {
     "name": "stdout",
     "output_type": "stream",
     "text": [
      "1\n",
      ">  a\n",
      ">  i\n",
      ">  u\n",
      "2\n",
      ">  a\n",
      ">  i\n",
      ">  u\n",
      "3\n",
      ">  a\n",
      ">  i\n",
      ">  u\n"
     ]
    }
   ],
   "source": [
    "numbers = [1,2,3]\n",
    "while len(numbers):\n",
    "    print(numbers.pop(0))\n",
    "    \n",
    "    alphabets = ['a','i','u']\n",
    "    while len(alphabets):\n",
    "        print(\"> \",alphabets.pop(0))"
   ]
  },
  {
   "cell_type": "markdown",
   "metadata": {},
   "source": [
    "## For loop for dictionary"
   ]
  },
  {
   "cell_type": "code",
   "execution_count": 38,
   "metadata": {},
   "outputs": [
    {
     "name": "stdout",
     "output_type": "stream",
     "text": [
      "name  :  I Made Satria Bimantara\n",
      "age  :  21\n",
      "hobbies  :  ['chess', 'swimming']\n",
      "name\n",
      "age\n",
      "hobbies\n",
      "I Made Satria Bimantara\n",
      "21\n",
      "['chess', 'swimming']\n"
     ]
    }
   ],
   "source": [
    "dict_eg = {\n",
    "    'name' : \"I Made Satria Bimantara\",\n",
    "    'age' : 21,\n",
    "    'hobbies' : ['chess','swimming']\n",
    "}\n",
    "# key, value, pair\n",
    "for k,v in dict_eg.items():\n",
    "    print(k,\" : \",v)\n",
    "# key\n",
    "for k in dict_eg.keys():\n",
    "    print(k)\n",
    "# value\n",
    "for v in dict_eg.values():\n",
    "    print(v)"
   ]
  },
  {
   "cell_type": "markdown",
   "metadata": {},
   "source": [
    "## Enumerate Looping"
   ]
  },
  {
   "cell_type": "code",
   "execution_count": 41,
   "metadata": {},
   "outputs": [
    {
     "name": "stdout",
     "output_type": "stream",
     "text": [
      "0 -->  a\n",
      "1 -->  b\n",
      "2 -->  c\n"
     ]
    }
   ],
   "source": [
    "a = [1,2,3]\n",
    "b = ['a','b','c']\n",
    "\n",
    "for idx, element in enumerate (b):\n",
    "    print(idx, \"--> \",element)"
   ]
  },
  {
   "cell_type": "markdown",
   "metadata": {},
   "source": [
    "## Zip"
   ]
  },
  {
   "cell_type": "code",
   "execution_count": 42,
   "metadata": {},
   "outputs": [
    {
     "name": "stdout",
     "output_type": "stream",
     "text": [
      "1 a\n",
      "2 b\n",
      "3 c\n"
     ]
    }
   ],
   "source": [
    "for k,v in zip(a,b):\n",
    "    print(k,v)"
   ]
  },
  {
   "cell_type": "code",
   "execution_count": null,
   "metadata": {},
   "outputs": [],
   "source": []
  },
  {
   "cell_type": "code",
   "execution_count": 54,
   "metadata": {},
   "outputs": [
    {
     "name": "stdout",
     "output_type": "stream",
     "text": [
      "    *\n",
      "   **\n",
      "  ***\n",
      " ****\n",
      "*****\n"
     ]
    }
   ],
   "source": [
    "star = 5\n",
    "for i in range(0,star):\n",
    "    for k in range(star-i-1):\n",
    "        print(\" \",end='')\n",
    "    for j in range(i+1):\n",
    "        print(\"*\",end=\"\")\n",
    "    print()\n",
    "        "
   ]
  },
  {
   "cell_type": "code",
   "execution_count": 82,
   "metadata": {},
   "outputs": [
    {
     "name": "stdout",
     "output_type": "stream",
     "text": [
      "2 3 5 7 11 13 17 19 23 29 31 37 41 43 47 53 59 61 67 71 73 "
     ]
    }
   ],
   "source": [
    "start = 0\n",
    "end = 73\n",
    "for i in range(end+1):\n",
    "    if i ==0 or i==1:\n",
    "        continue\n",
    "    else:\n",
    "        count=0\n",
    "        for j in range(1,i+1):\n",
    "            if i%j==0:\n",
    "                count+=1\n",
    "            if count>2:\n",
    "                break\n",
    "        if count==2:\n",
    "            print(i, end=' ')"
   ]
  },
  {
   "cell_type": "code",
   "execution_count": 87,
   "metadata": {},
   "outputs": [
    {
     "name": "stdout",
     "output_type": "stream",
     "text": [
      "    *\n",
      "   **\n",
      "  ***\n",
      " ****\n",
      "*****\n"
     ]
    }
   ],
   "source": [
    "# O(n) complexity\n",
    "for i in range(star):\n",
    "    x=\" \"*(star-i-1)\n",
    "    x+=\"*\"*(i+1)\n",
    "    print(x)"
   ]
  },
  {
   "cell_type": "code",
   "execution_count": null,
   "metadata": {},
   "outputs": [],
   "source": []
  }
 ],
 "metadata": {
  "kernelspec": {
   "display_name": "selfpacedlearning",
   "language": "python",
   "name": "selfpacedlearning"
  },
  "language_info": {
   "codemirror_mode": {
    "name": "ipython",
    "version": 3
   },
   "file_extension": ".py",
   "mimetype": "text/x-python",
   "name": "python",
   "nbconvert_exporter": "python",
   "pygments_lexer": "ipython3",
   "version": "3.8.5"
  },
  "toc": {
   "base_numbering": 1,
   "nav_menu": {},
   "number_sections": true,
   "sideBar": true,
   "skip_h1_title": false,
   "title_cell": "Table of Contents",
   "title_sidebar": "Contents",
   "toc_cell": false,
   "toc_position": {
    "height": "calc(100% - 180px)",
    "left": "10px",
    "top": "150px",
    "width": "198px"
   },
   "toc_section_display": true,
   "toc_window_display": true
  }
 },
 "nbformat": 4,
 "nbformat_minor": 4
}
