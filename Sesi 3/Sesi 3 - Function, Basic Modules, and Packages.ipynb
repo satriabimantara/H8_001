{
 "cells": [
  {
   "cell_type": "markdown",
   "id": "8702ab07",
   "metadata": {},
   "source": [
    "# Function"
   ]
  },
  {
   "cell_type": "markdown",
   "id": "d649aae2",
   "metadata": {},
   "source": [
    "##  Mendefinisikan Function Sederhana"
   ]
  },
  {
   "cell_type": "code",
   "execution_count": 1,
   "id": "134c1cb4",
   "metadata": {},
   "outputs": [],
   "source": [
    "def jumlah(a,b):\n",
    "    return a+b"
   ]
  },
  {
   "cell_type": "code",
   "execution_count": 2,
   "id": "90cb33fb",
   "metadata": {},
   "outputs": [
    {
     "data": {
      "text/plain": [
       "15"
      ]
     },
     "execution_count": 2,
     "metadata": {},
     "output_type": "execute_result"
    }
   ],
   "source": [
    "jumlah(5,10)"
   ]
  },
  {
   "cell_type": "markdown",
   "id": "22a3c69a",
   "metadata": {},
   "source": [
    "## Menambahkan docstring"
   ]
  },
  {
   "cell_type": "code",
   "execution_count": 3,
   "id": "13e5b02f",
   "metadata": {},
   "outputs": [],
   "source": [
    "def factorial(n):\n",
    "    \"\"\"\n",
    "        Function untuk menghitung faktorial suatu bilangan n\n",
    "        parameters\n",
    "        ----------\n",
    "        n: integer,\n",
    "        \n",
    "        return\n",
    "        ----------\n",
    "        Hasil faktorial n\n",
    "    \"\"\"\n",
    "    return 1 if n == 1 else n*(n-1)"
   ]
  },
  {
   "cell_type": "code",
   "execution_count": 4,
   "id": "c0be83ed",
   "metadata": {},
   "outputs": [
    {
     "data": {
      "text/plain": [
       "6"
      ]
     },
     "execution_count": 4,
     "metadata": {},
     "output_type": "execute_result"
    }
   ],
   "source": [
    "factorial(3)"
   ]
  },
  {
   "cell_type": "markdown",
   "id": "7bc271a3",
   "metadata": {},
   "source": [
    "## Pass by reference vs Pass by value"
   ]
  },
  {
   "cell_type": "code",
   "execution_count": 5,
   "id": "d6b84ddf",
   "metadata": {},
   "outputs": [],
   "source": [
    "my_list = [i for i in range(10,20)]\n",
    "def addList(list, value):\n",
    "    list.append(value)"
   ]
  },
  {
   "cell_type": "code",
   "execution_count": 6,
   "id": "f06811e3",
   "metadata": {},
   "outputs": [
    {
     "name": "stdout",
     "output_type": "stream",
     "text": [
      "[10, 11, 12, 13, 14, 15, 16, 17, 18, 19]\n",
      "[10, 11, 12, 13, 14, 15, 16, 17, 18, 19, 80]\n"
     ]
    }
   ],
   "source": [
    "print(my_list)\n",
    "addList(my_list,80)\n",
    "print(my_list)"
   ]
  },
  {
   "cell_type": "markdown",
   "id": "d4fd3083",
   "metadata": {},
   "source": [
    "##  Functions Arguments"
   ]
  },
  {
   "cell_type": "code",
   "execution_count": 7,
   "id": "27d54904",
   "metadata": {},
   "outputs": [],
   "source": [
    "# 1. Required argument\n",
    "def tambah(a,b):\n",
    "    return a+b"
   ]
  },
  {
   "cell_type": "code",
   "execution_count": 8,
   "id": "0e098776",
   "metadata": {},
   "outputs": [
    {
     "data": {
      "text/plain": [
       "9"
      ]
     },
     "execution_count": 8,
     "metadata": {},
     "output_type": "execute_result"
    }
   ],
   "source": [
    "tambah(9,0)"
   ]
  },
  {
   "cell_type": "code",
   "execution_count": 9,
   "id": "f091b955",
   "metadata": {},
   "outputs": [],
   "source": [
    "# 2. keyword argument\n",
    "\"\"\"\n",
    "\n",
    "\"\"\"\n",
    "def sayHello(name,job):\n",
    "    print(\"Hai \",name,\" as \",job)"
   ]
  },
  {
   "cell_type": "code",
   "execution_count": 10,
   "id": "cb2aabad",
   "metadata": {},
   "outputs": [
    {
     "name": "stdout",
     "output_type": "stream",
     "text": [
      "Hai  I Made Satria Bimantara  as  Student\n"
     ]
    }
   ],
   "source": [
    "sayHello(name=\"I Made Satria Bimantara\", job=\"Student\")"
   ]
  },
  {
   "cell_type": "code",
   "execution_count": 11,
   "id": "04a3e533",
   "metadata": {},
   "outputs": [],
   "source": [
    "# 3. Defaults argument\n",
    "def printme(name=\"Administrator\", job=\"Admin\"):\n",
    "    print(\"Hai \",name,\" as \",job)"
   ]
  },
  {
   "cell_type": "code",
   "execution_count": 12,
   "id": "3ad86b9c",
   "metadata": {},
   "outputs": [
    {
     "name": "stdout",
     "output_type": "stream",
     "text": [
      "Hai  Naruto  as  Ninja\n",
      "Hai  Administrator  as  Admin\n"
     ]
    }
   ],
   "source": [
    "printme(\"Naruto\", \"Ninja\")\n",
    "printme()"
   ]
  },
  {
   "cell_type": "code",
   "execution_count": 13,
   "id": "1172ceb1",
   "metadata": {},
   "outputs": [],
   "source": [
    "# 4. Variable-length argument\n",
    "def print_info(base_arg, *args, **kwargs):\n",
    "    print(\"List of argument\")\n",
    "    print(base_arg)\n",
    "    for arg in args:\n",
    "        print(arg)\n",
    "    print(\"Keywords argument : \",kwargs)"
   ]
  },
  {
   "cell_type": "code",
   "execution_count": 14,
   "id": "f9e4b3c2",
   "metadata": {},
   "outputs": [
    {
     "name": "stdout",
     "output_type": "stream",
     "text": [
      "List of argument\n",
      "50\n",
      "Budiman\n",
      "(1, 2, 3)\n",
      "[1, 4, 5]\n",
      "Keywords argument :  {'a': 'Variable a', 'c': 'Variable c'}\n"
     ]
    }
   ],
   "source": [
    "print_info(50,'Budiman',(1,2,3),[1,4,5],a=\"Variable a\",c=\"Variable c\")"
   ]
  },
  {
   "cell_type": "markdown",
   "id": "5b462045",
   "metadata": {},
   "source": [
    "## Anonymous Function\n",
    "Disarankan hanya untuk function yang sekali pakai dan tidak digunakan berulang kali"
   ]
  },
  {
   "cell_type": "code",
   "execution_count": 15,
   "id": "b5920918",
   "metadata": {},
   "outputs": [
    {
     "name": "stdout",
     "output_type": "stream",
     "text": [
      "5\n"
     ]
    }
   ],
   "source": [
    "sum = lambda arg1,arg2: arg1+arg2\n",
    "print(sum(2,3))"
   ]
  },
  {
   "cell_type": "code",
   "execution_count": 16,
   "id": "ae4caf78",
   "metadata": {},
   "outputs": [],
   "source": [
    "# lambda with ternary operation\n",
    "j = lambda k: 1 if k==1 else k"
   ]
  },
  {
   "cell_type": "code",
   "execution_count": 17,
   "id": "073fbf78",
   "metadata": {},
   "outputs": [
    {
     "name": "stdout",
     "output_type": "stream",
     "text": [
      "20\n"
     ]
    }
   ],
   "source": [
    "print(j(20))"
   ]
  },
  {
   "cell_type": "markdown",
   "id": "56c48d68",
   "metadata": {},
   "source": [
    "## Return Statement "
   ]
  },
  {
   "cell_type": "code",
   "execution_count": 18,
   "id": "8cf170a5",
   "metadata": {},
   "outputs": [],
   "source": [
    "# cari element dalam suatu list\n",
    "def cari(x,mylist):\n",
    "    for el in mylist:\n",
    "        if el==x:\n",
    "            print(\"Found\")\n",
    "            return \n",
    "    print(\"Not Found\")"
   ]
  },
  {
   "cell_type": "code",
   "execution_count": 19,
   "id": "09023a31",
   "metadata": {},
   "outputs": [
    {
     "name": "stdout",
     "output_type": "stream",
     "text": [
      "Found\n"
     ]
    }
   ],
   "source": [
    "cari('Budi',['Satria','Budi','Chay'])"
   ]
  },
  {
   "cell_type": "markdown",
   "id": "a0a28d1e",
   "metadata": {},
   "source": [
    "## Variable Scope"
   ]
  },
  {
   "cell_type": "code",
   "execution_count": 20,
   "id": "0e0ff7a7",
   "metadata": {},
   "outputs": [
    {
     "name": "stdout",
     "output_type": "stream",
     "text": [
      "Outer list :  [1, 2, 3]\n",
      "Inner List :  [[12, 13, 14]]\n",
      "Outer list :  [1, 2, 3]\n"
     ]
    }
   ],
   "source": [
    "my_list = [1,2,3]\n",
    "def change():\n",
    "    my_list = []\n",
    "    my_list.append([12,13,14])\n",
    "    print(\"Inner List : \",my_list)\n",
    "print(\"Outer list : \",my_list)\n",
    "change()\n",
    "print(\"Outer list : \",my_list)"
   ]
  },
  {
   "cell_type": "markdown",
   "id": "c786e9f4",
   "metadata": {},
   "source": [
    "# Module"
   ]
  },
  {
   "cell_type": "markdown",
   "id": "20115861",
   "metadata": {},
   "source": [
    "## Defining and using module "
   ]
  },
  {
   "cell_type": "code",
   "execution_count": 21,
   "id": "b355995b",
   "metadata": {},
   "outputs": [],
   "source": [
    "import Math"
   ]
  },
  {
   "cell_type": "code",
   "execution_count": 22,
   "id": "0612816a",
   "metadata": {},
   "outputs": [
    {
     "name": "stdout",
     "output_type": "stream",
     "text": [
      "-80\n"
     ]
    }
   ],
   "source": [
    "print(Math.substract(9,89))"
   ]
  },
  {
   "cell_type": "code",
   "execution_count": 23,
   "id": "855cf0e2",
   "metadata": {},
   "outputs": [
    {
     "name": "stdout",
     "output_type": "stream",
     "text": [
      "120\n"
     ]
    }
   ],
   "source": [
    "print(Math.factorial(5))"
   ]
  },
  {
   "cell_type": "markdown",
   "id": "4c3e69c7",
   "metadata": {},
   "source": [
    "## Accessing path"
   ]
  },
  {
   "cell_type": "code",
   "execution_count": 24,
   "id": "bd9f741f",
   "metadata": {},
   "outputs": [
    {
     "data": {
      "text/plain": [
       "['C:\\\\Users\\\\ASUS\\\\Desktop\\\\Drive\\\\Teknik Informatika\\\\Semester 7\\\\3. Hacktivate\\\\H8_Session\\\\Session_001\\\\H8_001\\\\Sesi 3',\n",
       " 'C:\\\\Users\\\\ASUS\\\\.conda\\\\envs\\\\H8_001\\\\python37.zip',\n",
       " 'C:\\\\Users\\\\ASUS\\\\.conda\\\\envs\\\\H8_001\\\\DLLs',\n",
       " 'C:\\\\Users\\\\ASUS\\\\.conda\\\\envs\\\\H8_001\\\\lib',\n",
       " 'C:\\\\Users\\\\ASUS\\\\.conda\\\\envs\\\\H8_001',\n",
       " '',\n",
       " 'C:\\\\Users\\\\ASUS\\\\AppData\\\\Roaming\\\\Python\\\\Python37\\\\site-packages',\n",
       " 'C:\\\\Users\\\\ASUS\\\\.conda\\\\envs\\\\H8_001\\\\lib\\\\site-packages',\n",
       " 'C:\\\\Users\\\\ASUS\\\\.conda\\\\envs\\\\H8_001\\\\lib\\\\site-packages\\\\win32',\n",
       " 'C:\\\\Users\\\\ASUS\\\\.conda\\\\envs\\\\H8_001\\\\lib\\\\site-packages\\\\win32\\\\lib',\n",
       " 'C:\\\\Users\\\\ASUS\\\\.conda\\\\envs\\\\H8_001\\\\lib\\\\site-packages\\\\Pythonwin',\n",
       " 'C:\\\\Users\\\\ASUS\\\\.conda\\\\envs\\\\H8_001\\\\lib\\\\site-packages\\\\IPython\\\\extensions',\n",
       " 'C:\\\\Users\\\\ASUS\\\\.ipython']"
      ]
     },
     "execution_count": 24,
     "metadata": {},
     "output_type": "execute_result"
    }
   ],
   "source": [
    "import sys\n",
    "sys.path"
   ]
  },
  {
   "cell_type": "markdown",
   "id": "41398d19",
   "metadata": {},
   "source": [
    "## Execute module as scripts"
   ]
  },
  {
   "cell_type": "code",
   "execution_count": 25,
   "id": "58df3cc8",
   "metadata": {},
   "outputs": [
    {
     "name": "stdout",
     "output_type": "stream",
     "text": [
      "24\n"
     ]
    }
   ],
   "source": [
    "!python Math.py 4"
   ]
  },
  {
   "cell_type": "markdown",
   "id": "ec64f72e",
   "metadata": {},
   "source": [
    "## Reloading Module"
   ]
  },
  {
   "cell_type": "code",
   "execution_count": 26,
   "id": "b4ed4abd",
   "metadata": {},
   "outputs": [],
   "source": [
    "import Math\n",
    "import importlib"
   ]
  },
  {
   "cell_type": "code",
   "execution_count": 27,
   "id": "47958e7a",
   "metadata": {},
   "outputs": [
    {
     "data": {
      "text/plain": [
       "<module 'Math' from 'C:\\\\Users\\\\ASUS\\\\Desktop\\\\Drive\\\\Teknik Informatika\\\\Semester 7\\\\3. Hacktivate\\\\H8_Session\\\\Session_001\\\\H8_001\\\\Sesi 3\\\\Math.py'>"
      ]
     },
     "execution_count": 27,
     "metadata": {},
     "output_type": "execute_result"
    }
   ],
   "source": [
    "'''\n",
    "dibutuhkan ketika module di renew lalu diload ulang di jupyter notebook tanpa restart kernel\n",
    "'''\n",
    "importlib.reload(Math)"
   ]
  },
  {
   "cell_type": "markdown",
   "id": "f52a463f",
   "metadata": {},
   "source": [
    "## PIP Packaging module "
   ]
  },
  {
   "cell_type": "code",
   "execution_count": 28,
   "id": "dfbbc051",
   "metadata": {},
   "outputs": [
    {
     "name": "stdout",
     "output_type": "stream",
     "text": [
      "pip 21.0.1 from C:\\Users\\ASUS\\.conda\\envs\\h8_001\\lib\\site-packages\\pip (python 3.7)\n",
      "\n"
     ]
    }
   ],
   "source": [
    "!pip --version"
   ]
  },
  {
   "cell_type": "code",
   "execution_count": 29,
   "id": "00002ff6",
   "metadata": {},
   "outputs": [
    {
     "name": "stdout",
     "output_type": "stream",
     "text": [
      "Package             Version\n",
      "------------------- -------------------\n",
      "argon2-cffi         20.1.0\n",
      "astroid             2.3.1\n",
      "async-generator     1.10\n",
      "attrs               21.2.0\n",
      "autopep8            1.5.4\n",
      "backcall            0.2.0\n",
      "bleach              4.0.0\n",
      "certifi             2021.5.30\n",
      "cffi                1.14.6\n",
      "colorama            0.4.1\n",
      "decorator           5.0.9\n",
      "defusedxml          0.7.1\n",
      "entrypoints         0.3\n",
      "importlib-metadata  3.10.0\n",
      "ipykernel           5.3.4\n",
      "ipython             7.26.0\n",
      "ipython-genutils    0.2.0\n",
      "ipywidgets          7.6.3\n",
      "isort               4.3.21\n",
      "jedi                0.18.0\n",
      "Jinja2              3.0.1\n",
      "jsonschema          3.2.0\n",
      "jupyter             1.0.0\n",
      "jupyter-client      6.1.12\n",
      "jupyter-console     6.4.0\n",
      "jupyter-core        4.7.1\n",
      "jupyterlab-pygments 0.1.2\n",
      "jupyterlab-widgets  1.0.0\n",
      "lazy-object-proxy   1.4.2\n",
      "MarkupSafe          2.0.1\n",
      "matplotlib-inline   0.1.2\n",
      "mccabe              0.6.1\n",
      "mistune             0.8.4\n",
      "nbclient            0.5.3\n",
      "nbconvert           6.1.0\n",
      "nbformat            5.1.3\n",
      "nest-asyncio        1.5.1\n",
      "notebook            6.4.3\n",
      "numpy               1.21.2\n",
      "packaging           21.0\n",
      "pandas              1.3.2\n",
      "pandocfilters       1.4.3\n",
      "parso               0.8.2\n",
      "pickleshare         0.7.5\n",
      "pip                 21.0.1\n",
      "prometheus-client   0.11.0\n",
      "prompt-toolkit      3.0.17\n",
      "pycodestyle         2.6.0\n",
      "pycparser           2.20\n",
      "Pygments            2.10.0\n",
      "pylint              2.4.2\n",
      "pyparsing           2.4.7\n",
      "pyrsistent          0.17.3\n",
      "python-dateutil     2.8.2\n",
      "pytz                2021.1\n",
      "pywin32             228\n",
      "pywinpty            0.5.7\n",
      "pyzmq               22.2.1\n",
      "qtconsole           5.1.0\n",
      "QtPy                1.9.0\n",
      "Send2Trash          1.5.0\n",
      "setuptools          52.0.0.post20210125\n",
      "six                 1.12.0\n",
      "terminado           0.9.4\n",
      "testpath            0.5.0\n",
      "toml                0.10.1\n",
      "tornado             6.1\n",
      "traitlets           5.0.5\n",
      "typed-ast           1.4.0\n",
      "typing-extensions   3.10.0.0\n",
      "virtualenv          20.4.7\n",
      "wcwidth             0.2.5\n",
      "webencodings        0.5.1\n",
      "wheel               0.37.0\n",
      "widgetsnbextension  3.5.1\n",
      "wincertstore        0.2\n",
      "wrapt               1.11.2\n",
      "zipp                3.5.0\n"
     ]
    }
   ],
   "source": [
    "!pip3 list"
   ]
  },
  {
   "cell_type": "code",
   "execution_count": 30,
   "id": "543d0d92",
   "metadata": {},
   "outputs": [
    {
     "name": "stdout",
     "output_type": "stream",
     "text": [
      "\n",
      "Usage:   \n",
      "  pip <command> [options]\n",
      "\n",
      "Commands:\n",
      "  install                     Install packages.\n",
      "  download                    Download packages.\n",
      "  uninstall                   Uninstall packages.\n",
      "  freeze                      Output installed packages in requirements format.\n",
      "  list                        List installed packages.\n",
      "  show                        Show information about installed packages.\n",
      "  check                       Verify installed packages have compatible dependencies.\n",
      "  config                      Manage local and global configuration.\n",
      "  search                      Search PyPI for packages.\n",
      "  cache                       Inspect and manage pip's wheel cache.\n",
      "  wheel                       Build wheels from your requirements.\n",
      "  hash                        Compute hashes of package archives.\n",
      "  completion                  A helper command used for command completion.\n",
      "  debug                       Show information useful for debugging.\n",
      "  help                        Show help for commands.\n",
      "\n",
      "General Options:\n",
      "  -h, --help                  Show help.\n",
      "  --isolated                  Run pip in an isolated mode, ignoring\n",
      "                              environment variables and user configuration.\n",
      "  -v, --verbose               Give more output. Option is additive, and can be\n",
      "                              used up to 3 times.\n",
      "  -V, --version               Show version and exit.\n",
      "  -q, --quiet                 Give less output. Option is additive, and can be\n",
      "                              used up to 3 times (corresponding to WARNING,\n",
      "                              ERROR, and CRITICAL logging levels).\n",
      "  --log <path>                Path to a verbose appending log.\n",
      "  --no-input                  Disable prompting for input.\n",
      "  --proxy <proxy>             Specify a proxy in the form\n",
      "                              [user:passwd@]proxy.server:port.\n",
      "  --retries <retries>         Maximum number of retries each connection should\n",
      "                              attempt (default 5 times).\n",
      "  --timeout <sec>             Set the socket timeout (default 15 seconds).\n",
      "  --exists-action <action>    Default action when a path already exists:\n",
      "                              (s)witch, (i)gnore, (w)ipe, (b)ackup, (a)bort.\n",
      "  --trusted-host <hostname>   Mark this host or host:port pair as trusted,\n",
      "                              even though it does not have valid or any HTTPS.\n",
      "  --cert <path>               Path to alternate CA bundle.\n",
      "  --client-cert <path>        Path to SSL client certificate, a single file\n",
      "                              containing the private key and the certificate\n",
      "                              in PEM format.\n",
      "  --cache-dir <dir>           Store the cache data in <dir>.\n",
      "  --no-cache-dir              Disable the cache.\n",
      "  --disable-pip-version-check\n",
      "                              Don't periodically check PyPI to determine\n",
      "                              whether a new version of pip is available for\n",
      "                              download. Implied with --no-index.\n",
      "  --no-color                  Suppress colored output.\n",
      "  --no-python-version-warning\n",
      "                              Silence deprecation warnings for upcoming\n",
      "                              unsupported Pythons.\n",
      "  --use-feature <feature>     Enable new functionality, that may be backward\n",
      "                              incompatible.\n",
      "  --use-deprecated <feature>  Enable deprecated functionality, that will be\n",
      "                              removed in the future.\n"
     ]
    }
   ],
   "source": [
    "!pip help"
   ]
  },
  {
   "cell_type": "code",
   "execution_count": 31,
   "id": "08c48159",
   "metadata": {},
   "outputs": [
    {
     "name": "stderr",
     "output_type": "stream",
     "text": [
      "'grep' is not recognized as an internal or external command,\n",
      "operable program or batch file.\n"
     ]
    }
   ],
   "source": [
    "!pip3 list | grep kernel"
   ]
  },
  {
   "cell_type": "code",
   "execution_count": 32,
   "id": "9c199117",
   "metadata": {},
   "outputs": [],
   "source": [
    "'''\n",
    "Menampilkan daftar package yang sudah diinstal dalam bentuk list version\n",
    "memudahkan kita ketika pindah environtment pada saat tahap deploy\n",
    "'''\n",
    "!pip3 freeze > requirements.txt"
   ]
  },
  {
   "cell_type": "code",
   "execution_count": null,
   "id": "a88b7f0d",
   "metadata": {},
   "outputs": [],
   "source": [
    "!pip3 install -r requirements.txt"
   ]
  }
 ],
 "metadata": {
  "kernelspec": {
   "display_name": "H8_001",
   "language": "python",
   "name": "h8_001"
  },
  "language_info": {
   "codemirror_mode": {
    "name": "ipython",
    "version": 3
   },
   "file_extension": ".py",
   "mimetype": "text/x-python",
   "name": "python",
   "nbconvert_exporter": "python",
   "pygments_lexer": "ipython3",
   "version": "3.7.11"
  },
  "toc": {
   "base_numbering": 1,
   "nav_menu": {},
   "number_sections": true,
   "sideBar": true,
   "skip_h1_title": false,
   "title_cell": "Table of Contents",
   "title_sidebar": "Contents",
   "toc_cell": false,
   "toc_position": {},
   "toc_section_display": true,
   "toc_window_display": true
  }
 },
 "nbformat": 4,
 "nbformat_minor": 5
}
