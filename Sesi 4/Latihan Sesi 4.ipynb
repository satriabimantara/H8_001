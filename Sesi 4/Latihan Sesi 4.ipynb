{
 "cells": [
  {
   "cell_type": "code",
   "execution_count": 1,
   "id": "680c80bf",
   "metadata": {},
   "outputs": [],
   "source": [
    "import numpy as np"
   ]
  },
  {
   "cell_type": "code",
   "execution_count": 38,
   "id": "f2b5f3c8",
   "metadata": {},
   "outputs": [],
   "source": [
    "def rgb(n):\n",
    "    '''\n",
    "    docstring\n",
    "    random value generator RGB Image array\n",
    "    '''\n",
    "    return np.random.randint(255,size=(3,n,n))\n",
    "    \n",
    "    "
   ]
  },
  {
   "cell_type": "code",
   "execution_count": 39,
   "id": "6d868020",
   "metadata": {},
   "outputs": [
    {
     "data": {
      "text/plain": [
       "array([[[254, 101, 166, 151, 241, 238, 103, 114,  52, 131],\n",
       "        [ 64, 252, 234, 113,  81,  84,  31,  89, 243, 195],\n",
       "        [ 23,  63,  83, 108,  11, 131, 102, 132, 107, 107],\n",
       "        [228, 254,  30,  94, 216, 127, 221, 248, 181,  33],\n",
       "        [ 62, 153, 234,  14, 117,  36, 244,  61, 196, 217],\n",
       "        [246, 139,   9, 178, 216, 172, 143,   9, 215, 140],\n",
       "        [ 57, 216, 188,  27, 188, 133, 215, 230, 131,  59],\n",
       "        [ 29, 190, 127, 178,   4,  57,  12,  90, 245,  51],\n",
       "        [101, 254,  36,  38,  47,  38,  74,  25, 221,  73],\n",
       "        [220,  51,  77, 250, 165, 244,  37, 203,  72, 252]],\n",
       "\n",
       "       [[  0, 224, 243, 170,  29,  41, 195, 152,  72, 184],\n",
       "        [105,  29,  64, 115, 167,  62,  58,  52, 128, 176],\n",
       "        [131,   7, 138, 230,  80, 200, 195, 239, 185, 232],\n",
       "        [ 88,  30, 118,  23, 230,  65, 163, 180,  87,  75],\n",
       "        [ 64,  43,  65,  19, 159, 157,   8, 147,  10,   6],\n",
       "        [219, 163,  43,  98, 191,  44,  19,  48, 101,  17],\n",
       "        [254,  71,  40,  43, 128, 156, 227, 134,  49, 187],\n",
       "        [232,  13, 131, 159, 121,  89,  27,  46, 189, 238],\n",
       "        [147,  16, 190,  54, 178,  16,  95,  41, 133,  40],\n",
       "        [179, 206,  20,   4, 171,  55, 173, 207, 200,  70]],\n",
       "\n",
       "       [[210, 131,  19,  64, 134,  13, 232,   8,  66, 151],\n",
       "        [189, 166, 173,  83, 181, 118, 135,  59,  12, 250],\n",
       "        [ 44,  69, 144, 115, 246,   5, 254, 110,  49, 198],\n",
       "        [ 13,  28, 249, 155,  15,  94, 153, 155, 225,  39],\n",
       "        [138, 109,  11,  51, 205, 235,  28,  49, 187, 225],\n",
       "        [ 77,  17, 220,  27, 186,  12, 132,  38,  61,  15],\n",
       "        [210,  97,   1, 210, 166,  27, 125,  92,  74,  57],\n",
       "        [133, 218, 189, 199,  36, 119,  96,  28,  80, 223],\n",
       "        [211,  59, 164, 111, 131, 104,  84,  40, 126, 238],\n",
       "        [228, 175, 113, 225, 195,  88, 105, 166,  88, 152]]])"
      ]
     },
     "execution_count": 39,
     "metadata": {},
     "output_type": "execute_result"
    }
   ],
   "source": [
    "rgb(10)"
   ]
  },
  {
   "cell_type": "code",
   "execution_count": 40,
   "id": "7bad2fb0",
   "metadata": {},
   "outputs": [],
   "source": [
    "def rubik(n):\n",
    "    return np.random.random((n,n,n))"
   ]
  },
  {
   "cell_type": "code",
   "execution_count": 41,
   "id": "23f58f69",
   "metadata": {},
   "outputs": [
    {
     "data": {
      "text/plain": [
       "array([[[0.61088865, 0.5414719 , 0.31489202],\n",
       "        [0.39927772, 0.61824611, 0.21866298],\n",
       "        [0.59860905, 0.84886105, 0.15025285]],\n",
       "\n",
       "       [[0.69864088, 0.57936507, 0.59127567],\n",
       "        [0.21213915, 0.83647688, 0.49510131],\n",
       "        [0.27455018, 0.07283317, 0.73119942]],\n",
       "\n",
       "       [[0.78993512, 0.1537515 , 0.11518034],\n",
       "        [0.40565617, 0.3610492 , 0.40026073],\n",
       "        [0.86416372, 0.40580607, 0.11774501]]])"
      ]
     },
     "execution_count": 41,
     "metadata": {},
     "output_type": "execute_result"
    }
   ],
   "source": [
    "rubik(3)"
   ]
  },
  {
   "cell_type": "code",
   "execution_count": 42,
   "id": "20fbc907",
   "metadata": {},
   "outputs": [],
   "source": [
    "def split(records_number):\n",
    "    #generate data\n",
    "    data = np.random.random((records_number,np.random.randint(5,10)))\n",
    "    train_rows = round(0.8*records_number)    \n",
    "    return data[0:train_rows+1,:],data[train_rows:records_number+1,:]"
   ]
  },
  {
   "cell_type": "code",
   "execution_count": 43,
   "id": "4d8c3fac",
   "metadata": {},
   "outputs": [
    {
     "data": {
      "text/plain": [
       "(array([[0.34448101, 0.18822353, 0.71677174, 0.93548926, 0.53762052,\n",
       "         0.6059178 , 0.51827398, 0.83926247, 0.06018829],\n",
       "        [0.57919924, 0.05070721, 0.82455903, 0.2543162 , 0.03215872,\n",
       "         0.26222178, 0.30012155, 0.83369163, 0.13980542],\n",
       "        [0.95301528, 0.18183426, 0.19476804, 0.58569676, 0.15598168,\n",
       "         0.15575697, 0.2595718 , 0.88541225, 0.33310995],\n",
       "        [0.27785215, 0.0400831 , 0.45939455, 0.460495  , 0.35037549,\n",
       "         0.94080697, 0.07330464, 0.11275225, 0.28341023]]),\n",
       " array([[0.27785215, 0.0400831 , 0.45939455, 0.460495  , 0.35037549,\n",
       "         0.94080697, 0.07330464, 0.11275225, 0.28341023]]))"
      ]
     },
     "execution_count": 43,
     "metadata": {},
     "output_type": "execute_result"
    }
   ],
   "source": [
    "split(4)"
   ]
  },
  {
   "cell_type": "code",
   "execution_count": null,
   "id": "6f15ec7f",
   "metadata": {},
   "outputs": [],
   "source": []
  },
  {
   "cell_type": "code",
   "execution_count": 85,
   "id": "5ff5f0d6",
   "metadata": {},
   "outputs": [],
   "source": [
    "def mse(arr):\n",
    "    mse = (np.sum(np.square(arr[:,0],arr[:,1])))/len(arr)\n",
    "    return mse"
   ]
  },
  {
   "cell_type": "code",
   "execution_count": 103,
   "id": "2f2f9db7",
   "metadata": {},
   "outputs": [
    {
     "data": {
      "text/plain": [
       "array([[8, 7],\n",
       "       [1, 2],\n",
       "       [1, 3],\n",
       "       [8, 5],\n",
       "       [4, 1],\n",
       "       [3, 2],\n",
       "       [0, 1],\n",
       "       [7, 0],\n",
       "       [3, 9],\n",
       "       [7, 2]])"
      ]
     },
     "execution_count": 103,
     "metadata": {},
     "output_type": "execute_result"
    }
   ],
   "source": [
    "data = np.random.randint(10,size=(10,2))\n",
    "data"
   ]
  },
  {
   "cell_type": "code",
   "execution_count": 104,
   "id": "898e3536",
   "metadata": {},
   "outputs": [
    {
     "data": {
      "text/plain": [
       "26.2"
      ]
     },
     "execution_count": 104,
     "metadata": {},
     "output_type": "execute_result"
    }
   ],
   "source": [
    "mse(data)"
   ]
  },
  {
   "cell_type": "code",
   "execution_count": 105,
   "id": "239c3aa4",
   "metadata": {},
   "outputs": [],
   "source": [
    "def mae(arr):\n",
    "    result = np.sum(np.absolute((arr[:,0]-arr[:,1])))/len(arr)\n",
    "    return result"
   ]
  },
  {
   "cell_type": "code",
   "execution_count": 106,
   "id": "b302f5f6",
   "metadata": {},
   "outputs": [
    {
     "data": {
      "text/plain": [
       "22.0"
      ]
     },
     "execution_count": 106,
     "metadata": {},
     "output_type": "execute_result"
    }
   ],
   "source": [
    "mae(data)"
   ]
  },
  {
   "cell_type": "code",
   "execution_count": 111,
   "id": "ddc39f97",
   "metadata": {},
   "outputs": [],
   "source": [
    "data_log = np.random.random((10,2))"
   ]
  },
  {
   "cell_type": "code",
   "execution_count": 115,
   "id": "bfff3048",
   "metadata": {},
   "outputs": [
    {
     "data": {
      "text/plain": [
       "array([[0.01663839, 0.33215557],\n",
       "       [0.5008243 , 0.70686119],\n",
       "       [0.86550089, 0.83161295],\n",
       "       [0.54024   , 0.02864217],\n",
       "       [0.19384246, 0.15307508],\n",
       "       [0.19263241, 0.68209697],\n",
       "       [0.18154707, 0.82609588],\n",
       "       [0.36722784, 0.41908718],\n",
       "       [0.23881771, 0.03055314],\n",
       "       [0.05294316, 0.21204593]])"
      ]
     },
     "execution_count": 115,
     "metadata": {},
     "output_type": "execute_result"
    }
   ],
   "source": [
    "data_log"
   ]
  },
  {
   "cell_type": "code",
   "execution_count": 116,
   "id": "5b70ee7d",
   "metadata": {},
   "outputs": [],
   "source": [
    "def cross_entropy(arr):\n",
    "    result =  (-1*len(arr))*(np.sum((arr[:,0]*np.log(arr[:,1])) + ((1-arr[:,0]) * np.log(1-arr[:,1]))))\n",
    "    return result"
   ]
  },
  {
   "cell_type": "code",
   "execution_count": 117,
   "id": "8460171b",
   "metadata": {},
   "outputs": [
    {
     "data": {
      "text/plain": [
       "83.24188728064372"
      ]
     },
     "execution_count": 117,
     "metadata": {},
     "output_type": "execute_result"
    }
   ],
   "source": [
    "cross_entropy(data_log)"
   ]
  },
  {
   "cell_type": "code",
   "execution_count": null,
   "id": "2e7ab404",
   "metadata": {},
   "outputs": [],
   "source": []
  }
 ],
 "metadata": {
  "kernelspec": {
   "display_name": "H8_001",
   "language": "python",
   "name": "h8_001"
  },
  "language_info": {
   "codemirror_mode": {
    "name": "ipython",
    "version": 3
   },
   "file_extension": ".py",
   "mimetype": "text/x-python",
   "name": "python",
   "nbconvert_exporter": "python",
   "pygments_lexer": "ipython3",
   "version": "3.7.11"
  },
  "toc": {
   "base_numbering": 1,
   "nav_menu": {},
   "number_sections": true,
   "sideBar": true,
   "skip_h1_title": false,
   "title_cell": "Table of Contents",
   "title_sidebar": "Contents",
   "toc_cell": false,
   "toc_position": {},
   "toc_section_display": true,
   "toc_window_display": false
  }
 },
 "nbformat": 4,
 "nbformat_minor": 5
}
