{
 "cells": [
  {
   "cell_type": "markdown",
   "id": "fd784e6e",
   "metadata": {},
   "source": [
    "# Numpy"
   ]
  },
  {
   "cell_type": "markdown",
   "id": "f443bb43",
   "metadata": {},
   "source": [
    "## Installing Numpy Packages"
   ]
  },
  {
   "cell_type": "code",
   "execution_count": 1,
   "id": "d4c65a8b",
   "metadata": {},
   "outputs": [
    {
     "name": "stdout",
     "output_type": "stream",
     "text": [
      "Requirement already satisfied: numpy in c:\\users\\asus\\.conda\\envs\\h8_001\\lib\\site-packages (1.21.2)\n"
     ]
    }
   ],
   "source": [
    "!pip3 install numpy"
   ]
  },
  {
   "cell_type": "markdown",
   "id": "51bbda79",
   "metadata": {},
   "source": [
    "## Importing Numpy"
   ]
  },
  {
   "cell_type": "code",
   "execution_count": 2,
   "id": "8629c24d",
   "metadata": {},
   "outputs": [],
   "source": [
    "import numpy as np"
   ]
  },
  {
   "cell_type": "markdown",
   "id": "f301d40a",
   "metadata": {},
   "source": [
    "## Inisialisasi Numpy Array"
   ]
  },
  {
   "cell_type": "code",
   "execution_count": 3,
   "id": "f650bf42",
   "metadata": {},
   "outputs": [],
   "source": [
    "arr = np.array([0,1,2,3,4,5])\n",
    "# defining array 1xn with zero values\n",
    "zeros = np.zeros(10)\n",
    "# defining array 1xn with ones\n",
    "ones = np.ones(10)"
   ]
  },
  {
   "cell_type": "code",
   "execution_count": 4,
   "id": "23c08a20",
   "metadata": {},
   "outputs": [
    {
     "name": "stdout",
     "output_type": "stream",
     "text": [
      "[0. 0. 0. 0. 0. 0. 0. 0. 0. 0.]\n"
     ]
    }
   ],
   "source": [
    "print(zeros)"
   ]
  },
  {
   "cell_type": "markdown",
   "id": "1792313e",
   "metadata": {},
   "source": [
    "## Numpy Array Arange Value"
   ]
  },
  {
   "cell_type": "code",
   "execution_count": 5,
   "id": "05ff45e0",
   "metadata": {},
   "outputs": [
    {
     "name": "stdout",
     "output_type": "stream",
     "text": [
      "[0 2 4 6 8]\n"
     ]
    }
   ],
   "source": [
    "arr_2 = np.arange(0,10,2)\n",
    "print(arr_2)"
   ]
  },
  {
   "cell_type": "markdown",
   "id": "cf6ded9f",
   "metadata": {},
   "source": [
    "## Numpy Array Manipulation"
   ]
  },
  {
   "cell_type": "code",
   "execution_count": 6,
   "id": "f7f87c07",
   "metadata": {},
   "outputs": [
    {
     "name": "stdout",
     "output_type": "stream",
     "text": [
      "[  0   2   4   6   8 100]\n",
      "[0 4 6 8]\n",
      "[ -1   2   2   9 129 190]\n"
     ]
    }
   ],
   "source": [
    "# Append --> adding new element into numpy array\n",
    "arr_2_append = np.append(arr_2,[100])\n",
    "print(arr_2_append)\n",
    "# delete\n",
    "arr_2_delete = np.delete(arr_2,1)\n",
    "print(arr_2_delete)\n",
    "# sorting element\n",
    "unsorted_element = np.array([9,2,-1,2,190,129])\n",
    "sorted_element = np.sort(unsorted_element)\n",
    "print(sorted_element)"
   ]
  },
  {
   "cell_type": "markdown",
   "id": "1eb5debe",
   "metadata": {},
   "source": [
    "## Shape and Size\n",
    "==========================\n",
    "1. Shape (mxn) --> tuple --> (baris x kolom)\n",
    "2. Dimensi --> jumlah axis\n",
    "3. Size --> jumlah seluruh elemen"
   ]
  },
  {
   "cell_type": "code",
   "execution_count": 30,
   "id": "c2158d76",
   "metadata": {},
   "outputs": [
    {
     "name": "stdout",
     "output_type": "stream",
     "text": [
      "[[[1 2]\n",
      "  [3 4]]]\n",
      "3\n",
      "(1, 2, 2)\n",
      "4\n"
     ]
    }
   ],
   "source": [
    "M = np.array(\n",
    "    [\n",
    "        [1,2],\n",
    "        [3,4],\n",
    "    ]\n",
    "  \n",
    ")\n",
    "print(M)\n",
    "print(M.ndim)\n",
    "print(M.shape)\n",
    "print(M.size)"
   ]
  },
  {
   "cell_type": "code",
   "execution_count": 8,
   "id": "0dcfa856",
   "metadata": {},
   "outputs": [
    {
     "name": "stdout",
     "output_type": "stream",
     "text": [
      "[[10 11]\n",
      " [12 13]]\n",
      "2\n",
      "(2, 2)\n",
      "4\n"
     ]
    }
   ],
   "source": [
    "N = np.array(\n",
    "    [\n",
    "        [10,11],\n",
    "        [12,13]\n",
    "    ]\n",
    ")\n",
    "print(N)\n",
    "print(N.ndim)\n",
    "print(N.shape)\n",
    "print(N.size)"
   ]
  },
  {
   "cell_type": "markdown",
   "id": "e69a328f",
   "metadata": {},
   "source": [
    "## Reshape\n",
    "=================== <br>\n",
    "Membuat bentuk array baru tanpa mengubah data, <br>\n",
    "!! Perhatikan !! <br>\n",
    "Jumlah elemen sebelum dan sesudah reshape harus sama"
   ]
  },
  {
   "cell_type": "code",
   "execution_count": 9,
   "id": "72bd43af",
   "metadata": {},
   "outputs": [
    {
     "name": "stdout",
     "output_type": "stream",
     "text": [
      "[[0 1]\n",
      " [2 3]\n",
      " [4 5]\n",
      " [6 7]\n",
      " [8 9]]\n",
      "[[0 1 2 3 4]\n",
      " [5 6 7 8 9]]\n"
     ]
    }
   ],
   "source": [
    "arr_reshape = np.arange(10)\n",
    "# Membuat bentuk array baru dengan dimensi (50,2) --> jumlah elemen harus sama\n",
    "new_arr_reshape = arr_reshape.reshape(5,2)\n",
    "print(new_arr_reshape)\n",
    "\n",
    "# Membuat ke dimensi (2,5)\n",
    "new_arr_reshape_2 = arr_reshape.reshape(2,5)\n",
    "print(new_arr_reshape_2)"
   ]
  },
  {
   "cell_type": "markdown",
   "id": "19d12b54",
   "metadata": {},
   "source": [
    "## Convert 1D to 2D\n",
    "<ul>\n",
    "    <li>Kegunaan : Meningkatkan dimensi array ke dimensi lebih tinggi </li>\n",
    "    <li>np.newaxis</li>\n",
    "    <li>np.expand_dims</li>\n",
    "</ul>"
   ]
  },
  {
   "cell_type": "code",
   "execution_count": 10,
   "id": "0aa2807d",
   "metadata": {},
   "outputs": [
    {
     "name": "stdout",
     "output_type": "stream",
     "text": [
      "Before adding new axis\n",
      "[0 1 2 3 4 5]\n",
      "(6,)\n",
      "After adding new axis\n",
      "[[0 1 2 3 4 5]]\n",
      "(1, 6)\n",
      "After adding new axis\n",
      "[[0]\n",
      " [1]\n",
      " [2]\n",
      " [3]\n",
      " [4]\n",
      " [5]]\n",
      "(6, 1)\n"
     ]
    }
   ],
   "source": [
    "one_dim_arr = np.arange(6)\n",
    "# Before\n",
    "print(\"Before adding new axis\")\n",
    "print(one_dim_arr) \n",
    "print(one_dim_arr.shape)\n",
    "\n",
    "\n",
    "# newaxis\n",
    "row_vector = one_dim_arr[np.newaxis,:]\n",
    "col_vector = one_dim_arr[:,np.newaxis]\n",
    "print(\"After adding new axis\")\n",
    "print(row_vector) \n",
    "print(row_vector.shape)\n",
    "print(\"After adding new axis\")\n",
    "print(col_vector) \n",
    "print(col_vector.shape)"
   ]
  },
  {
   "cell_type": "code",
   "execution_count": 11,
   "id": "a5cfa03e",
   "metadata": {},
   "outputs": [
    {
     "name": "stdout",
     "output_type": "stream",
     "text": [
      "[[[10 11]\n",
      "  [12 13]]]\n",
      "(1, 2, 2)\n"
     ]
    }
   ],
   "source": [
    "\"\"\"\n",
    "np.expand_dims --> sama seperti np.newaxis, hanya saja axis bisa ditambahkan pada index position sesuai keinginan kita\n",
    "\"\"\"\n",
    "N = np.array(\n",
    "    [\n",
    "        [10,11],\n",
    "        [12,13]\n",
    "    ]\n",
    ")\n",
    "P = np.expand_dims(N,axis=0)\n",
    "print(P)\n",
    "print(P.shape)"
   ]
  },
  {
   "cell_type": "markdown",
   "id": "a0c5ea9e",
   "metadata": {},
   "source": [
    "## Indexing and Slicing Numpy Array\n",
    "================================= <br>\n",
    "Prinsipnya sama seperti slicing dan indexing pada List Python"
   ]
  },
  {
   "cell_type": "code",
   "execution_count": 12,
   "id": "1f609072",
   "metadata": {},
   "outputs": [
    {
     "name": "stdout",
     "output_type": "stream",
     "text": [
      "(3, 4)\n",
      "Example 1\n",
      "[[1 2 3 4]\n",
      " [5 6 7 8]]\n",
      "Example 2\n",
      "[[ 1  2  3  4]\n",
      " [ 5  6  7  8]\n",
      " [ 9 10 11 12]]\n",
      "Example 3\n",
      "[ 2  6 10]\n",
      "Example 4\n",
      "[1 2 3 4 5 6 7 8 9]\n",
      "Example 5\n",
      "[ 2  4  6  8 10 12]\n",
      "Example 6\n",
      "[3 4 5 6 7 8 9]\n"
     ]
    }
   ],
   "source": [
    "my_matrix = np.array(\n",
    "    [\n",
    "        [1,2,3,4],\n",
    "        [5,6,7,8],\n",
    "        [9,10,11,12]\n",
    "    ]\n",
    ")\n",
    "print(my_matrix.shape)\n",
    "# cetak baris 0 sampai 1\n",
    "print('Example 1')\n",
    "print(my_matrix[0:2])\n",
    "# cetak semua baris\n",
    "print('Example 2')\n",
    "print(my_matrix[:])\n",
    "# cetak kolom kedua\n",
    "print('Example 3')\n",
    "print(my_matrix[:,1])\n",
    "# Carikan semua elemen dalam my_matrix yang kurang dari 10\n",
    "print('Example 4')\n",
    "print(my_matrix[my_matrix<10])\n",
    "# Carikan semua elemen dalam my_matrix yang habis dibagi 2\n",
    "print('Example 5')\n",
    "print(my_matrix[my_matrix%2==0])\n",
    "# Using logic operator\n",
    "print('Example 6')\n",
    "print(my_matrix[(my_matrix>2) & (my_matrix<10)])"
   ]
  },
  {
   "cell_type": "markdown",
   "id": "7fa1623c",
   "metadata": {},
   "source": [
    "## Creating Array From Existing Data\n",
    "np.vstack() --> menumpuk array secara vertikal <br>\n",
    "np.hstack() --> menumpuk array secara horisontal <br>\n",
    "np.hsplit() --> membagi array menjadi n ukuran sama besar <br>\n",
    ".view() --> mengcopy array (shallow copy) <br>\n",
    ".copy() --> mengcopy array (deep copy)"
   ]
  },
  {
   "cell_type": "code",
   "execution_count": 13,
   "id": "855d1bd2",
   "metadata": {},
   "outputs": [],
   "source": [
    "arr_10 = np.arange(100)\n",
    "M = np.array(\n",
    "    [\n",
    "        [1,2],\n",
    "        [3,4],\n",
    "    ]\n",
    ")\n",
    "N = np.array(\n",
    "    [\n",
    "        [10,11],\n",
    "        [12,13]\n",
    "    ]\n",
    ")"
   ]
  },
  {
   "cell_type": "code",
   "execution_count": 14,
   "id": "9cd864eb",
   "metadata": {},
   "outputs": [
    {
     "name": "stdout",
     "output_type": "stream",
     "text": [
      "[ 3  4  5  6  7  8  9 10 11 12 13 14 15 16 17 18 19 20 21 22 23 24 25 26\n",
      " 27 28 29 30 31 32 33 34 35 36 37 38 39 40 41 42 43 44 45 46 47 48 49 50\n",
      " 51 52 53 54 55 56 57 58 59 60 61 62 63 64 65 66 67 68 69 70 71 72 73 74\n",
      " 75 76 77 78 79]\n"
     ]
    }
   ],
   "source": [
    "arr_10_new = arr_10[3:80]\n",
    "print(arr_10_new)"
   ]
  },
  {
   "cell_type": "code",
   "execution_count": 15,
   "id": "05dfe081",
   "metadata": {},
   "outputs": [
    {
     "name": "stdout",
     "output_type": "stream",
     "text": [
      "[[ 1  2]\n",
      " [ 3  4]\n",
      " [10 11]\n",
      " [12 13]]\n",
      "[[ 1  2 10 11]\n",
      " [ 3  4 12 13]]\n"
     ]
    }
   ],
   "source": [
    "v_stack_M_N = np.vstack((M,N))\n",
    "h_stack_M_N = np.hstack((M,N))\n",
    "print(v_stack_M_N)\n",
    "print(h_stack_M_N)"
   ]
  },
  {
   "cell_type": "code",
   "execution_count": 16,
   "id": "1c79fbcd",
   "metadata": {},
   "outputs": [
    {
     "name": "stdout",
     "output_type": "stream",
     "text": [
      "[array([[ 0],\n",
      "       [40]]), array([[ 1],\n",
      "       [42]]), array([[ 2],\n",
      "       [44]]), array([[ 3],\n",
      "       [46]]), array([[ 4],\n",
      "       [48]]), array([[ 5],\n",
      "       [50]]), array([[ 6],\n",
      "       [52]]), array([[ 7],\n",
      "       [54]]), array([[ 8],\n",
      "       [56]]), array([[ 9],\n",
      "       [58]])]\n"
     ]
    }
   ],
   "source": [
    "arr_split_example = np.array(\n",
    "    [\n",
    "        np.arange(10),\n",
    "        np.arange(40,60,2)\n",
    "    ]\n",
    ")\n",
    "# Membagi array menjadi 10 sama besar\n",
    "arr_splitted = np.hsplit(arr_split_example,10)\n",
    "print(arr_splitted)"
   ]
  },
  {
   "cell_type": "code",
   "execution_count": 17,
   "id": "0a736848",
   "metadata": {},
   "outputs": [
    {
     "name": "stdout",
     "output_type": "stream",
     "text": [
      "[[1 2]\n",
      " [3 4]]\n"
     ]
    }
   ],
   "source": [
    "M_view = M.view()\n",
    "M_copy = M.copy()\n",
    "print(M_copy)"
   ]
  },
  {
   "cell_type": "markdown",
   "id": "af0b4d7d",
   "metadata": {},
   "source": [
    "## Basic Array Operations "
   ]
  },
  {
   "cell_type": "code",
   "execution_count": 18,
   "id": "eb0296dd",
   "metadata": {},
   "outputs": [
    {
     "data": {
      "text/plain": [
       "array([0.        , 0.09090909, 0.16666667, 0.23076923, 0.28571429,\n",
       "       0.33333333, 0.375     , 0.41176471, 0.44444444, 0.47368421])"
      ]
     },
     "execution_count": 18,
     "metadata": {},
     "output_type": "execute_result"
    }
   ],
   "source": [
    "z = np.arange(0,10)\n",
    "y = np.arange(10,20)\n",
    "\n",
    "# Addition\n",
    "z+y\n",
    "# Subtraction\n",
    "z-y\n",
    "# Multiplication\n",
    "z*y\n",
    "# Division\n",
    "z/y"
   ]
  },
  {
   "cell_type": "code",
   "execution_count": 19,
   "id": "9afda7e5",
   "metadata": {},
   "outputs": [
    {
     "name": "stdout",
     "output_type": "stream",
     "text": [
      "[4 6]\n",
      "[3 7]\n",
      "4\n"
     ]
    }
   ],
   "source": [
    "# menjumlahkan elemen ke arah baris\n",
    "print(M_copy.sum(axis=0))\n",
    "# Menjumlahkan elemen ke arah kolom\n",
    "print(M_copy.sum(axis=1))\n",
    "# max\n",
    "print(M_copy.max())"
   ]
  },
  {
   "cell_type": "markdown",
   "id": "835d4bdd",
   "metadata": {},
   "source": [
    "## Matrices"
   ]
  },
  {
   "cell_type": "code",
   "execution_count": 20,
   "id": "37dc984d",
   "metadata": {},
   "outputs": [
    {
     "name": "stdout",
     "output_type": "stream",
     "text": [
      "[[ 10  28]\n",
      " [290  90]\n",
      " [ 99   2]]\n",
      "[[0.42318725 0.53587636 0.53165225 0.82176538]\n",
      " [0.49543481 0.00945978 0.51911175 0.91629888]\n",
      " [0.08682814 0.20066658 0.36913934 0.5503505 ]]\n",
      "[[1. 1. 1.]\n",
      " [1. 1. 1.]\n",
      " [1. 1. 1.]]\n",
      "[[0. 0. 0.]\n",
      " [0. 0. 0.]\n",
      " [0. 0. 0.]]\n"
     ]
    }
   ],
   "source": [
    "# Defining matrix 3 x 2\n",
    "matrix = np.array(\n",
    "    [\n",
    "        [10,28],\n",
    "        [290,90],\n",
    "        [99,2]\n",
    "    ]\n",
    ")\n",
    "# defining random element matrix (3,4)\n",
    "rand_matrix = np.random.random((3,4))\n",
    "# Defining matrix identity\n",
    "identity_matrix = np.ones((3,3))\n",
    "# Defining zero matrix \n",
    "zero_matrix = np.zeros((3,3))\n",
    "\n",
    "print(matrix)\n",
    "print(rand_matrix)\n",
    "print(identity_matrix)\n",
    "print(zero_matrix)"
   ]
  },
  {
   "cell_type": "markdown",
   "id": "1cbb6d04",
   "metadata": {},
   "source": [
    "## Matrices Arithmetics Operations"
   ]
  },
  {
   "cell_type": "code",
   "execution_count": 21,
   "id": "a236132b",
   "metadata": {},
   "outputs": [
    {
     "name": "stdout",
     "output_type": "stream",
     "text": [
      "[[0.74526285 0.52266205 0.70341728]\n",
      " [0.78676758 0.78023501 0.27334114]\n",
      " [0.23141836 0.72498323 0.5790177 ]\n",
      " [0.0933567  0.38459406 0.99622116]]\n",
      "[[0.50704223 0.63894958 0.79393901]\n",
      " [0.93568526 0.13362401 0.70282558]\n",
      " [0.18145252 0.18794887 0.46441322]\n",
      " [0.77676541 0.53238618 0.64054774]]\n",
      "[[1.25230508 1.16161163 1.4973563 ]\n",
      " [1.72245284 0.91385901 0.97616672]\n",
      " [0.41287089 0.9129321  1.04343092]\n",
      " [0.87012211 0.91698024 1.6367689 ]]\n",
      "[[ 0.23822063 -0.11628754 -0.09052173]\n",
      " [-0.14891768  0.646611   -0.42948444]\n",
      " [ 0.04996584  0.53703436  0.11460448]\n",
      " [-0.68340871 -0.14779211  0.35567343]]\n",
      "[[1.46982404 0.81800201 0.88598403]\n",
      " [0.8408464  5.83903314 0.38891746]\n",
      " [1.27536589 3.85734286 1.24677265]\n",
      " [0.12018648 0.72239679 1.55526451]]\n",
      "[[0.37787974 0.3339547  0.55847042]\n",
      " [0.73616683 0.10425813 0.19211115]\n",
      " [0.04199145 0.13625978 0.26890348]\n",
      " [0.07251626 0.20475256 0.63812721]]\n"
     ]
    }
   ],
   "source": [
    "A = np.random.random((4,3))\n",
    "B = np.random.random((4,3))\n",
    "\n",
    "C = A+B\n",
    "D = A-B\n",
    "E = A/B\n",
    "F = A*B\n",
    "\n",
    "print(A)\n",
    "print(B)\n",
    "print(C)\n",
    "print(D)\n",
    "print(E)\n",
    "print(F)"
   ]
  },
  {
   "cell_type": "code",
   "execution_count": 22,
   "id": "f39b583d",
   "metadata": {},
   "outputs": [
    {
     "name": "stdout",
     "output_type": "stream",
     "text": [
      "[[ 9 12 15]\n",
      " [14 19 24]\n",
      " [24 33 42]]\n",
      "(3, 3)\n"
     ]
    }
   ],
   "source": [
    "\"\"\"\n",
    "dot product matrix\n",
    "Z --> (3,2)\n",
    "V --> (2,3)\n",
    "T = Z dot V = (3,3)\n",
    "\"\"\"\n",
    "Z = np.array(\n",
    "    [\n",
    "        [1,2],\n",
    "        [2,3],\n",
    "        [4,5]\n",
    "    ]\n",
    ")\n",
    "V = np.array(\n",
    "    [\n",
    "        [1,2,3],\n",
    "        [4,5,6]\n",
    "    ]\n",
    ")\n",
    "T = np.dot(Z,V)\n",
    "print(T)\n",
    "print(T.shape)"
   ]
  },
  {
   "cell_type": "markdown",
   "id": "46740170",
   "metadata": {},
   "source": [
    "## Tranpose and Reshape Matrices"
   ]
  },
  {
   "cell_type": "code",
   "execution_count": 23,
   "id": "9aca6400",
   "metadata": {},
   "outputs": [
    {
     "name": "stdout",
     "output_type": "stream",
     "text": [
      "[[1 2]\n",
      " [2 3]\n",
      " [4 5]]\n",
      "[[1 2 4]\n",
      " [2 3 5]]\n"
     ]
    }
   ],
   "source": [
    "Z_tranpose = Z.T\n",
    "print(Z)\n",
    "print(Z_tranpose)"
   ]
  },
  {
   "cell_type": "code",
   "execution_count": 25,
   "id": "0d9cf117",
   "metadata": {},
   "outputs": [
    {
     "name": "stdout",
     "output_type": "stream",
     "text": [
      "[[0 1]\n",
      " [2 3]\n",
      " [4 5]]\n"
     ]
    }
   ],
   "source": [
    "# reshape matrix from (6x1) into (3,2)\n",
    "data_col = np.arange(6).reshape((3,2))\n",
    "print(data_col)"
   ]
  },
  {
   "cell_type": "markdown",
   "id": "c2500de3",
   "metadata": {},
   "source": [
    "## N Dimensional Array"
   ]
  },
  {
   "cell_type": "code",
   "execution_count": 26,
   "id": "3c00b357",
   "metadata": {},
   "outputs": [
    {
     "name": "stdout",
     "output_type": "stream",
     "text": [
      "[[[ 1  2  4  5]\n",
      "  [ 3  4  9 10]]\n",
      "\n",
      " [[ 3  4  5  6]\n",
      "  [ 5  4  2  1]]\n",
      "\n",
      " [[45 23  4  6]\n",
      "  [12  3  4  6]]]\n"
     ]
    }
   ],
   "source": [
    "# N dimensional array (3,2,4)\n",
    "ndarray = np.array(\n",
    "    [\n",
    "        [\n",
    "            [1,2,4,5],\n",
    "            [3,4,9,10]\n",
    "        ],\n",
    "        [\n",
    "            [3,4,5,6],\n",
    "            [5,4,2,1]\n",
    "        ],\n",
    "        [\n",
    "            [45,23,4,6],\n",
    "            [12,3,4,6]\n",
    "        ]\n",
    "    ]\n",
    ")\n",
    "print(ndarray)"
   ]
  },
  {
   "cell_type": "code",
   "execution_count": 27,
   "id": "72346cc7",
   "metadata": {},
   "outputs": [
    {
     "name": "stdout",
     "output_type": "stream",
     "text": [
      "[[[0.54362625 0.94226911 0.7769806  0.4798924 ]\n",
      "  [0.33937116 0.68375234 0.73696039 0.91137993]]\n",
      "\n",
      " [[0.76634213 0.64659628 0.61350051 0.24060825]\n",
      "  [0.04461533 0.27632749 0.68200568 0.28579073]]\n",
      "\n",
      " [[0.17439327 0.53591054 0.88321288 0.05637605]\n",
      "  [0.67981193 0.80416474 0.12613616 0.87228693]]]\n"
     ]
    }
   ],
   "source": [
    "# Menginisialisasi multi dimensi hanya dengan menambahkan koma sesuai dimensi yang kita inginkan\n",
    "ndarray_random = np.random.random((3,2,4))\n",
    "print(ndarray_random)"
   ]
  },
  {
   "cell_type": "markdown",
   "id": "9711d982",
   "metadata": {},
   "source": [
    "## Flatten N Dimensional Array\n",
    "================================== <br>\n",
    "Meratakan dari dimensi yang lebih tinggi ke dimensi yang lebih rendah"
   ]
  },
  {
   "cell_type": "code",
   "execution_count": 28,
   "id": "3d06f245",
   "metadata": {},
   "outputs": [
    {
     "name": "stdout",
     "output_type": "stream",
     "text": [
      "Before Flatten\n",
      "[[0.33804514 0.87281613 0.78125551]\n",
      " [0.99180664 0.6572508  0.91777944]\n",
      " [0.71342139 0.52346297 0.44386832]]\n",
      "After Flatten\n",
      "[0.33804514 0.87281613 0.78125551 0.99180664 0.6572508  0.91777944\n",
      " 0.71342139 0.52346297 0.44386832]\n"
     ]
    }
   ],
   "source": [
    "arrflat_random = np.random.random((3,3))\n",
    "print(\"Before Flatten\")\n",
    "print(arrflat_random)\n",
    "print(\"After Flatten\")\n",
    "arrflat_result = arrflat_random.flatten()\n",
    "print(arrflat_result)"
   ]
  },
  {
   "cell_type": "code",
   "execution_count": null,
   "id": "5d94d9d3",
   "metadata": {},
   "outputs": [],
   "source": []
  }
 ],
 "metadata": {
  "kernelspec": {
   "display_name": "H8_001",
   "language": "python",
   "name": "h8_001"
  },
  "language_info": {
   "codemirror_mode": {
    "name": "ipython",
    "version": 3
   },
   "file_extension": ".py",
   "mimetype": "text/x-python",
   "name": "python",
   "nbconvert_exporter": "python",
   "pygments_lexer": "ipython3",
   "version": "3.7.11"
  },
  "toc": {
   "base_numbering": 1,
   "nav_menu": {},
   "number_sections": true,
   "sideBar": true,
   "skip_h1_title": false,
   "title_cell": "Table of Contents",
   "title_sidebar": "Contents",
   "toc_cell": false,
   "toc_position": {},
   "toc_section_display": true,
   "toc_window_display": true
  }
 },
 "nbformat": 4,
 "nbformat_minor": 5
}
